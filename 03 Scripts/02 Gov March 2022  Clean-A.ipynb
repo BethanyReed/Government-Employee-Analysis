{
 "cells": [
  {
   "cell_type": "markdown",
   "id": "e58603e8",
   "metadata": {},
   "source": [
    "# March 2022 Cleaning"
   ]
  },
  {
   "cell_type": "markdown",
   "id": "3058618d",
   "metadata": {},
   "source": [
    "## 1. Import Libraries & Data\n",
    "## 2. Drop Columns \n",
    "## 3. Fix AGELVL Column\n",
    "## 4. Fix LOSLVL Colum\n",
    "## 5. Fix OCC Column\n",
    "## 6. Fix PATCO Column\n",
    "## 7. Fix AGYSUB Column\n",
    "## 8. Fix EDLVL Column\n",
    "## 9. Fix WORKSTAT Column\n",
    "## 10. Fix WORKSCH Column\n",
    "## 11. Fix SUPERVIS\n",
    "## 12. Fix PP and PPGRD\n",
    "## 13. Fix LOC\n",
    "## 14. Fix STEMOCC \n",
    "## 15. Remove SALLVL, Check Other 4 columns\n",
    "## 16. Export file"
   ]
  },
  {
   "cell_type": "markdown",
   "id": "a3a9212b",
   "metadata": {},
   "source": [
    "### 1. Import Libraries & Data"
   ]
  },
  {
   "cell_type": "code",
   "execution_count": 1,
   "id": "b62fc629",
   "metadata": {},
   "outputs": [],
   "source": [
    "#Importing Libaries"
   ]
  },
  {
   "cell_type": "code",
   "execution_count": 2,
   "id": "56730cd3",
   "metadata": {},
   "outputs": [],
   "source": [
    "import pandas as pd\n",
    "import numpy as np\n",
    "import os"
   ]
  },
  {
   "cell_type": "code",
   "execution_count": 3,
   "id": "6b2bc52e",
   "metadata": {},
   "outputs": [],
   "source": [
    "# Import March 2022 pickle file"
   ]
  },
  {
   "cell_type": "code",
   "execution_count": 4,
   "id": "897bdbde",
   "metadata": {},
   "outputs": [],
   "source": [
    "path = r'/Users/bethanybreed/Documents/A Career Foundry/Gov Employ Data/02 Data'"
   ]
  },
  {
   "cell_type": "code",
   "execution_count": 5,
   "id": "25c4c035",
   "metadata": {},
   "outputs": [],
   "source": [
    "df_raw = pd.read_pickle(os.path.join(path,'prepared data','March 2022 raw.pkl'))"
   ]
  },
  {
   "cell_type": "code",
   "execution_count": 6,
   "id": "2c51cf1b",
   "metadata": {},
   "outputs": [],
   "source": [
    "#Check Import"
   ]
  },
  {
   "cell_type": "code",
   "execution_count": 7,
   "id": "2e1f8337",
   "metadata": {},
   "outputs": [
    {
     "data": {
      "text/plain": [
       "(2155624, 20)"
      ]
     },
     "execution_count": 7,
     "metadata": {},
     "output_type": "execute_result"
    }
   ],
   "source": [
    "df_raw.shape"
   ]
  },
  {
   "cell_type": "code",
   "execution_count": 8,
   "id": "e8910a6f",
   "metadata": {},
   "outputs": [
    {
     "name": "stdout",
     "output_type": "stream",
     "text": [
      "<class 'pandas.core.frame.DataFrame'>\n",
      "RangeIndex: 2155624 entries, 0 to 2155623\n",
      "Data columns (total 20 columns):\n",
      " #   Column      Dtype  \n",
      "---  ------      -----  \n",
      " 0   AGYSUB      object \n",
      " 1   LOC         object \n",
      " 2   AGELVL      object \n",
      " 3   EDLVL       object \n",
      " 4   GSEGRD      object \n",
      " 5   LOSLVL      object \n",
      " 6   OCC         object \n",
      " 7   PATCO       int64  \n",
      " 8   PP          object \n",
      " 9   PPGRD       object \n",
      " 10  SALLVL      object \n",
      " 11  STEMOCC     object \n",
      " 12  SUPERVIS    object \n",
      " 13  TOA         object \n",
      " 14  WORKSCH     object \n",
      " 15  WORKSTAT    int64  \n",
      " 16  DATECODE    int64  \n",
      " 17  EMPLOYMENT  int64  \n",
      " 18  SALARY      float64\n",
      " 19  LOS         float64\n",
      "dtypes: float64(2), int64(4), object(14)\n",
      "memory usage: 328.9+ MB\n"
     ]
    }
   ],
   "source": [
    "df_raw.info()"
   ]
  },
  {
   "cell_type": "markdown",
   "id": "779a326d",
   "metadata": {},
   "source": [
    "### 2. Drop Columns TOA and EMPLOYMENT as they are not needed"
   ]
  },
  {
   "cell_type": "code",
   "execution_count": 9,
   "id": "ae355d17",
   "metadata": {},
   "outputs": [],
   "source": [
    "#All of EMPLOYMENT is a \"1\" as a yes, TOA implies what work schedule employee is on and is not needed"
   ]
  },
  {
   "cell_type": "code",
   "execution_count": 10,
   "id": "31245983",
   "metadata": {},
   "outputs": [],
   "source": [
    "df_raw2 = df_raw.drop(columns =['TOA','EMPLOYMENT'])"
   ]
  },
  {
   "cell_type": "code",
   "execution_count": 11,
   "id": "6e85467d",
   "metadata": {},
   "outputs": [
    {
     "data": {
      "text/html": [
       "<div>\n",
       "<style scoped>\n",
       "    .dataframe tbody tr th:only-of-type {\n",
       "        vertical-align: middle;\n",
       "    }\n",
       "\n",
       "    .dataframe tbody tr th {\n",
       "        vertical-align: top;\n",
       "    }\n",
       "\n",
       "    .dataframe thead th {\n",
       "        text-align: right;\n",
       "    }\n",
       "</style>\n",
       "<table border=\"1\" class=\"dataframe\">\n",
       "  <thead>\n",
       "    <tr style=\"text-align: right;\">\n",
       "      <th></th>\n",
       "      <th>AGYSUB</th>\n",
       "      <th>LOC</th>\n",
       "      <th>AGELVL</th>\n",
       "      <th>EDLVL</th>\n",
       "      <th>GSEGRD</th>\n",
       "      <th>LOSLVL</th>\n",
       "      <th>OCC</th>\n",
       "      <th>PATCO</th>\n",
       "      <th>PP</th>\n",
       "      <th>PPGRD</th>\n",
       "      <th>SALLVL</th>\n",
       "      <th>STEMOCC</th>\n",
       "      <th>SUPERVIS</th>\n",
       "      <th>WORKSCH</th>\n",
       "      <th>WORKSTAT</th>\n",
       "      <th>DATECODE</th>\n",
       "      <th>SALARY</th>\n",
       "      <th>LOS</th>\n",
       "    </tr>\n",
       "  </thead>\n",
       "  <tbody>\n",
       "    <tr>\n",
       "      <th>0</th>\n",
       "      <td>AA00</td>\n",
       "      <td>11</td>\n",
       "      <td>F</td>\n",
       "      <td>13</td>\n",
       "      <td>NaN</td>\n",
       "      <td>F</td>\n",
       "      <td>0340</td>\n",
       "      <td>2</td>\n",
       "      <td>ES</td>\n",
       "      <td>ES-**</td>\n",
       "      <td>S</td>\n",
       "      <td>XXXX</td>\n",
       "      <td>2</td>\n",
       "      <td>F</td>\n",
       "      <td>1</td>\n",
       "      <td>202203</td>\n",
       "      <td>192500.0</td>\n",
       "      <td>18.8</td>\n",
       "    </tr>\n",
       "    <tr>\n",
       "      <th>1</th>\n",
       "      <td>AA00</td>\n",
       "      <td>11</td>\n",
       "      <td>I</td>\n",
       "      <td>15</td>\n",
       "      <td>NaN</td>\n",
       "      <td>H</td>\n",
       "      <td>0905</td>\n",
       "      <td>1</td>\n",
       "      <td>ES</td>\n",
       "      <td>ES-**</td>\n",
       "      <td>R</td>\n",
       "      <td>XXXX</td>\n",
       "      <td>2</td>\n",
       "      <td>F</td>\n",
       "      <td>1</td>\n",
       "      <td>202203</td>\n",
       "      <td>187000.0</td>\n",
       "      <td>29.2</td>\n",
       "    </tr>\n",
       "    <tr>\n",
       "      <th>2</th>\n",
       "      <td>AA00</td>\n",
       "      <td>40</td>\n",
       "      <td>E</td>\n",
       "      <td>15</td>\n",
       "      <td>15.0</td>\n",
       "      <td>E</td>\n",
       "      <td>0905</td>\n",
       "      <td>1</td>\n",
       "      <td>99</td>\n",
       "      <td>GS-15</td>\n",
       "      <td>P</td>\n",
       "      <td>XXXX</td>\n",
       "      <td>2</td>\n",
       "      <td>F</td>\n",
       "      <td>1</td>\n",
       "      <td>202203</td>\n",
       "      <td>161786.0</td>\n",
       "      <td>12.5</td>\n",
       "    </tr>\n",
       "    <tr>\n",
       "      <th>3</th>\n",
       "      <td>AA00</td>\n",
       "      <td>11</td>\n",
       "      <td>E</td>\n",
       "      <td>15</td>\n",
       "      <td>15.0</td>\n",
       "      <td>E</td>\n",
       "      <td>0905</td>\n",
       "      <td>1</td>\n",
       "      <td>99</td>\n",
       "      <td>GS-15</td>\n",
       "      <td>O</td>\n",
       "      <td>XXXX</td>\n",
       "      <td>8</td>\n",
       "      <td>F</td>\n",
       "      <td>1</td>\n",
       "      <td>202203</td>\n",
       "      <td>158383.0</td>\n",
       "      <td>10.5</td>\n",
       "    </tr>\n",
       "    <tr>\n",
       "      <th>4</th>\n",
       "      <td>AA00</td>\n",
       "      <td>11</td>\n",
       "      <td>F</td>\n",
       "      <td>15</td>\n",
       "      <td>13.0</td>\n",
       "      <td>E</td>\n",
       "      <td>0905</td>\n",
       "      <td>1</td>\n",
       "      <td>99</td>\n",
       "      <td>GS-13</td>\n",
       "      <td>L</td>\n",
       "      <td>XXXX</td>\n",
       "      <td>8</td>\n",
       "      <td>F</td>\n",
       "      <td>1</td>\n",
       "      <td>202203</td>\n",
       "      <td>121065.0</td>\n",
       "      <td>13.4</td>\n",
       "    </tr>\n",
       "  </tbody>\n",
       "</table>\n",
       "</div>"
      ],
      "text/plain": [
       "  AGYSUB LOC AGELVL EDLVL GSEGRD LOSLVL   OCC  PATCO  PP  PPGRD SALLVL  \\\n",
       "0   AA00  11      F    13    NaN      F  0340      2  ES  ES-**      S   \n",
       "1   AA00  11      I    15    NaN      H  0905      1  ES  ES-**      R   \n",
       "2   AA00  40      E    15   15.0      E  0905      1  99  GS-15      P   \n",
       "3   AA00  11      E    15   15.0      E  0905      1  99  GS-15      O   \n",
       "4   AA00  11      F    15   13.0      E  0905      1  99  GS-13      L   \n",
       "\n",
       "  STEMOCC SUPERVIS WORKSCH  WORKSTAT  DATECODE    SALARY   LOS  \n",
       "0    XXXX        2       F         1    202203  192500.0  18.8  \n",
       "1    XXXX        2       F         1    202203  187000.0  29.2  \n",
       "2    XXXX        2       F         1    202203  161786.0  12.5  \n",
       "3    XXXX        8       F         1    202203  158383.0  10.5  \n",
       "4    XXXX        8       F         1    202203  121065.0  13.4  "
      ]
     },
     "execution_count": 11,
     "metadata": {},
     "output_type": "execute_result"
    }
   ],
   "source": [
    "df_raw2.head()"
   ]
  },
  {
   "cell_type": "code",
   "execution_count": 12,
   "id": "6482052c",
   "metadata": {},
   "outputs": [
    {
     "data": {
      "text/plain": [
       "(2155624, 18)"
      ]
     },
     "execution_count": 12,
     "metadata": {},
     "output_type": "execute_result"
    }
   ],
   "source": [
    "df_raw2.shape"
   ]
  },
  {
   "cell_type": "markdown",
   "id": "25d838df",
   "metadata": {},
   "source": [
    "### 3. Fix AGELVL Column"
   ]
  },
  {
   "cell_type": "code",
   "execution_count": 13,
   "id": "f6678757",
   "metadata": {},
   "outputs": [],
   "source": [
    "# AGELVL is letters coded for an age gap (5 years between) I want the gaps to show \n",
    "# I also want to rename to age_level and make sure data type is text.\n",
    "# Duplicate column as age_level_code to assist with analysis"
   ]
  },
  {
   "cell_type": "code",
   "execution_count": 14,
   "id": "6c9ab1f7",
   "metadata": {},
   "outputs": [],
   "source": [
    "#Import age level data as dictionary"
   ]
  },
  {
   "cell_type": "code",
   "execution_count": 15,
   "id": "bff64222",
   "metadata": {},
   "outputs": [],
   "source": [
    "age_data = pd.read_csv(os.path.join(path, 'original data', 'AGELVL.csv'), index_col = False)"
   ]
  },
  {
   "cell_type": "code",
   "execution_count": 16,
   "id": "3cdf0675",
   "metadata": {},
   "outputs": [
    {
     "data": {
      "text/html": [
       "<div>\n",
       "<style scoped>\n",
       "    .dataframe tbody tr th:only-of-type {\n",
       "        vertical-align: middle;\n",
       "    }\n",
       "\n",
       "    .dataframe tbody tr th {\n",
       "        vertical-align: top;\n",
       "    }\n",
       "\n",
       "    .dataframe thead th {\n",
       "        text-align: right;\n",
       "    }\n",
       "</style>\n",
       "<table border=\"1\" class=\"dataframe\">\n",
       "  <thead>\n",
       "    <tr style=\"text-align: right;\">\n",
       "      <th></th>\n",
       "      <th>AGELVL</th>\n",
       "      <th>AGELVLT</th>\n",
       "      <th>AGELVLCODE</th>\n",
       "    </tr>\n",
       "  </thead>\n",
       "  <tbody>\n",
       "    <tr>\n",
       "      <th>0</th>\n",
       "      <td>A</td>\n",
       "      <td>Less than 20</td>\n",
       "      <td>1</td>\n",
       "    </tr>\n",
       "    <tr>\n",
       "      <th>1</th>\n",
       "      <td>B</td>\n",
       "      <td>20-24</td>\n",
       "      <td>2</td>\n",
       "    </tr>\n",
       "    <tr>\n",
       "      <th>2</th>\n",
       "      <td>C</td>\n",
       "      <td>25-29</td>\n",
       "      <td>3</td>\n",
       "    </tr>\n",
       "    <tr>\n",
       "      <th>3</th>\n",
       "      <td>D</td>\n",
       "      <td>30-34</td>\n",
       "      <td>4</td>\n",
       "    </tr>\n",
       "    <tr>\n",
       "      <th>4</th>\n",
       "      <td>E</td>\n",
       "      <td>35-39</td>\n",
       "      <td>5</td>\n",
       "    </tr>\n",
       "  </tbody>\n",
       "</table>\n",
       "</div>"
      ],
      "text/plain": [
       "  AGELVL       AGELVLT  AGELVLCODE\n",
       "0      A  Less than 20           1\n",
       "1      B         20-24           2\n",
       "2      C         25-29           3\n",
       "3      D         30-34           4\n",
       "4      E         35-39           5"
      ]
     },
     "execution_count": 16,
     "metadata": {},
     "output_type": "execute_result"
    }
   ],
   "source": [
    "age_data.head()"
   ]
  },
  {
   "cell_type": "code",
   "execution_count": 17,
   "id": "94619db3",
   "metadata": {},
   "outputs": [
    {
     "data": {
      "text/plain": [
       "(12, 3)"
      ]
     },
     "execution_count": 17,
     "metadata": {},
     "output_type": "execute_result"
    }
   ],
   "source": [
    "age_data.shape"
   ]
  },
  {
   "cell_type": "code",
   "execution_count": 18,
   "id": "2860ed5b",
   "metadata": {},
   "outputs": [],
   "source": [
    "df_raw2['AGELVLCODE'] = df_raw2['AGELVL']"
   ]
  },
  {
   "cell_type": "code",
   "execution_count": 19,
   "id": "09df7865",
   "metadata": {},
   "outputs": [
    {
     "data": {
      "text/html": [
       "<div>\n",
       "<style scoped>\n",
       "    .dataframe tbody tr th:only-of-type {\n",
       "        vertical-align: middle;\n",
       "    }\n",
       "\n",
       "    .dataframe tbody tr th {\n",
       "        vertical-align: top;\n",
       "    }\n",
       "\n",
       "    .dataframe thead th {\n",
       "        text-align: right;\n",
       "    }\n",
       "</style>\n",
       "<table border=\"1\" class=\"dataframe\">\n",
       "  <thead>\n",
       "    <tr style=\"text-align: right;\">\n",
       "      <th></th>\n",
       "      <th>AGYSUB</th>\n",
       "      <th>LOC</th>\n",
       "      <th>AGELVL</th>\n",
       "      <th>EDLVL</th>\n",
       "      <th>GSEGRD</th>\n",
       "      <th>LOSLVL</th>\n",
       "      <th>OCC</th>\n",
       "      <th>PATCO</th>\n",
       "      <th>PP</th>\n",
       "      <th>PPGRD</th>\n",
       "      <th>SALLVL</th>\n",
       "      <th>STEMOCC</th>\n",
       "      <th>SUPERVIS</th>\n",
       "      <th>WORKSCH</th>\n",
       "      <th>WORKSTAT</th>\n",
       "      <th>DATECODE</th>\n",
       "      <th>SALARY</th>\n",
       "      <th>LOS</th>\n",
       "      <th>AGELVLCODE</th>\n",
       "    </tr>\n",
       "  </thead>\n",
       "  <tbody>\n",
       "    <tr>\n",
       "      <th>0</th>\n",
       "      <td>AA00</td>\n",
       "      <td>11</td>\n",
       "      <td>F</td>\n",
       "      <td>13</td>\n",
       "      <td>NaN</td>\n",
       "      <td>F</td>\n",
       "      <td>0340</td>\n",
       "      <td>2</td>\n",
       "      <td>ES</td>\n",
       "      <td>ES-**</td>\n",
       "      <td>S</td>\n",
       "      <td>XXXX</td>\n",
       "      <td>2</td>\n",
       "      <td>F</td>\n",
       "      <td>1</td>\n",
       "      <td>202203</td>\n",
       "      <td>192500.0</td>\n",
       "      <td>18.8</td>\n",
       "      <td>F</td>\n",
       "    </tr>\n",
       "    <tr>\n",
       "      <th>1</th>\n",
       "      <td>AA00</td>\n",
       "      <td>11</td>\n",
       "      <td>I</td>\n",
       "      <td>15</td>\n",
       "      <td>NaN</td>\n",
       "      <td>H</td>\n",
       "      <td>0905</td>\n",
       "      <td>1</td>\n",
       "      <td>ES</td>\n",
       "      <td>ES-**</td>\n",
       "      <td>R</td>\n",
       "      <td>XXXX</td>\n",
       "      <td>2</td>\n",
       "      <td>F</td>\n",
       "      <td>1</td>\n",
       "      <td>202203</td>\n",
       "      <td>187000.0</td>\n",
       "      <td>29.2</td>\n",
       "      <td>I</td>\n",
       "    </tr>\n",
       "    <tr>\n",
       "      <th>2</th>\n",
       "      <td>AA00</td>\n",
       "      <td>40</td>\n",
       "      <td>E</td>\n",
       "      <td>15</td>\n",
       "      <td>15.0</td>\n",
       "      <td>E</td>\n",
       "      <td>0905</td>\n",
       "      <td>1</td>\n",
       "      <td>99</td>\n",
       "      <td>GS-15</td>\n",
       "      <td>P</td>\n",
       "      <td>XXXX</td>\n",
       "      <td>2</td>\n",
       "      <td>F</td>\n",
       "      <td>1</td>\n",
       "      <td>202203</td>\n",
       "      <td>161786.0</td>\n",
       "      <td>12.5</td>\n",
       "      <td>E</td>\n",
       "    </tr>\n",
       "    <tr>\n",
       "      <th>3</th>\n",
       "      <td>AA00</td>\n",
       "      <td>11</td>\n",
       "      <td>E</td>\n",
       "      <td>15</td>\n",
       "      <td>15.0</td>\n",
       "      <td>E</td>\n",
       "      <td>0905</td>\n",
       "      <td>1</td>\n",
       "      <td>99</td>\n",
       "      <td>GS-15</td>\n",
       "      <td>O</td>\n",
       "      <td>XXXX</td>\n",
       "      <td>8</td>\n",
       "      <td>F</td>\n",
       "      <td>1</td>\n",
       "      <td>202203</td>\n",
       "      <td>158383.0</td>\n",
       "      <td>10.5</td>\n",
       "      <td>E</td>\n",
       "    </tr>\n",
       "    <tr>\n",
       "      <th>4</th>\n",
       "      <td>AA00</td>\n",
       "      <td>11</td>\n",
       "      <td>F</td>\n",
       "      <td>15</td>\n",
       "      <td>13.0</td>\n",
       "      <td>E</td>\n",
       "      <td>0905</td>\n",
       "      <td>1</td>\n",
       "      <td>99</td>\n",
       "      <td>GS-13</td>\n",
       "      <td>L</td>\n",
       "      <td>XXXX</td>\n",
       "      <td>8</td>\n",
       "      <td>F</td>\n",
       "      <td>1</td>\n",
       "      <td>202203</td>\n",
       "      <td>121065.0</td>\n",
       "      <td>13.4</td>\n",
       "      <td>F</td>\n",
       "    </tr>\n",
       "  </tbody>\n",
       "</table>\n",
       "</div>"
      ],
      "text/plain": [
       "  AGYSUB LOC AGELVL EDLVL GSEGRD LOSLVL   OCC  PATCO  PP  PPGRD SALLVL  \\\n",
       "0   AA00  11      F    13    NaN      F  0340      2  ES  ES-**      S   \n",
       "1   AA00  11      I    15    NaN      H  0905      1  ES  ES-**      R   \n",
       "2   AA00  40      E    15   15.0      E  0905      1  99  GS-15      P   \n",
       "3   AA00  11      E    15   15.0      E  0905      1  99  GS-15      O   \n",
       "4   AA00  11      F    15   13.0      E  0905      1  99  GS-13      L   \n",
       "\n",
       "  STEMOCC SUPERVIS WORKSCH  WORKSTAT  DATECODE    SALARY   LOS AGELVLCODE  \n",
       "0    XXXX        2       F         1    202203  192500.0  18.8          F  \n",
       "1    XXXX        2       F         1    202203  187000.0  29.2          I  \n",
       "2    XXXX        2       F         1    202203  161786.0  12.5          E  \n",
       "3    XXXX        8       F         1    202203  158383.0  10.5          E  \n",
       "4    XXXX        8       F         1    202203  121065.0  13.4          F  "
      ]
     },
     "execution_count": 19,
     "metadata": {},
     "output_type": "execute_result"
    }
   ],
   "source": [
    "df_raw2.head()"
   ]
  },
  {
   "cell_type": "code",
   "execution_count": 20,
   "id": "05aed493",
   "metadata": {},
   "outputs": [],
   "source": [
    "data_dict_age = age_data.set_index('AGELVL').to_dict()['AGELVLT']"
   ]
  },
  {
   "cell_type": "code",
   "execution_count": 21,
   "id": "e4406a08",
   "metadata": {},
   "outputs": [],
   "source": [
    "df_raw3 = df_raw2.replace({\"AGELVL\":data_dict_age})"
   ]
  },
  {
   "cell_type": "code",
   "execution_count": 22,
   "id": "1b4cf722",
   "metadata": {},
   "outputs": [],
   "source": [
    "#Check column"
   ]
  },
  {
   "cell_type": "code",
   "execution_count": 23,
   "id": "6bdce6ac",
   "metadata": {},
   "outputs": [
    {
     "data": {
      "text/plain": [
       "0    40-44\n",
       "1    55-59\n",
       "2    35-39\n",
       "3    35-39\n",
       "4    40-44\n",
       "5    45-49\n",
       "6    50-54\n",
       "7    35-39\n",
       "8    30-34\n",
       "9    25-29\n",
       "Name: AGELVL, dtype: object"
      ]
     },
     "execution_count": 23,
     "metadata": {},
     "output_type": "execute_result"
    }
   ],
   "source": [
    "df_raw3['AGELVL'].head(10)"
   ]
  },
  {
   "cell_type": "code",
   "execution_count": 24,
   "id": "604d26dc",
   "metadata": {},
   "outputs": [
    {
     "data": {
      "text/plain": [
       "(2155624, 19)"
      ]
     },
     "execution_count": 24,
     "metadata": {},
     "output_type": "execute_result"
    }
   ],
   "source": [
    "df_raw3.shape"
   ]
  },
  {
   "cell_type": "code",
   "execution_count": 25,
   "id": "24b3d085",
   "metadata": {},
   "outputs": [
    {
     "data": {
      "text/plain": [
       "50-54           309279\n",
       "55-59           302467\n",
       "40-44           300570\n",
       "35-39           280751\n",
       "45-49           272871\n",
       "60-64           203442\n",
       "30-34           200956\n",
       "25-29           125763\n",
       "65 or more      115278\n",
       "20-24            42624\n",
       "Less than 20      1621\n",
       "Unspecified          2\n",
       "Name: AGELVL, dtype: int64"
      ]
     },
     "execution_count": 25,
     "metadata": {},
     "output_type": "execute_result"
    }
   ],
   "source": [
    "df_raw3.AGELVL.value_counts(dropna = False)"
   ]
  },
  {
   "cell_type": "code",
   "execution_count": 26,
   "id": "f279486b",
   "metadata": {},
   "outputs": [],
   "source": [
    "#Rename AGELVL"
   ]
  },
  {
   "cell_type": "code",
   "execution_count": 27,
   "id": "0bbb3dbd",
   "metadata": {},
   "outputs": [],
   "source": [
    "df_raw3.rename(columns = {'AGELVL':'age_level'},inplace = True)"
   ]
  },
  {
   "cell_type": "code",
   "execution_count": 28,
   "id": "50027ed6",
   "metadata": {},
   "outputs": [
    {
     "data": {
      "text/plain": [
       "str"
      ]
     },
     "execution_count": 28,
     "metadata": {},
     "output_type": "execute_result"
    }
   ],
   "source": [
    "type('age_level')"
   ]
  },
  {
   "cell_type": "code",
   "execution_count": 29,
   "id": "13d1338e",
   "metadata": {},
   "outputs": [],
   "source": [
    "#Change Age Level Code to be numbers"
   ]
  },
  {
   "cell_type": "code",
   "execution_count": 30,
   "id": "bf66b221",
   "metadata": {},
   "outputs": [
    {
     "data": {
      "text/plain": [
       "H    309279\n",
       "I    302467\n",
       "F    300570\n",
       "E    280751\n",
       "G    272871\n",
       "J    203442\n",
       "D    200956\n",
       "C    125763\n",
       "K    115278\n",
       "B     42624\n",
       "A      1621\n",
       "Z         2\n",
       "Name: AGELVLCODE, dtype: int64"
      ]
     },
     "execution_count": 30,
     "metadata": {},
     "output_type": "execute_result"
    }
   ],
   "source": [
    "df_raw3.AGELVLCODE.value_counts(dropna = False)"
   ]
  },
  {
   "cell_type": "code",
   "execution_count": 31,
   "id": "2d5f7c18",
   "metadata": {},
   "outputs": [
    {
     "name": "stdout",
     "output_type": "stream",
     "text": [
      "<class 'pandas.core.frame.DataFrame'>\n",
      "RangeIndex: 12 entries, 0 to 11\n",
      "Data columns (total 3 columns):\n",
      " #   Column      Non-Null Count  Dtype \n",
      "---  ------      --------------  ----- \n",
      " 0   AGELVL      12 non-null     object\n",
      " 1   AGELVLT     12 non-null     object\n",
      " 2   AGELVLCODE  12 non-null     int64 \n",
      "dtypes: int64(1), object(2)\n",
      "memory usage: 416.0+ bytes\n"
     ]
    }
   ],
   "source": [
    "age_data.info()"
   ]
  },
  {
   "cell_type": "code",
   "execution_count": 32,
   "id": "19494aad",
   "metadata": {},
   "outputs": [],
   "source": [
    "age_data['AGELVLCODE']=age_data['AGELVLCODE'].astype('string')"
   ]
  },
  {
   "cell_type": "code",
   "execution_count": 33,
   "id": "6abe30e1",
   "metadata": {},
   "outputs": [
    {
     "name": "stdout",
     "output_type": "stream",
     "text": [
      "<class 'pandas.core.frame.DataFrame'>\n",
      "RangeIndex: 12 entries, 0 to 11\n",
      "Data columns (total 3 columns):\n",
      " #   Column      Non-Null Count  Dtype \n",
      "---  ------      --------------  ----- \n",
      " 0   AGELVL      12 non-null     object\n",
      " 1   AGELVLT     12 non-null     object\n",
      " 2   AGELVLCODE  12 non-null     string\n",
      "dtypes: object(2), string(1)\n",
      "memory usage: 416.0+ bytes\n"
     ]
    }
   ],
   "source": [
    "age_data.info()"
   ]
  },
  {
   "cell_type": "code",
   "execution_count": 34,
   "id": "c577d136",
   "metadata": {},
   "outputs": [],
   "source": [
    "data_dict_age2 = age_data.set_index('AGELVL').to_dict()['AGELVLCODE']"
   ]
  },
  {
   "cell_type": "code",
   "execution_count": 35,
   "id": "c2a38050",
   "metadata": {},
   "outputs": [],
   "source": [
    "df_raw3b = df_raw3.replace({\"AGELVLCODE\":data_dict_age2})"
   ]
  },
  {
   "cell_type": "code",
   "execution_count": 36,
   "id": "0c7910f6",
   "metadata": {},
   "outputs": [],
   "source": [
    "#Check column"
   ]
  },
  {
   "cell_type": "code",
   "execution_count": 37,
   "id": "fbdedf89",
   "metadata": {},
   "outputs": [
    {
     "data": {
      "text/plain": [
       "0    6\n",
       "1    9\n",
       "2    5\n",
       "3    5\n",
       "4    6\n",
       "5    7\n",
       "6    8\n",
       "7    5\n",
       "8    4\n",
       "9    3\n",
       "Name: AGELVLCODE, dtype: object"
      ]
     },
     "execution_count": 37,
     "metadata": {},
     "output_type": "execute_result"
    }
   ],
   "source": [
    "df_raw3b['AGELVLCODE'].head(10)"
   ]
  },
  {
   "cell_type": "code",
   "execution_count": 38,
   "id": "f9093309",
   "metadata": {},
   "outputs": [
    {
     "data": {
      "text/plain": [
       "8     309279\n",
       "9     302467\n",
       "6     300570\n",
       "5     280751\n",
       "7     272871\n",
       "10    203442\n",
       "4     200956\n",
       "3     125763\n",
       "11    115278\n",
       "2      42624\n",
       "1       1621\n",
       "12         2\n",
       "Name: AGELVLCODE, dtype: int64"
      ]
     },
     "execution_count": 38,
     "metadata": {},
     "output_type": "execute_result"
    }
   ],
   "source": [
    "df_raw3b.AGELVLCODE.value_counts(dropna = False)"
   ]
  },
  {
   "cell_type": "code",
   "execution_count": 39,
   "id": "0e179860",
   "metadata": {},
   "outputs": [],
   "source": [
    "#Rename AGELVLCODE\n",
    "df_raw3b.rename(columns = {'AGELVLCODE':'age_level_code'},inplace = True)"
   ]
  },
  {
   "cell_type": "code",
   "execution_count": 40,
   "id": "c3adf62e",
   "metadata": {},
   "outputs": [
    {
     "data": {
      "text/plain": [
       "str"
      ]
     },
     "execution_count": 40,
     "metadata": {},
     "output_type": "execute_result"
    }
   ],
   "source": [
    "type('age_level_code')"
   ]
  },
  {
   "cell_type": "code",
   "execution_count": 41,
   "id": "8f7290e2",
   "metadata": {},
   "outputs": [],
   "source": [
    "#Change type to integer\n",
    "df_raw3b['age_level_code']=df_raw3b['age_level_code'].astype('float')"
   ]
  },
  {
   "cell_type": "code",
   "execution_count": 42,
   "id": "f047877c",
   "metadata": {},
   "outputs": [
    {
     "name": "stdout",
     "output_type": "stream",
     "text": [
      "<class 'pandas.core.frame.DataFrame'>\n",
      "RangeIndex: 2155624 entries, 0 to 2155623\n",
      "Data columns (total 19 columns):\n",
      " #   Column          Dtype  \n",
      "---  ------          -----  \n",
      " 0   AGYSUB          object \n",
      " 1   LOC             object \n",
      " 2   age_level       object \n",
      " 3   EDLVL           object \n",
      " 4   GSEGRD          object \n",
      " 5   LOSLVL          object \n",
      " 6   OCC             object \n",
      " 7   PATCO           int64  \n",
      " 8   PP              object \n",
      " 9   PPGRD           object \n",
      " 10  SALLVL          object \n",
      " 11  STEMOCC         object \n",
      " 12  SUPERVIS        object \n",
      " 13  WORKSCH         object \n",
      " 14  WORKSTAT        int64  \n",
      " 15  DATECODE        int64  \n",
      " 16  SALARY          float64\n",
      " 17  LOS             float64\n",
      " 18  age_level_code  float64\n",
      "dtypes: float64(3), int64(3), object(13)\n",
      "memory usage: 312.5+ MB\n"
     ]
    }
   ],
   "source": [
    "df_raw3b.info()"
   ]
  },
  {
   "cell_type": "markdown",
   "id": "1905bd4f",
   "metadata": {},
   "source": [
    "### 4. Fix LOSLVL Column"
   ]
  },
  {
   "cell_type": "code",
   "execution_count": 43,
   "id": "2e9e43c9",
   "metadata": {},
   "outputs": [],
   "source": [
    "#LOS or Length of Service uses letters that correlate to years in service\n",
    "#Replace values with those in data dictionary\n",
    "#Rename to \"years_of_service\" and make sure string"
   ]
  },
  {
   "cell_type": "code",
   "execution_count": 44,
   "id": "37c86bf2",
   "metadata": {},
   "outputs": [],
   "source": [
    "#Import length of service data as dictionary"
   ]
  },
  {
   "cell_type": "code",
   "execution_count": 45,
   "id": "801b6bf0",
   "metadata": {},
   "outputs": [],
   "source": [
    "los_data = pd.read_csv(os.path.join(path, 'original data', 'LOS.csv'), index_col = False)"
   ]
  },
  {
   "cell_type": "code",
   "execution_count": 46,
   "id": "47319405",
   "metadata": {},
   "outputs": [
    {
     "data": {
      "text/html": [
       "<div>\n",
       "<style scoped>\n",
       "    .dataframe tbody tr th:only-of-type {\n",
       "        vertical-align: middle;\n",
       "    }\n",
       "\n",
       "    .dataframe tbody tr th {\n",
       "        vertical-align: top;\n",
       "    }\n",
       "\n",
       "    .dataframe thead th {\n",
       "        text-align: right;\n",
       "    }\n",
       "</style>\n",
       "<table border=\"1\" class=\"dataframe\">\n",
       "  <thead>\n",
       "    <tr style=\"text-align: right;\">\n",
       "      <th></th>\n",
       "      <th>LOSLVL</th>\n",
       "      <th>LOSLVLT</th>\n",
       "    </tr>\n",
       "  </thead>\n",
       "  <tbody>\n",
       "    <tr>\n",
       "      <th>0</th>\n",
       "      <td>A</td>\n",
       "      <td>Less than 1</td>\n",
       "    </tr>\n",
       "    <tr>\n",
       "      <th>1</th>\n",
       "      <td>B</td>\n",
       "      <td>1 - 2</td>\n",
       "    </tr>\n",
       "    <tr>\n",
       "      <th>2</th>\n",
       "      <td>C</td>\n",
       "      <td>3 - 4</td>\n",
       "    </tr>\n",
       "    <tr>\n",
       "      <th>3</th>\n",
       "      <td>D</td>\n",
       "      <td>5 - 9</td>\n",
       "    </tr>\n",
       "    <tr>\n",
       "      <th>4</th>\n",
       "      <td>E</td>\n",
       "      <td>10 - 14</td>\n",
       "    </tr>\n",
       "  </tbody>\n",
       "</table>\n",
       "</div>"
      ],
      "text/plain": [
       "  LOSLVL      LOSLVLT\n",
       "0      A  Less than 1\n",
       "1      B        1 - 2\n",
       "2      C        3 - 4\n",
       "3      D        5 - 9\n",
       "4      E      10 - 14"
      ]
     },
     "execution_count": 46,
     "metadata": {},
     "output_type": "execute_result"
    }
   ],
   "source": [
    "los_data.head()"
   ]
  },
  {
   "cell_type": "code",
   "execution_count": 47,
   "id": "e5aeecb1",
   "metadata": {},
   "outputs": [
    {
     "data": {
      "text/plain": [
       "(11, 2)"
      ]
     },
     "execution_count": 47,
     "metadata": {},
     "output_type": "execute_result"
    }
   ],
   "source": [
    "los_data.shape"
   ]
  },
  {
   "cell_type": "code",
   "execution_count": 48,
   "id": "8e41ff58",
   "metadata": {},
   "outputs": [],
   "source": [
    "data_dict_los = los_data.set_index('LOSLVL').to_dict()['LOSLVLT']"
   ]
  },
  {
   "cell_type": "code",
   "execution_count": 49,
   "id": "0c141a67",
   "metadata": {},
   "outputs": [],
   "source": [
    "#Change LOSLVL to LOSLVLT"
   ]
  },
  {
   "cell_type": "code",
   "execution_count": 50,
   "id": "d4bd2af7",
   "metadata": {},
   "outputs": [],
   "source": [
    "df_raw4 = df_raw3b.replace({\"LOSLVL\":data_dict_los})"
   ]
  },
  {
   "cell_type": "code",
   "execution_count": 51,
   "id": "85122db8",
   "metadata": {},
   "outputs": [
    {
     "data": {
      "text/plain": [
       "0    15 - 19\n",
       "1    25 - 29\n",
       "2    10 - 14\n",
       "3    10 - 14\n",
       "4    10 - 14\n",
       "Name: LOSLVL, dtype: object"
      ]
     },
     "execution_count": 51,
     "metadata": {},
     "output_type": "execute_result"
    }
   ],
   "source": [
    "df_raw4[\"LOSLVL\"].head()"
   ]
  },
  {
   "cell_type": "code",
   "execution_count": 52,
   "id": "80c3a111",
   "metadata": {},
   "outputs": [
    {
     "data": {
      "text/plain": [
       "(2155624, 19)"
      ]
     },
     "execution_count": 52,
     "metadata": {},
     "output_type": "execute_result"
    }
   ],
   "source": [
    "df_raw4.shape"
   ]
  },
  {
   "cell_type": "code",
   "execution_count": 53,
   "id": "92b54510",
   "metadata": {},
   "outputs": [],
   "source": [
    "#Rename LOSLVL"
   ]
  },
  {
   "cell_type": "code",
   "execution_count": 54,
   "id": "b82fd3f4",
   "metadata": {},
   "outputs": [],
   "source": [
    "df_raw4.rename(columns = {'LOSLVL':'years_of_service'},inplace = True)"
   ]
  },
  {
   "cell_type": "code",
   "execution_count": 55,
   "id": "b9928c4e",
   "metadata": {},
   "outputs": [
    {
     "data": {
      "text/plain": [
       "str"
      ]
     },
     "execution_count": 55,
     "metadata": {},
     "output_type": "execute_result"
    }
   ],
   "source": [
    "type('years_of_service')"
   ]
  },
  {
   "cell_type": "code",
   "execution_count": 56,
   "id": "9ddb33f7",
   "metadata": {},
   "outputs": [
    {
     "data": {
      "text/plain": [
       "10 - 14        418773\n",
       "5 - 9          389965\n",
       "15 - 19        285087\n",
       "1 - 2          275639\n",
       "3 - 4          202404\n",
       "Less than 1    167149\n",
       "20 - 24        162788\n",
       "30 - 34         99322\n",
       "25 - 29         82856\n",
       "35 or more      71102\n",
       "Unspecified       539\n",
       "Name: years_of_service, dtype: int64"
      ]
     },
     "execution_count": 56,
     "metadata": {},
     "output_type": "execute_result"
    }
   ],
   "source": [
    "df_raw4.years_of_service.value_counts(dropna=False)"
   ]
  },
  {
   "cell_type": "markdown",
   "id": "e067039d",
   "metadata": {},
   "source": [
    "### 5. Fix OCC Column"
   ]
  },
  {
   "cell_type": "code",
   "execution_count": 57,
   "id": "790f7117",
   "metadata": {},
   "outputs": [],
   "source": [
    "#OCC Column has 4 digit to represent occupation.  First 2 digits also represent occupation family\n",
    "#Divide out first 2 digits into new column nameed 'occupation_family'\n",
    "#Replace number values with occupation name\n",
    "#Rename OCC to occupation and make sure it is set as string data type"
   ]
  },
  {
   "cell_type": "code",
   "execution_count": 58,
   "id": "0aefddf8",
   "metadata": {},
   "outputs": [],
   "source": [
    "#duplicate column, cut off last 2 digits"
   ]
  },
  {
   "cell_type": "code",
   "execution_count": 59,
   "id": "9e3f3b67",
   "metadata": {},
   "outputs": [
    {
     "data": {
      "text/plain": [
       "0    0340\n",
       "1    0905\n",
       "2    0905\n",
       "3    0905\n",
       "4    0905\n",
       "5    0905\n",
       "6    0301\n",
       "7    0905\n",
       "8    0905\n",
       "9    0905\n",
       "Name: OCC, dtype: object"
      ]
     },
     "execution_count": 59,
     "metadata": {},
     "output_type": "execute_result"
    }
   ],
   "source": [
    "df_raw4['OCC'].head(10)"
   ]
  },
  {
   "cell_type": "code",
   "execution_count": 60,
   "id": "885642f0",
   "metadata": {},
   "outputs": [],
   "source": [
    "df_raw4['OCCFAM'] = df_raw4.loc[:, 'OCC']"
   ]
  },
  {
   "cell_type": "code",
   "execution_count": 61,
   "id": "050ca576",
   "metadata": {},
   "outputs": [
    {
     "data": {
      "text/html": [
       "<div>\n",
       "<style scoped>\n",
       "    .dataframe tbody tr th:only-of-type {\n",
       "        vertical-align: middle;\n",
       "    }\n",
       "\n",
       "    .dataframe tbody tr th {\n",
       "        vertical-align: top;\n",
       "    }\n",
       "\n",
       "    .dataframe thead th {\n",
       "        text-align: right;\n",
       "    }\n",
       "</style>\n",
       "<table border=\"1\" class=\"dataframe\">\n",
       "  <thead>\n",
       "    <tr style=\"text-align: right;\">\n",
       "      <th></th>\n",
       "      <th>AGYSUB</th>\n",
       "      <th>LOC</th>\n",
       "      <th>age_level</th>\n",
       "      <th>EDLVL</th>\n",
       "      <th>GSEGRD</th>\n",
       "      <th>years_of_service</th>\n",
       "      <th>OCC</th>\n",
       "      <th>PATCO</th>\n",
       "      <th>PP</th>\n",
       "      <th>PPGRD</th>\n",
       "      <th>SALLVL</th>\n",
       "      <th>STEMOCC</th>\n",
       "      <th>SUPERVIS</th>\n",
       "      <th>WORKSCH</th>\n",
       "      <th>WORKSTAT</th>\n",
       "      <th>DATECODE</th>\n",
       "      <th>SALARY</th>\n",
       "      <th>LOS</th>\n",
       "      <th>age_level_code</th>\n",
       "      <th>OCCFAM</th>\n",
       "    </tr>\n",
       "  </thead>\n",
       "  <tbody>\n",
       "    <tr>\n",
       "      <th>0</th>\n",
       "      <td>AA00</td>\n",
       "      <td>11</td>\n",
       "      <td>40-44</td>\n",
       "      <td>13</td>\n",
       "      <td>NaN</td>\n",
       "      <td>15 - 19</td>\n",
       "      <td>0340</td>\n",
       "      <td>2</td>\n",
       "      <td>ES</td>\n",
       "      <td>ES-**</td>\n",
       "      <td>S</td>\n",
       "      <td>XXXX</td>\n",
       "      <td>2</td>\n",
       "      <td>F</td>\n",
       "      <td>1</td>\n",
       "      <td>202203</td>\n",
       "      <td>192500.0</td>\n",
       "      <td>18.8</td>\n",
       "      <td>6.0</td>\n",
       "      <td>0340</td>\n",
       "    </tr>\n",
       "    <tr>\n",
       "      <th>1</th>\n",
       "      <td>AA00</td>\n",
       "      <td>11</td>\n",
       "      <td>55-59</td>\n",
       "      <td>15</td>\n",
       "      <td>NaN</td>\n",
       "      <td>25 - 29</td>\n",
       "      <td>0905</td>\n",
       "      <td>1</td>\n",
       "      <td>ES</td>\n",
       "      <td>ES-**</td>\n",
       "      <td>R</td>\n",
       "      <td>XXXX</td>\n",
       "      <td>2</td>\n",
       "      <td>F</td>\n",
       "      <td>1</td>\n",
       "      <td>202203</td>\n",
       "      <td>187000.0</td>\n",
       "      <td>29.2</td>\n",
       "      <td>9.0</td>\n",
       "      <td>0905</td>\n",
       "    </tr>\n",
       "    <tr>\n",
       "      <th>2</th>\n",
       "      <td>AA00</td>\n",
       "      <td>40</td>\n",
       "      <td>35-39</td>\n",
       "      <td>15</td>\n",
       "      <td>15.0</td>\n",
       "      <td>10 - 14</td>\n",
       "      <td>0905</td>\n",
       "      <td>1</td>\n",
       "      <td>99</td>\n",
       "      <td>GS-15</td>\n",
       "      <td>P</td>\n",
       "      <td>XXXX</td>\n",
       "      <td>2</td>\n",
       "      <td>F</td>\n",
       "      <td>1</td>\n",
       "      <td>202203</td>\n",
       "      <td>161786.0</td>\n",
       "      <td>12.5</td>\n",
       "      <td>5.0</td>\n",
       "      <td>0905</td>\n",
       "    </tr>\n",
       "    <tr>\n",
       "      <th>3</th>\n",
       "      <td>AA00</td>\n",
       "      <td>11</td>\n",
       "      <td>35-39</td>\n",
       "      <td>15</td>\n",
       "      <td>15.0</td>\n",
       "      <td>10 - 14</td>\n",
       "      <td>0905</td>\n",
       "      <td>1</td>\n",
       "      <td>99</td>\n",
       "      <td>GS-15</td>\n",
       "      <td>O</td>\n",
       "      <td>XXXX</td>\n",
       "      <td>8</td>\n",
       "      <td>F</td>\n",
       "      <td>1</td>\n",
       "      <td>202203</td>\n",
       "      <td>158383.0</td>\n",
       "      <td>10.5</td>\n",
       "      <td>5.0</td>\n",
       "      <td>0905</td>\n",
       "    </tr>\n",
       "    <tr>\n",
       "      <th>4</th>\n",
       "      <td>AA00</td>\n",
       "      <td>11</td>\n",
       "      <td>40-44</td>\n",
       "      <td>15</td>\n",
       "      <td>13.0</td>\n",
       "      <td>10 - 14</td>\n",
       "      <td>0905</td>\n",
       "      <td>1</td>\n",
       "      <td>99</td>\n",
       "      <td>GS-13</td>\n",
       "      <td>L</td>\n",
       "      <td>XXXX</td>\n",
       "      <td>8</td>\n",
       "      <td>F</td>\n",
       "      <td>1</td>\n",
       "      <td>202203</td>\n",
       "      <td>121065.0</td>\n",
       "      <td>13.4</td>\n",
       "      <td>6.0</td>\n",
       "      <td>0905</td>\n",
       "    </tr>\n",
       "  </tbody>\n",
       "</table>\n",
       "</div>"
      ],
      "text/plain": [
       "  AGYSUB LOC age_level EDLVL GSEGRD years_of_service   OCC  PATCO  PP  PPGRD  \\\n",
       "0   AA00  11     40-44    13    NaN          15 - 19  0340      2  ES  ES-**   \n",
       "1   AA00  11     55-59    15    NaN          25 - 29  0905      1  ES  ES-**   \n",
       "2   AA00  40     35-39    15   15.0          10 - 14  0905      1  99  GS-15   \n",
       "3   AA00  11     35-39    15   15.0          10 - 14  0905      1  99  GS-15   \n",
       "4   AA00  11     40-44    15   13.0          10 - 14  0905      1  99  GS-13   \n",
       "\n",
       "  SALLVL STEMOCC SUPERVIS WORKSCH  WORKSTAT  DATECODE    SALARY   LOS  \\\n",
       "0      S    XXXX        2       F         1    202203  192500.0  18.8   \n",
       "1      R    XXXX        2       F         1    202203  187000.0  29.2   \n",
       "2      P    XXXX        2       F         1    202203  161786.0  12.5   \n",
       "3      O    XXXX        8       F         1    202203  158383.0  10.5   \n",
       "4      L    XXXX        8       F         1    202203  121065.0  13.4   \n",
       "\n",
       "   age_level_code OCCFAM  \n",
       "0             6.0   0340  \n",
       "1             9.0   0905  \n",
       "2             5.0   0905  \n",
       "3             5.0   0905  \n",
       "4             6.0   0905  "
      ]
     },
     "execution_count": 61,
     "metadata": {},
     "output_type": "execute_result"
    }
   ],
   "source": [
    "df_raw4.head()"
   ]
  },
  {
   "cell_type": "code",
   "execution_count": 62,
   "id": "8badebd8",
   "metadata": {},
   "outputs": [],
   "source": [
    "df_raw4['OCCFAM'] = df_raw4['OCCFAM'].str[:2]"
   ]
  },
  {
   "cell_type": "code",
   "execution_count": 63,
   "id": "91b67a96",
   "metadata": {},
   "outputs": [
    {
     "data": {
      "text/plain": [
       "0    03\n",
       "1    09\n",
       "2    09\n",
       "3    09\n",
       "4    09\n",
       "Name: OCCFAM, dtype: object"
      ]
     },
     "execution_count": 63,
     "metadata": {},
     "output_type": "execute_result"
    }
   ],
   "source": [
    "df_raw4['OCCFAM'].head()"
   ]
  },
  {
   "cell_type": "code",
   "execution_count": 64,
   "id": "a296d016",
   "metadata": {},
   "outputs": [
    {
     "data": {
      "text/html": [
       "<div>\n",
       "<style scoped>\n",
       "    .dataframe tbody tr th:only-of-type {\n",
       "        vertical-align: middle;\n",
       "    }\n",
       "\n",
       "    .dataframe tbody tr th {\n",
       "        vertical-align: top;\n",
       "    }\n",
       "\n",
       "    .dataframe thead th {\n",
       "        text-align: right;\n",
       "    }\n",
       "</style>\n",
       "<table border=\"1\" class=\"dataframe\">\n",
       "  <thead>\n",
       "    <tr style=\"text-align: right;\">\n",
       "      <th></th>\n",
       "      <th>AGYSUB</th>\n",
       "      <th>LOC</th>\n",
       "      <th>age_level</th>\n",
       "      <th>EDLVL</th>\n",
       "      <th>GSEGRD</th>\n",
       "      <th>years_of_service</th>\n",
       "      <th>OCC</th>\n",
       "      <th>PATCO</th>\n",
       "      <th>PP</th>\n",
       "      <th>PPGRD</th>\n",
       "      <th>SALLVL</th>\n",
       "      <th>STEMOCC</th>\n",
       "      <th>SUPERVIS</th>\n",
       "      <th>WORKSCH</th>\n",
       "      <th>WORKSTAT</th>\n",
       "      <th>DATECODE</th>\n",
       "      <th>SALARY</th>\n",
       "      <th>LOS</th>\n",
       "      <th>age_level_code</th>\n",
       "      <th>OCCFAM</th>\n",
       "    </tr>\n",
       "  </thead>\n",
       "  <tbody>\n",
       "    <tr>\n",
       "      <th>0</th>\n",
       "      <td>AA00</td>\n",
       "      <td>11</td>\n",
       "      <td>40-44</td>\n",
       "      <td>13</td>\n",
       "      <td>NaN</td>\n",
       "      <td>15 - 19</td>\n",
       "      <td>0340</td>\n",
       "      <td>2</td>\n",
       "      <td>ES</td>\n",
       "      <td>ES-**</td>\n",
       "      <td>S</td>\n",
       "      <td>XXXX</td>\n",
       "      <td>2</td>\n",
       "      <td>F</td>\n",
       "      <td>1</td>\n",
       "      <td>202203</td>\n",
       "      <td>192500.0</td>\n",
       "      <td>18.8</td>\n",
       "      <td>6.0</td>\n",
       "      <td>03</td>\n",
       "    </tr>\n",
       "    <tr>\n",
       "      <th>1</th>\n",
       "      <td>AA00</td>\n",
       "      <td>11</td>\n",
       "      <td>55-59</td>\n",
       "      <td>15</td>\n",
       "      <td>NaN</td>\n",
       "      <td>25 - 29</td>\n",
       "      <td>0905</td>\n",
       "      <td>1</td>\n",
       "      <td>ES</td>\n",
       "      <td>ES-**</td>\n",
       "      <td>R</td>\n",
       "      <td>XXXX</td>\n",
       "      <td>2</td>\n",
       "      <td>F</td>\n",
       "      <td>1</td>\n",
       "      <td>202203</td>\n",
       "      <td>187000.0</td>\n",
       "      <td>29.2</td>\n",
       "      <td>9.0</td>\n",
       "      <td>09</td>\n",
       "    </tr>\n",
       "    <tr>\n",
       "      <th>2</th>\n",
       "      <td>AA00</td>\n",
       "      <td>40</td>\n",
       "      <td>35-39</td>\n",
       "      <td>15</td>\n",
       "      <td>15.0</td>\n",
       "      <td>10 - 14</td>\n",
       "      <td>0905</td>\n",
       "      <td>1</td>\n",
       "      <td>99</td>\n",
       "      <td>GS-15</td>\n",
       "      <td>P</td>\n",
       "      <td>XXXX</td>\n",
       "      <td>2</td>\n",
       "      <td>F</td>\n",
       "      <td>1</td>\n",
       "      <td>202203</td>\n",
       "      <td>161786.0</td>\n",
       "      <td>12.5</td>\n",
       "      <td>5.0</td>\n",
       "      <td>09</td>\n",
       "    </tr>\n",
       "    <tr>\n",
       "      <th>3</th>\n",
       "      <td>AA00</td>\n",
       "      <td>11</td>\n",
       "      <td>35-39</td>\n",
       "      <td>15</td>\n",
       "      <td>15.0</td>\n",
       "      <td>10 - 14</td>\n",
       "      <td>0905</td>\n",
       "      <td>1</td>\n",
       "      <td>99</td>\n",
       "      <td>GS-15</td>\n",
       "      <td>O</td>\n",
       "      <td>XXXX</td>\n",
       "      <td>8</td>\n",
       "      <td>F</td>\n",
       "      <td>1</td>\n",
       "      <td>202203</td>\n",
       "      <td>158383.0</td>\n",
       "      <td>10.5</td>\n",
       "      <td>5.0</td>\n",
       "      <td>09</td>\n",
       "    </tr>\n",
       "    <tr>\n",
       "      <th>4</th>\n",
       "      <td>AA00</td>\n",
       "      <td>11</td>\n",
       "      <td>40-44</td>\n",
       "      <td>15</td>\n",
       "      <td>13.0</td>\n",
       "      <td>10 - 14</td>\n",
       "      <td>0905</td>\n",
       "      <td>1</td>\n",
       "      <td>99</td>\n",
       "      <td>GS-13</td>\n",
       "      <td>L</td>\n",
       "      <td>XXXX</td>\n",
       "      <td>8</td>\n",
       "      <td>F</td>\n",
       "      <td>1</td>\n",
       "      <td>202203</td>\n",
       "      <td>121065.0</td>\n",
       "      <td>13.4</td>\n",
       "      <td>6.0</td>\n",
       "      <td>09</td>\n",
       "    </tr>\n",
       "    <tr>\n",
       "      <th>5</th>\n",
       "      <td>AA00</td>\n",
       "      <td>11</td>\n",
       "      <td>45-49</td>\n",
       "      <td>15</td>\n",
       "      <td>14.0</td>\n",
       "      <td>5 - 9</td>\n",
       "      <td>0905</td>\n",
       "      <td>1</td>\n",
       "      <td>99</td>\n",
       "      <td>GS-14</td>\n",
       "      <td>M</td>\n",
       "      <td>XXXX</td>\n",
       "      <td>8</td>\n",
       "      <td>F</td>\n",
       "      <td>1</td>\n",
       "      <td>202203</td>\n",
       "      <td>134649.0</td>\n",
       "      <td>9.8</td>\n",
       "      <td>7.0</td>\n",
       "      <td>09</td>\n",
       "    </tr>\n",
       "    <tr>\n",
       "      <th>6</th>\n",
       "      <td>AA00</td>\n",
       "      <td>11</td>\n",
       "      <td>50-54</td>\n",
       "      <td>15</td>\n",
       "      <td>NaN</td>\n",
       "      <td>10 - 14</td>\n",
       "      <td>0301</td>\n",
       "      <td>2</td>\n",
       "      <td>ES</td>\n",
       "      <td>ES-**</td>\n",
       "      <td>S</td>\n",
       "      <td>XXXX</td>\n",
       "      <td>2</td>\n",
       "      <td>F</td>\n",
       "      <td>1</td>\n",
       "      <td>202203</td>\n",
       "      <td>199300.0</td>\n",
       "      <td>12.4</td>\n",
       "      <td>8.0</td>\n",
       "      <td>03</td>\n",
       "    </tr>\n",
       "    <tr>\n",
       "      <th>7</th>\n",
       "      <td>AA00</td>\n",
       "      <td>11</td>\n",
       "      <td>35-39</td>\n",
       "      <td>15</td>\n",
       "      <td>14.0</td>\n",
       "      <td>5 - 9</td>\n",
       "      <td>0905</td>\n",
       "      <td>1</td>\n",
       "      <td>99</td>\n",
       "      <td>GS-14</td>\n",
       "      <td>M</td>\n",
       "      <td>XXXX</td>\n",
       "      <td>8</td>\n",
       "      <td>F</td>\n",
       "      <td>1</td>\n",
       "      <td>202203</td>\n",
       "      <td>138856.0</td>\n",
       "      <td>7.5</td>\n",
       "      <td>5.0</td>\n",
       "      <td>09</td>\n",
       "    </tr>\n",
       "    <tr>\n",
       "      <th>8</th>\n",
       "      <td>AA00</td>\n",
       "      <td>11</td>\n",
       "      <td>30-34</td>\n",
       "      <td>15</td>\n",
       "      <td>13.0</td>\n",
       "      <td>1 - 2</td>\n",
       "      <td>0905</td>\n",
       "      <td>1</td>\n",
       "      <td>99</td>\n",
       "      <td>GS-13</td>\n",
       "      <td>J</td>\n",
       "      <td>XXXX</td>\n",
       "      <td>8</td>\n",
       "      <td>F</td>\n",
       "      <td>1</td>\n",
       "      <td>202203</td>\n",
       "      <td>106823.0</td>\n",
       "      <td>2.5</td>\n",
       "      <td>4.0</td>\n",
       "      <td>09</td>\n",
       "    </tr>\n",
       "    <tr>\n",
       "      <th>9</th>\n",
       "      <td>AA00</td>\n",
       "      <td>11</td>\n",
       "      <td>25-29</td>\n",
       "      <td>15</td>\n",
       "      <td>11.0</td>\n",
       "      <td>1 - 2</td>\n",
       "      <td>0905</td>\n",
       "      <td>1</td>\n",
       "      <td>99</td>\n",
       "      <td>GS-11</td>\n",
       "      <td>G</td>\n",
       "      <td>XXXX</td>\n",
       "      <td>8</td>\n",
       "      <td>F</td>\n",
       "      <td>2</td>\n",
       "      <td>202203</td>\n",
       "      <td>77447.0</td>\n",
       "      <td>1.3</td>\n",
       "      <td>3.0</td>\n",
       "      <td>09</td>\n",
       "    </tr>\n",
       "    <tr>\n",
       "      <th>10</th>\n",
       "      <td>AA00</td>\n",
       "      <td>36</td>\n",
       "      <td>35-39</td>\n",
       "      <td>21</td>\n",
       "      <td>12.0</td>\n",
       "      <td>Less than 1</td>\n",
       "      <td>0905</td>\n",
       "      <td>1</td>\n",
       "      <td>99</td>\n",
       "      <td>GS-12</td>\n",
       "      <td>I</td>\n",
       "      <td>XXXX</td>\n",
       "      <td>8</td>\n",
       "      <td>F</td>\n",
       "      <td>2</td>\n",
       "      <td>202203</td>\n",
       "      <td>95320.0</td>\n",
       "      <td>0.6</td>\n",
       "      <td>5.0</td>\n",
       "      <td>09</td>\n",
       "    </tr>\n",
       "    <tr>\n",
       "      <th>11</th>\n",
       "      <td>AA00</td>\n",
       "      <td>11</td>\n",
       "      <td>20-24</td>\n",
       "      <td>13</td>\n",
       "      <td>9.0</td>\n",
       "      <td>Less than 1</td>\n",
       "      <td>0560</td>\n",
       "      <td>2</td>\n",
       "      <td>99</td>\n",
       "      <td>GS-09</td>\n",
       "      <td>F</td>\n",
       "      <td>XXXX</td>\n",
       "      <td>8</td>\n",
       "      <td>F</td>\n",
       "      <td>1</td>\n",
       "      <td>202203</td>\n",
       "      <td>61947.0</td>\n",
       "      <td>0.5</td>\n",
       "      <td>2.0</td>\n",
       "      <td>05</td>\n",
       "    </tr>\n",
       "    <tr>\n",
       "      <th>12</th>\n",
       "      <td>AA00</td>\n",
       "      <td>11</td>\n",
       "      <td>30-34</td>\n",
       "      <td>04</td>\n",
       "      <td>11.0</td>\n",
       "      <td>Less than 1</td>\n",
       "      <td>0904</td>\n",
       "      <td>1</td>\n",
       "      <td>99</td>\n",
       "      <td>GS-11</td>\n",
       "      <td>G</td>\n",
       "      <td>XXXX</td>\n",
       "      <td>8</td>\n",
       "      <td>F</td>\n",
       "      <td>2</td>\n",
       "      <td>202203</td>\n",
       "      <td>74950.0</td>\n",
       "      <td>0.5</td>\n",
       "      <td>4.0</td>\n",
       "      <td>09</td>\n",
       "    </tr>\n",
       "    <tr>\n",
       "      <th>13</th>\n",
       "      <td>AB00</td>\n",
       "      <td>FR</td>\n",
       "      <td>45-49</td>\n",
       "      <td>17</td>\n",
       "      <td>14.0</td>\n",
       "      <td>25 - 29</td>\n",
       "      <td>1102</td>\n",
       "      <td>1</td>\n",
       "      <td>99</td>\n",
       "      <td>GS-14</td>\n",
       "      <td>L</td>\n",
       "      <td>XXXX</td>\n",
       "      <td>8</td>\n",
       "      <td>F</td>\n",
       "      <td>1</td>\n",
       "      <td>202203</td>\n",
       "      <td>124764.0</td>\n",
       "      <td>27.4</td>\n",
       "      <td>7.0</td>\n",
       "      <td>11</td>\n",
       "    </tr>\n",
       "    <tr>\n",
       "      <th>14</th>\n",
       "      <td>AB00</td>\n",
       "      <td>39</td>\n",
       "      <td>40-44</td>\n",
       "      <td>13</td>\n",
       "      <td>12.0</td>\n",
       "      <td>10 - 14</td>\n",
       "      <td>1084</td>\n",
       "      <td>2</td>\n",
       "      <td>99</td>\n",
       "      <td>GS-12</td>\n",
       "      <td>J</td>\n",
       "      <td>XXXX</td>\n",
       "      <td>8</td>\n",
       "      <td>F</td>\n",
       "      <td>2</td>\n",
       "      <td>202203</td>\n",
       "      <td>107660.0</td>\n",
       "      <td>12.0</td>\n",
       "      <td>6.0</td>\n",
       "      <td>10</td>\n",
       "    </tr>\n",
       "    <tr>\n",
       "      <th>15</th>\n",
       "      <td>AB00</td>\n",
       "      <td>51</td>\n",
       "      <td>45-49</td>\n",
       "      <td>13</td>\n",
       "      <td>15.0</td>\n",
       "      <td>20 - 24</td>\n",
       "      <td>0505</td>\n",
       "      <td>2</td>\n",
       "      <td>99</td>\n",
       "      <td>GS-15</td>\n",
       "      <td>Q</td>\n",
       "      <td>XXXX</td>\n",
       "      <td>2</td>\n",
       "      <td>F</td>\n",
       "      <td>1</td>\n",
       "      <td>202203</td>\n",
       "      <td>176300.0</td>\n",
       "      <td>22.1</td>\n",
       "      <td>7.0</td>\n",
       "      <td>05</td>\n",
       "    </tr>\n",
       "    <tr>\n",
       "      <th>16</th>\n",
       "      <td>AB00</td>\n",
       "      <td>FR</td>\n",
       "      <td>55-59</td>\n",
       "      <td>17</td>\n",
       "      <td>NaN</td>\n",
       "      <td>35 or more</td>\n",
       "      <td>0301</td>\n",
       "      <td>2</td>\n",
       "      <td>ES</td>\n",
       "      <td>ES-**</td>\n",
       "      <td>T</td>\n",
       "      <td>XXXX</td>\n",
       "      <td>2</td>\n",
       "      <td>F</td>\n",
       "      <td>1</td>\n",
       "      <td>202203</td>\n",
       "      <td>203252.0</td>\n",
       "      <td>36.7</td>\n",
       "      <td>9.0</td>\n",
       "      <td>03</td>\n",
       "    </tr>\n",
       "    <tr>\n",
       "      <th>17</th>\n",
       "      <td>AB00</td>\n",
       "      <td>FR</td>\n",
       "      <td>55-59</td>\n",
       "      <td>13</td>\n",
       "      <td>13.0</td>\n",
       "      <td>10 - 14</td>\n",
       "      <td>1630</td>\n",
       "      <td>2</td>\n",
       "      <td>99</td>\n",
       "      <td>GS-13</td>\n",
       "      <td>H</td>\n",
       "      <td>XXXX</td>\n",
       "      <td>2</td>\n",
       "      <td>F</td>\n",
       "      <td>1</td>\n",
       "      <td>202203</td>\n",
       "      <td>89337.0</td>\n",
       "      <td>14.0</td>\n",
       "      <td>9.0</td>\n",
       "      <td>16</td>\n",
       "    </tr>\n",
       "    <tr>\n",
       "      <th>18</th>\n",
       "      <td>AB00</td>\n",
       "      <td>23</td>\n",
       "      <td>60-64</td>\n",
       "      <td>17</td>\n",
       "      <td>14.0</td>\n",
       "      <td>20 - 24</td>\n",
       "      <td>0170</td>\n",
       "      <td>1</td>\n",
       "      <td>99</td>\n",
       "      <td>GS-14</td>\n",
       "      <td>N</td>\n",
       "      <td>XXXX</td>\n",
       "      <td>2</td>\n",
       "      <td>F</td>\n",
       "      <td>1</td>\n",
       "      <td>202203</td>\n",
       "      <td>141259.0</td>\n",
       "      <td>24.1</td>\n",
       "      <td>10.0</td>\n",
       "      <td>01</td>\n",
       "    </tr>\n",
       "    <tr>\n",
       "      <th>19</th>\n",
       "      <td>AB00</td>\n",
       "      <td>51</td>\n",
       "      <td>45-49</td>\n",
       "      <td>17</td>\n",
       "      <td>15.0</td>\n",
       "      <td>1 - 2</td>\n",
       "      <td>1035</td>\n",
       "      <td>2</td>\n",
       "      <td>99</td>\n",
       "      <td>GS-15</td>\n",
       "      <td>Q</td>\n",
       "      <td>XXXX</td>\n",
       "      <td>2</td>\n",
       "      <td>F</td>\n",
       "      <td>1</td>\n",
       "      <td>202203</td>\n",
       "      <td>176300.0</td>\n",
       "      <td>2.4</td>\n",
       "      <td>7.0</td>\n",
       "      <td>10</td>\n",
       "    </tr>\n",
       "    <tr>\n",
       "      <th>20</th>\n",
       "      <td>AB00</td>\n",
       "      <td>FR</td>\n",
       "      <td>35-39</td>\n",
       "      <td>17</td>\n",
       "      <td>13.0</td>\n",
       "      <td>10 - 14</td>\n",
       "      <td>1630</td>\n",
       "      <td>2</td>\n",
       "      <td>99</td>\n",
       "      <td>GS-13</td>\n",
       "      <td>H</td>\n",
       "      <td>XXXX</td>\n",
       "      <td>2</td>\n",
       "      <td>F</td>\n",
       "      <td>1</td>\n",
       "      <td>202203</td>\n",
       "      <td>81216.0</td>\n",
       "      <td>14.4</td>\n",
       "      <td>5.0</td>\n",
       "      <td>16</td>\n",
       "    </tr>\n",
       "    <tr>\n",
       "      <th>21</th>\n",
       "      <td>AB00</td>\n",
       "      <td>06</td>\n",
       "      <td>40-44</td>\n",
       "      <td>13</td>\n",
       "      <td>13.0</td>\n",
       "      <td>10 - 14</td>\n",
       "      <td>0201</td>\n",
       "      <td>2</td>\n",
       "      <td>99</td>\n",
       "      <td>GS-13</td>\n",
       "      <td>L</td>\n",
       "      <td>XXXX</td>\n",
       "      <td>8</td>\n",
       "      <td>F</td>\n",
       "      <td>1</td>\n",
       "      <td>202203</td>\n",
       "      <td>120618.0</td>\n",
       "      <td>14.6</td>\n",
       "      <td>6.0</td>\n",
       "      <td>02</td>\n",
       "    </tr>\n",
       "    <tr>\n",
       "      <th>22</th>\n",
       "      <td>AB00</td>\n",
       "      <td>FR</td>\n",
       "      <td>55-59</td>\n",
       "      <td>17</td>\n",
       "      <td>11.0</td>\n",
       "      <td>5 - 9</td>\n",
       "      <td>1630</td>\n",
       "      <td>2</td>\n",
       "      <td>99</td>\n",
       "      <td>GS-11</td>\n",
       "      <td>F</td>\n",
       "      <td>XXXX</td>\n",
       "      <td>2</td>\n",
       "      <td>F</td>\n",
       "      <td>1</td>\n",
       "      <td>202203</td>\n",
       "      <td>64579.0</td>\n",
       "      <td>9.0</td>\n",
       "      <td>9.0</td>\n",
       "      <td>16</td>\n",
       "    </tr>\n",
       "    <tr>\n",
       "      <th>23</th>\n",
       "      <td>AB00</td>\n",
       "      <td>51</td>\n",
       "      <td>60-64</td>\n",
       "      <td>10</td>\n",
       "      <td>13.0</td>\n",
       "      <td>15 - 19</td>\n",
       "      <td>2210</td>\n",
       "      <td>2</td>\n",
       "      <td>99</td>\n",
       "      <td>GS-13</td>\n",
       "      <td>L</td>\n",
       "      <td>2210</td>\n",
       "      <td>8</td>\n",
       "      <td>F</td>\n",
       "      <td>1</td>\n",
       "      <td>202203</td>\n",
       "      <td>124626.0</td>\n",
       "      <td>19.7</td>\n",
       "      <td>10.0</td>\n",
       "      <td>22</td>\n",
       "    </tr>\n",
       "    <tr>\n",
       "      <th>24</th>\n",
       "      <td>AB00</td>\n",
       "      <td>51</td>\n",
       "      <td>55-59</td>\n",
       "      <td>17</td>\n",
       "      <td>14.0</td>\n",
       "      <td>30 - 34</td>\n",
       "      <td>1035</td>\n",
       "      <td>2</td>\n",
       "      <td>99</td>\n",
       "      <td>GS-14</td>\n",
       "      <td>P</td>\n",
       "      <td>XXXX</td>\n",
       "      <td>2</td>\n",
       "      <td>I</td>\n",
       "      <td>2</td>\n",
       "      <td>202203</td>\n",
       "      <td>164102.0</td>\n",
       "      <td>33.6</td>\n",
       "      <td>9.0</td>\n",
       "      <td>10</td>\n",
       "    </tr>\n",
       "    <tr>\n",
       "      <th>25</th>\n",
       "      <td>AB00</td>\n",
       "      <td>FR</td>\n",
       "      <td>45-49</td>\n",
       "      <td>13</td>\n",
       "      <td>9.0</td>\n",
       "      <td>15 - 19</td>\n",
       "      <td>1630</td>\n",
       "      <td>2</td>\n",
       "      <td>99</td>\n",
       "      <td>GS-09</td>\n",
       "      <td>F</td>\n",
       "      <td>XXXX</td>\n",
       "      <td>8</td>\n",
       "      <td>F</td>\n",
       "      <td>1</td>\n",
       "      <td>202203</td>\n",
       "      <td>61227.0</td>\n",
       "      <td>18.4</td>\n",
       "      <td>7.0</td>\n",
       "      <td>16</td>\n",
       "    </tr>\n",
       "    <tr>\n",
       "      <th>26</th>\n",
       "      <td>AB00</td>\n",
       "      <td>51</td>\n",
       "      <td>65 or more</td>\n",
       "      <td>21</td>\n",
       "      <td>NaN</td>\n",
       "      <td>1 - 2</td>\n",
       "      <td>0170</td>\n",
       "      <td>1</td>\n",
       "      <td>99</td>\n",
       "      <td>ED-00</td>\n",
       "      <td>J</td>\n",
       "      <td>XXXX</td>\n",
       "      <td>8</td>\n",
       "      <td>I</td>\n",
       "      <td>2</td>\n",
       "      <td>202203</td>\n",
       "      <td>104350.0</td>\n",
       "      <td>1.8</td>\n",
       "      <td>11.0</td>\n",
       "      <td>01</td>\n",
       "    </tr>\n",
       "    <tr>\n",
       "      <th>27</th>\n",
       "      <td>AB00</td>\n",
       "      <td>FR</td>\n",
       "      <td>50-54</td>\n",
       "      <td>13</td>\n",
       "      <td>14.0</td>\n",
       "      <td>25 - 29</td>\n",
       "      <td>0201</td>\n",
       "      <td>2</td>\n",
       "      <td>99</td>\n",
       "      <td>GS-14</td>\n",
       "      <td>L</td>\n",
       "      <td>XXXX</td>\n",
       "      <td>8</td>\n",
       "      <td>F</td>\n",
       "      <td>1</td>\n",
       "      <td>202203</td>\n",
       "      <td>121565.0</td>\n",
       "      <td>29.3</td>\n",
       "      <td>8.0</td>\n",
       "      <td>02</td>\n",
       "    </tr>\n",
       "    <tr>\n",
       "      <th>28</th>\n",
       "      <td>AB00</td>\n",
       "      <td>IT</td>\n",
       "      <td>60-64</td>\n",
       "      <td>17</td>\n",
       "      <td>12.0</td>\n",
       "      <td>30 - 34</td>\n",
       "      <td>1630</td>\n",
       "      <td>2</td>\n",
       "      <td>99</td>\n",
       "      <td>GS-12</td>\n",
       "      <td>G</td>\n",
       "      <td>XXXX</td>\n",
       "      <td>2</td>\n",
       "      <td>F</td>\n",
       "      <td>1</td>\n",
       "      <td>202203</td>\n",
       "      <td>77407.0</td>\n",
       "      <td>30.9</td>\n",
       "      <td>10.0</td>\n",
       "      <td>16</td>\n",
       "    </tr>\n",
       "    <tr>\n",
       "      <th>29</th>\n",
       "      <td>AB00</td>\n",
       "      <td>51</td>\n",
       "      <td>60-64</td>\n",
       "      <td>17</td>\n",
       "      <td>14.0</td>\n",
       "      <td>15 - 19</td>\n",
       "      <td>0341</td>\n",
       "      <td>2</td>\n",
       "      <td>99</td>\n",
       "      <td>GS-14</td>\n",
       "      <td>N</td>\n",
       "      <td>XXXX</td>\n",
       "      <td>2</td>\n",
       "      <td>F</td>\n",
       "      <td>1</td>\n",
       "      <td>202203</td>\n",
       "      <td>143064.0</td>\n",
       "      <td>18.8</td>\n",
       "      <td>10.0</td>\n",
       "      <td>03</td>\n",
       "    </tr>\n",
       "  </tbody>\n",
       "</table>\n",
       "</div>"
      ],
      "text/plain": [
       "   AGYSUB LOC   age_level EDLVL GSEGRD years_of_service   OCC  PATCO  PP  \\\n",
       "0    AA00  11       40-44    13    NaN          15 - 19  0340      2  ES   \n",
       "1    AA00  11       55-59    15    NaN          25 - 29  0905      1  ES   \n",
       "2    AA00  40       35-39    15   15.0          10 - 14  0905      1  99   \n",
       "3    AA00  11       35-39    15   15.0          10 - 14  0905      1  99   \n",
       "4    AA00  11       40-44    15   13.0          10 - 14  0905      1  99   \n",
       "5    AA00  11       45-49    15   14.0            5 - 9  0905      1  99   \n",
       "6    AA00  11       50-54    15    NaN          10 - 14  0301      2  ES   \n",
       "7    AA00  11       35-39    15   14.0            5 - 9  0905      1  99   \n",
       "8    AA00  11       30-34    15   13.0            1 - 2  0905      1  99   \n",
       "9    AA00  11       25-29    15   11.0            1 - 2  0905      1  99   \n",
       "10   AA00  36       35-39    21   12.0      Less than 1  0905      1  99   \n",
       "11   AA00  11       20-24    13    9.0      Less than 1  0560      2  99   \n",
       "12   AA00  11       30-34    04   11.0      Less than 1  0904      1  99   \n",
       "13   AB00  FR       45-49    17   14.0          25 - 29  1102      1  99   \n",
       "14   AB00  39       40-44    13   12.0          10 - 14  1084      2  99   \n",
       "15   AB00  51       45-49    13   15.0          20 - 24  0505      2  99   \n",
       "16   AB00  FR       55-59    17    NaN       35 or more  0301      2  ES   \n",
       "17   AB00  FR       55-59    13   13.0          10 - 14  1630      2  99   \n",
       "18   AB00  23       60-64    17   14.0          20 - 24  0170      1  99   \n",
       "19   AB00  51       45-49    17   15.0            1 - 2  1035      2  99   \n",
       "20   AB00  FR       35-39    17   13.0          10 - 14  1630      2  99   \n",
       "21   AB00  06       40-44    13   13.0          10 - 14  0201      2  99   \n",
       "22   AB00  FR       55-59    17   11.0            5 - 9  1630      2  99   \n",
       "23   AB00  51       60-64    10   13.0          15 - 19  2210      2  99   \n",
       "24   AB00  51       55-59    17   14.0          30 - 34  1035      2  99   \n",
       "25   AB00  FR       45-49    13    9.0          15 - 19  1630      2  99   \n",
       "26   AB00  51  65 or more    21    NaN            1 - 2  0170      1  99   \n",
       "27   AB00  FR       50-54    13   14.0          25 - 29  0201      2  99   \n",
       "28   AB00  IT       60-64    17   12.0          30 - 34  1630      2  99   \n",
       "29   AB00  51       60-64    17   14.0          15 - 19  0341      2  99   \n",
       "\n",
       "    PPGRD SALLVL STEMOCC SUPERVIS WORKSCH  WORKSTAT  DATECODE    SALARY   LOS  \\\n",
       "0   ES-**      S    XXXX        2       F         1    202203  192500.0  18.8   \n",
       "1   ES-**      R    XXXX        2       F         1    202203  187000.0  29.2   \n",
       "2   GS-15      P    XXXX        2       F         1    202203  161786.0  12.5   \n",
       "3   GS-15      O    XXXX        8       F         1    202203  158383.0  10.5   \n",
       "4   GS-13      L    XXXX        8       F         1    202203  121065.0  13.4   \n",
       "5   GS-14      M    XXXX        8       F         1    202203  134649.0   9.8   \n",
       "6   ES-**      S    XXXX        2       F         1    202203  199300.0  12.4   \n",
       "7   GS-14      M    XXXX        8       F         1    202203  138856.0   7.5   \n",
       "8   GS-13      J    XXXX        8       F         1    202203  106823.0   2.5   \n",
       "9   GS-11      G    XXXX        8       F         2    202203   77447.0   1.3   \n",
       "10  GS-12      I    XXXX        8       F         2    202203   95320.0   0.6   \n",
       "11  GS-09      F    XXXX        8       F         1    202203   61947.0   0.5   \n",
       "12  GS-11      G    XXXX        8       F         2    202203   74950.0   0.5   \n",
       "13  GS-14      L    XXXX        8       F         1    202203  124764.0  27.4   \n",
       "14  GS-12      J    XXXX        8       F         2    202203  107660.0  12.0   \n",
       "15  GS-15      Q    XXXX        2       F         1    202203  176300.0  22.1   \n",
       "16  ES-**      T    XXXX        2       F         1    202203  203252.0  36.7   \n",
       "17  GS-13      H    XXXX        2       F         1    202203   89337.0  14.0   \n",
       "18  GS-14      N    XXXX        2       F         1    202203  141259.0  24.1   \n",
       "19  GS-15      Q    XXXX        2       F         1    202203  176300.0   2.4   \n",
       "20  GS-13      H    XXXX        2       F         1    202203   81216.0  14.4   \n",
       "21  GS-13      L    XXXX        8       F         1    202203  120618.0  14.6   \n",
       "22  GS-11      F    XXXX        2       F         1    202203   64579.0   9.0   \n",
       "23  GS-13      L    2210        8       F         1    202203  124626.0  19.7   \n",
       "24  GS-14      P    XXXX        2       I         2    202203  164102.0  33.6   \n",
       "25  GS-09      F    XXXX        8       F         1    202203   61227.0  18.4   \n",
       "26  ED-00      J    XXXX        8       I         2    202203  104350.0   1.8   \n",
       "27  GS-14      L    XXXX        8       F         1    202203  121565.0  29.3   \n",
       "28  GS-12      G    XXXX        2       F         1    202203   77407.0  30.9   \n",
       "29  GS-14      N    XXXX        2       F         1    202203  143064.0  18.8   \n",
       "\n",
       "    age_level_code OCCFAM  \n",
       "0              6.0     03  \n",
       "1              9.0     09  \n",
       "2              5.0     09  \n",
       "3              5.0     09  \n",
       "4              6.0     09  \n",
       "5              7.0     09  \n",
       "6              8.0     03  \n",
       "7              5.0     09  \n",
       "8              4.0     09  \n",
       "9              3.0     09  \n",
       "10             5.0     09  \n",
       "11             2.0     05  \n",
       "12             4.0     09  \n",
       "13             7.0     11  \n",
       "14             6.0     10  \n",
       "15             7.0     05  \n",
       "16             9.0     03  \n",
       "17             9.0     16  \n",
       "18            10.0     01  \n",
       "19             7.0     10  \n",
       "20             5.0     16  \n",
       "21             6.0     02  \n",
       "22             9.0     16  \n",
       "23            10.0     22  \n",
       "24             9.0     10  \n",
       "25             7.0     16  \n",
       "26            11.0     01  \n",
       "27             8.0     02  \n",
       "28            10.0     16  \n",
       "29            10.0     03  "
      ]
     },
     "execution_count": 64,
     "metadata": {},
     "output_type": "execute_result"
    }
   ],
   "source": [
    "df_raw4.head(30)"
   ]
  },
  {
   "cell_type": "code",
   "execution_count": 65,
   "id": "07119b5d",
   "metadata": {},
   "outputs": [
    {
     "data": {
      "text/plain": [
       "(2155624, 20)"
      ]
     },
     "execution_count": 65,
     "metadata": {},
     "output_type": "execute_result"
    }
   ],
   "source": [
    "df_raw4.shape"
   ]
  },
  {
   "cell_type": "code",
   "execution_count": 66,
   "id": "629d1199",
   "metadata": {},
   "outputs": [],
   "source": [
    "#Import OCCFAM.csv and set as data dictionary"
   ]
  },
  {
   "cell_type": "code",
   "execution_count": 67,
   "id": "3bba2380",
   "metadata": {},
   "outputs": [],
   "source": [
    "occfam_data = pd.read_csv(os.path.join(path, 'original data', 'OCCFAM.csv'), index_col = False)"
   ]
  },
  {
   "cell_type": "code",
   "execution_count": 68,
   "id": "3a7b3b01",
   "metadata": {},
   "outputs": [
    {
     "data": {
      "text/html": [
       "<div>\n",
       "<style scoped>\n",
       "    .dataframe tbody tr th:only-of-type {\n",
       "        vertical-align: middle;\n",
       "    }\n",
       "\n",
       "    .dataframe tbody tr th {\n",
       "        vertical-align: top;\n",
       "    }\n",
       "\n",
       "    .dataframe thead th {\n",
       "        text-align: right;\n",
       "    }\n",
       "</style>\n",
       "<table border=\"1\" class=\"dataframe\">\n",
       "  <thead>\n",
       "    <tr style=\"text-align: right;\">\n",
       "      <th></th>\n",
       "      <th>OCCFAM</th>\n",
       "      <th>OCCFAM.1</th>\n",
       "    </tr>\n",
       "  </thead>\n",
       "  <tbody>\n",
       "    <tr>\n",
       "      <th>0</th>\n",
       "      <td>00</td>\n",
       "      <td>MISCELLANEOUS OCCUPATIONS</td>\n",
       "    </tr>\n",
       "    <tr>\n",
       "      <th>1</th>\n",
       "      <td>01</td>\n",
       "      <td>SOCIAL SCIENCE, PSYCHOLOGY, AND WELFARE</td>\n",
       "    </tr>\n",
       "    <tr>\n",
       "      <th>2</th>\n",
       "      <td>02</td>\n",
       "      <td>PERSONNEL MGMT &amp; INDUSTRIAL  RELATIONS</td>\n",
       "    </tr>\n",
       "    <tr>\n",
       "      <th>3</th>\n",
       "      <td>03</td>\n",
       "      <td>GENERAL ADMIN, CLERICAL, &amp; OFFICE SVCS</td>\n",
       "    </tr>\n",
       "    <tr>\n",
       "      <th>4</th>\n",
       "      <td>04</td>\n",
       "      <td>NATURAL RESOURCES MGMT &amp; BIO SCI GROUP</td>\n",
       "    </tr>\n",
       "  </tbody>\n",
       "</table>\n",
       "</div>"
      ],
      "text/plain": [
       "  OCCFAM                                 OCCFAM.1\n",
       "0     00                MISCELLANEOUS OCCUPATIONS\n",
       "1     01  SOCIAL SCIENCE, PSYCHOLOGY, AND WELFARE\n",
       "2     02   PERSONNEL MGMT & INDUSTRIAL  RELATIONS\n",
       "3     03   GENERAL ADMIN, CLERICAL, & OFFICE SVCS\n",
       "4     04   NATURAL RESOURCES MGMT & BIO SCI GROUP"
      ]
     },
     "execution_count": 68,
     "metadata": {},
     "output_type": "execute_result"
    }
   ],
   "source": [
    "occfam_data.head()"
   ]
  },
  {
   "cell_type": "code",
   "execution_count": 69,
   "id": "88d5c55b",
   "metadata": {},
   "outputs": [
    {
     "data": {
      "text/plain": [
       "(60, 2)"
      ]
     },
     "execution_count": 69,
     "metadata": {},
     "output_type": "execute_result"
    }
   ],
   "source": [
    "occfam_data.shape"
   ]
  },
  {
   "cell_type": "code",
   "execution_count": 70,
   "id": "33252d24",
   "metadata": {},
   "outputs": [],
   "source": [
    "data_dict_occfam = occfam_data.set_index('OCCFAM').to_dict()['OCCFAM.1']"
   ]
  },
  {
   "cell_type": "code",
   "execution_count": 71,
   "id": "a88310b9",
   "metadata": {},
   "outputs": [],
   "source": [
    "#Change OCCFAM values to OCCFAM.1"
   ]
  },
  {
   "cell_type": "code",
   "execution_count": 72,
   "id": "70eca834",
   "metadata": {},
   "outputs": [],
   "source": [
    "df_raw5 = df_raw4.replace({\"OCCFAM\":data_dict_occfam})"
   ]
  },
  {
   "cell_type": "code",
   "execution_count": 73,
   "id": "e0b8b9ea",
   "metadata": {},
   "outputs": [
    {
     "data": {
      "text/plain": [
       "0      GENERAL ADMIN, CLERICAL, & OFFICE SVCS\n",
       "1                           LEGAL AND KINDRED\n",
       "2                           LEGAL AND KINDRED\n",
       "3                           LEGAL AND KINDRED\n",
       "4                           LEGAL AND KINDRED\n",
       "5                           LEGAL AND KINDRED\n",
       "6      GENERAL ADMIN, CLERICAL, & OFFICE SVCS\n",
       "7                           LEGAL AND KINDRED\n",
       "8                           LEGAL AND KINDRED\n",
       "9                           LEGAL AND KINDRED\n",
       "10                          LEGAL AND KINDRED\n",
       "11                      ACCOUNTING AND BUDGET\n",
       "12                          LEGAL AND KINDRED\n",
       "13                      BUSINESS AND INDUSTRY\n",
       "14                       INFORMATION AND ARTS\n",
       "15                      ACCOUNTING AND BUDGET\n",
       "16     GENERAL ADMIN, CLERICAL, & OFFICE SVCS\n",
       "17        EQUIPMENT, FACILITIES, AND SERVICES\n",
       "18    SOCIAL SCIENCE, PSYCHOLOGY, AND WELFARE\n",
       "19                       INFORMATION AND ARTS\n",
       "Name: OCCFAM, dtype: object"
      ]
     },
     "execution_count": 73,
     "metadata": {},
     "output_type": "execute_result"
    }
   ],
   "source": [
    "df_raw5[\"OCCFAM\"].head(20)"
   ]
  },
  {
   "cell_type": "code",
   "execution_count": 74,
   "id": "4b8ecfe4",
   "metadata": {},
   "outputs": [
    {
     "data": {
      "text/plain": [
       "(2155624, 20)"
      ]
     },
     "execution_count": 74,
     "metadata": {},
     "output_type": "execute_result"
    }
   ],
   "source": [
    "df_raw5.shape"
   ]
  },
  {
   "cell_type": "code",
   "execution_count": 75,
   "id": "e8e3d152",
   "metadata": {},
   "outputs": [],
   "source": [
    "#Reaname OCCFAM"
   ]
  },
  {
   "cell_type": "code",
   "execution_count": 76,
   "id": "a3fc1130",
   "metadata": {},
   "outputs": [],
   "source": [
    "df_raw5.rename(columns = {'OCCFAM':'occupation_family'},inplace = True)"
   ]
  },
  {
   "cell_type": "code",
   "execution_count": 77,
   "id": "267f681d",
   "metadata": {},
   "outputs": [
    {
     "data": {
      "text/plain": [
       "str"
      ]
     },
     "execution_count": 77,
     "metadata": {},
     "output_type": "execute_result"
    }
   ],
   "source": [
    "type('occupation_family')"
   ]
  },
  {
   "cell_type": "code",
   "execution_count": 78,
   "id": "513224fd",
   "metadata": {},
   "outputs": [],
   "source": [
    "#import OCC.csv as data dictionary"
   ]
  },
  {
   "cell_type": "code",
   "execution_count": 79,
   "id": "5b36b250",
   "metadata": {},
   "outputs": [],
   "source": [
    "occ_data = pd.read_csv(os.path.join(path, 'original data', 'OCC.csv'), index_col = False)"
   ]
  },
  {
   "cell_type": "code",
   "execution_count": 80,
   "id": "c5105f09",
   "metadata": {},
   "outputs": [
    {
     "data": {
      "text/html": [
       "<div>\n",
       "<style scoped>\n",
       "    .dataframe tbody tr th:only-of-type {\n",
       "        vertical-align: middle;\n",
       "    }\n",
       "\n",
       "    .dataframe tbody tr th {\n",
       "        vertical-align: top;\n",
       "    }\n",
       "\n",
       "    .dataframe thead th {\n",
       "        text-align: right;\n",
       "    }\n",
       "</style>\n",
       "<table border=\"1\" class=\"dataframe\">\n",
       "  <thead>\n",
       "    <tr style=\"text-align: right;\">\n",
       "      <th></th>\n",
       "      <th>OCC</th>\n",
       "      <th>OCCT</th>\n",
       "    </tr>\n",
       "  </thead>\n",
       "  <tbody>\n",
       "    <tr>\n",
       "      <th>0</th>\n",
       "      <td>0006</td>\n",
       "      <td>CORRECTIONAL INSTITUTION ADMINISTRATION</td>\n",
       "    </tr>\n",
       "    <tr>\n",
       "      <th>1</th>\n",
       "      <td>0007</td>\n",
       "      <td>CORRECTIONAL OFFICER</td>\n",
       "    </tr>\n",
       "    <tr>\n",
       "      <th>2</th>\n",
       "      <td>0017</td>\n",
       "      <td>EXPLOSIVES SAFETY</td>\n",
       "    </tr>\n",
       "    <tr>\n",
       "      <th>3</th>\n",
       "      <td>0018</td>\n",
       "      <td>SAFETY AND OCCUPATIONAL HEALTH MANAGEMENT</td>\n",
       "    </tr>\n",
       "    <tr>\n",
       "      <th>4</th>\n",
       "      <td>0019</td>\n",
       "      <td>SAFETY TECHNICIAN</td>\n",
       "    </tr>\n",
       "  </tbody>\n",
       "</table>\n",
       "</div>"
      ],
      "text/plain": [
       "    OCC                                       OCCT\n",
       "0  0006    CORRECTIONAL INSTITUTION ADMINISTRATION\n",
       "1  0007                       CORRECTIONAL OFFICER\n",
       "2  0017                          EXPLOSIVES SAFETY\n",
       "3  0018  SAFETY AND OCCUPATIONAL HEALTH MANAGEMENT\n",
       "4  0019                          SAFETY TECHNICIAN"
      ]
     },
     "execution_count": 80,
     "metadata": {},
     "output_type": "execute_result"
    }
   ],
   "source": [
    "occ_data.head()"
   ]
  },
  {
   "cell_type": "code",
   "execution_count": 81,
   "id": "4e1c0e50",
   "metadata": {},
   "outputs": [
    {
     "data": {
      "text/plain": [
       "(669, 2)"
      ]
     },
     "execution_count": 81,
     "metadata": {},
     "output_type": "execute_result"
    }
   ],
   "source": [
    "occ_data.shape"
   ]
  },
  {
   "cell_type": "code",
   "execution_count": 82,
   "id": "0defe284",
   "metadata": {},
   "outputs": [],
   "source": [
    "data_dict_occ = occ_data.set_index('OCC').to_dict()['OCCT']"
   ]
  },
  {
   "cell_type": "code",
   "execution_count": 83,
   "id": "c8024b2a",
   "metadata": {},
   "outputs": [],
   "source": [
    "#Change OCC values to OCCT"
   ]
  },
  {
   "cell_type": "code",
   "execution_count": 84,
   "id": "314451e6",
   "metadata": {},
   "outputs": [],
   "source": [
    "df_raw6 = df_raw5.replace({\"OCC\":data_dict_occ})"
   ]
  },
  {
   "cell_type": "code",
   "execution_count": 85,
   "id": "1b021d42",
   "metadata": {},
   "outputs": [
    {
     "data": {
      "text/plain": [
       "0                           PROGRAM MANAGEMENT\n",
       "1                             GENERAL ATTORNEY\n",
       "2                             GENERAL ATTORNEY\n",
       "3                             GENERAL ATTORNEY\n",
       "4                             GENERAL ATTORNEY\n",
       "5                             GENERAL ATTORNEY\n",
       "6     MISCELLANEOUS ADMINISTRATION AND PROGRAM\n",
       "7                             GENERAL ATTORNEY\n",
       "8                             GENERAL ATTORNEY\n",
       "9                             GENERAL ATTORNEY\n",
       "10                            GENERAL ATTORNEY\n",
       "11                             BUDGET ANALYSIS\n",
       "12                                   LAW CLERK\n",
       "13                                 CONTRACTING\n",
       "14                          VISUAL INFORMATION\n",
       "15                        FINANCIAL MANAGEMENT\n",
       "16    MISCELLANEOUS ADMINISTRATION AND PROGRAM\n",
       "17            CEMETERY ADMINISTRATION SERVICES\n",
       "18                                     HISTORY\n",
       "19                              PUBLIC AFFAIRS\n",
       "Name: OCC, dtype: object"
      ]
     },
     "execution_count": 85,
     "metadata": {},
     "output_type": "execute_result"
    }
   ],
   "source": [
    "df_raw6[\"OCC\"].head(20)"
   ]
  },
  {
   "cell_type": "code",
   "execution_count": 86,
   "id": "b73ace39",
   "metadata": {},
   "outputs": [
    {
     "data": {
      "text/plain": [
       "(2155624, 20)"
      ]
     },
     "execution_count": 86,
     "metadata": {},
     "output_type": "execute_result"
    }
   ],
   "source": [
    "df_raw6.shape"
   ]
  },
  {
   "cell_type": "code",
   "execution_count": 87,
   "id": "5bd048bf",
   "metadata": {},
   "outputs": [],
   "source": [
    "#rename OCC and check data type"
   ]
  },
  {
   "cell_type": "code",
   "execution_count": 88,
   "id": "0f69f344",
   "metadata": {},
   "outputs": [],
   "source": [
    "df_raw6.rename(columns = {'OCC':'occupation'},inplace = True)"
   ]
  },
  {
   "cell_type": "code",
   "execution_count": 89,
   "id": "2312dc01",
   "metadata": {},
   "outputs": [
    {
     "data": {
      "text/plain": [
       "str"
      ]
     },
     "execution_count": 89,
     "metadata": {},
     "output_type": "execute_result"
    }
   ],
   "source": [
    "type('occupation')"
   ]
  },
  {
   "cell_type": "markdown",
   "id": "7b7acf69",
   "metadata": {},
   "source": [
    "### 6. Fix PATCO Column"
   ]
  },
  {
   "cell_type": "code",
   "execution_count": 90,
   "id": "90256468",
   "metadata": {},
   "outputs": [],
   "source": [
    "#PATCO represents Occupation Categories abbreviated with numbers\n",
    "#Replace values from PATCO to category names\n",
    "#Rename and make sure it is string data type\n",
    "#Duplicate PATCO column to keep numerical values for analysis"
   ]
  },
  {
   "cell_type": "code",
   "execution_count": 91,
   "id": "2238543d",
   "metadata": {},
   "outputs": [],
   "source": [
    "df_raw6['occupation_code']=df_raw6['PATCO']"
   ]
  },
  {
   "cell_type": "code",
   "execution_count": 92,
   "id": "5d7fd751",
   "metadata": {},
   "outputs": [
    {
     "data": {
      "text/html": [
       "<div>\n",
       "<style scoped>\n",
       "    .dataframe tbody tr th:only-of-type {\n",
       "        vertical-align: middle;\n",
       "    }\n",
       "\n",
       "    .dataframe tbody tr th {\n",
       "        vertical-align: top;\n",
       "    }\n",
       "\n",
       "    .dataframe thead th {\n",
       "        text-align: right;\n",
       "    }\n",
       "</style>\n",
       "<table border=\"1\" class=\"dataframe\">\n",
       "  <thead>\n",
       "    <tr style=\"text-align: right;\">\n",
       "      <th></th>\n",
       "      <th>AGYSUB</th>\n",
       "      <th>LOC</th>\n",
       "      <th>age_level</th>\n",
       "      <th>EDLVL</th>\n",
       "      <th>GSEGRD</th>\n",
       "      <th>years_of_service</th>\n",
       "      <th>occupation</th>\n",
       "      <th>PATCO</th>\n",
       "      <th>PP</th>\n",
       "      <th>PPGRD</th>\n",
       "      <th>...</th>\n",
       "      <th>STEMOCC</th>\n",
       "      <th>SUPERVIS</th>\n",
       "      <th>WORKSCH</th>\n",
       "      <th>WORKSTAT</th>\n",
       "      <th>DATECODE</th>\n",
       "      <th>SALARY</th>\n",
       "      <th>LOS</th>\n",
       "      <th>age_level_code</th>\n",
       "      <th>occupation_family</th>\n",
       "      <th>occupation_code</th>\n",
       "    </tr>\n",
       "  </thead>\n",
       "  <tbody>\n",
       "    <tr>\n",
       "      <th>0</th>\n",
       "      <td>AA00</td>\n",
       "      <td>11</td>\n",
       "      <td>40-44</td>\n",
       "      <td>13</td>\n",
       "      <td>NaN</td>\n",
       "      <td>15 - 19</td>\n",
       "      <td>PROGRAM MANAGEMENT</td>\n",
       "      <td>2</td>\n",
       "      <td>ES</td>\n",
       "      <td>ES-**</td>\n",
       "      <td>...</td>\n",
       "      <td>XXXX</td>\n",
       "      <td>2</td>\n",
       "      <td>F</td>\n",
       "      <td>1</td>\n",
       "      <td>202203</td>\n",
       "      <td>192500.0</td>\n",
       "      <td>18.8</td>\n",
       "      <td>6.0</td>\n",
       "      <td>GENERAL ADMIN, CLERICAL, &amp; OFFICE SVCS</td>\n",
       "      <td>2</td>\n",
       "    </tr>\n",
       "    <tr>\n",
       "      <th>1</th>\n",
       "      <td>AA00</td>\n",
       "      <td>11</td>\n",
       "      <td>55-59</td>\n",
       "      <td>15</td>\n",
       "      <td>NaN</td>\n",
       "      <td>25 - 29</td>\n",
       "      <td>GENERAL ATTORNEY</td>\n",
       "      <td>1</td>\n",
       "      <td>ES</td>\n",
       "      <td>ES-**</td>\n",
       "      <td>...</td>\n",
       "      <td>XXXX</td>\n",
       "      <td>2</td>\n",
       "      <td>F</td>\n",
       "      <td>1</td>\n",
       "      <td>202203</td>\n",
       "      <td>187000.0</td>\n",
       "      <td>29.2</td>\n",
       "      <td>9.0</td>\n",
       "      <td>LEGAL AND KINDRED</td>\n",
       "      <td>1</td>\n",
       "    </tr>\n",
       "    <tr>\n",
       "      <th>2</th>\n",
       "      <td>AA00</td>\n",
       "      <td>40</td>\n",
       "      <td>35-39</td>\n",
       "      <td>15</td>\n",
       "      <td>15.0</td>\n",
       "      <td>10 - 14</td>\n",
       "      <td>GENERAL ATTORNEY</td>\n",
       "      <td>1</td>\n",
       "      <td>99</td>\n",
       "      <td>GS-15</td>\n",
       "      <td>...</td>\n",
       "      <td>XXXX</td>\n",
       "      <td>2</td>\n",
       "      <td>F</td>\n",
       "      <td>1</td>\n",
       "      <td>202203</td>\n",
       "      <td>161786.0</td>\n",
       "      <td>12.5</td>\n",
       "      <td>5.0</td>\n",
       "      <td>LEGAL AND KINDRED</td>\n",
       "      <td>1</td>\n",
       "    </tr>\n",
       "    <tr>\n",
       "      <th>3</th>\n",
       "      <td>AA00</td>\n",
       "      <td>11</td>\n",
       "      <td>35-39</td>\n",
       "      <td>15</td>\n",
       "      <td>15.0</td>\n",
       "      <td>10 - 14</td>\n",
       "      <td>GENERAL ATTORNEY</td>\n",
       "      <td>1</td>\n",
       "      <td>99</td>\n",
       "      <td>GS-15</td>\n",
       "      <td>...</td>\n",
       "      <td>XXXX</td>\n",
       "      <td>8</td>\n",
       "      <td>F</td>\n",
       "      <td>1</td>\n",
       "      <td>202203</td>\n",
       "      <td>158383.0</td>\n",
       "      <td>10.5</td>\n",
       "      <td>5.0</td>\n",
       "      <td>LEGAL AND KINDRED</td>\n",
       "      <td>1</td>\n",
       "    </tr>\n",
       "    <tr>\n",
       "      <th>4</th>\n",
       "      <td>AA00</td>\n",
       "      <td>11</td>\n",
       "      <td>40-44</td>\n",
       "      <td>15</td>\n",
       "      <td>13.0</td>\n",
       "      <td>10 - 14</td>\n",
       "      <td>GENERAL ATTORNEY</td>\n",
       "      <td>1</td>\n",
       "      <td>99</td>\n",
       "      <td>GS-13</td>\n",
       "      <td>...</td>\n",
       "      <td>XXXX</td>\n",
       "      <td>8</td>\n",
       "      <td>F</td>\n",
       "      <td>1</td>\n",
       "      <td>202203</td>\n",
       "      <td>121065.0</td>\n",
       "      <td>13.4</td>\n",
       "      <td>6.0</td>\n",
       "      <td>LEGAL AND KINDRED</td>\n",
       "      <td>1</td>\n",
       "    </tr>\n",
       "  </tbody>\n",
       "</table>\n",
       "<p>5 rows × 21 columns</p>\n",
       "</div>"
      ],
      "text/plain": [
       "  AGYSUB LOC age_level EDLVL GSEGRD years_of_service          occupation  \\\n",
       "0   AA00  11     40-44    13    NaN          15 - 19  PROGRAM MANAGEMENT   \n",
       "1   AA00  11     55-59    15    NaN          25 - 29    GENERAL ATTORNEY   \n",
       "2   AA00  40     35-39    15   15.0          10 - 14    GENERAL ATTORNEY   \n",
       "3   AA00  11     35-39    15   15.0          10 - 14    GENERAL ATTORNEY   \n",
       "4   AA00  11     40-44    15   13.0          10 - 14    GENERAL ATTORNEY   \n",
       "\n",
       "   PATCO  PP  PPGRD  ... STEMOCC SUPERVIS WORKSCH WORKSTAT  DATECODE  \\\n",
       "0      2  ES  ES-**  ...    XXXX        2       F        1    202203   \n",
       "1      1  ES  ES-**  ...    XXXX        2       F        1    202203   \n",
       "2      1  99  GS-15  ...    XXXX        2       F        1    202203   \n",
       "3      1  99  GS-15  ...    XXXX        8       F        1    202203   \n",
       "4      1  99  GS-13  ...    XXXX        8       F        1    202203   \n",
       "\n",
       "     SALARY   LOS  age_level_code                       occupation_family  \\\n",
       "0  192500.0  18.8             6.0  GENERAL ADMIN, CLERICAL, & OFFICE SVCS   \n",
       "1  187000.0  29.2             9.0                       LEGAL AND KINDRED   \n",
       "2  161786.0  12.5             5.0                       LEGAL AND KINDRED   \n",
       "3  158383.0  10.5             5.0                       LEGAL AND KINDRED   \n",
       "4  121065.0  13.4             6.0                       LEGAL AND KINDRED   \n",
       "\n",
       "  occupation_code  \n",
       "0               2  \n",
       "1               1  \n",
       "2               1  \n",
       "3               1  \n",
       "4               1  \n",
       "\n",
       "[5 rows x 21 columns]"
      ]
     },
     "execution_count": 92,
     "metadata": {},
     "output_type": "execute_result"
    }
   ],
   "source": [
    "df_raw6.head()"
   ]
  },
  {
   "cell_type": "code",
   "execution_count": 93,
   "id": "2f5281cb",
   "metadata": {},
   "outputs": [
    {
     "data": {
      "text/plain": [
       "(2155624, 21)"
      ]
     },
     "execution_count": 93,
     "metadata": {},
     "output_type": "execute_result"
    }
   ],
   "source": [
    "df_raw6.shape"
   ]
  },
  {
   "cell_type": "code",
   "execution_count": 94,
   "id": "48716e9a",
   "metadata": {},
   "outputs": [],
   "source": [
    "#import PATCO.csv as data dictionary"
   ]
  },
  {
   "cell_type": "code",
   "execution_count": 95,
   "id": "a090e982",
   "metadata": {},
   "outputs": [],
   "source": [
    "patco_data = pd.read_csv(os.path.join(path, 'original data', 'PATCO.csv'), index_col = False)"
   ]
  },
  {
   "cell_type": "code",
   "execution_count": 96,
   "id": "2f3116da",
   "metadata": {},
   "outputs": [
    {
     "data": {
      "text/html": [
       "<div>\n",
       "<style scoped>\n",
       "    .dataframe tbody tr th:only-of-type {\n",
       "        vertical-align: middle;\n",
       "    }\n",
       "\n",
       "    .dataframe tbody tr th {\n",
       "        vertical-align: top;\n",
       "    }\n",
       "\n",
       "    .dataframe thead th {\n",
       "        text-align: right;\n",
       "    }\n",
       "</style>\n",
       "<table border=\"1\" class=\"dataframe\">\n",
       "  <thead>\n",
       "    <tr style=\"text-align: right;\">\n",
       "      <th></th>\n",
       "      <th>PATCO</th>\n",
       "      <th>PATCOT</th>\n",
       "    </tr>\n",
       "  </thead>\n",
       "  <tbody>\n",
       "    <tr>\n",
       "      <th>0</th>\n",
       "      <td>1</td>\n",
       "      <td>Professional</td>\n",
       "    </tr>\n",
       "    <tr>\n",
       "      <th>1</th>\n",
       "      <td>2</td>\n",
       "      <td>Administrative</td>\n",
       "    </tr>\n",
       "    <tr>\n",
       "      <th>2</th>\n",
       "      <td>3</td>\n",
       "      <td>Technical</td>\n",
       "    </tr>\n",
       "    <tr>\n",
       "      <th>3</th>\n",
       "      <td>4</td>\n",
       "      <td>Clerical</td>\n",
       "    </tr>\n",
       "    <tr>\n",
       "      <th>4</th>\n",
       "      <td>5</td>\n",
       "      <td>Other White Collar</td>\n",
       "    </tr>\n",
       "  </tbody>\n",
       "</table>\n",
       "</div>"
      ],
      "text/plain": [
       "   PATCO              PATCOT\n",
       "0      1        Professional\n",
       "1      2      Administrative\n",
       "2      3           Technical\n",
       "3      4            Clerical\n",
       "4      5  Other White Collar"
      ]
     },
     "execution_count": 96,
     "metadata": {},
     "output_type": "execute_result"
    }
   ],
   "source": [
    "patco_data.head()"
   ]
  },
  {
   "cell_type": "code",
   "execution_count": 97,
   "id": "054fecfb",
   "metadata": {},
   "outputs": [
    {
     "data": {
      "text/plain": [
       "(7, 2)"
      ]
     },
     "execution_count": 97,
     "metadata": {},
     "output_type": "execute_result"
    }
   ],
   "source": [
    "patco_data.shape"
   ]
  },
  {
   "cell_type": "code",
   "execution_count": 98,
   "id": "77b38396",
   "metadata": {},
   "outputs": [],
   "source": [
    "data_dict_patco = patco_data.set_index('PATCO').to_dict()['PATCOT']"
   ]
  },
  {
   "cell_type": "code",
   "execution_count": 99,
   "id": "42c557bb",
   "metadata": {},
   "outputs": [],
   "source": [
    "#Change PATCO values to PATCOT"
   ]
  },
  {
   "cell_type": "code",
   "execution_count": 100,
   "id": "061917d3",
   "metadata": {},
   "outputs": [],
   "source": [
    "df_raw7 = df_raw6.replace({\"PATCO\":data_dict_patco})"
   ]
  },
  {
   "cell_type": "code",
   "execution_count": 101,
   "id": "42c3c866",
   "metadata": {},
   "outputs": [
    {
     "data": {
      "text/plain": [
       "0     Administrative\n",
       "1       Professional\n",
       "2       Professional\n",
       "3       Professional\n",
       "4       Professional\n",
       "5       Professional\n",
       "6     Administrative\n",
       "7       Professional\n",
       "8       Professional\n",
       "9       Professional\n",
       "10      Professional\n",
       "11    Administrative\n",
       "12      Professional\n",
       "13      Professional\n",
       "14    Administrative\n",
       "15    Administrative\n",
       "16    Administrative\n",
       "17    Administrative\n",
       "18      Professional\n",
       "19    Administrative\n",
       "Name: PATCO, dtype: object"
      ]
     },
     "execution_count": 101,
     "metadata": {},
     "output_type": "execute_result"
    }
   ],
   "source": [
    "df_raw7[\"PATCO\"].head(20)"
   ]
  },
  {
   "cell_type": "code",
   "execution_count": 102,
   "id": "ff74322e",
   "metadata": {},
   "outputs": [
    {
     "data": {
      "text/plain": [
       "(2155624, 21)"
      ]
     },
     "execution_count": 102,
     "metadata": {},
     "output_type": "execute_result"
    }
   ],
   "source": [
    "df_raw7.shape"
   ]
  },
  {
   "cell_type": "code",
   "execution_count": 103,
   "id": "fbc35efb",
   "metadata": {},
   "outputs": [],
   "source": [
    "#rename PATCO and check data type"
   ]
  },
  {
   "cell_type": "code",
   "execution_count": 104,
   "id": "6e0cc089",
   "metadata": {},
   "outputs": [],
   "source": [
    "df_raw7.rename(columns = {'PATCO':'occupation_category'},inplace = True)"
   ]
  },
  {
   "cell_type": "code",
   "execution_count": 105,
   "id": "cf475789",
   "metadata": {},
   "outputs": [
    {
     "data": {
      "text/plain": [
       "str"
      ]
     },
     "execution_count": 105,
     "metadata": {},
     "output_type": "execute_result"
    }
   ],
   "source": [
    "type('occupation_category')"
   ]
  },
  {
   "cell_type": "code",
   "execution_count": 106,
   "id": "799a700e",
   "metadata": {},
   "outputs": [
    {
     "data": {
      "text/plain": [
       "str"
      ]
     },
     "execution_count": 106,
     "metadata": {},
     "output_type": "execute_result"
    }
   ],
   "source": [
    "#check data type of occupation_code\n",
    "type('occupation_code')"
   ]
  },
  {
   "cell_type": "code",
   "execution_count": 107,
   "id": "018b7193",
   "metadata": {},
   "outputs": [],
   "source": [
    "#change to float\n",
    "df_raw7['occupation_code']=df_raw7['occupation_code'].astype('float')"
   ]
  },
  {
   "cell_type": "code",
   "execution_count": 108,
   "id": "ffbf54f2",
   "metadata": {},
   "outputs": [
    {
     "name": "stdout",
     "output_type": "stream",
     "text": [
      "<class 'pandas.core.frame.DataFrame'>\n",
      "RangeIndex: 2155624 entries, 0 to 2155623\n",
      "Data columns (total 21 columns):\n",
      " #   Column               Dtype  \n",
      "---  ------               -----  \n",
      " 0   AGYSUB               object \n",
      " 1   LOC                  object \n",
      " 2   age_level            object \n",
      " 3   EDLVL                object \n",
      " 4   GSEGRD               object \n",
      " 5   years_of_service     object \n",
      " 6   occupation           object \n",
      " 7   occupation_category  object \n",
      " 8   PP                   object \n",
      " 9   PPGRD                object \n",
      " 10  SALLVL               object \n",
      " 11  STEMOCC              object \n",
      " 12  SUPERVIS             object \n",
      " 13  WORKSCH              object \n",
      " 14  WORKSTAT             int64  \n",
      " 15  DATECODE             int64  \n",
      " 16  SALARY               float64\n",
      " 17  LOS                  float64\n",
      " 18  age_level_code       float64\n",
      " 19  occupation_family    object \n",
      " 20  occupation_code      float64\n",
      "dtypes: float64(4), int64(2), object(15)\n",
      "memory usage: 345.4+ MB\n"
     ]
    }
   ],
   "source": [
    "df_raw7.info()"
   ]
  },
  {
   "cell_type": "code",
   "execution_count": 109,
   "id": "3b11d120",
   "metadata": {},
   "outputs": [
    {
     "data": {
      "text/plain": [
       "(2155624, 21)"
      ]
     },
     "execution_count": 109,
     "metadata": {},
     "output_type": "execute_result"
    }
   ],
   "source": [
    "df_raw7.shape"
   ]
  },
  {
   "cell_type": "code",
   "execution_count": 110,
   "id": "3af5205d",
   "metadata": {},
   "outputs": [
    {
     "data": {
      "text/plain": [
       "2.0    839221\n",
       "1.0    604976\n",
       "3.0    344179\n",
       "6.0    180734\n",
       "4.0    102011\n",
       "5.0     83003\n",
       "9.0      1500\n",
       "Name: occupation_code, dtype: int64"
      ]
     },
     "execution_count": 110,
     "metadata": {},
     "output_type": "execute_result"
    }
   ],
   "source": [
    "df_raw7.occupation_code.value_counts(dropna=False)"
   ]
  },
  {
   "cell_type": "markdown",
   "id": "a0f6cde7",
   "metadata": {},
   "source": [
    "### 7. Fix AGYSUB Column"
   ]
  },
  {
   "cell_type": "code",
   "execution_count": 111,
   "id": "9a342188",
   "metadata": {},
   "outputs": [],
   "source": [
    "#Agency is 4 digit code, first 2 is Agency, total 4 is distinct Sub Agency name\n",
    "#Divide out first 2 digits into new column nameed 'AGY'\n",
    "#Replace number values for both values AGY & AGYSUB\n",
    "#Rename AGYSUB to sub_agency and AGY to agency and make sure both are string data type"
   ]
  },
  {
   "cell_type": "code",
   "execution_count": 112,
   "id": "ed1be9ed",
   "metadata": {},
   "outputs": [],
   "source": [
    "#duplicate column, cut off last 2 digits"
   ]
  },
  {
   "cell_type": "code",
   "execution_count": 113,
   "id": "ee7fd05b",
   "metadata": {},
   "outputs": [],
   "source": [
    "df_raw7['AGY'] = df_raw7.loc[:, 'AGYSUB']"
   ]
  },
  {
   "cell_type": "code",
   "execution_count": 114,
   "id": "69d31ffb",
   "metadata": {},
   "outputs": [
    {
     "data": {
      "text/html": [
       "<div>\n",
       "<style scoped>\n",
       "    .dataframe tbody tr th:only-of-type {\n",
       "        vertical-align: middle;\n",
       "    }\n",
       "\n",
       "    .dataframe tbody tr th {\n",
       "        vertical-align: top;\n",
       "    }\n",
       "\n",
       "    .dataframe thead th {\n",
       "        text-align: right;\n",
       "    }\n",
       "</style>\n",
       "<table border=\"1\" class=\"dataframe\">\n",
       "  <thead>\n",
       "    <tr style=\"text-align: right;\">\n",
       "      <th></th>\n",
       "      <th>AGYSUB</th>\n",
       "      <th>LOC</th>\n",
       "      <th>age_level</th>\n",
       "      <th>EDLVL</th>\n",
       "      <th>GSEGRD</th>\n",
       "      <th>years_of_service</th>\n",
       "      <th>occupation</th>\n",
       "      <th>occupation_category</th>\n",
       "      <th>PP</th>\n",
       "      <th>PPGRD</th>\n",
       "      <th>...</th>\n",
       "      <th>SUPERVIS</th>\n",
       "      <th>WORKSCH</th>\n",
       "      <th>WORKSTAT</th>\n",
       "      <th>DATECODE</th>\n",
       "      <th>SALARY</th>\n",
       "      <th>LOS</th>\n",
       "      <th>age_level_code</th>\n",
       "      <th>occupation_family</th>\n",
       "      <th>occupation_code</th>\n",
       "      <th>AGY</th>\n",
       "    </tr>\n",
       "  </thead>\n",
       "  <tbody>\n",
       "    <tr>\n",
       "      <th>0</th>\n",
       "      <td>AA00</td>\n",
       "      <td>11</td>\n",
       "      <td>40-44</td>\n",
       "      <td>13</td>\n",
       "      <td>NaN</td>\n",
       "      <td>15 - 19</td>\n",
       "      <td>PROGRAM MANAGEMENT</td>\n",
       "      <td>Administrative</td>\n",
       "      <td>ES</td>\n",
       "      <td>ES-**</td>\n",
       "      <td>...</td>\n",
       "      <td>2</td>\n",
       "      <td>F</td>\n",
       "      <td>1</td>\n",
       "      <td>202203</td>\n",
       "      <td>192500.0</td>\n",
       "      <td>18.8</td>\n",
       "      <td>6.0</td>\n",
       "      <td>GENERAL ADMIN, CLERICAL, &amp; OFFICE SVCS</td>\n",
       "      <td>2.0</td>\n",
       "      <td>AA00</td>\n",
       "    </tr>\n",
       "    <tr>\n",
       "      <th>1</th>\n",
       "      <td>AA00</td>\n",
       "      <td>11</td>\n",
       "      <td>55-59</td>\n",
       "      <td>15</td>\n",
       "      <td>NaN</td>\n",
       "      <td>25 - 29</td>\n",
       "      <td>GENERAL ATTORNEY</td>\n",
       "      <td>Professional</td>\n",
       "      <td>ES</td>\n",
       "      <td>ES-**</td>\n",
       "      <td>...</td>\n",
       "      <td>2</td>\n",
       "      <td>F</td>\n",
       "      <td>1</td>\n",
       "      <td>202203</td>\n",
       "      <td>187000.0</td>\n",
       "      <td>29.2</td>\n",
       "      <td>9.0</td>\n",
       "      <td>LEGAL AND KINDRED</td>\n",
       "      <td>1.0</td>\n",
       "      <td>AA00</td>\n",
       "    </tr>\n",
       "    <tr>\n",
       "      <th>2</th>\n",
       "      <td>AA00</td>\n",
       "      <td>40</td>\n",
       "      <td>35-39</td>\n",
       "      <td>15</td>\n",
       "      <td>15.0</td>\n",
       "      <td>10 - 14</td>\n",
       "      <td>GENERAL ATTORNEY</td>\n",
       "      <td>Professional</td>\n",
       "      <td>99</td>\n",
       "      <td>GS-15</td>\n",
       "      <td>...</td>\n",
       "      <td>2</td>\n",
       "      <td>F</td>\n",
       "      <td>1</td>\n",
       "      <td>202203</td>\n",
       "      <td>161786.0</td>\n",
       "      <td>12.5</td>\n",
       "      <td>5.0</td>\n",
       "      <td>LEGAL AND KINDRED</td>\n",
       "      <td>1.0</td>\n",
       "      <td>AA00</td>\n",
       "    </tr>\n",
       "    <tr>\n",
       "      <th>3</th>\n",
       "      <td>AA00</td>\n",
       "      <td>11</td>\n",
       "      <td>35-39</td>\n",
       "      <td>15</td>\n",
       "      <td>15.0</td>\n",
       "      <td>10 - 14</td>\n",
       "      <td>GENERAL ATTORNEY</td>\n",
       "      <td>Professional</td>\n",
       "      <td>99</td>\n",
       "      <td>GS-15</td>\n",
       "      <td>...</td>\n",
       "      <td>8</td>\n",
       "      <td>F</td>\n",
       "      <td>1</td>\n",
       "      <td>202203</td>\n",
       "      <td>158383.0</td>\n",
       "      <td>10.5</td>\n",
       "      <td>5.0</td>\n",
       "      <td>LEGAL AND KINDRED</td>\n",
       "      <td>1.0</td>\n",
       "      <td>AA00</td>\n",
       "    </tr>\n",
       "    <tr>\n",
       "      <th>4</th>\n",
       "      <td>AA00</td>\n",
       "      <td>11</td>\n",
       "      <td>40-44</td>\n",
       "      <td>15</td>\n",
       "      <td>13.0</td>\n",
       "      <td>10 - 14</td>\n",
       "      <td>GENERAL ATTORNEY</td>\n",
       "      <td>Professional</td>\n",
       "      <td>99</td>\n",
       "      <td>GS-13</td>\n",
       "      <td>...</td>\n",
       "      <td>8</td>\n",
       "      <td>F</td>\n",
       "      <td>1</td>\n",
       "      <td>202203</td>\n",
       "      <td>121065.0</td>\n",
       "      <td>13.4</td>\n",
       "      <td>6.0</td>\n",
       "      <td>LEGAL AND KINDRED</td>\n",
       "      <td>1.0</td>\n",
       "      <td>AA00</td>\n",
       "    </tr>\n",
       "  </tbody>\n",
       "</table>\n",
       "<p>5 rows × 22 columns</p>\n",
       "</div>"
      ],
      "text/plain": [
       "  AGYSUB LOC age_level EDLVL GSEGRD years_of_service          occupation  \\\n",
       "0   AA00  11     40-44    13    NaN          15 - 19  PROGRAM MANAGEMENT   \n",
       "1   AA00  11     55-59    15    NaN          25 - 29    GENERAL ATTORNEY   \n",
       "2   AA00  40     35-39    15   15.0          10 - 14    GENERAL ATTORNEY   \n",
       "3   AA00  11     35-39    15   15.0          10 - 14    GENERAL ATTORNEY   \n",
       "4   AA00  11     40-44    15   13.0          10 - 14    GENERAL ATTORNEY   \n",
       "\n",
       "  occupation_category  PP  PPGRD  ... SUPERVIS WORKSCH WORKSTAT DATECODE  \\\n",
       "0      Administrative  ES  ES-**  ...        2       F        1   202203   \n",
       "1        Professional  ES  ES-**  ...        2       F        1   202203   \n",
       "2        Professional  99  GS-15  ...        2       F        1   202203   \n",
       "3        Professional  99  GS-15  ...        8       F        1   202203   \n",
       "4        Professional  99  GS-13  ...        8       F        1   202203   \n",
       "\n",
       "     SALARY   LOS  age_level_code                       occupation_family  \\\n",
       "0  192500.0  18.8             6.0  GENERAL ADMIN, CLERICAL, & OFFICE SVCS   \n",
       "1  187000.0  29.2             9.0                       LEGAL AND KINDRED   \n",
       "2  161786.0  12.5             5.0                       LEGAL AND KINDRED   \n",
       "3  158383.0  10.5             5.0                       LEGAL AND KINDRED   \n",
       "4  121065.0  13.4             6.0                       LEGAL AND KINDRED   \n",
       "\n",
       "   occupation_code   AGY  \n",
       "0              2.0  AA00  \n",
       "1              1.0  AA00  \n",
       "2              1.0  AA00  \n",
       "3              1.0  AA00  \n",
       "4              1.0  AA00  \n",
       "\n",
       "[5 rows x 22 columns]"
      ]
     },
     "execution_count": 114,
     "metadata": {},
     "output_type": "execute_result"
    }
   ],
   "source": [
    "df_raw7.head()"
   ]
  },
  {
   "cell_type": "code",
   "execution_count": 115,
   "id": "ef579978",
   "metadata": {},
   "outputs": [],
   "source": [
    "df_raw7['AGY'] = df_raw7['AGYSUB'].str[:2]"
   ]
  },
  {
   "cell_type": "code",
   "execution_count": 116,
   "id": "8851a787",
   "metadata": {},
   "outputs": [
    {
     "data": {
      "text/plain": [
       "0    AA\n",
       "1    AA\n",
       "2    AA\n",
       "3    AA\n",
       "4    AA\n",
       "Name: AGY, dtype: object"
      ]
     },
     "execution_count": 116,
     "metadata": {},
     "output_type": "execute_result"
    }
   ],
   "source": [
    "df_raw7['AGY'].head()"
   ]
  },
  {
   "cell_type": "code",
   "execution_count": 117,
   "id": "e7336641",
   "metadata": {},
   "outputs": [
    {
     "data": {
      "text/plain": [
       "0     AA\n",
       "1     AA\n",
       "2     AA\n",
       "3     AA\n",
       "4     AA\n",
       "5     AA\n",
       "6     AA\n",
       "7     AA\n",
       "8     AA\n",
       "9     AA\n",
       "10    AA\n",
       "11    AA\n",
       "12    AA\n",
       "13    AB\n",
       "14    AB\n",
       "15    AB\n",
       "16    AB\n",
       "17    AB\n",
       "18    AB\n",
       "19    AB\n",
       "Name: AGY, dtype: object"
      ]
     },
     "execution_count": 117,
     "metadata": {},
     "output_type": "execute_result"
    }
   ],
   "source": [
    "df_raw7['AGY'].head(20)"
   ]
  },
  {
   "cell_type": "code",
   "execution_count": 118,
   "id": "25c105bc",
   "metadata": {},
   "outputs": [
    {
     "data": {
      "text/plain": [
       "(2155624, 22)"
      ]
     },
     "execution_count": 118,
     "metadata": {},
     "output_type": "execute_result"
    }
   ],
   "source": [
    "df_raw7.shape"
   ]
  },
  {
   "cell_type": "code",
   "execution_count": 119,
   "id": "ef490ed1",
   "metadata": {},
   "outputs": [],
   "source": [
    "#Import AGY.csv and set as data dictionary"
   ]
  },
  {
   "cell_type": "code",
   "execution_count": 120,
   "id": "c58e9f23",
   "metadata": {},
   "outputs": [],
   "source": [
    "agy_data = pd.read_csv(os.path.join(path, 'original data', 'AGY.csv'), index_col = False)"
   ]
  },
  {
   "cell_type": "code",
   "execution_count": 121,
   "id": "1b7fbf4b",
   "metadata": {},
   "outputs": [
    {
     "data": {
      "text/html": [
       "<div>\n",
       "<style scoped>\n",
       "    .dataframe tbody tr th:only-of-type {\n",
       "        vertical-align: middle;\n",
       "    }\n",
       "\n",
       "    .dataframe tbody tr th {\n",
       "        vertical-align: top;\n",
       "    }\n",
       "\n",
       "    .dataframe thead th {\n",
       "        text-align: right;\n",
       "    }\n",
       "</style>\n",
       "<table border=\"1\" class=\"dataframe\">\n",
       "  <thead>\n",
       "    <tr style=\"text-align: right;\">\n",
       "      <th></th>\n",
       "      <th>AGY</th>\n",
       "      <th>AGYT</th>\n",
       "    </tr>\n",
       "  </thead>\n",
       "  <tbody>\n",
       "    <tr>\n",
       "      <th>0</th>\n",
       "      <td>AF</td>\n",
       "      <td>DEPARTMENT OF THE AIR FORCE</td>\n",
       "    </tr>\n",
       "    <tr>\n",
       "      <th>1</th>\n",
       "      <td>AG</td>\n",
       "      <td>DEPARTMENT OF AGRICULTURE</td>\n",
       "    </tr>\n",
       "    <tr>\n",
       "      <th>2</th>\n",
       "      <td>AR</td>\n",
       "      <td>DEPARTMENT OF THE ARMY</td>\n",
       "    </tr>\n",
       "    <tr>\n",
       "      <th>3</th>\n",
       "      <td>CM</td>\n",
       "      <td>DEPARTMENT OF COMMERCE</td>\n",
       "    </tr>\n",
       "    <tr>\n",
       "      <th>4</th>\n",
       "      <td>DD</td>\n",
       "      <td>DEPARTMENT OF DEFENSE</td>\n",
       "    </tr>\n",
       "  </tbody>\n",
       "</table>\n",
       "</div>"
      ],
      "text/plain": [
       "  AGY                         AGYT\n",
       "0  AF  DEPARTMENT OF THE AIR FORCE\n",
       "1  AG    DEPARTMENT OF AGRICULTURE\n",
       "2  AR       DEPARTMENT OF THE ARMY\n",
       "3  CM       DEPARTMENT OF COMMERCE\n",
       "4  DD        DEPARTMENT OF DEFENSE"
      ]
     },
     "execution_count": 121,
     "metadata": {},
     "output_type": "execute_result"
    }
   ],
   "source": [
    "agy_data.head()"
   ]
  },
  {
   "cell_type": "code",
   "execution_count": 122,
   "id": "92637739",
   "metadata": {},
   "outputs": [
    {
     "data": {
      "text/plain": [
       "(130, 2)"
      ]
     },
     "execution_count": 122,
     "metadata": {},
     "output_type": "execute_result"
    }
   ],
   "source": [
    "agy_data.shape"
   ]
  },
  {
   "cell_type": "code",
   "execution_count": 123,
   "id": "12941f7b",
   "metadata": {},
   "outputs": [],
   "source": [
    "data_dict_agy = agy_data.set_index('AGY').to_dict()['AGYT']"
   ]
  },
  {
   "cell_type": "code",
   "execution_count": 124,
   "id": "1f210557",
   "metadata": {},
   "outputs": [],
   "source": [
    "#Change AGY values to AGYT"
   ]
  },
  {
   "cell_type": "code",
   "execution_count": 125,
   "id": "d4db2c1b",
   "metadata": {},
   "outputs": [],
   "source": [
    "df_raw8 = df_raw7.replace({\"AGY\":data_dict_agy})"
   ]
  },
  {
   "cell_type": "code",
   "execution_count": 126,
   "id": "19d54f15",
   "metadata": {},
   "outputs": [
    {
     "data": {
      "text/plain": [
       "0     ADMINISTRATIVE CONFERENCE OF THE UNITED STATES\n",
       "1     ADMINISTRATIVE CONFERENCE OF THE UNITED STATES\n",
       "2     ADMINISTRATIVE CONFERENCE OF THE UNITED STATES\n",
       "3     ADMINISTRATIVE CONFERENCE OF THE UNITED STATES\n",
       "4     ADMINISTRATIVE CONFERENCE OF THE UNITED STATES\n",
       "5     ADMINISTRATIVE CONFERENCE OF THE UNITED STATES\n",
       "6     ADMINISTRATIVE CONFERENCE OF THE UNITED STATES\n",
       "7     ADMINISTRATIVE CONFERENCE OF THE UNITED STATES\n",
       "8     ADMINISTRATIVE CONFERENCE OF THE UNITED STATES\n",
       "9     ADMINISTRATIVE CONFERENCE OF THE UNITED STATES\n",
       "10    ADMINISTRATIVE CONFERENCE OF THE UNITED STATES\n",
       "11    ADMINISTRATIVE CONFERENCE OF THE UNITED STATES\n",
       "12    ADMINISTRATIVE CONFERENCE OF THE UNITED STATES\n",
       "13              AMERICAN BATTLE MONUMENTS COMMISSION\n",
       "14              AMERICAN BATTLE MONUMENTS COMMISSION\n",
       "15              AMERICAN BATTLE MONUMENTS COMMISSION\n",
       "16              AMERICAN BATTLE MONUMENTS COMMISSION\n",
       "17              AMERICAN BATTLE MONUMENTS COMMISSION\n",
       "18              AMERICAN BATTLE MONUMENTS COMMISSION\n",
       "19              AMERICAN BATTLE MONUMENTS COMMISSION\n",
       "Name: AGY, dtype: object"
      ]
     },
     "execution_count": 126,
     "metadata": {},
     "output_type": "execute_result"
    }
   ],
   "source": [
    "df_raw8[\"AGY\"].head(20)"
   ]
  },
  {
   "cell_type": "code",
   "execution_count": 127,
   "id": "0eed6530",
   "metadata": {},
   "outputs": [
    {
     "data": {
      "text/plain": [
       "(2155624, 22)"
      ]
     },
     "execution_count": 127,
     "metadata": {},
     "output_type": "execute_result"
    }
   ],
   "source": [
    "df_raw8.shape"
   ]
  },
  {
   "cell_type": "code",
   "execution_count": 128,
   "id": "ee9d1d68",
   "metadata": {},
   "outputs": [],
   "source": [
    "#rename AGY and check data type"
   ]
  },
  {
   "cell_type": "code",
   "execution_count": 129,
   "id": "ff901b2c",
   "metadata": {},
   "outputs": [],
   "source": [
    "df_raw8.rename(columns = {'AGY':'agency'},inplace = True)"
   ]
  },
  {
   "cell_type": "code",
   "execution_count": 130,
   "id": "2def3375",
   "metadata": {},
   "outputs": [
    {
     "data": {
      "text/plain": [
       "str"
      ]
     },
     "execution_count": 130,
     "metadata": {},
     "output_type": "execute_result"
    }
   ],
   "source": [
    "type('agency')"
   ]
  },
  {
   "cell_type": "code",
   "execution_count": 131,
   "id": "51e443dc",
   "metadata": {},
   "outputs": [],
   "source": [
    "#Import AGYSUB.csv and set as data dictionary"
   ]
  },
  {
   "cell_type": "code",
   "execution_count": 132,
   "id": "0768a1cf",
   "metadata": {},
   "outputs": [],
   "source": [
    "agysub_data = pd.read_csv(os.path.join(path, 'original data', 'AGYSUB.csv'), index_col = False)"
   ]
  },
  {
   "cell_type": "code",
   "execution_count": 133,
   "id": "72122ff8",
   "metadata": {},
   "outputs": [
    {
     "data": {
      "text/html": [
       "<div>\n",
       "<style scoped>\n",
       "    .dataframe tbody tr th:only-of-type {\n",
       "        vertical-align: middle;\n",
       "    }\n",
       "\n",
       "    .dataframe tbody tr th {\n",
       "        vertical-align: top;\n",
       "    }\n",
       "\n",
       "    .dataframe thead th {\n",
       "        text-align: right;\n",
       "    }\n",
       "</style>\n",
       "<table border=\"1\" class=\"dataframe\">\n",
       "  <thead>\n",
       "    <tr style=\"text-align: right;\">\n",
       "      <th></th>\n",
       "      <th>AGYSUB</th>\n",
       "      <th>AGYSUBT</th>\n",
       "    </tr>\n",
       "  </thead>\n",
       "  <tbody>\n",
       "    <tr>\n",
       "      <th>0</th>\n",
       "      <td>AF02</td>\n",
       "      <td>AIR FORCE INSPECTION AGENCY (FO)</td>\n",
       "    </tr>\n",
       "    <tr>\n",
       "      <th>1</th>\n",
       "      <td>AF03</td>\n",
       "      <td>AIR FORCE OPERATIONAL TEST AND EVALUATION CENTER</td>\n",
       "    </tr>\n",
       "    <tr>\n",
       "      <th>2</th>\n",
       "      <td>AF06</td>\n",
       "      <td>AIR FORCE AUDIT AGENCY</td>\n",
       "    </tr>\n",
       "    <tr>\n",
       "      <th>3</th>\n",
       "      <td>AF07</td>\n",
       "      <td>AIR FORCE OFFICE OF SPECIAL INVESTIGATIONS</td>\n",
       "    </tr>\n",
       "    <tr>\n",
       "      <th>4</th>\n",
       "      <td>AF09</td>\n",
       "      <td>AIR FORCE PERSONNEL CENTER</td>\n",
       "    </tr>\n",
       "  </tbody>\n",
       "</table>\n",
       "</div>"
      ],
      "text/plain": [
       "  AGYSUB                                           AGYSUBT\n",
       "0   AF02                  AIR FORCE INSPECTION AGENCY (FO)\n",
       "1   AF03  AIR FORCE OPERATIONAL TEST AND EVALUATION CENTER\n",
       "2   AF06                            AIR FORCE AUDIT AGENCY\n",
       "3   AF07        AIR FORCE OFFICE OF SPECIAL INVESTIGATIONS\n",
       "4   AF09                        AIR FORCE PERSONNEL CENTER"
      ]
     },
     "execution_count": 133,
     "metadata": {},
     "output_type": "execute_result"
    }
   ],
   "source": [
    "agysub_data.head()"
   ]
  },
  {
   "cell_type": "code",
   "execution_count": 134,
   "id": "4a47d21c",
   "metadata": {},
   "outputs": [
    {
     "data": {
      "text/plain": [
       "(538, 2)"
      ]
     },
     "execution_count": 134,
     "metadata": {},
     "output_type": "execute_result"
    }
   ],
   "source": [
    "agysub_data.shape"
   ]
  },
  {
   "cell_type": "code",
   "execution_count": 135,
   "id": "54948416",
   "metadata": {},
   "outputs": [],
   "source": [
    "data_dict_agysub = agysub_data.set_index('AGYSUB').to_dict()['AGYSUBT']"
   ]
  },
  {
   "cell_type": "code",
   "execution_count": 136,
   "id": "ff2876ea",
   "metadata": {},
   "outputs": [],
   "source": [
    "#Change AGYSUB values to AGYSUBT"
   ]
  },
  {
   "cell_type": "code",
   "execution_count": 137,
   "id": "bcf51b09",
   "metadata": {},
   "outputs": [],
   "source": [
    "df_raw9 = df_raw8.replace({\"AGYSUB\":data_dict_agysub})"
   ]
  },
  {
   "cell_type": "code",
   "execution_count": 138,
   "id": "4dc0a852",
   "metadata": {},
   "outputs": [
    {
     "data": {
      "text/plain": [
       "0     ADMINISTRATIVE CONFERENCE OF THE UNITED STATES\n",
       "1     ADMINISTRATIVE CONFERENCE OF THE UNITED STATES\n",
       "2     ADMINISTRATIVE CONFERENCE OF THE UNITED STATES\n",
       "3     ADMINISTRATIVE CONFERENCE OF THE UNITED STATES\n",
       "4     ADMINISTRATIVE CONFERENCE OF THE UNITED STATES\n",
       "5     ADMINISTRATIVE CONFERENCE OF THE UNITED STATES\n",
       "6     ADMINISTRATIVE CONFERENCE OF THE UNITED STATES\n",
       "7     ADMINISTRATIVE CONFERENCE OF THE UNITED STATES\n",
       "8     ADMINISTRATIVE CONFERENCE OF THE UNITED STATES\n",
       "9     ADMINISTRATIVE CONFERENCE OF THE UNITED STATES\n",
       "10    ADMINISTRATIVE CONFERENCE OF THE UNITED STATES\n",
       "11    ADMINISTRATIVE CONFERENCE OF THE UNITED STATES\n",
       "12    ADMINISTRATIVE CONFERENCE OF THE UNITED STATES\n",
       "13              AMERICAN BATTLE MONUMENTS COMMISSION\n",
       "14              AMERICAN BATTLE MONUMENTS COMMISSION\n",
       "15              AMERICAN BATTLE MONUMENTS COMMISSION\n",
       "16              AMERICAN BATTLE MONUMENTS COMMISSION\n",
       "17              AMERICAN BATTLE MONUMENTS COMMISSION\n",
       "18              AMERICAN BATTLE MONUMENTS COMMISSION\n",
       "19              AMERICAN BATTLE MONUMENTS COMMISSION\n",
       "Name: AGYSUB, dtype: object"
      ]
     },
     "execution_count": 138,
     "metadata": {},
     "output_type": "execute_result"
    }
   ],
   "source": [
    "df_raw9[\"AGYSUB\"].head(20)"
   ]
  },
  {
   "cell_type": "code",
   "execution_count": 139,
   "id": "3580fcb9",
   "metadata": {},
   "outputs": [
    {
     "data": {
      "text/plain": [
       "(2155624, 22)"
      ]
     },
     "execution_count": 139,
     "metadata": {},
     "output_type": "execute_result"
    }
   ],
   "source": [
    "df_raw9.shape"
   ]
  },
  {
   "cell_type": "code",
   "execution_count": 140,
   "id": "e62e3b19",
   "metadata": {},
   "outputs": [],
   "source": [
    "#rename AGYSUB and check data type"
   ]
  },
  {
   "cell_type": "code",
   "execution_count": 141,
   "id": "f65f076b",
   "metadata": {},
   "outputs": [],
   "source": [
    "df_raw9.rename(columns = {'AGYSUB':'sub_agency'},inplace = True)"
   ]
  },
  {
   "cell_type": "code",
   "execution_count": 142,
   "id": "e1d0104d",
   "metadata": {},
   "outputs": [
    {
     "data": {
      "text/plain": [
       "str"
      ]
     },
     "execution_count": 142,
     "metadata": {},
     "output_type": "execute_result"
    }
   ],
   "source": [
    "type('sub_agency')"
   ]
  },
  {
   "cell_type": "markdown",
   "id": "4f9597ab",
   "metadata": {},
   "source": [
    "### 8. Fix EDLVL Column"
   ]
  },
  {
   "cell_type": "code",
   "execution_count": 143,
   "id": "252e62c5",
   "metadata": {},
   "outputs": [],
   "source": [
    "#EDLVL represents education level and is abbreviated with numbers\n",
    "#Duplicate column for education level code\n",
    "#Replace values from EDLVL with education levels\n",
    "#Rename and make sure it is string data type"
   ]
  },
  {
   "cell_type": "code",
   "execution_count": 144,
   "id": "145a19c7",
   "metadata": {},
   "outputs": [
    {
     "data": {
      "text/html": [
       "<div>\n",
       "<style scoped>\n",
       "    .dataframe tbody tr th:only-of-type {\n",
       "        vertical-align: middle;\n",
       "    }\n",
       "\n",
       "    .dataframe tbody tr th {\n",
       "        vertical-align: top;\n",
       "    }\n",
       "\n",
       "    .dataframe thead th {\n",
       "        text-align: right;\n",
       "    }\n",
       "</style>\n",
       "<table border=\"1\" class=\"dataframe\">\n",
       "  <thead>\n",
       "    <tr style=\"text-align: right;\">\n",
       "      <th></th>\n",
       "      <th>sub_agency</th>\n",
       "      <th>LOC</th>\n",
       "      <th>age_level</th>\n",
       "      <th>EDLVL</th>\n",
       "      <th>GSEGRD</th>\n",
       "      <th>years_of_service</th>\n",
       "      <th>occupation</th>\n",
       "      <th>occupation_category</th>\n",
       "      <th>PP</th>\n",
       "      <th>PPGRD</th>\n",
       "      <th>...</th>\n",
       "      <th>SUPERVIS</th>\n",
       "      <th>WORKSCH</th>\n",
       "      <th>WORKSTAT</th>\n",
       "      <th>DATECODE</th>\n",
       "      <th>SALARY</th>\n",
       "      <th>LOS</th>\n",
       "      <th>age_level_code</th>\n",
       "      <th>occupation_family</th>\n",
       "      <th>occupation_code</th>\n",
       "      <th>agency</th>\n",
       "    </tr>\n",
       "  </thead>\n",
       "  <tbody>\n",
       "    <tr>\n",
       "      <th>0</th>\n",
       "      <td>ADMINISTRATIVE CONFERENCE OF THE UNITED STATES</td>\n",
       "      <td>11</td>\n",
       "      <td>40-44</td>\n",
       "      <td>13</td>\n",
       "      <td>NaN</td>\n",
       "      <td>15 - 19</td>\n",
       "      <td>PROGRAM MANAGEMENT</td>\n",
       "      <td>Administrative</td>\n",
       "      <td>ES</td>\n",
       "      <td>ES-**</td>\n",
       "      <td>...</td>\n",
       "      <td>2</td>\n",
       "      <td>F</td>\n",
       "      <td>1</td>\n",
       "      <td>202203</td>\n",
       "      <td>192500.0</td>\n",
       "      <td>18.8</td>\n",
       "      <td>6.0</td>\n",
       "      <td>GENERAL ADMIN, CLERICAL, &amp; OFFICE SVCS</td>\n",
       "      <td>2.0</td>\n",
       "      <td>ADMINISTRATIVE CONFERENCE OF THE UNITED STATES</td>\n",
       "    </tr>\n",
       "    <tr>\n",
       "      <th>1</th>\n",
       "      <td>ADMINISTRATIVE CONFERENCE OF THE UNITED STATES</td>\n",
       "      <td>11</td>\n",
       "      <td>55-59</td>\n",
       "      <td>15</td>\n",
       "      <td>NaN</td>\n",
       "      <td>25 - 29</td>\n",
       "      <td>GENERAL ATTORNEY</td>\n",
       "      <td>Professional</td>\n",
       "      <td>ES</td>\n",
       "      <td>ES-**</td>\n",
       "      <td>...</td>\n",
       "      <td>2</td>\n",
       "      <td>F</td>\n",
       "      <td>1</td>\n",
       "      <td>202203</td>\n",
       "      <td>187000.0</td>\n",
       "      <td>29.2</td>\n",
       "      <td>9.0</td>\n",
       "      <td>LEGAL AND KINDRED</td>\n",
       "      <td>1.0</td>\n",
       "      <td>ADMINISTRATIVE CONFERENCE OF THE UNITED STATES</td>\n",
       "    </tr>\n",
       "    <tr>\n",
       "      <th>2</th>\n",
       "      <td>ADMINISTRATIVE CONFERENCE OF THE UNITED STATES</td>\n",
       "      <td>40</td>\n",
       "      <td>35-39</td>\n",
       "      <td>15</td>\n",
       "      <td>15.0</td>\n",
       "      <td>10 - 14</td>\n",
       "      <td>GENERAL ATTORNEY</td>\n",
       "      <td>Professional</td>\n",
       "      <td>99</td>\n",
       "      <td>GS-15</td>\n",
       "      <td>...</td>\n",
       "      <td>2</td>\n",
       "      <td>F</td>\n",
       "      <td>1</td>\n",
       "      <td>202203</td>\n",
       "      <td>161786.0</td>\n",
       "      <td>12.5</td>\n",
       "      <td>5.0</td>\n",
       "      <td>LEGAL AND KINDRED</td>\n",
       "      <td>1.0</td>\n",
       "      <td>ADMINISTRATIVE CONFERENCE OF THE UNITED STATES</td>\n",
       "    </tr>\n",
       "    <tr>\n",
       "      <th>3</th>\n",
       "      <td>ADMINISTRATIVE CONFERENCE OF THE UNITED STATES</td>\n",
       "      <td>11</td>\n",
       "      <td>35-39</td>\n",
       "      <td>15</td>\n",
       "      <td>15.0</td>\n",
       "      <td>10 - 14</td>\n",
       "      <td>GENERAL ATTORNEY</td>\n",
       "      <td>Professional</td>\n",
       "      <td>99</td>\n",
       "      <td>GS-15</td>\n",
       "      <td>...</td>\n",
       "      <td>8</td>\n",
       "      <td>F</td>\n",
       "      <td>1</td>\n",
       "      <td>202203</td>\n",
       "      <td>158383.0</td>\n",
       "      <td>10.5</td>\n",
       "      <td>5.0</td>\n",
       "      <td>LEGAL AND KINDRED</td>\n",
       "      <td>1.0</td>\n",
       "      <td>ADMINISTRATIVE CONFERENCE OF THE UNITED STATES</td>\n",
       "    </tr>\n",
       "    <tr>\n",
       "      <th>4</th>\n",
       "      <td>ADMINISTRATIVE CONFERENCE OF THE UNITED STATES</td>\n",
       "      <td>11</td>\n",
       "      <td>40-44</td>\n",
       "      <td>15</td>\n",
       "      <td>13.0</td>\n",
       "      <td>10 - 14</td>\n",
       "      <td>GENERAL ATTORNEY</td>\n",
       "      <td>Professional</td>\n",
       "      <td>99</td>\n",
       "      <td>GS-13</td>\n",
       "      <td>...</td>\n",
       "      <td>8</td>\n",
       "      <td>F</td>\n",
       "      <td>1</td>\n",
       "      <td>202203</td>\n",
       "      <td>121065.0</td>\n",
       "      <td>13.4</td>\n",
       "      <td>6.0</td>\n",
       "      <td>LEGAL AND KINDRED</td>\n",
       "      <td>1.0</td>\n",
       "      <td>ADMINISTRATIVE CONFERENCE OF THE UNITED STATES</td>\n",
       "    </tr>\n",
       "  </tbody>\n",
       "</table>\n",
       "<p>5 rows × 22 columns</p>\n",
       "</div>"
      ],
      "text/plain": [
       "                                       sub_agency LOC age_level EDLVL GSEGRD  \\\n",
       "0  ADMINISTRATIVE CONFERENCE OF THE UNITED STATES  11     40-44    13    NaN   \n",
       "1  ADMINISTRATIVE CONFERENCE OF THE UNITED STATES  11     55-59    15    NaN   \n",
       "2  ADMINISTRATIVE CONFERENCE OF THE UNITED STATES  40     35-39    15   15.0   \n",
       "3  ADMINISTRATIVE CONFERENCE OF THE UNITED STATES  11     35-39    15   15.0   \n",
       "4  ADMINISTRATIVE CONFERENCE OF THE UNITED STATES  11     40-44    15   13.0   \n",
       "\n",
       "  years_of_service          occupation occupation_category  PP  PPGRD  ...  \\\n",
       "0          15 - 19  PROGRAM MANAGEMENT      Administrative  ES  ES-**  ...   \n",
       "1          25 - 29    GENERAL ATTORNEY        Professional  ES  ES-**  ...   \n",
       "2          10 - 14    GENERAL ATTORNEY        Professional  99  GS-15  ...   \n",
       "3          10 - 14    GENERAL ATTORNEY        Professional  99  GS-15  ...   \n",
       "4          10 - 14    GENERAL ATTORNEY        Professional  99  GS-13  ...   \n",
       "\n",
       "  SUPERVIS WORKSCH WORKSTAT DATECODE    SALARY   LOS  age_level_code  \\\n",
       "0        2       F        1   202203  192500.0  18.8             6.0   \n",
       "1        2       F        1   202203  187000.0  29.2             9.0   \n",
       "2        2       F        1   202203  161786.0  12.5             5.0   \n",
       "3        8       F        1   202203  158383.0  10.5             5.0   \n",
       "4        8       F        1   202203  121065.0  13.4             6.0   \n",
       "\n",
       "                        occupation_family  occupation_code  \\\n",
       "0  GENERAL ADMIN, CLERICAL, & OFFICE SVCS              2.0   \n",
       "1                       LEGAL AND KINDRED              1.0   \n",
       "2                       LEGAL AND KINDRED              1.0   \n",
       "3                       LEGAL AND KINDRED              1.0   \n",
       "4                       LEGAL AND KINDRED              1.0   \n",
       "\n",
       "                                           agency  \n",
       "0  ADMINISTRATIVE CONFERENCE OF THE UNITED STATES  \n",
       "1  ADMINISTRATIVE CONFERENCE OF THE UNITED STATES  \n",
       "2  ADMINISTRATIVE CONFERENCE OF THE UNITED STATES  \n",
       "3  ADMINISTRATIVE CONFERENCE OF THE UNITED STATES  \n",
       "4  ADMINISTRATIVE CONFERENCE OF THE UNITED STATES  \n",
       "\n",
       "[5 rows x 22 columns]"
      ]
     },
     "execution_count": 144,
     "metadata": {},
     "output_type": "execute_result"
    }
   ],
   "source": [
    "df_raw9.head()"
   ]
  },
  {
   "cell_type": "code",
   "execution_count": 145,
   "id": "3f3808db",
   "metadata": {},
   "outputs": [
    {
     "data": {
      "text/plain": [
       "04      375259\n",
       "13      368304\n",
       "17      231358\n",
       "13.0    207551\n",
       "4.0     184348\n",
       "17.0    131211\n",
       "10       95225\n",
       "15       62539\n",
       "21       52330\n",
       "07       49448\n",
       "10.0     41059\n",
       "09       36048\n",
       "08       36015\n",
       "01       30256\n",
       "21.0     26400\n",
       "7.0      23561\n",
       "06       21022\n",
       "15.0     19330\n",
       "9.0      16333\n",
       "12       15817\n",
       "11       15631\n",
       "8.0      15047\n",
       "14       14571\n",
       "6.0      11123\n",
       "14.0     11037\n",
       "05        7730\n",
       "11.0      7466\n",
       "12.0      7326\n",
       "18        7170\n",
       "03        5432\n",
       "22        4686\n",
       "18.0      4412\n",
       "1.0       4389\n",
       "22.0      3676\n",
       "3.0       2258\n",
       "5.0       2003\n",
       "**        1853\n",
       "NaN       1588\n",
       "16        1486\n",
       "16.0      1054\n",
       "19         887\n",
       "20         436\n",
       "19.0       371\n",
       "20.0       305\n",
       "02         207\n",
       "2.0         66\n",
       "Name: EDLVL, dtype: int64"
      ]
     },
     "execution_count": 145,
     "metadata": {},
     "output_type": "execute_result"
    }
   ],
   "source": [
    "df_raw9.EDLVL.value_counts(dropna=False)"
   ]
  },
  {
   "cell_type": "code",
   "execution_count": 146,
   "id": "cf615db1",
   "metadata": {},
   "outputs": [],
   "source": [
    "#drop NaN values from EDLVL\n",
    "df_raw9.dropna(subset = ['EDLVL'], inplace = True)"
   ]
  },
  {
   "cell_type": "code",
   "execution_count": 147,
   "id": "f2fdf77f",
   "metadata": {},
   "outputs": [
    {
     "data": {
      "text/plain": [
       "(2154036, 22)"
      ]
     },
     "execution_count": 147,
     "metadata": {},
     "output_type": "execute_result"
    }
   ],
   "source": [
    "df_raw9.shape"
   ]
  },
  {
   "cell_type": "code",
   "execution_count": 148,
   "id": "1f9f260c",
   "metadata": {},
   "outputs": [],
   "source": [
    "#change ** to 99 to make column numerical and merge duplicates\n",
    "df_raw9['EDLVL'].replace(('**','99'), inplace = True)"
   ]
  },
  {
   "cell_type": "code",
   "execution_count": 149,
   "id": "847b92b8",
   "metadata": {},
   "outputs": [],
   "source": [
    "#change type to integer to merge numbers\n",
    "df_raw9['EDLVL']=df_raw9['EDLVL'].astype('int64')"
   ]
  },
  {
   "cell_type": "code",
   "execution_count": 150,
   "id": "5686e519",
   "metadata": {},
   "outputs": [
    {
     "data": {
      "text/plain": [
       "13    576079\n",
       "4     560624\n",
       "17    362679\n",
       "10    136342\n",
       "15     81891\n",
       "21     78755\n",
       "7      73081\n",
       "9      52435\n",
       "8      51126\n",
       "1      34651\n",
       "6      32163\n",
       "14     25616\n",
       "12     23246\n",
       "11     23161\n",
       "18     11583\n",
       "5       9737\n",
       "22      8362\n",
       "3       7692\n",
       "16      2541\n",
       "19      1258\n",
       "20       741\n",
       "2        273\n",
       "Name: EDLVL, dtype: int64"
      ]
     },
     "execution_count": 150,
     "metadata": {},
     "output_type": "execute_result"
    }
   ],
   "source": [
    "df_raw9.EDLVL.value_counts(dropna=False)"
   ]
  },
  {
   "cell_type": "code",
   "execution_count": 151,
   "id": "77e99ac1",
   "metadata": {},
   "outputs": [],
   "source": [
    "#duplicate column to keep numbers for analysis\n",
    "df_raw9['education_code']=df_raw9['EDLVL']"
   ]
  },
  {
   "cell_type": "code",
   "execution_count": 152,
   "id": "961d0c2a",
   "metadata": {},
   "outputs": [
    {
     "data": {
      "text/plain": [
       "(2154036, 23)"
      ]
     },
     "execution_count": 152,
     "metadata": {},
     "output_type": "execute_result"
    }
   ],
   "source": [
    "df_raw9.shape"
   ]
  },
  {
   "cell_type": "code",
   "execution_count": 153,
   "id": "6c478660",
   "metadata": {},
   "outputs": [],
   "source": [
    "#change type back to string for data dictionary for EDLVL\n",
    "df_raw9['EDLVL']=df_raw9['EDLVL'].astype('str')"
   ]
  },
  {
   "cell_type": "code",
   "execution_count": 154,
   "id": "f0d88662",
   "metadata": {},
   "outputs": [],
   "source": [
    "#Import EDLVL.csv and set as data dictionary"
   ]
  },
  {
   "cell_type": "code",
   "execution_count": 155,
   "id": "fbb9ec9b",
   "metadata": {},
   "outputs": [],
   "source": [
    "edlvl_data = pd.read_csv(os.path.join(path, 'original data', 'EDLVL.csv'), index_col = False)"
   ]
  },
  {
   "cell_type": "code",
   "execution_count": 156,
   "id": "2c66ed06",
   "metadata": {},
   "outputs": [
    {
     "data": {
      "text/html": [
       "<div>\n",
       "<style scoped>\n",
       "    .dataframe tbody tr th:only-of-type {\n",
       "        vertical-align: middle;\n",
       "    }\n",
       "\n",
       "    .dataframe tbody tr th {\n",
       "        vertical-align: top;\n",
       "    }\n",
       "\n",
       "    .dataframe thead th {\n",
       "        text-align: right;\n",
       "    }\n",
       "</style>\n",
       "<table border=\"1\" class=\"dataframe\">\n",
       "  <thead>\n",
       "    <tr style=\"text-align: right;\">\n",
       "      <th></th>\n",
       "      <th>EDLVL</th>\n",
       "      <th>EDLVLT</th>\n",
       "    </tr>\n",
       "  </thead>\n",
       "  <tbody>\n",
       "    <tr>\n",
       "      <th>0</th>\n",
       "      <td>01</td>\n",
       "      <td>BELOW HIGH SCHOOL</td>\n",
       "    </tr>\n",
       "    <tr>\n",
       "      <th>1</th>\n",
       "      <td>02</td>\n",
       "      <td>BELOW HIGH SCHOOL</td>\n",
       "    </tr>\n",
       "    <tr>\n",
       "      <th>2</th>\n",
       "      <td>03</td>\n",
       "      <td>BELOW HIGH SCHOOL</td>\n",
       "    </tr>\n",
       "    <tr>\n",
       "      <th>3</th>\n",
       "      <td>04</td>\n",
       "      <td>HIGH SCHOOL OR EQUIVALENCY</td>\n",
       "    </tr>\n",
       "    <tr>\n",
       "      <th>4</th>\n",
       "      <td>05</td>\n",
       "      <td>OCCUPATIONAL PROGRAM</td>\n",
       "    </tr>\n",
       "  </tbody>\n",
       "</table>\n",
       "</div>"
      ],
      "text/plain": [
       "  EDLVL                      EDLVLT\n",
       "0    01           BELOW HIGH SCHOOL\n",
       "1    02           BELOW HIGH SCHOOL\n",
       "2    03           BELOW HIGH SCHOOL\n",
       "3    04  HIGH SCHOOL OR EQUIVALENCY\n",
       "4    05        OCCUPATIONAL PROGRAM"
      ]
     },
     "execution_count": 156,
     "metadata": {},
     "output_type": "execute_result"
    }
   ],
   "source": [
    "edlvl_data.head()"
   ]
  },
  {
   "cell_type": "code",
   "execution_count": 157,
   "id": "3bf6a02e",
   "metadata": {},
   "outputs": [
    {
     "data": {
      "text/plain": [
       "(24, 2)"
      ]
     },
     "execution_count": 157,
     "metadata": {},
     "output_type": "execute_result"
    }
   ],
   "source": [
    "edlvl_data.shape"
   ]
  },
  {
   "cell_type": "code",
   "execution_count": 158,
   "id": "93afb2d0",
   "metadata": {},
   "outputs": [],
   "source": [
    "#change edlvl data ** to 99 like I did in normal column\n",
    "edlvl_data['EDLVL'].replace(('**','99'),inplace = True)"
   ]
  },
  {
   "cell_type": "code",
   "execution_count": 159,
   "id": "7b536f53",
   "metadata": {},
   "outputs": [],
   "source": [
    "#drop Nan\n",
    "edlvl_data.dropna(subset = ['EDLVL'], inplace = True)"
   ]
  },
  {
   "cell_type": "code",
   "execution_count": 160,
   "id": "88b487a3",
   "metadata": {},
   "outputs": [],
   "source": [
    "#change edlvl_data to int and back to match 01 and 1 properly as data dictionary\n",
    "edlvl_data['EDLVL'] = edlvl_data['EDLVL'].astype('int64')"
   ]
  },
  {
   "cell_type": "code",
   "execution_count": 161,
   "id": "dd21875f",
   "metadata": {},
   "outputs": [
    {
     "data": {
      "text/html": [
       "<div>\n",
       "<style scoped>\n",
       "    .dataframe tbody tr th:only-of-type {\n",
       "        vertical-align: middle;\n",
       "    }\n",
       "\n",
       "    .dataframe tbody tr th {\n",
       "        vertical-align: top;\n",
       "    }\n",
       "\n",
       "    .dataframe thead th {\n",
       "        text-align: right;\n",
       "    }\n",
       "</style>\n",
       "<table border=\"1\" class=\"dataframe\">\n",
       "  <thead>\n",
       "    <tr style=\"text-align: right;\">\n",
       "      <th></th>\n",
       "      <th>EDLVL</th>\n",
       "      <th>EDLVLT</th>\n",
       "    </tr>\n",
       "  </thead>\n",
       "  <tbody>\n",
       "    <tr>\n",
       "      <th>0</th>\n",
       "      <td>1</td>\n",
       "      <td>BELOW HIGH SCHOOL</td>\n",
       "    </tr>\n",
       "    <tr>\n",
       "      <th>1</th>\n",
       "      <td>2</td>\n",
       "      <td>BELOW HIGH SCHOOL</td>\n",
       "    </tr>\n",
       "    <tr>\n",
       "      <th>2</th>\n",
       "      <td>3</td>\n",
       "      <td>BELOW HIGH SCHOOL</td>\n",
       "    </tr>\n",
       "    <tr>\n",
       "      <th>3</th>\n",
       "      <td>4</td>\n",
       "      <td>HIGH SCHOOL OR EQUIVALENCY</td>\n",
       "    </tr>\n",
       "    <tr>\n",
       "      <th>4</th>\n",
       "      <td>5</td>\n",
       "      <td>OCCUPATIONAL PROGRAM</td>\n",
       "    </tr>\n",
       "  </tbody>\n",
       "</table>\n",
       "</div>"
      ],
      "text/plain": [
       "   EDLVL                      EDLVLT\n",
       "0      1           BELOW HIGH SCHOOL\n",
       "1      2           BELOW HIGH SCHOOL\n",
       "2      3           BELOW HIGH SCHOOL\n",
       "3      4  HIGH SCHOOL OR EQUIVALENCY\n",
       "4      5        OCCUPATIONAL PROGRAM"
      ]
     },
     "execution_count": 161,
     "metadata": {},
     "output_type": "execute_result"
    }
   ],
   "source": [
    "edlvl_data.head()"
   ]
  },
  {
   "cell_type": "code",
   "execution_count": 162,
   "id": "f24327ce",
   "metadata": {},
   "outputs": [],
   "source": [
    "#change value back to string for data dictionary\n",
    "edlvl_data['EDLVL'] = edlvl_data['EDLVL'].astype('str')"
   ]
  },
  {
   "cell_type": "code",
   "execution_count": 163,
   "id": "5c0848c6",
   "metadata": {},
   "outputs": [],
   "source": [
    "data_dict_edlvl = edlvl_data.set_index('EDLVL').to_dict()['EDLVLT']"
   ]
  },
  {
   "cell_type": "code",
   "execution_count": 164,
   "id": "214c792d",
   "metadata": {},
   "outputs": [],
   "source": [
    "#Change EDLVL values to EDLVLT"
   ]
  },
  {
   "cell_type": "code",
   "execution_count": 165,
   "id": "1346ec54",
   "metadata": {},
   "outputs": [],
   "source": [
    "df_raw10 = df_raw9.replace({\"EDLVL\":data_dict_edlvl})"
   ]
  },
  {
   "cell_type": "code",
   "execution_count": 166,
   "id": "ec26136f",
   "metadata": {},
   "outputs": [
    {
     "data": {
      "text/plain": [
       "0                      BACHELORS\n",
       "1                 POST-BACHELORS\n",
       "2                 POST-BACHELORS\n",
       "3                 POST-BACHELORS\n",
       "4                 POST-BACHELORS\n",
       "5                 POST-BACHELORS\n",
       "6                 POST-BACHELORS\n",
       "7                 POST-BACHELORS\n",
       "8                 POST-BACHELORS\n",
       "9                 POST-BACHELORS\n",
       "10                     DOCTORATE\n",
       "11                     BACHELORS\n",
       "12    HIGH SCHOOL OR EQUIVALENCY\n",
       "13                       MASTERS\n",
       "14                     BACHELORS\n",
       "15                     BACHELORS\n",
       "16                       MASTERS\n",
       "17                     BACHELORS\n",
       "18                       MASTERS\n",
       "19                       MASTERS\n",
       "Name: EDLVL, dtype: object"
      ]
     },
     "execution_count": 166,
     "metadata": {},
     "output_type": "execute_result"
    }
   ],
   "source": [
    "df_raw10[\"EDLVL\"].head(20)"
   ]
  },
  {
   "cell_type": "code",
   "execution_count": 167,
   "id": "f0e036fc",
   "metadata": {},
   "outputs": [],
   "source": [
    "#rename EDLVL and check data type"
   ]
  },
  {
   "cell_type": "code",
   "execution_count": 168,
   "id": "d6d34093",
   "metadata": {},
   "outputs": [],
   "source": [
    "df_raw10.rename(columns = {'EDLVL':'education_level'},inplace = True)"
   ]
  },
  {
   "cell_type": "code",
   "execution_count": 169,
   "id": "f83d7484",
   "metadata": {},
   "outputs": [
    {
     "data": {
      "text/plain": [
       "str"
      ]
     },
     "execution_count": 169,
     "metadata": {},
     "output_type": "execute_result"
    }
   ],
   "source": [
    "type('education_level')"
   ]
  },
  {
   "cell_type": "code",
   "execution_count": 170,
   "id": "897476a0",
   "metadata": {},
   "outputs": [
    {
     "data": {
      "text/plain": [
       "(2154036, 23)"
      ]
     },
     "execution_count": 170,
     "metadata": {},
     "output_type": "execute_result"
    }
   ],
   "source": [
    "df_raw10.shape"
   ]
  },
  {
   "cell_type": "code",
   "execution_count": 171,
   "id": "29306cb2",
   "metadata": {},
   "outputs": [
    {
     "data": {
      "text/plain": [
       "BACHELORS                     576079\n",
       "HIGH SCHOOL OR EQUIVALENCY    560624\n",
       "MASTERS                       362679\n",
       "BETWEEN HS & BACHELORS        359391\n",
       "POST-BACHELORS                110048\n",
       "DOCTORATE                      78755\n",
       "BELOW HIGH SCHOOL              42616\n",
       "OCCUPATIONAL PROGRAM           41900\n",
       "POST MASTERS                   13582\n",
       "UNSPECIFIED                     8362\n",
       "Name: education_level, dtype: int64"
      ]
     },
     "execution_count": 171,
     "metadata": {},
     "output_type": "execute_result"
    }
   ],
   "source": [
    "df_raw10.education_level.value_counts(dropna = False)"
   ]
  },
  {
   "cell_type": "markdown",
   "id": "20dacc96",
   "metadata": {},
   "source": [
    "### 9. Fix WORKSTAT Column"
   ]
  },
  {
   "cell_type": "code",
   "execution_count": 172,
   "id": "7dd167c9",
   "metadata": {},
   "outputs": [],
   "source": [
    "#WKSTAT represents 2 values - non seasonal full time permanent and \"other employees\"\n",
    "#Duplicate column to keep numerical\n",
    "#Replace 1&2 with values\n",
    "#Rename and make sure it is string data type"
   ]
  },
  {
   "cell_type": "code",
   "execution_count": 173,
   "id": "5763430f",
   "metadata": {},
   "outputs": [
    {
     "data": {
      "text/plain": [
       "(2154036, 23)"
      ]
     },
     "execution_count": 173,
     "metadata": {},
     "output_type": "execute_result"
    }
   ],
   "source": [
    "df_raw10.shape"
   ]
  },
  {
   "cell_type": "code",
   "execution_count": 174,
   "id": "31cda49a",
   "metadata": {},
   "outputs": [
    {
     "data": {
      "text/html": [
       "<div>\n",
       "<style scoped>\n",
       "    .dataframe tbody tr th:only-of-type {\n",
       "        vertical-align: middle;\n",
       "    }\n",
       "\n",
       "    .dataframe tbody tr th {\n",
       "        vertical-align: top;\n",
       "    }\n",
       "\n",
       "    .dataframe thead th {\n",
       "        text-align: right;\n",
       "    }\n",
       "</style>\n",
       "<table border=\"1\" class=\"dataframe\">\n",
       "  <thead>\n",
       "    <tr style=\"text-align: right;\">\n",
       "      <th></th>\n",
       "      <th>sub_agency</th>\n",
       "      <th>LOC</th>\n",
       "      <th>age_level</th>\n",
       "      <th>education_level</th>\n",
       "      <th>GSEGRD</th>\n",
       "      <th>years_of_service</th>\n",
       "      <th>occupation</th>\n",
       "      <th>occupation_category</th>\n",
       "      <th>PP</th>\n",
       "      <th>PPGRD</th>\n",
       "      <th>...</th>\n",
       "      <th>WORKSCH</th>\n",
       "      <th>WORKSTAT</th>\n",
       "      <th>DATECODE</th>\n",
       "      <th>SALARY</th>\n",
       "      <th>LOS</th>\n",
       "      <th>age_level_code</th>\n",
       "      <th>occupation_family</th>\n",
       "      <th>occupation_code</th>\n",
       "      <th>agency</th>\n",
       "      <th>education_code</th>\n",
       "    </tr>\n",
       "  </thead>\n",
       "  <tbody>\n",
       "    <tr>\n",
       "      <th>0</th>\n",
       "      <td>ADMINISTRATIVE CONFERENCE OF THE UNITED STATES</td>\n",
       "      <td>11</td>\n",
       "      <td>40-44</td>\n",
       "      <td>BACHELORS</td>\n",
       "      <td>NaN</td>\n",
       "      <td>15 - 19</td>\n",
       "      <td>PROGRAM MANAGEMENT</td>\n",
       "      <td>Administrative</td>\n",
       "      <td>ES</td>\n",
       "      <td>ES-**</td>\n",
       "      <td>...</td>\n",
       "      <td>F</td>\n",
       "      <td>1</td>\n",
       "      <td>202203</td>\n",
       "      <td>192500.0</td>\n",
       "      <td>18.8</td>\n",
       "      <td>6.0</td>\n",
       "      <td>GENERAL ADMIN, CLERICAL, &amp; OFFICE SVCS</td>\n",
       "      <td>2.0</td>\n",
       "      <td>ADMINISTRATIVE CONFERENCE OF THE UNITED STATES</td>\n",
       "      <td>13</td>\n",
       "    </tr>\n",
       "    <tr>\n",
       "      <th>1</th>\n",
       "      <td>ADMINISTRATIVE CONFERENCE OF THE UNITED STATES</td>\n",
       "      <td>11</td>\n",
       "      <td>55-59</td>\n",
       "      <td>POST-BACHELORS</td>\n",
       "      <td>NaN</td>\n",
       "      <td>25 - 29</td>\n",
       "      <td>GENERAL ATTORNEY</td>\n",
       "      <td>Professional</td>\n",
       "      <td>ES</td>\n",
       "      <td>ES-**</td>\n",
       "      <td>...</td>\n",
       "      <td>F</td>\n",
       "      <td>1</td>\n",
       "      <td>202203</td>\n",
       "      <td>187000.0</td>\n",
       "      <td>29.2</td>\n",
       "      <td>9.0</td>\n",
       "      <td>LEGAL AND KINDRED</td>\n",
       "      <td>1.0</td>\n",
       "      <td>ADMINISTRATIVE CONFERENCE OF THE UNITED STATES</td>\n",
       "      <td>15</td>\n",
       "    </tr>\n",
       "    <tr>\n",
       "      <th>2</th>\n",
       "      <td>ADMINISTRATIVE CONFERENCE OF THE UNITED STATES</td>\n",
       "      <td>40</td>\n",
       "      <td>35-39</td>\n",
       "      <td>POST-BACHELORS</td>\n",
       "      <td>15.0</td>\n",
       "      <td>10 - 14</td>\n",
       "      <td>GENERAL ATTORNEY</td>\n",
       "      <td>Professional</td>\n",
       "      <td>99</td>\n",
       "      <td>GS-15</td>\n",
       "      <td>...</td>\n",
       "      <td>F</td>\n",
       "      <td>1</td>\n",
       "      <td>202203</td>\n",
       "      <td>161786.0</td>\n",
       "      <td>12.5</td>\n",
       "      <td>5.0</td>\n",
       "      <td>LEGAL AND KINDRED</td>\n",
       "      <td>1.0</td>\n",
       "      <td>ADMINISTRATIVE CONFERENCE OF THE UNITED STATES</td>\n",
       "      <td>15</td>\n",
       "    </tr>\n",
       "    <tr>\n",
       "      <th>3</th>\n",
       "      <td>ADMINISTRATIVE CONFERENCE OF THE UNITED STATES</td>\n",
       "      <td>11</td>\n",
       "      <td>35-39</td>\n",
       "      <td>POST-BACHELORS</td>\n",
       "      <td>15.0</td>\n",
       "      <td>10 - 14</td>\n",
       "      <td>GENERAL ATTORNEY</td>\n",
       "      <td>Professional</td>\n",
       "      <td>99</td>\n",
       "      <td>GS-15</td>\n",
       "      <td>...</td>\n",
       "      <td>F</td>\n",
       "      <td>1</td>\n",
       "      <td>202203</td>\n",
       "      <td>158383.0</td>\n",
       "      <td>10.5</td>\n",
       "      <td>5.0</td>\n",
       "      <td>LEGAL AND KINDRED</td>\n",
       "      <td>1.0</td>\n",
       "      <td>ADMINISTRATIVE CONFERENCE OF THE UNITED STATES</td>\n",
       "      <td>15</td>\n",
       "    </tr>\n",
       "    <tr>\n",
       "      <th>4</th>\n",
       "      <td>ADMINISTRATIVE CONFERENCE OF THE UNITED STATES</td>\n",
       "      <td>11</td>\n",
       "      <td>40-44</td>\n",
       "      <td>POST-BACHELORS</td>\n",
       "      <td>13.0</td>\n",
       "      <td>10 - 14</td>\n",
       "      <td>GENERAL ATTORNEY</td>\n",
       "      <td>Professional</td>\n",
       "      <td>99</td>\n",
       "      <td>GS-13</td>\n",
       "      <td>...</td>\n",
       "      <td>F</td>\n",
       "      <td>1</td>\n",
       "      <td>202203</td>\n",
       "      <td>121065.0</td>\n",
       "      <td>13.4</td>\n",
       "      <td>6.0</td>\n",
       "      <td>LEGAL AND KINDRED</td>\n",
       "      <td>1.0</td>\n",
       "      <td>ADMINISTRATIVE CONFERENCE OF THE UNITED STATES</td>\n",
       "      <td>15</td>\n",
       "    </tr>\n",
       "  </tbody>\n",
       "</table>\n",
       "<p>5 rows × 23 columns</p>\n",
       "</div>"
      ],
      "text/plain": [
       "                                       sub_agency LOC age_level  \\\n",
       "0  ADMINISTRATIVE CONFERENCE OF THE UNITED STATES  11     40-44   \n",
       "1  ADMINISTRATIVE CONFERENCE OF THE UNITED STATES  11     55-59   \n",
       "2  ADMINISTRATIVE CONFERENCE OF THE UNITED STATES  40     35-39   \n",
       "3  ADMINISTRATIVE CONFERENCE OF THE UNITED STATES  11     35-39   \n",
       "4  ADMINISTRATIVE CONFERENCE OF THE UNITED STATES  11     40-44   \n",
       "\n",
       "  education_level GSEGRD years_of_service          occupation  \\\n",
       "0       BACHELORS    NaN          15 - 19  PROGRAM MANAGEMENT   \n",
       "1  POST-BACHELORS    NaN          25 - 29    GENERAL ATTORNEY   \n",
       "2  POST-BACHELORS   15.0          10 - 14    GENERAL ATTORNEY   \n",
       "3  POST-BACHELORS   15.0          10 - 14    GENERAL ATTORNEY   \n",
       "4  POST-BACHELORS   13.0          10 - 14    GENERAL ATTORNEY   \n",
       "\n",
       "  occupation_category  PP  PPGRD  ... WORKSCH WORKSTAT DATECODE    SALARY  \\\n",
       "0      Administrative  ES  ES-**  ...       F        1   202203  192500.0   \n",
       "1        Professional  ES  ES-**  ...       F        1   202203  187000.0   \n",
       "2        Professional  99  GS-15  ...       F        1   202203  161786.0   \n",
       "3        Professional  99  GS-15  ...       F        1   202203  158383.0   \n",
       "4        Professional  99  GS-13  ...       F        1   202203  121065.0   \n",
       "\n",
       "    LOS  age_level_code                       occupation_family  \\\n",
       "0  18.8             6.0  GENERAL ADMIN, CLERICAL, & OFFICE SVCS   \n",
       "1  29.2             9.0                       LEGAL AND KINDRED   \n",
       "2  12.5             5.0                       LEGAL AND KINDRED   \n",
       "3  10.5             5.0                       LEGAL AND KINDRED   \n",
       "4  13.4             6.0                       LEGAL AND KINDRED   \n",
       "\n",
       "   occupation_code                                          agency  \\\n",
       "0              2.0  ADMINISTRATIVE CONFERENCE OF THE UNITED STATES   \n",
       "1              1.0  ADMINISTRATIVE CONFERENCE OF THE UNITED STATES   \n",
       "2              1.0  ADMINISTRATIVE CONFERENCE OF THE UNITED STATES   \n",
       "3              1.0  ADMINISTRATIVE CONFERENCE OF THE UNITED STATES   \n",
       "4              1.0  ADMINISTRATIVE CONFERENCE OF THE UNITED STATES   \n",
       "\n",
       "  education_code  \n",
       "0             13  \n",
       "1             15  \n",
       "2             15  \n",
       "3             15  \n",
       "4             15  \n",
       "\n",
       "[5 rows x 23 columns]"
      ]
     },
     "execution_count": 174,
     "metadata": {},
     "output_type": "execute_result"
    }
   ],
   "source": [
    "df_raw10.head()"
   ]
  },
  {
   "cell_type": "code",
   "execution_count": 175,
   "id": "a13abb1f",
   "metadata": {
    "scrolled": true
   },
   "outputs": [],
   "source": [
    "#duplicate column to keep values for analysis\n",
    "df_raw10['work_status_code']=df_raw10['WORKSTAT']"
   ]
  },
  {
   "cell_type": "code",
   "execution_count": 176,
   "id": "5f841f15",
   "metadata": {},
   "outputs": [
    {
     "data": {
      "text/plain": [
       "1    1944595\n",
       "2     209441\n",
       "Name: work_status_code, dtype: int64"
      ]
     },
     "execution_count": 176,
     "metadata": {},
     "output_type": "execute_result"
    }
   ],
   "source": [
    "df_raw10.work_status_code.value_counts(dropna = False)"
   ]
  },
  {
   "cell_type": "code",
   "execution_count": 177,
   "id": "eaa57212",
   "metadata": {},
   "outputs": [],
   "source": [
    "#Import WKSTAT.csv and set as data dictionary"
   ]
  },
  {
   "cell_type": "code",
   "execution_count": 178,
   "id": "9fbdadb8",
   "metadata": {},
   "outputs": [],
   "source": [
    "wkstat_data = pd.read_csv(os.path.join(path, 'original data', 'WKSTAT.csv'), index_col = False)"
   ]
  },
  {
   "cell_type": "code",
   "execution_count": 179,
   "id": "722a83fa",
   "metadata": {},
   "outputs": [
    {
     "data": {
      "text/html": [
       "<div>\n",
       "<style scoped>\n",
       "    .dataframe tbody tr th:only-of-type {\n",
       "        vertical-align: middle;\n",
       "    }\n",
       "\n",
       "    .dataframe tbody tr th {\n",
       "        vertical-align: top;\n",
       "    }\n",
       "\n",
       "    .dataframe thead th {\n",
       "        text-align: right;\n",
       "    }\n",
       "</style>\n",
       "<table border=\"1\" class=\"dataframe\">\n",
       "  <thead>\n",
       "    <tr style=\"text-align: right;\">\n",
       "      <th></th>\n",
       "      <th>WORKSTAT</th>\n",
       "      <th>WORKSTATT</th>\n",
       "    </tr>\n",
       "  </thead>\n",
       "  <tbody>\n",
       "    <tr>\n",
       "      <th>0</th>\n",
       "      <td>1</td>\n",
       "      <td>Non-Seasonal Full Time Permanent</td>\n",
       "    </tr>\n",
       "    <tr>\n",
       "      <th>1</th>\n",
       "      <td>2</td>\n",
       "      <td>Other Employees</td>\n",
       "    </tr>\n",
       "  </tbody>\n",
       "</table>\n",
       "</div>"
      ],
      "text/plain": [
       "   WORKSTAT                         WORKSTATT\n",
       "0         1  Non-Seasonal Full Time Permanent\n",
       "1         2                   Other Employees"
      ]
     },
     "execution_count": 179,
     "metadata": {},
     "output_type": "execute_result"
    }
   ],
   "source": [
    "wkstat_data.head()"
   ]
  },
  {
   "cell_type": "code",
   "execution_count": 180,
   "id": "97d42c17",
   "metadata": {},
   "outputs": [
    {
     "data": {
      "text/plain": [
       "(2, 2)"
      ]
     },
     "execution_count": 180,
     "metadata": {},
     "output_type": "execute_result"
    }
   ],
   "source": [
    "wkstat_data.shape"
   ]
  },
  {
   "cell_type": "code",
   "execution_count": 181,
   "id": "9614d396",
   "metadata": {},
   "outputs": [],
   "source": [
    "data_dict_wkstat = wkstat_data.set_index('WORKSTAT').to_dict()['WORKSTATT']"
   ]
  },
  {
   "cell_type": "code",
   "execution_count": 182,
   "id": "729c10b2",
   "metadata": {},
   "outputs": [],
   "source": [
    "#Change WORKSTAT values to WORKSTATT"
   ]
  },
  {
   "cell_type": "code",
   "execution_count": 183,
   "id": "638ede5b",
   "metadata": {},
   "outputs": [],
   "source": [
    "df_raw11 = df_raw10.replace({\"WORKSTAT\":data_dict_wkstat})"
   ]
  },
  {
   "cell_type": "code",
   "execution_count": 184,
   "id": "8f9e6c9f",
   "metadata": {},
   "outputs": [
    {
     "data": {
      "text/plain": [
       "0     Non-Seasonal Full Time Permanent\n",
       "1     Non-Seasonal Full Time Permanent\n",
       "2     Non-Seasonal Full Time Permanent\n",
       "3     Non-Seasonal Full Time Permanent\n",
       "4     Non-Seasonal Full Time Permanent\n",
       "5     Non-Seasonal Full Time Permanent\n",
       "6     Non-Seasonal Full Time Permanent\n",
       "7     Non-Seasonal Full Time Permanent\n",
       "8     Non-Seasonal Full Time Permanent\n",
       "9                      Other Employees\n",
       "10                     Other Employees\n",
       "11    Non-Seasonal Full Time Permanent\n",
       "12                     Other Employees\n",
       "13    Non-Seasonal Full Time Permanent\n",
       "14                     Other Employees\n",
       "15    Non-Seasonal Full Time Permanent\n",
       "16    Non-Seasonal Full Time Permanent\n",
       "17    Non-Seasonal Full Time Permanent\n",
       "18    Non-Seasonal Full Time Permanent\n",
       "19    Non-Seasonal Full Time Permanent\n",
       "Name: WORKSTAT, dtype: object"
      ]
     },
     "execution_count": 184,
     "metadata": {},
     "output_type": "execute_result"
    }
   ],
   "source": [
    "df_raw11[\"WORKSTAT\"].head(20)"
   ]
  },
  {
   "cell_type": "code",
   "execution_count": 185,
   "id": "4a3ea6aa",
   "metadata": {},
   "outputs": [],
   "source": [
    "#rename WORKSTAT and check data type"
   ]
  },
  {
   "cell_type": "code",
   "execution_count": 186,
   "id": "82838367",
   "metadata": {},
   "outputs": [
    {
     "data": {
      "text/plain": [
       "Non-Seasonal Full Time Permanent    1944595\n",
       "Other Employees                      209441\n",
       "Name: WORKSTAT, dtype: int64"
      ]
     },
     "execution_count": 186,
     "metadata": {},
     "output_type": "execute_result"
    }
   ],
   "source": [
    "df_raw11.WORKSTAT.value_counts(dropna = False)"
   ]
  },
  {
   "cell_type": "code",
   "execution_count": 187,
   "id": "b49cdc6a",
   "metadata": {},
   "outputs": [],
   "source": [
    "df_raw11.rename(columns = {'WORKSTAT':'work_status'},inplace = True)"
   ]
  },
  {
   "cell_type": "code",
   "execution_count": 188,
   "id": "f2f74705",
   "metadata": {},
   "outputs": [
    {
     "data": {
      "text/plain": [
       "str"
      ]
     },
     "execution_count": 188,
     "metadata": {},
     "output_type": "execute_result"
    }
   ],
   "source": [
    "type('work_status')"
   ]
  },
  {
   "cell_type": "code",
   "execution_count": 189,
   "id": "5192be77",
   "metadata": {},
   "outputs": [
    {
     "data": {
      "text/plain": [
       "(2154036, 24)"
      ]
     },
     "execution_count": 189,
     "metadata": {},
     "output_type": "execute_result"
    }
   ],
   "source": [
    "df_raw11.shape"
   ]
  },
  {
   "cell_type": "code",
   "execution_count": 190,
   "id": "4ac695ac",
   "metadata": {},
   "outputs": [
    {
     "name": "stdout",
     "output_type": "stream",
     "text": [
      "<class 'pandas.core.frame.DataFrame'>\n",
      "Int64Index: 2154036 entries, 0 to 2155623\n",
      "Data columns (total 24 columns):\n",
      " #   Column               Dtype  \n",
      "---  ------               -----  \n",
      " 0   sub_agency           object \n",
      " 1   LOC                  object \n",
      " 2   age_level            object \n",
      " 3   education_level      object \n",
      " 4   GSEGRD               object \n",
      " 5   years_of_service     object \n",
      " 6   occupation           object \n",
      " 7   occupation_category  object \n",
      " 8   PP                   object \n",
      " 9   PPGRD                object \n",
      " 10  SALLVL               object \n",
      " 11  STEMOCC              object \n",
      " 12  SUPERVIS             object \n",
      " 13  WORKSCH              object \n",
      " 14  work_status          object \n",
      " 15  DATECODE             int64  \n",
      " 16  SALARY               float64\n",
      " 17  LOS                  float64\n",
      " 18  age_level_code       float64\n",
      " 19  occupation_family    object \n",
      " 20  occupation_code      float64\n",
      " 21  agency               object \n",
      " 22  education_code       int64  \n",
      " 23  work_status_code     int64  \n",
      "dtypes: float64(4), int64(3), object(17)\n",
      "memory usage: 410.8+ MB\n"
     ]
    }
   ],
   "source": [
    "df_raw11.info()"
   ]
  },
  {
   "cell_type": "markdown",
   "id": "6062e9d3",
   "metadata": {},
   "source": [
    "### 10. Fix WORKSCH Column"
   ]
  },
  {
   "cell_type": "code",
   "execution_count": 191,
   "id": "51b97fe4",
   "metadata": {},
   "outputs": [],
   "source": [
    "#WORKSCH represents 2 values - full time or not full time\n",
    "#Duplicate column mark as 1/2 for analysis\n",
    "#Replace letters with values\n",
    "#Rename and make sure it is string data type"
   ]
  },
  {
   "cell_type": "code",
   "execution_count": 192,
   "id": "f7ac1f47",
   "metadata": {},
   "outputs": [],
   "source": [
    "df_raw11['full_time_code']=df_raw11['WORKSCH']"
   ]
  },
  {
   "cell_type": "code",
   "execution_count": 193,
   "id": "9afd2c00",
   "metadata": {},
   "outputs": [
    {
     "data": {
      "text/html": [
       "<div>\n",
       "<style scoped>\n",
       "    .dataframe tbody tr th:only-of-type {\n",
       "        vertical-align: middle;\n",
       "    }\n",
       "\n",
       "    .dataframe tbody tr th {\n",
       "        vertical-align: top;\n",
       "    }\n",
       "\n",
       "    .dataframe thead th {\n",
       "        text-align: right;\n",
       "    }\n",
       "</style>\n",
       "<table border=\"1\" class=\"dataframe\">\n",
       "  <thead>\n",
       "    <tr style=\"text-align: right;\">\n",
       "      <th></th>\n",
       "      <th>sub_agency</th>\n",
       "      <th>LOC</th>\n",
       "      <th>age_level</th>\n",
       "      <th>education_level</th>\n",
       "      <th>GSEGRD</th>\n",
       "      <th>years_of_service</th>\n",
       "      <th>occupation</th>\n",
       "      <th>occupation_category</th>\n",
       "      <th>PP</th>\n",
       "      <th>PPGRD</th>\n",
       "      <th>...</th>\n",
       "      <th>DATECODE</th>\n",
       "      <th>SALARY</th>\n",
       "      <th>LOS</th>\n",
       "      <th>age_level_code</th>\n",
       "      <th>occupation_family</th>\n",
       "      <th>occupation_code</th>\n",
       "      <th>agency</th>\n",
       "      <th>education_code</th>\n",
       "      <th>work_status_code</th>\n",
       "      <th>full_time_code</th>\n",
       "    </tr>\n",
       "  </thead>\n",
       "  <tbody>\n",
       "    <tr>\n",
       "      <th>0</th>\n",
       "      <td>ADMINISTRATIVE CONFERENCE OF THE UNITED STATES</td>\n",
       "      <td>11</td>\n",
       "      <td>40-44</td>\n",
       "      <td>BACHELORS</td>\n",
       "      <td>NaN</td>\n",
       "      <td>15 - 19</td>\n",
       "      <td>PROGRAM MANAGEMENT</td>\n",
       "      <td>Administrative</td>\n",
       "      <td>ES</td>\n",
       "      <td>ES-**</td>\n",
       "      <td>...</td>\n",
       "      <td>202203</td>\n",
       "      <td>192500.0</td>\n",
       "      <td>18.8</td>\n",
       "      <td>6.0</td>\n",
       "      <td>GENERAL ADMIN, CLERICAL, &amp; OFFICE SVCS</td>\n",
       "      <td>2.0</td>\n",
       "      <td>ADMINISTRATIVE CONFERENCE OF THE UNITED STATES</td>\n",
       "      <td>13</td>\n",
       "      <td>1</td>\n",
       "      <td>F</td>\n",
       "    </tr>\n",
       "    <tr>\n",
       "      <th>1</th>\n",
       "      <td>ADMINISTRATIVE CONFERENCE OF THE UNITED STATES</td>\n",
       "      <td>11</td>\n",
       "      <td>55-59</td>\n",
       "      <td>POST-BACHELORS</td>\n",
       "      <td>NaN</td>\n",
       "      <td>25 - 29</td>\n",
       "      <td>GENERAL ATTORNEY</td>\n",
       "      <td>Professional</td>\n",
       "      <td>ES</td>\n",
       "      <td>ES-**</td>\n",
       "      <td>...</td>\n",
       "      <td>202203</td>\n",
       "      <td>187000.0</td>\n",
       "      <td>29.2</td>\n",
       "      <td>9.0</td>\n",
       "      <td>LEGAL AND KINDRED</td>\n",
       "      <td>1.0</td>\n",
       "      <td>ADMINISTRATIVE CONFERENCE OF THE UNITED STATES</td>\n",
       "      <td>15</td>\n",
       "      <td>1</td>\n",
       "      <td>F</td>\n",
       "    </tr>\n",
       "    <tr>\n",
       "      <th>2</th>\n",
       "      <td>ADMINISTRATIVE CONFERENCE OF THE UNITED STATES</td>\n",
       "      <td>40</td>\n",
       "      <td>35-39</td>\n",
       "      <td>POST-BACHELORS</td>\n",
       "      <td>15.0</td>\n",
       "      <td>10 - 14</td>\n",
       "      <td>GENERAL ATTORNEY</td>\n",
       "      <td>Professional</td>\n",
       "      <td>99</td>\n",
       "      <td>GS-15</td>\n",
       "      <td>...</td>\n",
       "      <td>202203</td>\n",
       "      <td>161786.0</td>\n",
       "      <td>12.5</td>\n",
       "      <td>5.0</td>\n",
       "      <td>LEGAL AND KINDRED</td>\n",
       "      <td>1.0</td>\n",
       "      <td>ADMINISTRATIVE CONFERENCE OF THE UNITED STATES</td>\n",
       "      <td>15</td>\n",
       "      <td>1</td>\n",
       "      <td>F</td>\n",
       "    </tr>\n",
       "    <tr>\n",
       "      <th>3</th>\n",
       "      <td>ADMINISTRATIVE CONFERENCE OF THE UNITED STATES</td>\n",
       "      <td>11</td>\n",
       "      <td>35-39</td>\n",
       "      <td>POST-BACHELORS</td>\n",
       "      <td>15.0</td>\n",
       "      <td>10 - 14</td>\n",
       "      <td>GENERAL ATTORNEY</td>\n",
       "      <td>Professional</td>\n",
       "      <td>99</td>\n",
       "      <td>GS-15</td>\n",
       "      <td>...</td>\n",
       "      <td>202203</td>\n",
       "      <td>158383.0</td>\n",
       "      <td>10.5</td>\n",
       "      <td>5.0</td>\n",
       "      <td>LEGAL AND KINDRED</td>\n",
       "      <td>1.0</td>\n",
       "      <td>ADMINISTRATIVE CONFERENCE OF THE UNITED STATES</td>\n",
       "      <td>15</td>\n",
       "      <td>1</td>\n",
       "      <td>F</td>\n",
       "    </tr>\n",
       "    <tr>\n",
       "      <th>4</th>\n",
       "      <td>ADMINISTRATIVE CONFERENCE OF THE UNITED STATES</td>\n",
       "      <td>11</td>\n",
       "      <td>40-44</td>\n",
       "      <td>POST-BACHELORS</td>\n",
       "      <td>13.0</td>\n",
       "      <td>10 - 14</td>\n",
       "      <td>GENERAL ATTORNEY</td>\n",
       "      <td>Professional</td>\n",
       "      <td>99</td>\n",
       "      <td>GS-13</td>\n",
       "      <td>...</td>\n",
       "      <td>202203</td>\n",
       "      <td>121065.0</td>\n",
       "      <td>13.4</td>\n",
       "      <td>6.0</td>\n",
       "      <td>LEGAL AND KINDRED</td>\n",
       "      <td>1.0</td>\n",
       "      <td>ADMINISTRATIVE CONFERENCE OF THE UNITED STATES</td>\n",
       "      <td>15</td>\n",
       "      <td>1</td>\n",
       "      <td>F</td>\n",
       "    </tr>\n",
       "  </tbody>\n",
       "</table>\n",
       "<p>5 rows × 25 columns</p>\n",
       "</div>"
      ],
      "text/plain": [
       "                                       sub_agency LOC age_level  \\\n",
       "0  ADMINISTRATIVE CONFERENCE OF THE UNITED STATES  11     40-44   \n",
       "1  ADMINISTRATIVE CONFERENCE OF THE UNITED STATES  11     55-59   \n",
       "2  ADMINISTRATIVE CONFERENCE OF THE UNITED STATES  40     35-39   \n",
       "3  ADMINISTRATIVE CONFERENCE OF THE UNITED STATES  11     35-39   \n",
       "4  ADMINISTRATIVE CONFERENCE OF THE UNITED STATES  11     40-44   \n",
       "\n",
       "  education_level GSEGRD years_of_service          occupation  \\\n",
       "0       BACHELORS    NaN          15 - 19  PROGRAM MANAGEMENT   \n",
       "1  POST-BACHELORS    NaN          25 - 29    GENERAL ATTORNEY   \n",
       "2  POST-BACHELORS   15.0          10 - 14    GENERAL ATTORNEY   \n",
       "3  POST-BACHELORS   15.0          10 - 14    GENERAL ATTORNEY   \n",
       "4  POST-BACHELORS   13.0          10 - 14    GENERAL ATTORNEY   \n",
       "\n",
       "  occupation_category  PP  PPGRD  ... DATECODE    SALARY   LOS age_level_code  \\\n",
       "0      Administrative  ES  ES-**  ...   202203  192500.0  18.8            6.0   \n",
       "1        Professional  ES  ES-**  ...   202203  187000.0  29.2            9.0   \n",
       "2        Professional  99  GS-15  ...   202203  161786.0  12.5            5.0   \n",
       "3        Professional  99  GS-15  ...   202203  158383.0  10.5            5.0   \n",
       "4        Professional  99  GS-13  ...   202203  121065.0  13.4            6.0   \n",
       "\n",
       "                        occupation_family  occupation_code  \\\n",
       "0  GENERAL ADMIN, CLERICAL, & OFFICE SVCS              2.0   \n",
       "1                       LEGAL AND KINDRED              1.0   \n",
       "2                       LEGAL AND KINDRED              1.0   \n",
       "3                       LEGAL AND KINDRED              1.0   \n",
       "4                       LEGAL AND KINDRED              1.0   \n",
       "\n",
       "                                           agency  education_code  \\\n",
       "0  ADMINISTRATIVE CONFERENCE OF THE UNITED STATES              13   \n",
       "1  ADMINISTRATIVE CONFERENCE OF THE UNITED STATES              15   \n",
       "2  ADMINISTRATIVE CONFERENCE OF THE UNITED STATES              15   \n",
       "3  ADMINISTRATIVE CONFERENCE OF THE UNITED STATES              15   \n",
       "4  ADMINISTRATIVE CONFERENCE OF THE UNITED STATES              15   \n",
       "\n",
       "   work_status_code full_time_code  \n",
       "0                 1              F  \n",
       "1                 1              F  \n",
       "2                 1              F  \n",
       "3                 1              F  \n",
       "4                 1              F  \n",
       "\n",
       "[5 rows x 25 columns]"
      ]
     },
     "execution_count": 193,
     "metadata": {},
     "output_type": "execute_result"
    }
   ],
   "source": [
    "df_raw11.head()"
   ]
  },
  {
   "cell_type": "code",
   "execution_count": 194,
   "id": "9695cc27",
   "metadata": {},
   "outputs": [],
   "source": [
    "#Import WORKSCH.csv and set as data dictionary"
   ]
  },
  {
   "cell_type": "code",
   "execution_count": 195,
   "id": "88fbafcc",
   "metadata": {},
   "outputs": [],
   "source": [
    "worksch_data = pd.read_csv(os.path.join(path, 'original data', 'WRKSCH.csv'), index_col = False)"
   ]
  },
  {
   "cell_type": "code",
   "execution_count": 196,
   "id": "db3bbad0",
   "metadata": {},
   "outputs": [
    {
     "data": {
      "text/html": [
       "<div>\n",
       "<style scoped>\n",
       "    .dataframe tbody tr th:only-of-type {\n",
       "        vertical-align: middle;\n",
       "    }\n",
       "\n",
       "    .dataframe tbody tr th {\n",
       "        vertical-align: top;\n",
       "    }\n",
       "\n",
       "    .dataframe thead th {\n",
       "        text-align: right;\n",
       "    }\n",
       "</style>\n",
       "<table border=\"1\" class=\"dataframe\">\n",
       "  <thead>\n",
       "    <tr style=\"text-align: right;\">\n",
       "      <th></th>\n",
       "      <th>WORKSCH</th>\n",
       "      <th>WORKSCHT</th>\n",
       "      <th>full_time_code</th>\n",
       "    </tr>\n",
       "  </thead>\n",
       "  <tbody>\n",
       "    <tr>\n",
       "      <th>0</th>\n",
       "      <td>B</td>\n",
       "      <td>Full-time</td>\n",
       "      <td>1</td>\n",
       "    </tr>\n",
       "    <tr>\n",
       "      <th>1</th>\n",
       "      <td>F</td>\n",
       "      <td>Full-time</td>\n",
       "      <td>1</td>\n",
       "    </tr>\n",
       "    <tr>\n",
       "      <th>2</th>\n",
       "      <td>G</td>\n",
       "      <td>Full-time</td>\n",
       "      <td>1</td>\n",
       "    </tr>\n",
       "    <tr>\n",
       "      <th>3</th>\n",
       "      <td>H</td>\n",
       "      <td>Full-time</td>\n",
       "      <td>1</td>\n",
       "    </tr>\n",
       "    <tr>\n",
       "      <th>4</th>\n",
       "      <td>I</td>\n",
       "      <td>Not Full-time</td>\n",
       "      <td>2</td>\n",
       "    </tr>\n",
       "  </tbody>\n",
       "</table>\n",
       "</div>"
      ],
      "text/plain": [
       "  WORKSCH       WORKSCHT  full_time_code\n",
       "0       B      Full-time               1\n",
       "1       F      Full-time               1\n",
       "2       G      Full-time               1\n",
       "3       H      Full-time               1\n",
       "4       I  Not Full-time               2"
      ]
     },
     "execution_count": 196,
     "metadata": {},
     "output_type": "execute_result"
    }
   ],
   "source": [
    "worksch_data.head()"
   ]
  },
  {
   "cell_type": "code",
   "execution_count": 197,
   "id": "483c5838",
   "metadata": {},
   "outputs": [
    {
     "data": {
      "text/plain": [
       "(12, 3)"
      ]
     },
     "execution_count": 197,
     "metadata": {},
     "output_type": "execute_result"
    }
   ],
   "source": [
    "worksch_data.shape"
   ]
  },
  {
   "cell_type": "code",
   "execution_count": 198,
   "id": "1fba867d",
   "metadata": {},
   "outputs": [],
   "source": [
    "data_dict_worksch = worksch_data.set_index('WORKSCH').to_dict()['WORKSCHT']"
   ]
  },
  {
   "cell_type": "code",
   "execution_count": 199,
   "id": "e7549cec",
   "metadata": {},
   "outputs": [],
   "source": [
    "#Change WORKSCH values to WORKSCHT"
   ]
  },
  {
   "cell_type": "code",
   "execution_count": 200,
   "id": "7bd3984b",
   "metadata": {},
   "outputs": [],
   "source": [
    "df_raw12 = df_raw11.replace({\"WORKSCH\":data_dict_worksch})"
   ]
  },
  {
   "cell_type": "code",
   "execution_count": 201,
   "id": "802fcec0",
   "metadata": {},
   "outputs": [
    {
     "data": {
      "text/plain": [
       "0     Full-time\n",
       "1     Full-time\n",
       "2     Full-time\n",
       "3     Full-time\n",
       "4     Full-time\n",
       "5     Full-time\n",
       "6     Full-time\n",
       "7     Full-time\n",
       "8     Full-time\n",
       "9     Full-time\n",
       "10    Full-time\n",
       "11    Full-time\n",
       "12    Full-time\n",
       "13    Full-time\n",
       "14    Full-time\n",
       "15    Full-time\n",
       "16    Full-time\n",
       "17    Full-time\n",
       "18    Full-time\n",
       "19    Full-time\n",
       "Name: WORKSCH, dtype: object"
      ]
     },
     "execution_count": 201,
     "metadata": {},
     "output_type": "execute_result"
    }
   ],
   "source": [
    "df_raw12[\"WORKSCH\"].head(20)"
   ]
  },
  {
   "cell_type": "code",
   "execution_count": 202,
   "id": "f2dbe181",
   "metadata": {},
   "outputs": [
    {
     "data": {
      "text/plain": [
       "(2154036, 25)"
      ]
     },
     "execution_count": 202,
     "metadata": {},
     "output_type": "execute_result"
    }
   ],
   "source": [
    "df_raw12.shape"
   ]
  },
  {
   "cell_type": "code",
   "execution_count": 203,
   "id": "90dd8f8b",
   "metadata": {},
   "outputs": [
    {
     "data": {
      "text/plain": [
       "Full-time        2063251\n",
       "Not Full-time      90771\n",
       "Unspecified           14\n",
       "Name: WORKSCH, dtype: int64"
      ]
     },
     "execution_count": 203,
     "metadata": {},
     "output_type": "execute_result"
    }
   ],
   "source": [
    "df_raw12.WORKSCH.value_counts(dropna = False)"
   ]
  },
  {
   "cell_type": "code",
   "execution_count": 204,
   "id": "23db5fe5",
   "metadata": {},
   "outputs": [],
   "source": [
    "#rename WORKSCH and check data type is string"
   ]
  },
  {
   "cell_type": "code",
   "execution_count": 205,
   "id": "07714500",
   "metadata": {},
   "outputs": [],
   "source": [
    "df_raw12.rename(columns = {'WORKSCH':'full_time'},inplace = True)"
   ]
  },
  {
   "cell_type": "code",
   "execution_count": 206,
   "id": "541bba3f",
   "metadata": {},
   "outputs": [
    {
     "data": {
      "text/plain": [
       "str"
      ]
     },
     "execution_count": 206,
     "metadata": {},
     "output_type": "execute_result"
    }
   ],
   "source": [
    "type('full_time')"
   ]
  },
  {
   "cell_type": "code",
   "execution_count": 207,
   "id": "dd679cf9",
   "metadata": {},
   "outputs": [],
   "source": [
    "#use data dictionary to replace full_time_code as numbers for analysis"
   ]
  },
  {
   "cell_type": "code",
   "execution_count": 208,
   "id": "e26c048e",
   "metadata": {},
   "outputs": [],
   "source": [
    "data_dict_worksch2 = worksch_data.set_index('WORKSCH').to_dict()['full_time_code']"
   ]
  },
  {
   "cell_type": "code",
   "execution_count": 209,
   "id": "064cf292",
   "metadata": {},
   "outputs": [],
   "source": [
    "df_raw12b = df_raw12.replace({\"full_time_code\":data_dict_worksch2})"
   ]
  },
  {
   "cell_type": "code",
   "execution_count": 210,
   "id": "30425b83",
   "metadata": {},
   "outputs": [
    {
     "data": {
      "text/plain": [
       "(2154036, 25)"
      ]
     },
     "execution_count": 210,
     "metadata": {},
     "output_type": "execute_result"
    }
   ],
   "source": [
    "df_raw12b.shape"
   ]
  },
  {
   "cell_type": "code",
   "execution_count": 211,
   "id": "14bc2087",
   "metadata": {},
   "outputs": [
    {
     "data": {
      "text/plain": [
       "1     2063251\n",
       "2       90771\n",
       "99         14\n",
       "Name: full_time_code, dtype: int64"
      ]
     },
     "execution_count": 211,
     "metadata": {},
     "output_type": "execute_result"
    }
   ],
   "source": [
    "df_raw12b.full_time_code.value_counts(dropna = False)"
   ]
  },
  {
   "cell_type": "markdown",
   "id": "4b189d03",
   "metadata": {},
   "source": [
    "### 11. Fix SUPERVIS"
   ]
  },
  {
   "cell_type": "code",
   "execution_count": 212,
   "id": "12d6bf35",
   "metadata": {},
   "outputs": [],
   "source": [
    "# SUPERVIS is number coded for supervisor status (or not)\n",
    "# Create Duplicate column for analysis\n",
    "# Replace numbers with values\n",
    "# Rename and make sure it is string"
   ]
  },
  {
   "cell_type": "code",
   "execution_count": 213,
   "id": "0d0112f5",
   "metadata": {},
   "outputs": [],
   "source": [
    "#Import SUPER.csv and set as data dictionary"
   ]
  },
  {
   "cell_type": "code",
   "execution_count": 214,
   "id": "4ded6de8",
   "metadata": {},
   "outputs": [],
   "source": [
    "supervisor_data = pd.read_csv(os.path.join(path, 'original data', 'SUPER.csv'), index_col = False)"
   ]
  },
  {
   "cell_type": "code",
   "execution_count": 215,
   "id": "eefaaaec",
   "metadata": {},
   "outputs": [
    {
     "data": {
      "text/html": [
       "<div>\n",
       "<style scoped>\n",
       "    .dataframe tbody tr th:only-of-type {\n",
       "        vertical-align: middle;\n",
       "    }\n",
       "\n",
       "    .dataframe tbody tr th {\n",
       "        vertical-align: top;\n",
       "    }\n",
       "\n",
       "    .dataframe thead th {\n",
       "        text-align: right;\n",
       "    }\n",
       "</style>\n",
       "<table border=\"1\" class=\"dataframe\">\n",
       "  <thead>\n",
       "    <tr style=\"text-align: right;\">\n",
       "      <th></th>\n",
       "      <th>SUPERVIS</th>\n",
       "      <th>SUPERVIST</th>\n",
       "    </tr>\n",
       "  </thead>\n",
       "  <tbody>\n",
       "    <tr>\n",
       "      <th>0</th>\n",
       "      <td>2</td>\n",
       "      <td>SUPERVISOR OR MANAGER</td>\n",
       "    </tr>\n",
       "    <tr>\n",
       "      <th>1</th>\n",
       "      <td>6</td>\n",
       "      <td>LEADER</td>\n",
       "    </tr>\n",
       "    <tr>\n",
       "      <th>2</th>\n",
       "      <td>7</td>\n",
       "      <td>TEAM LEADER</td>\n",
       "    </tr>\n",
       "    <tr>\n",
       "      <th>3</th>\n",
       "      <td>4</td>\n",
       "      <td>SUPERVISOR (CSRA)</td>\n",
       "    </tr>\n",
       "    <tr>\n",
       "      <th>4</th>\n",
       "      <td>5</td>\n",
       "      <td>MANAGEMENT OFFICIAL (CSRA)</td>\n",
       "    </tr>\n",
       "  </tbody>\n",
       "</table>\n",
       "</div>"
      ],
      "text/plain": [
       "  SUPERVIS                   SUPERVIST\n",
       "0        2       SUPERVISOR OR MANAGER\n",
       "1        6                      LEADER\n",
       "2        7                 TEAM LEADER\n",
       "3        4           SUPERVISOR (CSRA)\n",
       "4        5  MANAGEMENT OFFICIAL (CSRA)"
      ]
     },
     "execution_count": 215,
     "metadata": {},
     "output_type": "execute_result"
    }
   ],
   "source": [
    "supervisor_data.head()"
   ]
  },
  {
   "cell_type": "code",
   "execution_count": 216,
   "id": "92e24d6e",
   "metadata": {},
   "outputs": [
    {
     "data": {
      "text/plain": [
       "(7, 2)"
      ]
     },
     "execution_count": 216,
     "metadata": {},
     "output_type": "execute_result"
    }
   ],
   "source": [
    "supervisor_data.shape"
   ]
  },
  {
   "cell_type": "code",
   "execution_count": 217,
   "id": "efcd638e",
   "metadata": {},
   "outputs": [
    {
     "data": {
      "text/plain": [
       "8    1134752\n",
       "8     678576\n",
       "2     172902\n",
       "2      78269\n",
       "6      22104\n",
       "4      15984\n",
       "4      15025\n",
       "5      12291\n",
       "7       9695\n",
       "6       5835\n",
       "7       4708\n",
       "5       3799\n",
       "*         96\n",
       "Name: SUPERVIS, dtype: int64"
      ]
     },
     "execution_count": 217,
     "metadata": {},
     "output_type": "execute_result"
    }
   ],
   "source": [
    "df_raw12b.SUPERVIS.value_counts(dropna = False)"
   ]
  },
  {
   "cell_type": "code",
   "execution_count": 218,
   "id": "4ffd6e04",
   "metadata": {},
   "outputs": [],
   "source": [
    "#Realized SUPERVIS has doubles of some objects, I will need to make them integers to merge the same number, then turn them back to object to make data dictionary"
   ]
  },
  {
   "cell_type": "code",
   "execution_count": 219,
   "id": "4fad330d",
   "metadata": {},
   "outputs": [],
   "source": [
    "df_raw12b['SUPERVIS'].replace(('*', '99'), inplace = True)"
   ]
  },
  {
   "cell_type": "code",
   "execution_count": 220,
   "id": "6fa774c3",
   "metadata": {},
   "outputs": [
    {
     "data": {
      "text/html": [
       "<div>\n",
       "<style scoped>\n",
       "    .dataframe tbody tr th:only-of-type {\n",
       "        vertical-align: middle;\n",
       "    }\n",
       "\n",
       "    .dataframe tbody tr th {\n",
       "        vertical-align: top;\n",
       "    }\n",
       "\n",
       "    .dataframe thead th {\n",
       "        text-align: right;\n",
       "    }\n",
       "</style>\n",
       "<table border=\"1\" class=\"dataframe\">\n",
       "  <thead>\n",
       "    <tr style=\"text-align: right;\">\n",
       "      <th></th>\n",
       "      <th>sub_agency</th>\n",
       "      <th>LOC</th>\n",
       "      <th>age_level</th>\n",
       "      <th>education_level</th>\n",
       "      <th>GSEGRD</th>\n",
       "      <th>years_of_service</th>\n",
       "      <th>occupation</th>\n",
       "      <th>occupation_category</th>\n",
       "      <th>PP</th>\n",
       "      <th>PPGRD</th>\n",
       "      <th>...</th>\n",
       "      <th>DATECODE</th>\n",
       "      <th>SALARY</th>\n",
       "      <th>LOS</th>\n",
       "      <th>age_level_code</th>\n",
       "      <th>occupation_family</th>\n",
       "      <th>occupation_code</th>\n",
       "      <th>agency</th>\n",
       "      <th>education_code</th>\n",
       "      <th>work_status_code</th>\n",
       "      <th>full_time_code</th>\n",
       "    </tr>\n",
       "  </thead>\n",
       "  <tbody>\n",
       "  </tbody>\n",
       "</table>\n",
       "<p>0 rows × 25 columns</p>\n",
       "</div>"
      ],
      "text/plain": [
       "Empty DataFrame\n",
       "Columns: [sub_agency, LOC, age_level, education_level, GSEGRD, years_of_service, occupation, occupation_category, PP, PPGRD, SALLVL, STEMOCC, SUPERVIS, full_time, work_status, DATECODE, SALARY, LOS, age_level_code, occupation_family, occupation_code, agency, education_code, work_status_code, full_time_code]\n",
       "Index: []\n",
       "\n",
       "[0 rows x 25 columns]"
      ]
     },
     "execution_count": 220,
     "metadata": {},
     "output_type": "execute_result"
    }
   ],
   "source": [
    "df_raw12b[df_raw12b.SUPERVIS == '*']"
   ]
  },
  {
   "cell_type": "code",
   "execution_count": 221,
   "id": "2882579d",
   "metadata": {},
   "outputs": [],
   "source": [
    "df_raw12b['SUPERVIS'] = df_raw12b['SUPERVIS'].astype('int64')"
   ]
  },
  {
   "cell_type": "code",
   "execution_count": 222,
   "id": "03b641e7",
   "metadata": {},
   "outputs": [
    {
     "data": {
      "text/plain": [
       "8    1813409\n",
       "2     251184\n",
       "4      31010\n",
       "6      27939\n",
       "5      16091\n",
       "7      14403\n",
       "Name: SUPERVIS, dtype: int64"
      ]
     },
     "execution_count": 222,
     "metadata": {},
     "output_type": "execute_result"
    }
   ],
   "source": [
    "df_raw12b.SUPERVIS.value_counts(dropna = False)"
   ]
  },
  {
   "cell_type": "code",
   "execution_count": 223,
   "id": "32a6c1d6",
   "metadata": {},
   "outputs": [],
   "source": [
    "df_raw12b['SUPERVIS'] = df_raw12b['SUPERVIS'].astype('str')"
   ]
  },
  {
   "cell_type": "code",
   "execution_count": 224,
   "id": "a7f907f0",
   "metadata": {},
   "outputs": [
    {
     "data": {
      "text/plain": [
       "2    1\n",
       "6    1\n",
       "7    1\n",
       "4    1\n",
       "5    1\n",
       "8    1\n",
       "*    1\n",
       "Name: SUPERVIS, dtype: int64"
      ]
     },
     "execution_count": 224,
     "metadata": {},
     "output_type": "execute_result"
    }
   ],
   "source": [
    "supervisor_data.SUPERVIS.value_counts(dropna = False)"
   ]
  },
  {
   "cell_type": "code",
   "execution_count": 225,
   "id": "e9ce1a68",
   "metadata": {},
   "outputs": [],
   "source": [
    "supervisor_data['SUPERVIS'].replace(('*', '99'), inplace = True)"
   ]
  },
  {
   "cell_type": "code",
   "execution_count": 226,
   "id": "3400c988",
   "metadata": {},
   "outputs": [
    {
     "data": {
      "text/plain": [
       "8    2\n",
       "2    1\n",
       "6    1\n",
       "7    1\n",
       "4    1\n",
       "5    1\n",
       "Name: SUPERVIS, dtype: int64"
      ]
     },
     "execution_count": 226,
     "metadata": {},
     "output_type": "execute_result"
    }
   ],
   "source": [
    "supervisor_data.SUPERVIS.value_counts(dropna = False)"
   ]
  },
  {
   "cell_type": "code",
   "execution_count": 227,
   "id": "0a33e742",
   "metadata": {},
   "outputs": [],
   "source": [
    "#Duplicate column for code value"
   ]
  },
  {
   "cell_type": "code",
   "execution_count": 228,
   "id": "de22935b",
   "metadata": {},
   "outputs": [],
   "source": [
    "df_raw12b['supervisor_code']=df_raw12b['SUPERVIS']"
   ]
  },
  {
   "cell_type": "code",
   "execution_count": 229,
   "id": "b6341636",
   "metadata": {},
   "outputs": [
    {
     "data": {
      "text/html": [
       "<div>\n",
       "<style scoped>\n",
       "    .dataframe tbody tr th:only-of-type {\n",
       "        vertical-align: middle;\n",
       "    }\n",
       "\n",
       "    .dataframe tbody tr th {\n",
       "        vertical-align: top;\n",
       "    }\n",
       "\n",
       "    .dataframe thead th {\n",
       "        text-align: right;\n",
       "    }\n",
       "</style>\n",
       "<table border=\"1\" class=\"dataframe\">\n",
       "  <thead>\n",
       "    <tr style=\"text-align: right;\">\n",
       "      <th></th>\n",
       "      <th>sub_agency</th>\n",
       "      <th>LOC</th>\n",
       "      <th>age_level</th>\n",
       "      <th>education_level</th>\n",
       "      <th>GSEGRD</th>\n",
       "      <th>years_of_service</th>\n",
       "      <th>occupation</th>\n",
       "      <th>occupation_category</th>\n",
       "      <th>PP</th>\n",
       "      <th>PPGRD</th>\n",
       "      <th>...</th>\n",
       "      <th>SALARY</th>\n",
       "      <th>LOS</th>\n",
       "      <th>age_level_code</th>\n",
       "      <th>occupation_family</th>\n",
       "      <th>occupation_code</th>\n",
       "      <th>agency</th>\n",
       "      <th>education_code</th>\n",
       "      <th>work_status_code</th>\n",
       "      <th>full_time_code</th>\n",
       "      <th>supervisor_code</th>\n",
       "    </tr>\n",
       "  </thead>\n",
       "  <tbody>\n",
       "    <tr>\n",
       "      <th>0</th>\n",
       "      <td>ADMINISTRATIVE CONFERENCE OF THE UNITED STATES</td>\n",
       "      <td>11</td>\n",
       "      <td>40-44</td>\n",
       "      <td>BACHELORS</td>\n",
       "      <td>NaN</td>\n",
       "      <td>15 - 19</td>\n",
       "      <td>PROGRAM MANAGEMENT</td>\n",
       "      <td>Administrative</td>\n",
       "      <td>ES</td>\n",
       "      <td>ES-**</td>\n",
       "      <td>...</td>\n",
       "      <td>192500.0</td>\n",
       "      <td>18.8</td>\n",
       "      <td>6.0</td>\n",
       "      <td>GENERAL ADMIN, CLERICAL, &amp; OFFICE SVCS</td>\n",
       "      <td>2.0</td>\n",
       "      <td>ADMINISTRATIVE CONFERENCE OF THE UNITED STATES</td>\n",
       "      <td>13</td>\n",
       "      <td>1</td>\n",
       "      <td>1</td>\n",
       "      <td>2</td>\n",
       "    </tr>\n",
       "    <tr>\n",
       "      <th>1</th>\n",
       "      <td>ADMINISTRATIVE CONFERENCE OF THE UNITED STATES</td>\n",
       "      <td>11</td>\n",
       "      <td>55-59</td>\n",
       "      <td>POST-BACHELORS</td>\n",
       "      <td>NaN</td>\n",
       "      <td>25 - 29</td>\n",
       "      <td>GENERAL ATTORNEY</td>\n",
       "      <td>Professional</td>\n",
       "      <td>ES</td>\n",
       "      <td>ES-**</td>\n",
       "      <td>...</td>\n",
       "      <td>187000.0</td>\n",
       "      <td>29.2</td>\n",
       "      <td>9.0</td>\n",
       "      <td>LEGAL AND KINDRED</td>\n",
       "      <td>1.0</td>\n",
       "      <td>ADMINISTRATIVE CONFERENCE OF THE UNITED STATES</td>\n",
       "      <td>15</td>\n",
       "      <td>1</td>\n",
       "      <td>1</td>\n",
       "      <td>2</td>\n",
       "    </tr>\n",
       "    <tr>\n",
       "      <th>2</th>\n",
       "      <td>ADMINISTRATIVE CONFERENCE OF THE UNITED STATES</td>\n",
       "      <td>40</td>\n",
       "      <td>35-39</td>\n",
       "      <td>POST-BACHELORS</td>\n",
       "      <td>15.0</td>\n",
       "      <td>10 - 14</td>\n",
       "      <td>GENERAL ATTORNEY</td>\n",
       "      <td>Professional</td>\n",
       "      <td>99</td>\n",
       "      <td>GS-15</td>\n",
       "      <td>...</td>\n",
       "      <td>161786.0</td>\n",
       "      <td>12.5</td>\n",
       "      <td>5.0</td>\n",
       "      <td>LEGAL AND KINDRED</td>\n",
       "      <td>1.0</td>\n",
       "      <td>ADMINISTRATIVE CONFERENCE OF THE UNITED STATES</td>\n",
       "      <td>15</td>\n",
       "      <td>1</td>\n",
       "      <td>1</td>\n",
       "      <td>2</td>\n",
       "    </tr>\n",
       "    <tr>\n",
       "      <th>3</th>\n",
       "      <td>ADMINISTRATIVE CONFERENCE OF THE UNITED STATES</td>\n",
       "      <td>11</td>\n",
       "      <td>35-39</td>\n",
       "      <td>POST-BACHELORS</td>\n",
       "      <td>15.0</td>\n",
       "      <td>10 - 14</td>\n",
       "      <td>GENERAL ATTORNEY</td>\n",
       "      <td>Professional</td>\n",
       "      <td>99</td>\n",
       "      <td>GS-15</td>\n",
       "      <td>...</td>\n",
       "      <td>158383.0</td>\n",
       "      <td>10.5</td>\n",
       "      <td>5.0</td>\n",
       "      <td>LEGAL AND KINDRED</td>\n",
       "      <td>1.0</td>\n",
       "      <td>ADMINISTRATIVE CONFERENCE OF THE UNITED STATES</td>\n",
       "      <td>15</td>\n",
       "      <td>1</td>\n",
       "      <td>1</td>\n",
       "      <td>8</td>\n",
       "    </tr>\n",
       "    <tr>\n",
       "      <th>4</th>\n",
       "      <td>ADMINISTRATIVE CONFERENCE OF THE UNITED STATES</td>\n",
       "      <td>11</td>\n",
       "      <td>40-44</td>\n",
       "      <td>POST-BACHELORS</td>\n",
       "      <td>13.0</td>\n",
       "      <td>10 - 14</td>\n",
       "      <td>GENERAL ATTORNEY</td>\n",
       "      <td>Professional</td>\n",
       "      <td>99</td>\n",
       "      <td>GS-13</td>\n",
       "      <td>...</td>\n",
       "      <td>121065.0</td>\n",
       "      <td>13.4</td>\n",
       "      <td>6.0</td>\n",
       "      <td>LEGAL AND KINDRED</td>\n",
       "      <td>1.0</td>\n",
       "      <td>ADMINISTRATIVE CONFERENCE OF THE UNITED STATES</td>\n",
       "      <td>15</td>\n",
       "      <td>1</td>\n",
       "      <td>1</td>\n",
       "      <td>8</td>\n",
       "    </tr>\n",
       "  </tbody>\n",
       "</table>\n",
       "<p>5 rows × 26 columns</p>\n",
       "</div>"
      ],
      "text/plain": [
       "                                       sub_agency LOC age_level  \\\n",
       "0  ADMINISTRATIVE CONFERENCE OF THE UNITED STATES  11     40-44   \n",
       "1  ADMINISTRATIVE CONFERENCE OF THE UNITED STATES  11     55-59   \n",
       "2  ADMINISTRATIVE CONFERENCE OF THE UNITED STATES  40     35-39   \n",
       "3  ADMINISTRATIVE CONFERENCE OF THE UNITED STATES  11     35-39   \n",
       "4  ADMINISTRATIVE CONFERENCE OF THE UNITED STATES  11     40-44   \n",
       "\n",
       "  education_level GSEGRD years_of_service          occupation  \\\n",
       "0       BACHELORS    NaN          15 - 19  PROGRAM MANAGEMENT   \n",
       "1  POST-BACHELORS    NaN          25 - 29    GENERAL ATTORNEY   \n",
       "2  POST-BACHELORS   15.0          10 - 14    GENERAL ATTORNEY   \n",
       "3  POST-BACHELORS   15.0          10 - 14    GENERAL ATTORNEY   \n",
       "4  POST-BACHELORS   13.0          10 - 14    GENERAL ATTORNEY   \n",
       "\n",
       "  occupation_category  PP  PPGRD  ...    SALARY   LOS age_level_code  \\\n",
       "0      Administrative  ES  ES-**  ...  192500.0  18.8            6.0   \n",
       "1        Professional  ES  ES-**  ...  187000.0  29.2            9.0   \n",
       "2        Professional  99  GS-15  ...  161786.0  12.5            5.0   \n",
       "3        Professional  99  GS-15  ...  158383.0  10.5            5.0   \n",
       "4        Professional  99  GS-13  ...  121065.0  13.4            6.0   \n",
       "\n",
       "                        occupation_family occupation_code  \\\n",
       "0  GENERAL ADMIN, CLERICAL, & OFFICE SVCS             2.0   \n",
       "1                       LEGAL AND KINDRED             1.0   \n",
       "2                       LEGAL AND KINDRED             1.0   \n",
       "3                       LEGAL AND KINDRED             1.0   \n",
       "4                       LEGAL AND KINDRED             1.0   \n",
       "\n",
       "                                           agency  education_code  \\\n",
       "0  ADMINISTRATIVE CONFERENCE OF THE UNITED STATES              13   \n",
       "1  ADMINISTRATIVE CONFERENCE OF THE UNITED STATES              15   \n",
       "2  ADMINISTRATIVE CONFERENCE OF THE UNITED STATES              15   \n",
       "3  ADMINISTRATIVE CONFERENCE OF THE UNITED STATES              15   \n",
       "4  ADMINISTRATIVE CONFERENCE OF THE UNITED STATES              15   \n",
       "\n",
       "   work_status_code  full_time_code supervisor_code  \n",
       "0                 1               1               2  \n",
       "1                 1               1               2  \n",
       "2                 1               1               2  \n",
       "3                 1               1               8  \n",
       "4                 1               1               8  \n",
       "\n",
       "[5 rows x 26 columns]"
      ]
     },
     "execution_count": 229,
     "metadata": {},
     "output_type": "execute_result"
    }
   ],
   "source": [
    "df_raw12b.head()"
   ]
  },
  {
   "cell_type": "code",
   "execution_count": 230,
   "id": "4e1ae71c",
   "metadata": {},
   "outputs": [
    {
     "data": {
      "text/plain": [
       "(2154036, 26)"
      ]
     },
     "execution_count": 230,
     "metadata": {},
     "output_type": "execute_result"
    }
   ],
   "source": [
    "df_raw12b.shape"
   ]
  },
  {
   "cell_type": "code",
   "execution_count": 231,
   "id": "2652f5ee",
   "metadata": {},
   "outputs": [
    {
     "data": {
      "text/plain": [
       "str"
      ]
     },
     "execution_count": 231,
     "metadata": {},
     "output_type": "execute_result"
    }
   ],
   "source": [
    "type('supervisor_code')"
   ]
  },
  {
   "cell_type": "code",
   "execution_count": 232,
   "id": "a30cd82c",
   "metadata": {},
   "outputs": [
    {
     "data": {
      "text/plain": [
       "8    1813409\n",
       "2     251184\n",
       "4      31010\n",
       "6      27939\n",
       "5      16091\n",
       "7      14403\n",
       "Name: supervisor_code, dtype: int64"
      ]
     },
     "execution_count": 232,
     "metadata": {},
     "output_type": "execute_result"
    }
   ],
   "source": [
    "df_raw12b.supervisor_code.value_counts(dropna = False)"
   ]
  },
  {
   "cell_type": "code",
   "execution_count": 233,
   "id": "074b9379",
   "metadata": {},
   "outputs": [],
   "source": [
    "df_raw12b['supervisor_code']=df_raw12b['supervisor_code'].astype('int64')"
   ]
  },
  {
   "cell_type": "code",
   "execution_count": 234,
   "id": "46500e6e",
   "metadata": {},
   "outputs": [],
   "source": [
    "#Create Data Dictionary"
   ]
  },
  {
   "cell_type": "code",
   "execution_count": 235,
   "id": "b35274f5",
   "metadata": {},
   "outputs": [],
   "source": [
    "data_dict_supervisor = supervisor_data.set_index('SUPERVIS').to_dict()['SUPERVIST']"
   ]
  },
  {
   "cell_type": "code",
   "execution_count": 236,
   "id": "23320105",
   "metadata": {},
   "outputs": [],
   "source": [
    "df_raw13 = df_raw12b.replace({\"SUPERVIS\":data_dict_supervisor})"
   ]
  },
  {
   "cell_type": "code",
   "execution_count": 237,
   "id": "ad42101f",
   "metadata": {},
   "outputs": [
    {
     "data": {
      "text/plain": [
       "0    SUPERVISOR OR MANAGER\n",
       "1    SUPERVISOR OR MANAGER\n",
       "2    SUPERVISOR OR MANAGER\n",
       "3              UNSPECIFIED\n",
       "4              UNSPECIFIED\n",
       "5              UNSPECIFIED\n",
       "6    SUPERVISOR OR MANAGER\n",
       "7              UNSPECIFIED\n",
       "8              UNSPECIFIED\n",
       "9              UNSPECIFIED\n",
       "Name: SUPERVIS, dtype: object"
      ]
     },
     "execution_count": 237,
     "metadata": {},
     "output_type": "execute_result"
    }
   ],
   "source": [
    "df_raw13['SUPERVIS'].head(10)"
   ]
  },
  {
   "cell_type": "code",
   "execution_count": 238,
   "id": "287adbde",
   "metadata": {},
   "outputs": [
    {
     "data": {
      "text/plain": [
       "(2154036, 26)"
      ]
     },
     "execution_count": 238,
     "metadata": {},
     "output_type": "execute_result"
    }
   ],
   "source": [
    "df_raw13.shape"
   ]
  },
  {
   "cell_type": "code",
   "execution_count": 239,
   "id": "b3e2f692",
   "metadata": {},
   "outputs": [
    {
     "data": {
      "text/plain": [
       "UNSPECIFIED                   1813409\n",
       "SUPERVISOR OR MANAGER          251184\n",
       "SUPERVISOR (CSRA)               31010\n",
       "LEADER                          27939\n",
       "MANAGEMENT OFFICIAL (CSRA)      16091\n",
       "TEAM LEADER                     14403\n",
       "Name: SUPERVIS, dtype: int64"
      ]
     },
     "execution_count": 239,
     "metadata": {},
     "output_type": "execute_result"
    }
   ],
   "source": [
    "df_raw13.SUPERVIS.value_counts(dropna=False)"
   ]
  },
  {
   "cell_type": "code",
   "execution_count": 240,
   "id": "5edea358",
   "metadata": {},
   "outputs": [],
   "source": [
    "#rename SUPERVIS and check data type is string"
   ]
  },
  {
   "cell_type": "code",
   "execution_count": 241,
   "id": "595260f8",
   "metadata": {},
   "outputs": [],
   "source": [
    "df_raw13.rename(columns = {'SUPERVIS':'supervisor_status'},inplace = True)"
   ]
  },
  {
   "cell_type": "code",
   "execution_count": 242,
   "id": "250febd7",
   "metadata": {},
   "outputs": [
    {
     "data": {
      "text/plain": [
       "str"
      ]
     },
     "execution_count": 242,
     "metadata": {},
     "output_type": "execute_result"
    }
   ],
   "source": [
    "type('supervisor_status')"
   ]
  },
  {
   "cell_type": "markdown",
   "id": "eab82a4e",
   "metadata": {},
   "source": [
    "### 12. Fix PP and PPGRD"
   ]
  },
  {
   "cell_type": "code",
   "execution_count": 243,
   "id": "af29c5ff",
   "metadata": {},
   "outputs": [],
   "source": [
    "#PP is a two letter code for Pay Plan, with 5 categories - it can be deleted as these are all categories of PPGRD\n",
    "#PPGRD has 2 letters for pay plan '-' then 2 numbers which are the grade (which we have a column for already)\n",
    "#separate 2 letters out of PPGRD then change values\n",
    "#Rename and make sure it is string"
   ]
  },
  {
   "cell_type": "code",
   "execution_count": 244,
   "id": "e7f83ddc",
   "metadata": {},
   "outputs": [],
   "source": [
    "#Delete column PP"
   ]
  },
  {
   "cell_type": "code",
   "execution_count": 245,
   "id": "80b7a98b",
   "metadata": {},
   "outputs": [],
   "source": [
    "df_raw14 = df_raw13.drop(columns =['PP']) "
   ]
  },
  {
   "cell_type": "code",
   "execution_count": 246,
   "id": "abcf3e99",
   "metadata": {},
   "outputs": [
    {
     "data": {
      "text/html": [
       "<div>\n",
       "<style scoped>\n",
       "    .dataframe tbody tr th:only-of-type {\n",
       "        vertical-align: middle;\n",
       "    }\n",
       "\n",
       "    .dataframe tbody tr th {\n",
       "        vertical-align: top;\n",
       "    }\n",
       "\n",
       "    .dataframe thead th {\n",
       "        text-align: right;\n",
       "    }\n",
       "</style>\n",
       "<table border=\"1\" class=\"dataframe\">\n",
       "  <thead>\n",
       "    <tr style=\"text-align: right;\">\n",
       "      <th></th>\n",
       "      <th>sub_agency</th>\n",
       "      <th>LOC</th>\n",
       "      <th>age_level</th>\n",
       "      <th>education_level</th>\n",
       "      <th>GSEGRD</th>\n",
       "      <th>years_of_service</th>\n",
       "      <th>occupation</th>\n",
       "      <th>occupation_category</th>\n",
       "      <th>PPGRD</th>\n",
       "      <th>SALLVL</th>\n",
       "      <th>...</th>\n",
       "      <th>SALARY</th>\n",
       "      <th>LOS</th>\n",
       "      <th>age_level_code</th>\n",
       "      <th>occupation_family</th>\n",
       "      <th>occupation_code</th>\n",
       "      <th>agency</th>\n",
       "      <th>education_code</th>\n",
       "      <th>work_status_code</th>\n",
       "      <th>full_time_code</th>\n",
       "      <th>supervisor_code</th>\n",
       "    </tr>\n",
       "  </thead>\n",
       "  <tbody>\n",
       "    <tr>\n",
       "      <th>0</th>\n",
       "      <td>ADMINISTRATIVE CONFERENCE OF THE UNITED STATES</td>\n",
       "      <td>11</td>\n",
       "      <td>40-44</td>\n",
       "      <td>BACHELORS</td>\n",
       "      <td>NaN</td>\n",
       "      <td>15 - 19</td>\n",
       "      <td>PROGRAM MANAGEMENT</td>\n",
       "      <td>Administrative</td>\n",
       "      <td>ES-**</td>\n",
       "      <td>S</td>\n",
       "      <td>...</td>\n",
       "      <td>192500.0</td>\n",
       "      <td>18.8</td>\n",
       "      <td>6.0</td>\n",
       "      <td>GENERAL ADMIN, CLERICAL, &amp; OFFICE SVCS</td>\n",
       "      <td>2.0</td>\n",
       "      <td>ADMINISTRATIVE CONFERENCE OF THE UNITED STATES</td>\n",
       "      <td>13</td>\n",
       "      <td>1</td>\n",
       "      <td>1</td>\n",
       "      <td>2</td>\n",
       "    </tr>\n",
       "    <tr>\n",
       "      <th>1</th>\n",
       "      <td>ADMINISTRATIVE CONFERENCE OF THE UNITED STATES</td>\n",
       "      <td>11</td>\n",
       "      <td>55-59</td>\n",
       "      <td>POST-BACHELORS</td>\n",
       "      <td>NaN</td>\n",
       "      <td>25 - 29</td>\n",
       "      <td>GENERAL ATTORNEY</td>\n",
       "      <td>Professional</td>\n",
       "      <td>ES-**</td>\n",
       "      <td>R</td>\n",
       "      <td>...</td>\n",
       "      <td>187000.0</td>\n",
       "      <td>29.2</td>\n",
       "      <td>9.0</td>\n",
       "      <td>LEGAL AND KINDRED</td>\n",
       "      <td>1.0</td>\n",
       "      <td>ADMINISTRATIVE CONFERENCE OF THE UNITED STATES</td>\n",
       "      <td>15</td>\n",
       "      <td>1</td>\n",
       "      <td>1</td>\n",
       "      <td>2</td>\n",
       "    </tr>\n",
       "    <tr>\n",
       "      <th>2</th>\n",
       "      <td>ADMINISTRATIVE CONFERENCE OF THE UNITED STATES</td>\n",
       "      <td>40</td>\n",
       "      <td>35-39</td>\n",
       "      <td>POST-BACHELORS</td>\n",
       "      <td>15.0</td>\n",
       "      <td>10 - 14</td>\n",
       "      <td>GENERAL ATTORNEY</td>\n",
       "      <td>Professional</td>\n",
       "      <td>GS-15</td>\n",
       "      <td>P</td>\n",
       "      <td>...</td>\n",
       "      <td>161786.0</td>\n",
       "      <td>12.5</td>\n",
       "      <td>5.0</td>\n",
       "      <td>LEGAL AND KINDRED</td>\n",
       "      <td>1.0</td>\n",
       "      <td>ADMINISTRATIVE CONFERENCE OF THE UNITED STATES</td>\n",
       "      <td>15</td>\n",
       "      <td>1</td>\n",
       "      <td>1</td>\n",
       "      <td>2</td>\n",
       "    </tr>\n",
       "    <tr>\n",
       "      <th>3</th>\n",
       "      <td>ADMINISTRATIVE CONFERENCE OF THE UNITED STATES</td>\n",
       "      <td>11</td>\n",
       "      <td>35-39</td>\n",
       "      <td>POST-BACHELORS</td>\n",
       "      <td>15.0</td>\n",
       "      <td>10 - 14</td>\n",
       "      <td>GENERAL ATTORNEY</td>\n",
       "      <td>Professional</td>\n",
       "      <td>GS-15</td>\n",
       "      <td>O</td>\n",
       "      <td>...</td>\n",
       "      <td>158383.0</td>\n",
       "      <td>10.5</td>\n",
       "      <td>5.0</td>\n",
       "      <td>LEGAL AND KINDRED</td>\n",
       "      <td>1.0</td>\n",
       "      <td>ADMINISTRATIVE CONFERENCE OF THE UNITED STATES</td>\n",
       "      <td>15</td>\n",
       "      <td>1</td>\n",
       "      <td>1</td>\n",
       "      <td>8</td>\n",
       "    </tr>\n",
       "    <tr>\n",
       "      <th>4</th>\n",
       "      <td>ADMINISTRATIVE CONFERENCE OF THE UNITED STATES</td>\n",
       "      <td>11</td>\n",
       "      <td>40-44</td>\n",
       "      <td>POST-BACHELORS</td>\n",
       "      <td>13.0</td>\n",
       "      <td>10 - 14</td>\n",
       "      <td>GENERAL ATTORNEY</td>\n",
       "      <td>Professional</td>\n",
       "      <td>GS-13</td>\n",
       "      <td>L</td>\n",
       "      <td>...</td>\n",
       "      <td>121065.0</td>\n",
       "      <td>13.4</td>\n",
       "      <td>6.0</td>\n",
       "      <td>LEGAL AND KINDRED</td>\n",
       "      <td>1.0</td>\n",
       "      <td>ADMINISTRATIVE CONFERENCE OF THE UNITED STATES</td>\n",
       "      <td>15</td>\n",
       "      <td>1</td>\n",
       "      <td>1</td>\n",
       "      <td>8</td>\n",
       "    </tr>\n",
       "  </tbody>\n",
       "</table>\n",
       "<p>5 rows × 25 columns</p>\n",
       "</div>"
      ],
      "text/plain": [
       "                                       sub_agency LOC age_level  \\\n",
       "0  ADMINISTRATIVE CONFERENCE OF THE UNITED STATES  11     40-44   \n",
       "1  ADMINISTRATIVE CONFERENCE OF THE UNITED STATES  11     55-59   \n",
       "2  ADMINISTRATIVE CONFERENCE OF THE UNITED STATES  40     35-39   \n",
       "3  ADMINISTRATIVE CONFERENCE OF THE UNITED STATES  11     35-39   \n",
       "4  ADMINISTRATIVE CONFERENCE OF THE UNITED STATES  11     40-44   \n",
       "\n",
       "  education_level GSEGRD years_of_service          occupation  \\\n",
       "0       BACHELORS    NaN          15 - 19  PROGRAM MANAGEMENT   \n",
       "1  POST-BACHELORS    NaN          25 - 29    GENERAL ATTORNEY   \n",
       "2  POST-BACHELORS   15.0          10 - 14    GENERAL ATTORNEY   \n",
       "3  POST-BACHELORS   15.0          10 - 14    GENERAL ATTORNEY   \n",
       "4  POST-BACHELORS   13.0          10 - 14    GENERAL ATTORNEY   \n",
       "\n",
       "  occupation_category  PPGRD SALLVL  ...    SALARY   LOS age_level_code  \\\n",
       "0      Administrative  ES-**      S  ...  192500.0  18.8            6.0   \n",
       "1        Professional  ES-**      R  ...  187000.0  29.2            9.0   \n",
       "2        Professional  GS-15      P  ...  161786.0  12.5            5.0   \n",
       "3        Professional  GS-15      O  ...  158383.0  10.5            5.0   \n",
       "4        Professional  GS-13      L  ...  121065.0  13.4            6.0   \n",
       "\n",
       "                        occupation_family  occupation_code  \\\n",
       "0  GENERAL ADMIN, CLERICAL, & OFFICE SVCS              2.0   \n",
       "1                       LEGAL AND KINDRED              1.0   \n",
       "2                       LEGAL AND KINDRED              1.0   \n",
       "3                       LEGAL AND KINDRED              1.0   \n",
       "4                       LEGAL AND KINDRED              1.0   \n",
       "\n",
       "                                           agency  education_code  \\\n",
       "0  ADMINISTRATIVE CONFERENCE OF THE UNITED STATES              13   \n",
       "1  ADMINISTRATIVE CONFERENCE OF THE UNITED STATES              15   \n",
       "2  ADMINISTRATIVE CONFERENCE OF THE UNITED STATES              15   \n",
       "3  ADMINISTRATIVE CONFERENCE OF THE UNITED STATES              15   \n",
       "4  ADMINISTRATIVE CONFERENCE OF THE UNITED STATES              15   \n",
       "\n",
       "   work_status_code full_time_code  supervisor_code  \n",
       "0                 1              1                2  \n",
       "1                 1              1                2  \n",
       "2                 1              1                2  \n",
       "3                 1              1                8  \n",
       "4                 1              1                8  \n",
       "\n",
       "[5 rows x 25 columns]"
      ]
     },
     "execution_count": 246,
     "metadata": {},
     "output_type": "execute_result"
    }
   ],
   "source": [
    "df_raw14.head()"
   ]
  },
  {
   "cell_type": "code",
   "execution_count": 247,
   "id": "b8f839d8",
   "metadata": {},
   "outputs": [
    {
     "data": {
      "text/plain": [
       "(2154036, 25)"
      ]
     },
     "execution_count": 247,
     "metadata": {},
     "output_type": "execute_result"
    }
   ],
   "source": [
    "df_raw14.shape"
   ]
  },
  {
   "cell_type": "code",
   "execution_count": 248,
   "id": "feb3e608",
   "metadata": {},
   "outputs": [],
   "source": [
    "#Pull first two characters from column PPGRD and replace values in PPGRD with that"
   ]
  },
  {
   "cell_type": "code",
   "execution_count": 249,
   "id": "a99624aa",
   "metadata": {},
   "outputs": [],
   "source": [
    "df_raw14['PPGRD'] = df_raw14['PPGRD'].str[:2]"
   ]
  },
  {
   "cell_type": "code",
   "execution_count": 250,
   "id": "a629c815",
   "metadata": {},
   "outputs": [
    {
     "data": {
      "text/plain": [
       "0    ES\n",
       "1    ES\n",
       "2    GS\n",
       "3    GS\n",
       "4    GS\n",
       "5    GS\n",
       "6    ES\n",
       "7    GS\n",
       "8    GS\n",
       "9    GS\n",
       "Name: PPGRD, dtype: object"
      ]
     },
     "execution_count": 250,
     "metadata": {},
     "output_type": "execute_result"
    }
   ],
   "source": [
    "df_raw14['PPGRD'].head(10)"
   ]
  },
  {
   "cell_type": "code",
   "execution_count": 251,
   "id": "0c5951b3",
   "metadata": {},
   "outputs": [],
   "source": [
    "#Import PP.csv and create Data Dictionary"
   ]
  },
  {
   "cell_type": "code",
   "execution_count": 252,
   "id": "dd599e4a",
   "metadata": {},
   "outputs": [],
   "source": [
    "payplan_data = pd.read_csv(os.path.join(path, 'original data', 'PP.csv'), index_col = False)"
   ]
  },
  {
   "cell_type": "code",
   "execution_count": 253,
   "id": "badfd1bb",
   "metadata": {},
   "outputs": [
    {
     "data": {
      "text/html": [
       "<div>\n",
       "<style scoped>\n",
       "    .dataframe tbody tr th:only-of-type {\n",
       "        vertical-align: middle;\n",
       "    }\n",
       "\n",
       "    .dataframe tbody tr th {\n",
       "        vertical-align: top;\n",
       "    }\n",
       "\n",
       "    .dataframe thead th {\n",
       "        text-align: right;\n",
       "    }\n",
       "</style>\n",
       "<table border=\"1\" class=\"dataframe\">\n",
       "  <thead>\n",
       "    <tr style=\"text-align: right;\">\n",
       "      <th></th>\n",
       "      <th>PPGRD</th>\n",
       "      <th>PAYPLANT</th>\n",
       "    </tr>\n",
       "  </thead>\n",
       "  <tbody>\n",
       "    <tr>\n",
       "      <th>0</th>\n",
       "      <td>GL</td>\n",
       "      <td>GL-GS EMPLOYEES IN GRADES 3 THROUGH 10 PAID A ...</td>\n",
       "    </tr>\n",
       "    <tr>\n",
       "      <th>1</th>\n",
       "      <td>GL</td>\n",
       "      <td>GL-GS EMPLOYEES IN GRADES 3 THROUGH 10 PAID A ...</td>\n",
       "    </tr>\n",
       "    <tr>\n",
       "      <th>2</th>\n",
       "      <td>GL</td>\n",
       "      <td>GL-GS EMPLOYEES IN GRADES 3 THROUGH 10 PAID A ...</td>\n",
       "    </tr>\n",
       "    <tr>\n",
       "      <th>3</th>\n",
       "      <td>GL</td>\n",
       "      <td>GL-GS EMPLOYEES IN GRADES 3 THROUGH 10 PAID A ...</td>\n",
       "    </tr>\n",
       "    <tr>\n",
       "      <th>4</th>\n",
       "      <td>GL</td>\n",
       "      <td>GL-GS EMPLOYEES IN GRADES 3 THROUGH 10 PAID A ...</td>\n",
       "    </tr>\n",
       "  </tbody>\n",
       "</table>\n",
       "</div>"
      ],
      "text/plain": [
       "  PPGRD                                           PAYPLANT\n",
       "0    GL  GL-GS EMPLOYEES IN GRADES 3 THROUGH 10 PAID A ...\n",
       "1    GL  GL-GS EMPLOYEES IN GRADES 3 THROUGH 10 PAID A ...\n",
       "2    GL  GL-GS EMPLOYEES IN GRADES 3 THROUGH 10 PAID A ...\n",
       "3    GL  GL-GS EMPLOYEES IN GRADES 3 THROUGH 10 PAID A ...\n",
       "4    GL  GL-GS EMPLOYEES IN GRADES 3 THROUGH 10 PAID A ..."
      ]
     },
     "execution_count": 253,
     "metadata": {},
     "output_type": "execute_result"
    }
   ],
   "source": [
    "payplan_data.head()"
   ]
  },
  {
   "cell_type": "code",
   "execution_count": 254,
   "id": "35d3de9a",
   "metadata": {},
   "outputs": [
    {
     "data": {
      "text/plain": [
       "(992, 2)"
      ]
     },
     "execution_count": 254,
     "metadata": {},
     "output_type": "execute_result"
    }
   ],
   "source": [
    "payplan_data.shape"
   ]
  },
  {
   "cell_type": "code",
   "execution_count": 255,
   "id": "c6b9668a",
   "metadata": {},
   "outputs": [
    {
     "data": {
      "text/plain": [
       "AT    76\n",
       "AD    59\n",
       "TP    30\n",
       "WM    27\n",
       "WS    18\n",
       "      ..\n",
       "IJ     1\n",
       "IP     1\n",
       "BB     1\n",
       "LL     1\n",
       "IE     1\n",
       "Name: PPGRD, Length: 167, dtype: int64"
      ]
     },
     "execution_count": 255,
     "metadata": {},
     "output_type": "execute_result"
    }
   ],
   "source": [
    "payplan_data.PPGRD.value_counts(dropna = False)"
   ]
  },
  {
   "cell_type": "code",
   "execution_count": 256,
   "id": "76b50965",
   "metadata": {},
   "outputs": [
    {
     "data": {
      "text/plain": [
       "GS    1440479\n",
       "WG     127291\n",
       "VN      77064\n",
       "SV      60066\n",
       "NH      49049\n",
       "       ...   \n",
       "FJ          4\n",
       "WQ          4\n",
       "FS          2\n",
       "KL          2\n",
       "SQ          1\n",
       "Name: PPGRD, Length: 167, dtype: int64"
      ]
     },
     "execution_count": 256,
     "metadata": {},
     "output_type": "execute_result"
    }
   ],
   "source": [
    "df_raw14.PPGRD.value_counts(dropna = False)"
   ]
  },
  {
   "cell_type": "code",
   "execution_count": 257,
   "id": "428a4883",
   "metadata": {},
   "outputs": [],
   "source": [
    "data_dict_payplan = payplan_data.set_index('PPGRD').to_dict()['PAYPLANT']"
   ]
  },
  {
   "cell_type": "code",
   "execution_count": 258,
   "id": "f2b7c140",
   "metadata": {},
   "outputs": [],
   "source": [
    "#replace values"
   ]
  },
  {
   "cell_type": "code",
   "execution_count": 259,
   "id": "319c5a21",
   "metadata": {},
   "outputs": [],
   "source": [
    "df_raw15 = df_raw14.replace({\"PPGRD\":data_dict_payplan})"
   ]
  },
  {
   "cell_type": "code",
   "execution_count": 260,
   "id": "1e2a7797",
   "metadata": {},
   "outputs": [
    {
     "data": {
      "text/plain": [
       "0     ES-SENIOR EXECUTIVE SERVICE\n",
       "1     ES-SENIOR EXECUTIVE SERVICE\n",
       "2             GS-GENERAL SCHEDULE\n",
       "3             GS-GENERAL SCHEDULE\n",
       "4             GS-GENERAL SCHEDULE\n",
       "5             GS-GENERAL SCHEDULE\n",
       "6     ES-SENIOR EXECUTIVE SERVICE\n",
       "7             GS-GENERAL SCHEDULE\n",
       "8             GS-GENERAL SCHEDULE\n",
       "9             GS-GENERAL SCHEDULE\n",
       "10            GS-GENERAL SCHEDULE\n",
       "11            GS-GENERAL SCHEDULE\n",
       "12            GS-GENERAL SCHEDULE\n",
       "13            GS-GENERAL SCHEDULE\n",
       "14            GS-GENERAL SCHEDULE\n",
       "15            GS-GENERAL SCHEDULE\n",
       "16    ES-SENIOR EXECUTIVE SERVICE\n",
       "17            GS-GENERAL SCHEDULE\n",
       "18            GS-GENERAL SCHEDULE\n",
       "19            GS-GENERAL SCHEDULE\n",
       "Name: PPGRD, dtype: object"
      ]
     },
     "execution_count": 260,
     "metadata": {},
     "output_type": "execute_result"
    }
   ],
   "source": [
    "df_raw15[\"PPGRD\"].head(20)"
   ]
  },
  {
   "cell_type": "code",
   "execution_count": 261,
   "id": "57b7e458",
   "metadata": {},
   "outputs": [
    {
     "data": {
      "text/plain": [
       "(2154036, 25)"
      ]
     },
     "execution_count": 261,
     "metadata": {},
     "output_type": "execute_result"
    }
   ],
   "source": [
    "df_raw15.shape"
   ]
  },
  {
   "cell_type": "code",
   "execution_count": 262,
   "id": "3c660bf1",
   "metadata": {},
   "outputs": [],
   "source": [
    "#rename column and check data type"
   ]
  },
  {
   "cell_type": "code",
   "execution_count": 263,
   "id": "5506aade",
   "metadata": {},
   "outputs": [],
   "source": [
    "df_raw15.rename(columns = {'PPGRD':'pay_plan'},inplace = True)"
   ]
  },
  {
   "cell_type": "code",
   "execution_count": 264,
   "id": "a9a23930",
   "metadata": {},
   "outputs": [
    {
     "data": {
      "text/plain": [
       "str"
      ]
     },
     "execution_count": 264,
     "metadata": {},
     "output_type": "execute_result"
    }
   ],
   "source": [
    "type('pay_plan')"
   ]
  },
  {
   "cell_type": "markdown",
   "id": "18e107e3",
   "metadata": {},
   "source": [
    "### 13. Fix LOC"
   ]
  },
  {
   "cell_type": "code",
   "execution_count": 265,
   "id": "c5f8d93a",
   "metadata": {},
   "outputs": [],
   "source": [
    "#LOC is either a number to represent a U.S. State, or a 2 letter code for a country\n",
    "#Break down LOC into state or foreign country and then a column for country\n",
    "#Replace variable information then rename columns"
   ]
  },
  {
   "cell_type": "code",
   "execution_count": 266,
   "id": "fbccf2de",
   "metadata": {},
   "outputs": [],
   "source": [
    "#Create duplicate LOC column temporarily named LOC2"
   ]
  },
  {
   "cell_type": "code",
   "execution_count": 267,
   "id": "0dbfee3f",
   "metadata": {},
   "outputs": [],
   "source": [
    "df_raw15['LOC2'] = df_raw15['LOC']"
   ]
  },
  {
   "cell_type": "code",
   "execution_count": 268,
   "id": "cf8b70fa",
   "metadata": {},
   "outputs": [
    {
     "data": {
      "text/html": [
       "<div>\n",
       "<style scoped>\n",
       "    .dataframe tbody tr th:only-of-type {\n",
       "        vertical-align: middle;\n",
       "    }\n",
       "\n",
       "    .dataframe tbody tr th {\n",
       "        vertical-align: top;\n",
       "    }\n",
       "\n",
       "    .dataframe thead th {\n",
       "        text-align: right;\n",
       "    }\n",
       "</style>\n",
       "<table border=\"1\" class=\"dataframe\">\n",
       "  <thead>\n",
       "    <tr style=\"text-align: right;\">\n",
       "      <th></th>\n",
       "      <th>sub_agency</th>\n",
       "      <th>LOC</th>\n",
       "      <th>age_level</th>\n",
       "      <th>education_level</th>\n",
       "      <th>GSEGRD</th>\n",
       "      <th>years_of_service</th>\n",
       "      <th>occupation</th>\n",
       "      <th>occupation_category</th>\n",
       "      <th>pay_plan</th>\n",
       "      <th>SALLVL</th>\n",
       "      <th>...</th>\n",
       "      <th>LOS</th>\n",
       "      <th>age_level_code</th>\n",
       "      <th>occupation_family</th>\n",
       "      <th>occupation_code</th>\n",
       "      <th>agency</th>\n",
       "      <th>education_code</th>\n",
       "      <th>work_status_code</th>\n",
       "      <th>full_time_code</th>\n",
       "      <th>supervisor_code</th>\n",
       "      <th>LOC2</th>\n",
       "    </tr>\n",
       "  </thead>\n",
       "  <tbody>\n",
       "    <tr>\n",
       "      <th>0</th>\n",
       "      <td>ADMINISTRATIVE CONFERENCE OF THE UNITED STATES</td>\n",
       "      <td>11</td>\n",
       "      <td>40-44</td>\n",
       "      <td>BACHELORS</td>\n",
       "      <td>NaN</td>\n",
       "      <td>15 - 19</td>\n",
       "      <td>PROGRAM MANAGEMENT</td>\n",
       "      <td>Administrative</td>\n",
       "      <td>ES-SENIOR EXECUTIVE SERVICE</td>\n",
       "      <td>S</td>\n",
       "      <td>...</td>\n",
       "      <td>18.8</td>\n",
       "      <td>6.0</td>\n",
       "      <td>GENERAL ADMIN, CLERICAL, &amp; OFFICE SVCS</td>\n",
       "      <td>2.0</td>\n",
       "      <td>ADMINISTRATIVE CONFERENCE OF THE UNITED STATES</td>\n",
       "      <td>13</td>\n",
       "      <td>1</td>\n",
       "      <td>1</td>\n",
       "      <td>2</td>\n",
       "      <td>11</td>\n",
       "    </tr>\n",
       "    <tr>\n",
       "      <th>1</th>\n",
       "      <td>ADMINISTRATIVE CONFERENCE OF THE UNITED STATES</td>\n",
       "      <td>11</td>\n",
       "      <td>55-59</td>\n",
       "      <td>POST-BACHELORS</td>\n",
       "      <td>NaN</td>\n",
       "      <td>25 - 29</td>\n",
       "      <td>GENERAL ATTORNEY</td>\n",
       "      <td>Professional</td>\n",
       "      <td>ES-SENIOR EXECUTIVE SERVICE</td>\n",
       "      <td>R</td>\n",
       "      <td>...</td>\n",
       "      <td>29.2</td>\n",
       "      <td>9.0</td>\n",
       "      <td>LEGAL AND KINDRED</td>\n",
       "      <td>1.0</td>\n",
       "      <td>ADMINISTRATIVE CONFERENCE OF THE UNITED STATES</td>\n",
       "      <td>15</td>\n",
       "      <td>1</td>\n",
       "      <td>1</td>\n",
       "      <td>2</td>\n",
       "      <td>11</td>\n",
       "    </tr>\n",
       "    <tr>\n",
       "      <th>2</th>\n",
       "      <td>ADMINISTRATIVE CONFERENCE OF THE UNITED STATES</td>\n",
       "      <td>40</td>\n",
       "      <td>35-39</td>\n",
       "      <td>POST-BACHELORS</td>\n",
       "      <td>15.0</td>\n",
       "      <td>10 - 14</td>\n",
       "      <td>GENERAL ATTORNEY</td>\n",
       "      <td>Professional</td>\n",
       "      <td>GS-GENERAL SCHEDULE</td>\n",
       "      <td>P</td>\n",
       "      <td>...</td>\n",
       "      <td>12.5</td>\n",
       "      <td>5.0</td>\n",
       "      <td>LEGAL AND KINDRED</td>\n",
       "      <td>1.0</td>\n",
       "      <td>ADMINISTRATIVE CONFERENCE OF THE UNITED STATES</td>\n",
       "      <td>15</td>\n",
       "      <td>1</td>\n",
       "      <td>1</td>\n",
       "      <td>2</td>\n",
       "      <td>40</td>\n",
       "    </tr>\n",
       "    <tr>\n",
       "      <th>3</th>\n",
       "      <td>ADMINISTRATIVE CONFERENCE OF THE UNITED STATES</td>\n",
       "      <td>11</td>\n",
       "      <td>35-39</td>\n",
       "      <td>POST-BACHELORS</td>\n",
       "      <td>15.0</td>\n",
       "      <td>10 - 14</td>\n",
       "      <td>GENERAL ATTORNEY</td>\n",
       "      <td>Professional</td>\n",
       "      <td>GS-GENERAL SCHEDULE</td>\n",
       "      <td>O</td>\n",
       "      <td>...</td>\n",
       "      <td>10.5</td>\n",
       "      <td>5.0</td>\n",
       "      <td>LEGAL AND KINDRED</td>\n",
       "      <td>1.0</td>\n",
       "      <td>ADMINISTRATIVE CONFERENCE OF THE UNITED STATES</td>\n",
       "      <td>15</td>\n",
       "      <td>1</td>\n",
       "      <td>1</td>\n",
       "      <td>8</td>\n",
       "      <td>11</td>\n",
       "    </tr>\n",
       "    <tr>\n",
       "      <th>4</th>\n",
       "      <td>ADMINISTRATIVE CONFERENCE OF THE UNITED STATES</td>\n",
       "      <td>11</td>\n",
       "      <td>40-44</td>\n",
       "      <td>POST-BACHELORS</td>\n",
       "      <td>13.0</td>\n",
       "      <td>10 - 14</td>\n",
       "      <td>GENERAL ATTORNEY</td>\n",
       "      <td>Professional</td>\n",
       "      <td>GS-GENERAL SCHEDULE</td>\n",
       "      <td>L</td>\n",
       "      <td>...</td>\n",
       "      <td>13.4</td>\n",
       "      <td>6.0</td>\n",
       "      <td>LEGAL AND KINDRED</td>\n",
       "      <td>1.0</td>\n",
       "      <td>ADMINISTRATIVE CONFERENCE OF THE UNITED STATES</td>\n",
       "      <td>15</td>\n",
       "      <td>1</td>\n",
       "      <td>1</td>\n",
       "      <td>8</td>\n",
       "      <td>11</td>\n",
       "    </tr>\n",
       "  </tbody>\n",
       "</table>\n",
       "<p>5 rows × 26 columns</p>\n",
       "</div>"
      ],
      "text/plain": [
       "                                       sub_agency LOC age_level  \\\n",
       "0  ADMINISTRATIVE CONFERENCE OF THE UNITED STATES  11     40-44   \n",
       "1  ADMINISTRATIVE CONFERENCE OF THE UNITED STATES  11     55-59   \n",
       "2  ADMINISTRATIVE CONFERENCE OF THE UNITED STATES  40     35-39   \n",
       "3  ADMINISTRATIVE CONFERENCE OF THE UNITED STATES  11     35-39   \n",
       "4  ADMINISTRATIVE CONFERENCE OF THE UNITED STATES  11     40-44   \n",
       "\n",
       "  education_level GSEGRD years_of_service          occupation  \\\n",
       "0       BACHELORS    NaN          15 - 19  PROGRAM MANAGEMENT   \n",
       "1  POST-BACHELORS    NaN          25 - 29    GENERAL ATTORNEY   \n",
       "2  POST-BACHELORS   15.0          10 - 14    GENERAL ATTORNEY   \n",
       "3  POST-BACHELORS   15.0          10 - 14    GENERAL ATTORNEY   \n",
       "4  POST-BACHELORS   13.0          10 - 14    GENERAL ATTORNEY   \n",
       "\n",
       "  occupation_category                     pay_plan SALLVL  ...   LOS  \\\n",
       "0      Administrative  ES-SENIOR EXECUTIVE SERVICE      S  ...  18.8   \n",
       "1        Professional  ES-SENIOR EXECUTIVE SERVICE      R  ...  29.2   \n",
       "2        Professional          GS-GENERAL SCHEDULE      P  ...  12.5   \n",
       "3        Professional          GS-GENERAL SCHEDULE      O  ...  10.5   \n",
       "4        Professional          GS-GENERAL SCHEDULE      L  ...  13.4   \n",
       "\n",
       "  age_level_code                       occupation_family occupation_code  \\\n",
       "0            6.0  GENERAL ADMIN, CLERICAL, & OFFICE SVCS             2.0   \n",
       "1            9.0                       LEGAL AND KINDRED             1.0   \n",
       "2            5.0                       LEGAL AND KINDRED             1.0   \n",
       "3            5.0                       LEGAL AND KINDRED             1.0   \n",
       "4            6.0                       LEGAL AND KINDRED             1.0   \n",
       "\n",
       "                                           agency  education_code  \\\n",
       "0  ADMINISTRATIVE CONFERENCE OF THE UNITED STATES              13   \n",
       "1  ADMINISTRATIVE CONFERENCE OF THE UNITED STATES              15   \n",
       "2  ADMINISTRATIVE CONFERENCE OF THE UNITED STATES              15   \n",
       "3  ADMINISTRATIVE CONFERENCE OF THE UNITED STATES              15   \n",
       "4  ADMINISTRATIVE CONFERENCE OF THE UNITED STATES              15   \n",
       "\n",
       "   work_status_code  full_time_code supervisor_code  LOC2  \n",
       "0                 1               1               2    11  \n",
       "1                 1               1               2    11  \n",
       "2                 1               1               2    40  \n",
       "3                 1               1               8    11  \n",
       "4                 1               1               8    11  \n",
       "\n",
       "[5 rows x 26 columns]"
      ]
     },
     "execution_count": 268,
     "metadata": {},
     "output_type": "execute_result"
    }
   ],
   "source": [
    "df_raw15.head()"
   ]
  },
  {
   "cell_type": "code",
   "execution_count": 269,
   "id": "23696385",
   "metadata": {},
   "outputs": [
    {
     "data": {
      "text/plain": [
       "(2154036, 26)"
      ]
     },
     "execution_count": 269,
     "metadata": {},
     "output_type": "execute_result"
    }
   ],
   "source": [
    "df_raw15.shape"
   ]
  },
  {
   "cell_type": "code",
   "execution_count": 270,
   "id": "bc10fdd8",
   "metadata": {},
   "outputs": [],
   "source": [
    "#Import LOC.csv and map data dictionary to country column"
   ]
  },
  {
   "cell_type": "code",
   "execution_count": 271,
   "id": "031ac3b7",
   "metadata": {},
   "outputs": [],
   "source": [
    "loc_data = pd.read_csv(os.path.join(path, 'original data', 'LOC.csv'), index_col = False)"
   ]
  },
  {
   "cell_type": "code",
   "execution_count": 272,
   "id": "ec18ad82",
   "metadata": {},
   "outputs": [
    {
     "data": {
      "text/html": [
       "<div>\n",
       "<style scoped>\n",
       "    .dataframe tbody tr th:only-of-type {\n",
       "        vertical-align: middle;\n",
       "    }\n",
       "\n",
       "    .dataframe tbody tr th {\n",
       "        vertical-align: top;\n",
       "    }\n",
       "\n",
       "    .dataframe thead th {\n",
       "        text-align: right;\n",
       "    }\n",
       "</style>\n",
       "<table border=\"1\" class=\"dataframe\">\n",
       "  <thead>\n",
       "    <tr style=\"text-align: right;\">\n",
       "      <th></th>\n",
       "      <th>LOC</th>\n",
       "      <th>LOCSTATE</th>\n",
       "      <th>LOCCOUNTRY</th>\n",
       "    </tr>\n",
       "  </thead>\n",
       "  <tbody>\n",
       "    <tr>\n",
       "      <th>0</th>\n",
       "      <td>01</td>\n",
       "      <td>ALABAMA</td>\n",
       "      <td>United States</td>\n",
       "    </tr>\n",
       "    <tr>\n",
       "      <th>1</th>\n",
       "      <td>02</td>\n",
       "      <td>ALASKA</td>\n",
       "      <td>United States</td>\n",
       "    </tr>\n",
       "    <tr>\n",
       "      <th>2</th>\n",
       "      <td>04</td>\n",
       "      <td>ARIZONA</td>\n",
       "      <td>United States</td>\n",
       "    </tr>\n",
       "    <tr>\n",
       "      <th>3</th>\n",
       "      <td>05</td>\n",
       "      <td>ARKANSAS</td>\n",
       "      <td>United States</td>\n",
       "    </tr>\n",
       "    <tr>\n",
       "      <th>4</th>\n",
       "      <td>06</td>\n",
       "      <td>CALIFORNIA</td>\n",
       "      <td>United States</td>\n",
       "    </tr>\n",
       "  </tbody>\n",
       "</table>\n",
       "</div>"
      ],
      "text/plain": [
       "  LOC    LOCSTATE     LOCCOUNTRY\n",
       "0  01     ALABAMA  United States\n",
       "1  02      ALASKA  United States\n",
       "2  04     ARIZONA  United States\n",
       "3  05    ARKANSAS  United States\n",
       "4  06  CALIFORNIA  United States"
      ]
     },
     "execution_count": 272,
     "metadata": {},
     "output_type": "execute_result"
    }
   ],
   "source": [
    "loc_data.head()"
   ]
  },
  {
   "cell_type": "code",
   "execution_count": 273,
   "id": "30cece1e",
   "metadata": {},
   "outputs": [
    {
     "data": {
      "text/plain": [
       "(225, 3)"
      ]
     },
     "execution_count": 273,
     "metadata": {},
     "output_type": "execute_result"
    }
   ],
   "source": [
    "loc_data.shape"
   ]
  },
  {
   "cell_type": "code",
   "execution_count": 274,
   "id": "f167ef59",
   "metadata": {},
   "outputs": [],
   "source": [
    "data_dict_country = loc_data.set_index('LOC').to_dict()['LOCCOUNTRY']"
   ]
  },
  {
   "cell_type": "code",
   "execution_count": 275,
   "id": "1a3aaaa7",
   "metadata": {},
   "outputs": [],
   "source": [
    "#replace values in LOC column as country"
   ]
  },
  {
   "cell_type": "code",
   "execution_count": 276,
   "id": "ba1dd272",
   "metadata": {},
   "outputs": [],
   "source": [
    "df_raw16 = df_raw15.replace({\"LOC\":data_dict_country})"
   ]
  },
  {
   "cell_type": "code",
   "execution_count": 277,
   "id": "e1a37f6a",
   "metadata": {},
   "outputs": [
    {
     "data": {
      "text/plain": [
       "0     United States\n",
       "1     United States\n",
       "2     United States\n",
       "3     United States\n",
       "4     United States\n",
       "5     United States\n",
       "6     United States\n",
       "7     United States\n",
       "8     United States\n",
       "9     United States\n",
       "10    United States\n",
       "11    United States\n",
       "12    United States\n",
       "13           FRANCE\n",
       "14    United States\n",
       "15    United States\n",
       "16           FRANCE\n",
       "17           FRANCE\n",
       "18    United States\n",
       "19    United States\n",
       "Name: LOC, dtype: object"
      ]
     },
     "execution_count": 277,
     "metadata": {},
     "output_type": "execute_result"
    }
   ],
   "source": [
    "df_raw16['LOC'].head(20)"
   ]
  },
  {
   "cell_type": "code",
   "execution_count": 278,
   "id": "f456917c",
   "metadata": {},
   "outputs": [
    {
     "data": {
      "text/plain": [
       "(2154036, 26)"
      ]
     },
     "execution_count": 278,
     "metadata": {},
     "output_type": "execute_result"
    }
   ],
   "source": [
    "df_raw16.shape"
   ]
  },
  {
   "cell_type": "code",
   "execution_count": 279,
   "id": "4474ec32",
   "metadata": {},
   "outputs": [],
   "source": [
    "#rename LOC to country and make sure string data type"
   ]
  },
  {
   "cell_type": "code",
   "execution_count": 280,
   "id": "5d1e41e7",
   "metadata": {},
   "outputs": [],
   "source": [
    "df_raw16.rename(columns = {'LOC':'country'},inplace = True)"
   ]
  },
  {
   "cell_type": "code",
   "execution_count": 281,
   "id": "f59e0d76",
   "metadata": {},
   "outputs": [
    {
     "data": {
      "text/plain": [
       "str"
      ]
     },
     "execution_count": 281,
     "metadata": {},
     "output_type": "execute_result"
    }
   ],
   "source": [
    "type('country')"
   ]
  },
  {
   "cell_type": "code",
   "execution_count": 282,
   "id": "ec69851a",
   "metadata": {},
   "outputs": [],
   "source": [
    "#rename column LOC2 to LOC, create new data dictionary from LOC.csv for State"
   ]
  },
  {
   "cell_type": "code",
   "execution_count": 283,
   "id": "63c4212c",
   "metadata": {},
   "outputs": [],
   "source": [
    "df_raw16.rename(columns = {'LOC2':'LOC'},inplace = True)"
   ]
  },
  {
   "cell_type": "code",
   "execution_count": 284,
   "id": "44a6a895",
   "metadata": {},
   "outputs": [
    {
     "data": {
      "text/plain": [
       "US    287812\n",
       "11    141211\n",
       "06    141205\n",
       "51    138581\n",
       "24    136144\n",
       "       ...  \n",
       "MJ         1\n",
       "LO         1\n",
       "TX         1\n",
       "LY         1\n",
       "CV         1\n",
       "Name: LOC, Length: 219, dtype: int64"
      ]
     },
     "execution_count": 284,
     "metadata": {},
     "output_type": "execute_result"
    }
   ],
   "source": [
    "df_raw16.LOC.value_counts(dropna = False)"
   ]
  },
  {
   "cell_type": "code",
   "execution_count": 285,
   "id": "ce910f58",
   "metadata": {},
   "outputs": [],
   "source": [
    "data_dict_state = loc_data.set_index('LOC').to_dict()['LOCSTATE']"
   ]
  },
  {
   "cell_type": "code",
   "execution_count": 286,
   "id": "0b91c4f1",
   "metadata": {},
   "outputs": [],
   "source": [
    "#replace values and check"
   ]
  },
  {
   "cell_type": "code",
   "execution_count": 287,
   "id": "34cc7342",
   "metadata": {},
   "outputs": [],
   "source": [
    "df_raw17 = df_raw16.replace({\"LOC\":data_dict_state})"
   ]
  },
  {
   "cell_type": "code",
   "execution_count": 288,
   "id": "5d2c7252",
   "metadata": {},
   "outputs": [
    {
     "data": {
      "text/plain": [
       "0     DISTRICT OF COLUMBIA\n",
       "1     DISTRICT OF COLUMBIA\n",
       "2                 OKLAHOMA\n",
       "3     DISTRICT OF COLUMBIA\n",
       "4     DISTRICT OF COLUMBIA\n",
       "5     DISTRICT OF COLUMBIA\n",
       "6     DISTRICT OF COLUMBIA\n",
       "7     DISTRICT OF COLUMBIA\n",
       "8     DISTRICT OF COLUMBIA\n",
       "9     DISTRICT OF COLUMBIA\n",
       "10                NEW YORK\n",
       "11    DISTRICT OF COLUMBIA\n",
       "12    DISTRICT OF COLUMBIA\n",
       "13       Foreign Countries\n",
       "14                    OHIO\n",
       "15                VIRGINIA\n",
       "16       Foreign Countries\n",
       "17       Foreign Countries\n",
       "18                   MAINE\n",
       "19                VIRGINIA\n",
       "Name: LOC, dtype: object"
      ]
     },
     "execution_count": 288,
     "metadata": {},
     "output_type": "execute_result"
    }
   ],
   "source": [
    "df_raw17['LOC'].head(20)"
   ]
  },
  {
   "cell_type": "code",
   "execution_count": 289,
   "id": "3010fe3e",
   "metadata": {},
   "outputs": [
    {
     "data": {
      "text/plain": [
       "(2154036, 26)"
      ]
     },
     "execution_count": 289,
     "metadata": {},
     "output_type": "execute_result"
    }
   ],
   "source": [
    "df_raw17.shape"
   ]
  },
  {
   "cell_type": "code",
   "execution_count": 290,
   "id": "09e9ce54",
   "metadata": {},
   "outputs": [],
   "source": [
    "#rename LOC to state (I can subset only U.S. States later if needed) and make sure string data type"
   ]
  },
  {
   "cell_type": "code",
   "execution_count": 291,
   "id": "a6d70eb8",
   "metadata": {},
   "outputs": [],
   "source": [
    "df_raw17.rename(columns = {'LOC':'state'},inplace = True)"
   ]
  },
  {
   "cell_type": "code",
   "execution_count": 292,
   "id": "67e40214",
   "metadata": {},
   "outputs": [
    {
     "data": {
      "text/plain": [
       "str"
      ]
     },
     "execution_count": 292,
     "metadata": {},
     "output_type": "execute_result"
    }
   ],
   "source": [
    "type('state')"
   ]
  },
  {
   "cell_type": "code",
   "execution_count": 293,
   "id": "81db6108",
   "metadata": {},
   "outputs": [
    {
     "data": {
      "text/plain": [
       "SUPPRESSED (SEE DATA DEFINITIONS)    287812\n",
       "DISTRICT OF COLUMBIA                 141211\n",
       "CALIFORNIA                           141205\n",
       "VIRGINIA                             138581\n",
       "MARYLAND                             136144\n",
       "TEXAS                                119639\n",
       "FLORIDA                               85461\n",
       "GEORGIA                               75398\n",
       "PENNSYLVANIA                          62240\n",
       "WASHINGTON                            53922\n",
       "OHIO                                  50625\n",
       "NEW YORK                              50588\n",
       "NORTH CAROLINA                        46655\n",
       "ILLINOIS                              41465\n",
       "OKLAHOMA                              39786\n",
       "ALABAMA                               38619\n",
       "COLORADO                              37311\n",
       "MISSOURI                              36354\n",
       "ARIZONA                               31694\n",
       "UTAH                                  30652\n",
       "Foreign Countries                     30022\n",
       "TENNESSEE                             27583\n",
       "MICHIGAN                              26262\n",
       "MASSACHUSETTS                         24330\n",
       "HAWAII                                23448\n",
       "INDIANA                               23392\n",
       "SOUTH CAROLINA                        22501\n",
       "NEW MEXICO                            21539\n",
       "KENTUCKY                              21222\n",
       "NEW JERSEY                            20800\n",
       "OREGON                                18454\n",
       "LOUISIANA                             18363\n",
       "MISSISSIPPI                           17891\n",
       "KANSAS                                16546\n",
       "MINNESOTA                             16536\n",
       "WISCONSIN                             16273\n",
       "WEST VIRGINIA                         16097\n",
       "U.S. Territories                      15905\n",
       "ARKANSAS                              13156\n",
       "NEVADA                                12246\n",
       "MAINE                                 11481\n",
       "ALASKA                                10814\n",
       "NEBRASKA                               9621\n",
       "MONTANA                                9261\n",
       "IOWA                                   8801\n",
       "IDAHO                                  8676\n",
       "SOUTH DAKOTA                           8187\n",
       "CONNECTICUT                            8147\n",
       "RHODE ISLAND                           7737\n",
       "WYOMING                                5607\n",
       "NORTH DAKOTA                           5412\n",
       "NEW HAMPSHIRE                          4360\n",
       "DELAWARE                               3266\n",
       "VERMONT                                3091\n",
       "Unspecified                            1647\n",
       "Name: state, dtype: int64"
      ]
     },
     "execution_count": 293,
     "metadata": {},
     "output_type": "execute_result"
    }
   ],
   "source": [
    "df_raw17.state.value_counts(dropna = False)"
   ]
  },
  {
   "cell_type": "markdown",
   "id": "af9f9456",
   "metadata": {},
   "source": [
    "### 14. Fix STEMOCC "
   ]
  },
  {
   "cell_type": "code",
   "execution_count": 294,
   "id": "8f59269a",
   "metadata": {},
   "outputs": [],
   "source": [
    "#STEMOCC is a breakdown of occupation, labeling STEM specific occupations\n",
    "#I created in EXCEL a binary value for STEMOCC 1 if STEM 0 if not\n",
    "#Replace Values in raw data with data dictionary then rename"
   ]
  },
  {
   "cell_type": "code",
   "execution_count": 295,
   "id": "c3928a95",
   "metadata": {},
   "outputs": [],
   "source": [
    "#Import STEMOCC.csv and make data dictionary"
   ]
  },
  {
   "cell_type": "code",
   "execution_count": 296,
   "id": "c3d5ab03",
   "metadata": {},
   "outputs": [],
   "source": [
    "stem_data = pd.read_csv(os.path.join(path, 'original data', 'STEMOCC.csv'), index_col = False)"
   ]
  },
  {
   "cell_type": "code",
   "execution_count": 297,
   "id": "311de7c6",
   "metadata": {},
   "outputs": [
    {
     "data": {
      "text/html": [
       "<div>\n",
       "<style scoped>\n",
       "    .dataframe tbody tr th:only-of-type {\n",
       "        vertical-align: middle;\n",
       "    }\n",
       "\n",
       "    .dataframe tbody tr th {\n",
       "        vertical-align: top;\n",
       "    }\n",
       "\n",
       "    .dataframe thead th {\n",
       "        text-align: right;\n",
       "    }\n",
       "</style>\n",
       "<table border=\"1\" class=\"dataframe\">\n",
       "  <thead>\n",
       "    <tr style=\"text-align: right;\">\n",
       "      <th></th>\n",
       "      <th>STEMOCC</th>\n",
       "      <th>STEMOCCT</th>\n",
       "    </tr>\n",
       "  </thead>\n",
       "  <tbody>\n",
       "    <tr>\n",
       "      <th>0</th>\n",
       "      <td>0020</td>\n",
       "      <td>1</td>\n",
       "    </tr>\n",
       "    <tr>\n",
       "      <th>1</th>\n",
       "      <td>0028</td>\n",
       "      <td>1</td>\n",
       "    </tr>\n",
       "    <tr>\n",
       "      <th>2</th>\n",
       "      <td>0072</td>\n",
       "      <td>1</td>\n",
       "    </tr>\n",
       "    <tr>\n",
       "      <th>3</th>\n",
       "      <td>0101</td>\n",
       "      <td>1</td>\n",
       "    </tr>\n",
       "    <tr>\n",
       "      <th>4</th>\n",
       "      <td>0110</td>\n",
       "      <td>1</td>\n",
       "    </tr>\n",
       "  </tbody>\n",
       "</table>\n",
       "</div>"
      ],
      "text/plain": [
       "  STEMOCC STEMOCCT\n",
       "0    0020        1\n",
       "1    0028        1\n",
       "2    0072        1\n",
       "3    0101        1\n",
       "4    0110        1"
      ]
     },
     "execution_count": 297,
     "metadata": {},
     "output_type": "execute_result"
    }
   ],
   "source": [
    "stem_data.head()"
   ]
  },
  {
   "cell_type": "code",
   "execution_count": 298,
   "id": "3555b2cc",
   "metadata": {},
   "outputs": [
    {
     "data": {
      "text/html": [
       "<div>\n",
       "<style scoped>\n",
       "    .dataframe tbody tr th:only-of-type {\n",
       "        vertical-align: middle;\n",
       "    }\n",
       "\n",
       "    .dataframe tbody tr th {\n",
       "        vertical-align: top;\n",
       "    }\n",
       "\n",
       "    .dataframe thead th {\n",
       "        text-align: right;\n",
       "    }\n",
       "</style>\n",
       "<table border=\"1\" class=\"dataframe\">\n",
       "  <thead>\n",
       "    <tr style=\"text-align: right;\">\n",
       "      <th></th>\n",
       "      <th>STEMOCC</th>\n",
       "      <th>STEMOCCT</th>\n",
       "    </tr>\n",
       "  </thead>\n",
       "  <tbody>\n",
       "    <tr>\n",
       "      <th>112</th>\n",
       "      <td>0685</td>\n",
       "      <td>1</td>\n",
       "    </tr>\n",
       "    <tr>\n",
       "      <th>113</th>\n",
       "      <td>0690</td>\n",
       "      <td>1</td>\n",
       "    </tr>\n",
       "    <tr>\n",
       "      <th>114</th>\n",
       "      <td>0696</td>\n",
       "      <td>1</td>\n",
       "    </tr>\n",
       "    <tr>\n",
       "      <th>115</th>\n",
       "      <td>XXXX</td>\n",
       "      <td>0</td>\n",
       "    </tr>\n",
       "    <tr>\n",
       "      <th>116</th>\n",
       "      <td>****</td>\n",
       "      <td>UNSPECIFIED</td>\n",
       "    </tr>\n",
       "  </tbody>\n",
       "</table>\n",
       "</div>"
      ],
      "text/plain": [
       "    STEMOCC     STEMOCCT\n",
       "112    0685            1\n",
       "113    0690            1\n",
       "114    0696            1\n",
       "115    XXXX            0\n",
       "116    ****  UNSPECIFIED"
      ]
     },
     "execution_count": 298,
     "metadata": {},
     "output_type": "execute_result"
    }
   ],
   "source": [
    "stem_data.tail()"
   ]
  },
  {
   "cell_type": "code",
   "execution_count": 299,
   "id": "f1c556a9",
   "metadata": {},
   "outputs": [
    {
     "data": {
      "text/plain": [
       "(117, 2)"
      ]
     },
     "execution_count": 299,
     "metadata": {},
     "output_type": "execute_result"
    }
   ],
   "source": [
    "stem_data.shape"
   ]
  },
  {
   "cell_type": "code",
   "execution_count": 300,
   "id": "403d12ce",
   "metadata": {},
   "outputs": [],
   "source": [
    "data_dict_stem = stem_data.set_index('STEMOCC').to_dict()['STEMOCCT']"
   ]
  },
  {
   "cell_type": "code",
   "execution_count": 301,
   "id": "a6c23192",
   "metadata": {},
   "outputs": [],
   "source": [
    "#replace values and check"
   ]
  },
  {
   "cell_type": "code",
   "execution_count": 302,
   "id": "e4fe1d80",
   "metadata": {},
   "outputs": [],
   "source": [
    "df_raw18 = df_raw17.replace({\"STEMOCC\":data_dict_stem})"
   ]
  },
  {
   "cell_type": "code",
   "execution_count": 303,
   "id": "2aa3e759",
   "metadata": {},
   "outputs": [
    {
     "data": {
      "text/plain": [
       "0     0\n",
       "1     0\n",
       "2     0\n",
       "3     0\n",
       "4     0\n",
       "5     0\n",
       "6     0\n",
       "7     0\n",
       "8     0\n",
       "9     0\n",
       "10    0\n",
       "11    0\n",
       "12    0\n",
       "13    0\n",
       "14    0\n",
       "15    0\n",
       "16    0\n",
       "17    0\n",
       "18    0\n",
       "19    0\n",
       "Name: STEMOCC, dtype: object"
      ]
     },
     "execution_count": 303,
     "metadata": {},
     "output_type": "execute_result"
    }
   ],
   "source": [
    "df_raw18['STEMOCC'].head(20)"
   ]
  },
  {
   "cell_type": "code",
   "execution_count": 304,
   "id": "dc9b5637",
   "metadata": {},
   "outputs": [
    {
     "data": {
      "text/plain": [
       "(2154036, 26)"
      ]
     },
     "execution_count": 304,
     "metadata": {},
     "output_type": "execute_result"
    }
   ],
   "source": [
    "df_raw18.shape"
   ]
  },
  {
   "cell_type": "code",
   "execution_count": 305,
   "id": "95a919f9",
   "metadata": {},
   "outputs": [
    {
     "data": {
      "text/plain": [
       "0              1591734\n",
       "1               560945\n",
       "UNSPECIFIED       1357\n",
       "Name: STEMOCC, dtype: int64"
      ]
     },
     "execution_count": 305,
     "metadata": {},
     "output_type": "execute_result"
    }
   ],
   "source": [
    "df_raw18.STEMOCC.value_counts(dropna = False)"
   ]
  },
  {
   "cell_type": "code",
   "execution_count": 306,
   "id": "b4b88bb4",
   "metadata": {},
   "outputs": [],
   "source": [
    "#rename and remove 1395 UNSPECIFIED"
   ]
  },
  {
   "cell_type": "code",
   "execution_count": 307,
   "id": "d7936d01",
   "metadata": {},
   "outputs": [],
   "source": [
    "df_raw18.rename(columns = {'STEMOCC':'stem'},inplace = True)"
   ]
  },
  {
   "cell_type": "code",
   "execution_count": 308,
   "id": "fea1f334",
   "metadata": {},
   "outputs": [],
   "source": [
    "df_raw19 = df_raw18.loc[df_raw18['stem'].isin(['0','1'])]"
   ]
  },
  {
   "cell_type": "code",
   "execution_count": 309,
   "id": "247c2ec9",
   "metadata": {},
   "outputs": [
    {
     "data": {
      "text/plain": [
       "0    1591734\n",
       "1     560945\n",
       "Name: stem, dtype: int64"
      ]
     },
     "execution_count": 309,
     "metadata": {},
     "output_type": "execute_result"
    }
   ],
   "source": [
    "df_raw19.stem.value_counts(dropna = False)"
   ]
  },
  {
   "cell_type": "code",
   "execution_count": 310,
   "id": "a453d8d7",
   "metadata": {},
   "outputs": [
    {
     "data": {
      "text/plain": [
       "(2152679, 26)"
      ]
     },
     "execution_count": 310,
     "metadata": {},
     "output_type": "execute_result"
    }
   ],
   "source": [
    "df_raw19.shape"
   ]
  },
  {
   "cell_type": "markdown",
   "id": "9f6290bb",
   "metadata": {},
   "source": [
    "### 15. Remove SALLVL, Check Other 4 columns"
   ]
  },
  {
   "cell_type": "code",
   "execution_count": 311,
   "id": "beedf085",
   "metadata": {},
   "outputs": [],
   "source": [
    "#Remove SALLLVL as it is just dividing salary levels by 10,000 and I can create my own groups"
   ]
  },
  {
   "cell_type": "code",
   "execution_count": 312,
   "id": "cf07f518",
   "metadata": {},
   "outputs": [],
   "source": [
    "df_raw19 = df_raw19.drop(columns =['SALLVL'])"
   ]
  },
  {
   "cell_type": "code",
   "execution_count": 313,
   "id": "0711f76f",
   "metadata": {},
   "outputs": [
    {
     "data": {
      "text/html": [
       "<div>\n",
       "<style scoped>\n",
       "    .dataframe tbody tr th:only-of-type {\n",
       "        vertical-align: middle;\n",
       "    }\n",
       "\n",
       "    .dataframe tbody tr th {\n",
       "        vertical-align: top;\n",
       "    }\n",
       "\n",
       "    .dataframe thead th {\n",
       "        text-align: right;\n",
       "    }\n",
       "</style>\n",
       "<table border=\"1\" class=\"dataframe\">\n",
       "  <thead>\n",
       "    <tr style=\"text-align: right;\">\n",
       "      <th></th>\n",
       "      <th>sub_agency</th>\n",
       "      <th>country</th>\n",
       "      <th>age_level</th>\n",
       "      <th>education_level</th>\n",
       "      <th>GSEGRD</th>\n",
       "      <th>years_of_service</th>\n",
       "      <th>occupation</th>\n",
       "      <th>occupation_category</th>\n",
       "      <th>pay_plan</th>\n",
       "      <th>stem</th>\n",
       "      <th>...</th>\n",
       "      <th>LOS</th>\n",
       "      <th>age_level_code</th>\n",
       "      <th>occupation_family</th>\n",
       "      <th>occupation_code</th>\n",
       "      <th>agency</th>\n",
       "      <th>education_code</th>\n",
       "      <th>work_status_code</th>\n",
       "      <th>full_time_code</th>\n",
       "      <th>supervisor_code</th>\n",
       "      <th>state</th>\n",
       "    </tr>\n",
       "  </thead>\n",
       "  <tbody>\n",
       "    <tr>\n",
       "      <th>0</th>\n",
       "      <td>ADMINISTRATIVE CONFERENCE OF THE UNITED STATES</td>\n",
       "      <td>United States</td>\n",
       "      <td>40-44</td>\n",
       "      <td>BACHELORS</td>\n",
       "      <td>NaN</td>\n",
       "      <td>15 - 19</td>\n",
       "      <td>PROGRAM MANAGEMENT</td>\n",
       "      <td>Administrative</td>\n",
       "      <td>ES-SENIOR EXECUTIVE SERVICE</td>\n",
       "      <td>0</td>\n",
       "      <td>...</td>\n",
       "      <td>18.8</td>\n",
       "      <td>6.0</td>\n",
       "      <td>GENERAL ADMIN, CLERICAL, &amp; OFFICE SVCS</td>\n",
       "      <td>2.0</td>\n",
       "      <td>ADMINISTRATIVE CONFERENCE OF THE UNITED STATES</td>\n",
       "      <td>13</td>\n",
       "      <td>1</td>\n",
       "      <td>1</td>\n",
       "      <td>2</td>\n",
       "      <td>DISTRICT OF COLUMBIA</td>\n",
       "    </tr>\n",
       "    <tr>\n",
       "      <th>1</th>\n",
       "      <td>ADMINISTRATIVE CONFERENCE OF THE UNITED STATES</td>\n",
       "      <td>United States</td>\n",
       "      <td>55-59</td>\n",
       "      <td>POST-BACHELORS</td>\n",
       "      <td>NaN</td>\n",
       "      <td>25 - 29</td>\n",
       "      <td>GENERAL ATTORNEY</td>\n",
       "      <td>Professional</td>\n",
       "      <td>ES-SENIOR EXECUTIVE SERVICE</td>\n",
       "      <td>0</td>\n",
       "      <td>...</td>\n",
       "      <td>29.2</td>\n",
       "      <td>9.0</td>\n",
       "      <td>LEGAL AND KINDRED</td>\n",
       "      <td>1.0</td>\n",
       "      <td>ADMINISTRATIVE CONFERENCE OF THE UNITED STATES</td>\n",
       "      <td>15</td>\n",
       "      <td>1</td>\n",
       "      <td>1</td>\n",
       "      <td>2</td>\n",
       "      <td>DISTRICT OF COLUMBIA</td>\n",
       "    </tr>\n",
       "    <tr>\n",
       "      <th>2</th>\n",
       "      <td>ADMINISTRATIVE CONFERENCE OF THE UNITED STATES</td>\n",
       "      <td>United States</td>\n",
       "      <td>35-39</td>\n",
       "      <td>POST-BACHELORS</td>\n",
       "      <td>15.0</td>\n",
       "      <td>10 - 14</td>\n",
       "      <td>GENERAL ATTORNEY</td>\n",
       "      <td>Professional</td>\n",
       "      <td>GS-GENERAL SCHEDULE</td>\n",
       "      <td>0</td>\n",
       "      <td>...</td>\n",
       "      <td>12.5</td>\n",
       "      <td>5.0</td>\n",
       "      <td>LEGAL AND KINDRED</td>\n",
       "      <td>1.0</td>\n",
       "      <td>ADMINISTRATIVE CONFERENCE OF THE UNITED STATES</td>\n",
       "      <td>15</td>\n",
       "      <td>1</td>\n",
       "      <td>1</td>\n",
       "      <td>2</td>\n",
       "      <td>OKLAHOMA</td>\n",
       "    </tr>\n",
       "    <tr>\n",
       "      <th>3</th>\n",
       "      <td>ADMINISTRATIVE CONFERENCE OF THE UNITED STATES</td>\n",
       "      <td>United States</td>\n",
       "      <td>35-39</td>\n",
       "      <td>POST-BACHELORS</td>\n",
       "      <td>15.0</td>\n",
       "      <td>10 - 14</td>\n",
       "      <td>GENERAL ATTORNEY</td>\n",
       "      <td>Professional</td>\n",
       "      <td>GS-GENERAL SCHEDULE</td>\n",
       "      <td>0</td>\n",
       "      <td>...</td>\n",
       "      <td>10.5</td>\n",
       "      <td>5.0</td>\n",
       "      <td>LEGAL AND KINDRED</td>\n",
       "      <td>1.0</td>\n",
       "      <td>ADMINISTRATIVE CONFERENCE OF THE UNITED STATES</td>\n",
       "      <td>15</td>\n",
       "      <td>1</td>\n",
       "      <td>1</td>\n",
       "      <td>8</td>\n",
       "      <td>DISTRICT OF COLUMBIA</td>\n",
       "    </tr>\n",
       "    <tr>\n",
       "      <th>4</th>\n",
       "      <td>ADMINISTRATIVE CONFERENCE OF THE UNITED STATES</td>\n",
       "      <td>United States</td>\n",
       "      <td>40-44</td>\n",
       "      <td>POST-BACHELORS</td>\n",
       "      <td>13.0</td>\n",
       "      <td>10 - 14</td>\n",
       "      <td>GENERAL ATTORNEY</td>\n",
       "      <td>Professional</td>\n",
       "      <td>GS-GENERAL SCHEDULE</td>\n",
       "      <td>0</td>\n",
       "      <td>...</td>\n",
       "      <td>13.4</td>\n",
       "      <td>6.0</td>\n",
       "      <td>LEGAL AND KINDRED</td>\n",
       "      <td>1.0</td>\n",
       "      <td>ADMINISTRATIVE CONFERENCE OF THE UNITED STATES</td>\n",
       "      <td>15</td>\n",
       "      <td>1</td>\n",
       "      <td>1</td>\n",
       "      <td>8</td>\n",
       "      <td>DISTRICT OF COLUMBIA</td>\n",
       "    </tr>\n",
       "  </tbody>\n",
       "</table>\n",
       "<p>5 rows × 25 columns</p>\n",
       "</div>"
      ],
      "text/plain": [
       "                                       sub_agency        country age_level  \\\n",
       "0  ADMINISTRATIVE CONFERENCE OF THE UNITED STATES  United States     40-44   \n",
       "1  ADMINISTRATIVE CONFERENCE OF THE UNITED STATES  United States     55-59   \n",
       "2  ADMINISTRATIVE CONFERENCE OF THE UNITED STATES  United States     35-39   \n",
       "3  ADMINISTRATIVE CONFERENCE OF THE UNITED STATES  United States     35-39   \n",
       "4  ADMINISTRATIVE CONFERENCE OF THE UNITED STATES  United States     40-44   \n",
       "\n",
       "  education_level GSEGRD years_of_service          occupation  \\\n",
       "0       BACHELORS    NaN          15 - 19  PROGRAM MANAGEMENT   \n",
       "1  POST-BACHELORS    NaN          25 - 29    GENERAL ATTORNEY   \n",
       "2  POST-BACHELORS   15.0          10 - 14    GENERAL ATTORNEY   \n",
       "3  POST-BACHELORS   15.0          10 - 14    GENERAL ATTORNEY   \n",
       "4  POST-BACHELORS   13.0          10 - 14    GENERAL ATTORNEY   \n",
       "\n",
       "  occupation_category                     pay_plan stem  ...   LOS  \\\n",
       "0      Administrative  ES-SENIOR EXECUTIVE SERVICE    0  ...  18.8   \n",
       "1        Professional  ES-SENIOR EXECUTIVE SERVICE    0  ...  29.2   \n",
       "2        Professional          GS-GENERAL SCHEDULE    0  ...  12.5   \n",
       "3        Professional          GS-GENERAL SCHEDULE    0  ...  10.5   \n",
       "4        Professional          GS-GENERAL SCHEDULE    0  ...  13.4   \n",
       "\n",
       "  age_level_code                       occupation_family  occupation_code  \\\n",
       "0            6.0  GENERAL ADMIN, CLERICAL, & OFFICE SVCS              2.0   \n",
       "1            9.0                       LEGAL AND KINDRED              1.0   \n",
       "2            5.0                       LEGAL AND KINDRED              1.0   \n",
       "3            5.0                       LEGAL AND KINDRED              1.0   \n",
       "4            6.0                       LEGAL AND KINDRED              1.0   \n",
       "\n",
       "                                           agency  education_code  \\\n",
       "0  ADMINISTRATIVE CONFERENCE OF THE UNITED STATES              13   \n",
       "1  ADMINISTRATIVE CONFERENCE OF THE UNITED STATES              15   \n",
       "2  ADMINISTRATIVE CONFERENCE OF THE UNITED STATES              15   \n",
       "3  ADMINISTRATIVE CONFERENCE OF THE UNITED STATES              15   \n",
       "4  ADMINISTRATIVE CONFERENCE OF THE UNITED STATES              15   \n",
       "\n",
       "   work_status_code full_time_code  supervisor_code                 state  \n",
       "0                 1              1                2  DISTRICT OF COLUMBIA  \n",
       "1                 1              1                2  DISTRICT OF COLUMBIA  \n",
       "2                 1              1                2              OKLAHOMA  \n",
       "3                 1              1                8  DISTRICT OF COLUMBIA  \n",
       "4                 1              1                8  DISTRICT OF COLUMBIA  \n",
       "\n",
       "[5 rows x 25 columns]"
      ]
     },
     "execution_count": 313,
     "metadata": {},
     "output_type": "execute_result"
    }
   ],
   "source": [
    "df_raw19.head()"
   ]
  },
  {
   "cell_type": "code",
   "execution_count": 314,
   "id": "d0ea0c54",
   "metadata": {},
   "outputs": [
    {
     "data": {
      "text/plain": [
       "(2152679, 25)"
      ]
     },
     "execution_count": 314,
     "metadata": {},
     "output_type": "execute_result"
    }
   ],
   "source": [
    "df_raw19.shape"
   ]
  },
  {
   "cell_type": "code",
   "execution_count": 315,
   "id": "5a392e02",
   "metadata": {},
   "outputs": [],
   "source": [
    "#Check GSEGRD which should be levels 1-15"
   ]
  },
  {
   "cell_type": "code",
   "execution_count": 316,
   "id": "63048ac4",
   "metadata": {
    "scrolled": true
   },
   "outputs": [
    {
     "data": {
      "text/plain": [
       "NaN     631940\n",
       "12.0    230086\n",
       "13.0    194253\n",
       "11.0    160901\n",
       "9.0     106066\n",
       "14.0     95206\n",
       "6.0      85451\n",
       "7.0      85175\n",
       "13       77713\n",
       "12       74585\n",
       "5.0      55533\n",
       "15.0     47073\n",
       "14       46228\n",
       "11       37781\n",
       "07       35449\n",
       "09       34798\n",
       "8.0      29314\n",
       "08       23238\n",
       "15       19267\n",
       "05       17475\n",
       "06       14410\n",
       "04       14162\n",
       "4.0      13660\n",
       "10.0     11276\n",
       "3.0       4261\n",
       "10        3509\n",
       "03        2761\n",
       "2.0        357\n",
       "02         327\n",
       "01         229\n",
       "**         134\n",
       "1.0         61\n",
       "Name: GSEGRD, dtype: int64"
      ]
     },
     "execution_count": 316,
     "metadata": {},
     "output_type": "execute_result"
    }
   ],
   "source": [
    "df_raw19.GSEGRD.value_counts(dropna = False)"
   ]
  },
  {
   "cell_type": "code",
   "execution_count": 317,
   "id": "e01ef325",
   "metadata": {},
   "outputs": [],
   "source": [
    "#Rename ** values as 99 for Unspecified"
   ]
  },
  {
   "cell_type": "code",
   "execution_count": 318,
   "id": "dadaaec7",
   "metadata": {},
   "outputs": [],
   "source": [
    "df_raw19['GSEGRD'].replace(('**', '99'), inplace = True)"
   ]
  },
  {
   "cell_type": "code",
   "execution_count": 319,
   "id": "b95d6a60",
   "metadata": {},
   "outputs": [
    {
     "data": {
      "text/html": [
       "<div>\n",
       "<style scoped>\n",
       "    .dataframe tbody tr th:only-of-type {\n",
       "        vertical-align: middle;\n",
       "    }\n",
       "\n",
       "    .dataframe tbody tr th {\n",
       "        vertical-align: top;\n",
       "    }\n",
       "\n",
       "    .dataframe thead th {\n",
       "        text-align: right;\n",
       "    }\n",
       "</style>\n",
       "<table border=\"1\" class=\"dataframe\">\n",
       "  <thead>\n",
       "    <tr style=\"text-align: right;\">\n",
       "      <th></th>\n",
       "      <th>sub_agency</th>\n",
       "      <th>country</th>\n",
       "      <th>age_level</th>\n",
       "      <th>education_level</th>\n",
       "      <th>GSEGRD</th>\n",
       "      <th>years_of_service</th>\n",
       "      <th>occupation</th>\n",
       "      <th>occupation_category</th>\n",
       "      <th>pay_plan</th>\n",
       "      <th>stem</th>\n",
       "      <th>...</th>\n",
       "      <th>LOS</th>\n",
       "      <th>age_level_code</th>\n",
       "      <th>occupation_family</th>\n",
       "      <th>occupation_code</th>\n",
       "      <th>agency</th>\n",
       "      <th>education_code</th>\n",
       "      <th>work_status_code</th>\n",
       "      <th>full_time_code</th>\n",
       "      <th>supervisor_code</th>\n",
       "      <th>state</th>\n",
       "    </tr>\n",
       "  </thead>\n",
       "  <tbody>\n",
       "  </tbody>\n",
       "</table>\n",
       "<p>0 rows × 25 columns</p>\n",
       "</div>"
      ],
      "text/plain": [
       "Empty DataFrame\n",
       "Columns: [sub_agency, country, age_level, education_level, GSEGRD, years_of_service, occupation, occupation_category, pay_plan, stem, supervisor_status, full_time, work_status, DATECODE, SALARY, LOS, age_level_code, occupation_family, occupation_code, agency, education_code, work_status_code, full_time_code, supervisor_code, state]\n",
       "Index: []\n",
       "\n",
       "[0 rows x 25 columns]"
      ]
     },
     "execution_count": 319,
     "metadata": {},
     "output_type": "execute_result"
    }
   ],
   "source": [
    "df_raw19[df_raw19.GSEGRD == '**']"
   ]
  },
  {
   "cell_type": "code",
   "execution_count": 320,
   "id": "0e1b1ec6",
   "metadata": {},
   "outputs": [],
   "source": [
    "df_raw19['GSEGRD'] = df_raw19['GSEGRD'].astype('float')"
   ]
  },
  {
   "cell_type": "code",
   "execution_count": 321,
   "id": "2df3d02b",
   "metadata": {},
   "outputs": [
    {
     "data": {
      "text/plain": [
       "NaN     631944\n",
       "12.0    304726\n",
       "13.0    271993\n",
       "11.0    198689\n",
       "14.0    141448\n",
       "9.0     140879\n",
       "7.0     120627\n",
       "6.0      99861\n",
       "5.0      73010\n",
       "15.0     66343\n",
       "8.0      52554\n",
       "4.0      27824\n",
       "10.0     14785\n",
       "3.0       7022\n",
       "2.0        684\n",
       "1.0        290\n",
       "Name: GSEGRD, dtype: int64"
      ]
     },
     "execution_count": 321,
     "metadata": {},
     "output_type": "execute_result"
    }
   ],
   "source": [
    "df_raw19.GSEGRD.value_counts(dropna = False)"
   ]
  },
  {
   "cell_type": "code",
   "execution_count": 322,
   "id": "5bb2df21",
   "metadata": {},
   "outputs": [],
   "source": [
    "#rename GSEGRD"
   ]
  },
  {
   "cell_type": "code",
   "execution_count": 323,
   "id": "f5307e44",
   "metadata": {},
   "outputs": [],
   "source": [
    "df_raw19.rename(columns = {'GSEGRD':'pay_grade'},inplace = True)"
   ]
  },
  {
   "cell_type": "code",
   "execution_count": 324,
   "id": "3f3c7ac9",
   "metadata": {},
   "outputs": [],
   "source": [
    "#Check DATECODE"
   ]
  },
  {
   "cell_type": "code",
   "execution_count": 325,
   "id": "c4ec9457",
   "metadata": {},
   "outputs": [
    {
     "data": {
      "text/plain": [
       "202203    2152679\n",
       "Name: DATECODE, dtype: int64"
      ]
     },
     "execution_count": 325,
     "metadata": {},
     "output_type": "execute_result"
    }
   ],
   "source": [
    "df_raw19.DATECODE.value_counts(dropna = False)"
   ]
  },
  {
   "cell_type": "code",
   "execution_count": 326,
   "id": "11effbf4",
   "metadata": {},
   "outputs": [],
   "source": [
    "df_raw19['DATECODE'] = df_raw19['DATECODE'].astype('str')"
   ]
  },
  {
   "cell_type": "code",
   "execution_count": 327,
   "id": "6f341527",
   "metadata": {},
   "outputs": [],
   "source": [
    "df_raw19['DATECODE'] = df_raw19['DATECODE'].replace('202203', 'March 2022')"
   ]
  },
  {
   "cell_type": "code",
   "execution_count": 328,
   "id": "16ec02ea",
   "metadata": {},
   "outputs": [
    {
     "data": {
      "text/plain": [
       "March 2022    2152679\n",
       "Name: DATECODE, dtype: int64"
      ]
     },
     "execution_count": 328,
     "metadata": {},
     "output_type": "execute_result"
    }
   ],
   "source": [
    "df_raw19.DATECODE.value_counts(dropna = False)"
   ]
  },
  {
   "cell_type": "code",
   "execution_count": 329,
   "id": "02da1340",
   "metadata": {},
   "outputs": [],
   "source": [
    "#rename DATECODE"
   ]
  },
  {
   "cell_type": "code",
   "execution_count": 330,
   "id": "0d791dc8",
   "metadata": {},
   "outputs": [],
   "source": [
    "df_raw19.rename(columns = {'DATECODE':'date'},inplace = True)"
   ]
  },
  {
   "cell_type": "code",
   "execution_count": 331,
   "id": "cd90cf14",
   "metadata": {},
   "outputs": [],
   "source": [
    "#Check LOS"
   ]
  },
  {
   "cell_type": "code",
   "execution_count": 332,
   "id": "4848b59d",
   "metadata": {},
   "outputs": [
    {
     "data": {
      "text/plain": [
       "0.8     24194\n",
       "0.3     23637\n",
       "1.8     23147\n",
       "2.8     22229\n",
       "5.8     18971\n",
       "        ...  \n",
       "66.0        1\n",
       "61.2        1\n",
       "63.0        1\n",
       "56.9        1\n",
       "70.7        1\n",
       "Name: LOS, Length: 643, dtype: int64"
      ]
     },
     "execution_count": 332,
     "metadata": {},
     "output_type": "execute_result"
    }
   ],
   "source": [
    "df_raw19.LOS.value_counts(dropna = False)"
   ]
  },
  {
   "cell_type": "code",
   "execution_count": 333,
   "id": "0fcd81c7",
   "metadata": {},
   "outputs": [],
   "source": [
    "#I named LOSLVL years_of_service when it should be a group flag, renaming it here and naming LOS years_of_service"
   ]
  },
  {
   "cell_type": "code",
   "execution_count": 334,
   "id": "65950ed1",
   "metadata": {},
   "outputs": [],
   "source": [
    "df_raw19.rename(columns = {'years_of_service':'years_grouping'},inplace = True)"
   ]
  },
  {
   "cell_type": "code",
   "execution_count": 335,
   "id": "52bec823",
   "metadata": {},
   "outputs": [],
   "source": [
    "df_raw19.rename(columns = {'LOS':'years_of_service'},inplace = True)"
   ]
  },
  {
   "cell_type": "code",
   "execution_count": 336,
   "id": "163ee011",
   "metadata": {},
   "outputs": [
    {
     "data": {
      "text/html": [
       "<div>\n",
       "<style scoped>\n",
       "    .dataframe tbody tr th:only-of-type {\n",
       "        vertical-align: middle;\n",
       "    }\n",
       "\n",
       "    .dataframe tbody tr th {\n",
       "        vertical-align: top;\n",
       "    }\n",
       "\n",
       "    .dataframe thead th {\n",
       "        text-align: right;\n",
       "    }\n",
       "</style>\n",
       "<table border=\"1\" class=\"dataframe\">\n",
       "  <thead>\n",
       "    <tr style=\"text-align: right;\">\n",
       "      <th></th>\n",
       "      <th>sub_agency</th>\n",
       "      <th>country</th>\n",
       "      <th>age_level</th>\n",
       "      <th>education_level</th>\n",
       "      <th>pay_grade</th>\n",
       "      <th>years_grouping</th>\n",
       "      <th>occupation</th>\n",
       "      <th>occupation_category</th>\n",
       "      <th>pay_plan</th>\n",
       "      <th>stem</th>\n",
       "      <th>...</th>\n",
       "      <th>years_of_service</th>\n",
       "      <th>age_level_code</th>\n",
       "      <th>occupation_family</th>\n",
       "      <th>occupation_code</th>\n",
       "      <th>agency</th>\n",
       "      <th>education_code</th>\n",
       "      <th>work_status_code</th>\n",
       "      <th>full_time_code</th>\n",
       "      <th>supervisor_code</th>\n",
       "      <th>state</th>\n",
       "    </tr>\n",
       "  </thead>\n",
       "  <tbody>\n",
       "    <tr>\n",
       "      <th>0</th>\n",
       "      <td>ADMINISTRATIVE CONFERENCE OF THE UNITED STATES</td>\n",
       "      <td>United States</td>\n",
       "      <td>40-44</td>\n",
       "      <td>BACHELORS</td>\n",
       "      <td>NaN</td>\n",
       "      <td>15 - 19</td>\n",
       "      <td>PROGRAM MANAGEMENT</td>\n",
       "      <td>Administrative</td>\n",
       "      <td>ES-SENIOR EXECUTIVE SERVICE</td>\n",
       "      <td>0</td>\n",
       "      <td>...</td>\n",
       "      <td>18.8</td>\n",
       "      <td>6.0</td>\n",
       "      <td>GENERAL ADMIN, CLERICAL, &amp; OFFICE SVCS</td>\n",
       "      <td>2.0</td>\n",
       "      <td>ADMINISTRATIVE CONFERENCE OF THE UNITED STATES</td>\n",
       "      <td>13</td>\n",
       "      <td>1</td>\n",
       "      <td>1</td>\n",
       "      <td>2</td>\n",
       "      <td>DISTRICT OF COLUMBIA</td>\n",
       "    </tr>\n",
       "    <tr>\n",
       "      <th>1</th>\n",
       "      <td>ADMINISTRATIVE CONFERENCE OF THE UNITED STATES</td>\n",
       "      <td>United States</td>\n",
       "      <td>55-59</td>\n",
       "      <td>POST-BACHELORS</td>\n",
       "      <td>NaN</td>\n",
       "      <td>25 - 29</td>\n",
       "      <td>GENERAL ATTORNEY</td>\n",
       "      <td>Professional</td>\n",
       "      <td>ES-SENIOR EXECUTIVE SERVICE</td>\n",
       "      <td>0</td>\n",
       "      <td>...</td>\n",
       "      <td>29.2</td>\n",
       "      <td>9.0</td>\n",
       "      <td>LEGAL AND KINDRED</td>\n",
       "      <td>1.0</td>\n",
       "      <td>ADMINISTRATIVE CONFERENCE OF THE UNITED STATES</td>\n",
       "      <td>15</td>\n",
       "      <td>1</td>\n",
       "      <td>1</td>\n",
       "      <td>2</td>\n",
       "      <td>DISTRICT OF COLUMBIA</td>\n",
       "    </tr>\n",
       "    <tr>\n",
       "      <th>2</th>\n",
       "      <td>ADMINISTRATIVE CONFERENCE OF THE UNITED STATES</td>\n",
       "      <td>United States</td>\n",
       "      <td>35-39</td>\n",
       "      <td>POST-BACHELORS</td>\n",
       "      <td>15.0</td>\n",
       "      <td>10 - 14</td>\n",
       "      <td>GENERAL ATTORNEY</td>\n",
       "      <td>Professional</td>\n",
       "      <td>GS-GENERAL SCHEDULE</td>\n",
       "      <td>0</td>\n",
       "      <td>...</td>\n",
       "      <td>12.5</td>\n",
       "      <td>5.0</td>\n",
       "      <td>LEGAL AND KINDRED</td>\n",
       "      <td>1.0</td>\n",
       "      <td>ADMINISTRATIVE CONFERENCE OF THE UNITED STATES</td>\n",
       "      <td>15</td>\n",
       "      <td>1</td>\n",
       "      <td>1</td>\n",
       "      <td>2</td>\n",
       "      <td>OKLAHOMA</td>\n",
       "    </tr>\n",
       "    <tr>\n",
       "      <th>3</th>\n",
       "      <td>ADMINISTRATIVE CONFERENCE OF THE UNITED STATES</td>\n",
       "      <td>United States</td>\n",
       "      <td>35-39</td>\n",
       "      <td>POST-BACHELORS</td>\n",
       "      <td>15.0</td>\n",
       "      <td>10 - 14</td>\n",
       "      <td>GENERAL ATTORNEY</td>\n",
       "      <td>Professional</td>\n",
       "      <td>GS-GENERAL SCHEDULE</td>\n",
       "      <td>0</td>\n",
       "      <td>...</td>\n",
       "      <td>10.5</td>\n",
       "      <td>5.0</td>\n",
       "      <td>LEGAL AND KINDRED</td>\n",
       "      <td>1.0</td>\n",
       "      <td>ADMINISTRATIVE CONFERENCE OF THE UNITED STATES</td>\n",
       "      <td>15</td>\n",
       "      <td>1</td>\n",
       "      <td>1</td>\n",
       "      <td>8</td>\n",
       "      <td>DISTRICT OF COLUMBIA</td>\n",
       "    </tr>\n",
       "    <tr>\n",
       "      <th>4</th>\n",
       "      <td>ADMINISTRATIVE CONFERENCE OF THE UNITED STATES</td>\n",
       "      <td>United States</td>\n",
       "      <td>40-44</td>\n",
       "      <td>POST-BACHELORS</td>\n",
       "      <td>13.0</td>\n",
       "      <td>10 - 14</td>\n",
       "      <td>GENERAL ATTORNEY</td>\n",
       "      <td>Professional</td>\n",
       "      <td>GS-GENERAL SCHEDULE</td>\n",
       "      <td>0</td>\n",
       "      <td>...</td>\n",
       "      <td>13.4</td>\n",
       "      <td>6.0</td>\n",
       "      <td>LEGAL AND KINDRED</td>\n",
       "      <td>1.0</td>\n",
       "      <td>ADMINISTRATIVE CONFERENCE OF THE UNITED STATES</td>\n",
       "      <td>15</td>\n",
       "      <td>1</td>\n",
       "      <td>1</td>\n",
       "      <td>8</td>\n",
       "      <td>DISTRICT OF COLUMBIA</td>\n",
       "    </tr>\n",
       "  </tbody>\n",
       "</table>\n",
       "<p>5 rows × 25 columns</p>\n",
       "</div>"
      ],
      "text/plain": [
       "                                       sub_agency        country age_level  \\\n",
       "0  ADMINISTRATIVE CONFERENCE OF THE UNITED STATES  United States     40-44   \n",
       "1  ADMINISTRATIVE CONFERENCE OF THE UNITED STATES  United States     55-59   \n",
       "2  ADMINISTRATIVE CONFERENCE OF THE UNITED STATES  United States     35-39   \n",
       "3  ADMINISTRATIVE CONFERENCE OF THE UNITED STATES  United States     35-39   \n",
       "4  ADMINISTRATIVE CONFERENCE OF THE UNITED STATES  United States     40-44   \n",
       "\n",
       "  education_level  pay_grade years_grouping          occupation  \\\n",
       "0       BACHELORS        NaN        15 - 19  PROGRAM MANAGEMENT   \n",
       "1  POST-BACHELORS        NaN        25 - 29    GENERAL ATTORNEY   \n",
       "2  POST-BACHELORS       15.0        10 - 14    GENERAL ATTORNEY   \n",
       "3  POST-BACHELORS       15.0        10 - 14    GENERAL ATTORNEY   \n",
       "4  POST-BACHELORS       13.0        10 - 14    GENERAL ATTORNEY   \n",
       "\n",
       "  occupation_category                     pay_plan stem  ... years_of_service  \\\n",
       "0      Administrative  ES-SENIOR EXECUTIVE SERVICE    0  ...             18.8   \n",
       "1        Professional  ES-SENIOR EXECUTIVE SERVICE    0  ...             29.2   \n",
       "2        Professional          GS-GENERAL SCHEDULE    0  ...             12.5   \n",
       "3        Professional          GS-GENERAL SCHEDULE    0  ...             10.5   \n",
       "4        Professional          GS-GENERAL SCHEDULE    0  ...             13.4   \n",
       "\n",
       "  age_level_code                       occupation_family occupation_code  \\\n",
       "0            6.0  GENERAL ADMIN, CLERICAL, & OFFICE SVCS             2.0   \n",
       "1            9.0                       LEGAL AND KINDRED             1.0   \n",
       "2            5.0                       LEGAL AND KINDRED             1.0   \n",
       "3            5.0                       LEGAL AND KINDRED             1.0   \n",
       "4            6.0                       LEGAL AND KINDRED             1.0   \n",
       "\n",
       "                                           agency  education_code  \\\n",
       "0  ADMINISTRATIVE CONFERENCE OF THE UNITED STATES              13   \n",
       "1  ADMINISTRATIVE CONFERENCE OF THE UNITED STATES              15   \n",
       "2  ADMINISTRATIVE CONFERENCE OF THE UNITED STATES              15   \n",
       "3  ADMINISTRATIVE CONFERENCE OF THE UNITED STATES              15   \n",
       "4  ADMINISTRATIVE CONFERENCE OF THE UNITED STATES              15   \n",
       "\n",
       "   work_status_code full_time_code  supervisor_code                 state  \n",
       "0                 1              1                2  DISTRICT OF COLUMBIA  \n",
       "1                 1              1                2  DISTRICT OF COLUMBIA  \n",
       "2                 1              1                2              OKLAHOMA  \n",
       "3                 1              1                8  DISTRICT OF COLUMBIA  \n",
       "4                 1              1                8  DISTRICT OF COLUMBIA  \n",
       "\n",
       "[5 rows x 25 columns]"
      ]
     },
     "execution_count": 336,
     "metadata": {},
     "output_type": "execute_result"
    }
   ],
   "source": [
    "df_raw19.head()"
   ]
  },
  {
   "cell_type": "code",
   "execution_count": 337,
   "id": "286d0dc8",
   "metadata": {},
   "outputs": [],
   "source": [
    "#Rename Salary to be lower case like the rest"
   ]
  },
  {
   "cell_type": "code",
   "execution_count": 338,
   "id": "931ee603",
   "metadata": {},
   "outputs": [],
   "source": [
    "df_raw19.rename(columns = {'SALARY':'salary'},inplace = True)"
   ]
  },
  {
   "cell_type": "code",
   "execution_count": 339,
   "id": "d7b90ce1",
   "metadata": {},
   "outputs": [
    {
     "data": {
      "text/html": [
       "<div>\n",
       "<style scoped>\n",
       "    .dataframe tbody tr th:only-of-type {\n",
       "        vertical-align: middle;\n",
       "    }\n",
       "\n",
       "    .dataframe tbody tr th {\n",
       "        vertical-align: top;\n",
       "    }\n",
       "\n",
       "    .dataframe thead th {\n",
       "        text-align: right;\n",
       "    }\n",
       "</style>\n",
       "<table border=\"1\" class=\"dataframe\">\n",
       "  <thead>\n",
       "    <tr style=\"text-align: right;\">\n",
       "      <th></th>\n",
       "      <th>sub_agency</th>\n",
       "      <th>country</th>\n",
       "      <th>age_level</th>\n",
       "      <th>education_level</th>\n",
       "      <th>pay_grade</th>\n",
       "      <th>years_grouping</th>\n",
       "      <th>occupation</th>\n",
       "      <th>occupation_category</th>\n",
       "      <th>pay_plan</th>\n",
       "      <th>stem</th>\n",
       "      <th>...</th>\n",
       "      <th>years_of_service</th>\n",
       "      <th>age_level_code</th>\n",
       "      <th>occupation_family</th>\n",
       "      <th>occupation_code</th>\n",
       "      <th>agency</th>\n",
       "      <th>education_code</th>\n",
       "      <th>work_status_code</th>\n",
       "      <th>full_time_code</th>\n",
       "      <th>supervisor_code</th>\n",
       "      <th>state</th>\n",
       "    </tr>\n",
       "  </thead>\n",
       "  <tbody>\n",
       "    <tr>\n",
       "      <th>0</th>\n",
       "      <td>ADMINISTRATIVE CONFERENCE OF THE UNITED STATES</td>\n",
       "      <td>United States</td>\n",
       "      <td>40-44</td>\n",
       "      <td>BACHELORS</td>\n",
       "      <td>NaN</td>\n",
       "      <td>15 - 19</td>\n",
       "      <td>PROGRAM MANAGEMENT</td>\n",
       "      <td>Administrative</td>\n",
       "      <td>ES-SENIOR EXECUTIVE SERVICE</td>\n",
       "      <td>0</td>\n",
       "      <td>...</td>\n",
       "      <td>18.8</td>\n",
       "      <td>6.0</td>\n",
       "      <td>GENERAL ADMIN, CLERICAL, &amp; OFFICE SVCS</td>\n",
       "      <td>2.0</td>\n",
       "      <td>ADMINISTRATIVE CONFERENCE OF THE UNITED STATES</td>\n",
       "      <td>13</td>\n",
       "      <td>1</td>\n",
       "      <td>1</td>\n",
       "      <td>2</td>\n",
       "      <td>DISTRICT OF COLUMBIA</td>\n",
       "    </tr>\n",
       "    <tr>\n",
       "      <th>1</th>\n",
       "      <td>ADMINISTRATIVE CONFERENCE OF THE UNITED STATES</td>\n",
       "      <td>United States</td>\n",
       "      <td>55-59</td>\n",
       "      <td>POST-BACHELORS</td>\n",
       "      <td>NaN</td>\n",
       "      <td>25 - 29</td>\n",
       "      <td>GENERAL ATTORNEY</td>\n",
       "      <td>Professional</td>\n",
       "      <td>ES-SENIOR EXECUTIVE SERVICE</td>\n",
       "      <td>0</td>\n",
       "      <td>...</td>\n",
       "      <td>29.2</td>\n",
       "      <td>9.0</td>\n",
       "      <td>LEGAL AND KINDRED</td>\n",
       "      <td>1.0</td>\n",
       "      <td>ADMINISTRATIVE CONFERENCE OF THE UNITED STATES</td>\n",
       "      <td>15</td>\n",
       "      <td>1</td>\n",
       "      <td>1</td>\n",
       "      <td>2</td>\n",
       "      <td>DISTRICT OF COLUMBIA</td>\n",
       "    </tr>\n",
       "    <tr>\n",
       "      <th>2</th>\n",
       "      <td>ADMINISTRATIVE CONFERENCE OF THE UNITED STATES</td>\n",
       "      <td>United States</td>\n",
       "      <td>35-39</td>\n",
       "      <td>POST-BACHELORS</td>\n",
       "      <td>15.0</td>\n",
       "      <td>10 - 14</td>\n",
       "      <td>GENERAL ATTORNEY</td>\n",
       "      <td>Professional</td>\n",
       "      <td>GS-GENERAL SCHEDULE</td>\n",
       "      <td>0</td>\n",
       "      <td>...</td>\n",
       "      <td>12.5</td>\n",
       "      <td>5.0</td>\n",
       "      <td>LEGAL AND KINDRED</td>\n",
       "      <td>1.0</td>\n",
       "      <td>ADMINISTRATIVE CONFERENCE OF THE UNITED STATES</td>\n",
       "      <td>15</td>\n",
       "      <td>1</td>\n",
       "      <td>1</td>\n",
       "      <td>2</td>\n",
       "      <td>OKLAHOMA</td>\n",
       "    </tr>\n",
       "    <tr>\n",
       "      <th>3</th>\n",
       "      <td>ADMINISTRATIVE CONFERENCE OF THE UNITED STATES</td>\n",
       "      <td>United States</td>\n",
       "      <td>35-39</td>\n",
       "      <td>POST-BACHELORS</td>\n",
       "      <td>15.0</td>\n",
       "      <td>10 - 14</td>\n",
       "      <td>GENERAL ATTORNEY</td>\n",
       "      <td>Professional</td>\n",
       "      <td>GS-GENERAL SCHEDULE</td>\n",
       "      <td>0</td>\n",
       "      <td>...</td>\n",
       "      <td>10.5</td>\n",
       "      <td>5.0</td>\n",
       "      <td>LEGAL AND KINDRED</td>\n",
       "      <td>1.0</td>\n",
       "      <td>ADMINISTRATIVE CONFERENCE OF THE UNITED STATES</td>\n",
       "      <td>15</td>\n",
       "      <td>1</td>\n",
       "      <td>1</td>\n",
       "      <td>8</td>\n",
       "      <td>DISTRICT OF COLUMBIA</td>\n",
       "    </tr>\n",
       "    <tr>\n",
       "      <th>4</th>\n",
       "      <td>ADMINISTRATIVE CONFERENCE OF THE UNITED STATES</td>\n",
       "      <td>United States</td>\n",
       "      <td>40-44</td>\n",
       "      <td>POST-BACHELORS</td>\n",
       "      <td>13.0</td>\n",
       "      <td>10 - 14</td>\n",
       "      <td>GENERAL ATTORNEY</td>\n",
       "      <td>Professional</td>\n",
       "      <td>GS-GENERAL SCHEDULE</td>\n",
       "      <td>0</td>\n",
       "      <td>...</td>\n",
       "      <td>13.4</td>\n",
       "      <td>6.0</td>\n",
       "      <td>LEGAL AND KINDRED</td>\n",
       "      <td>1.0</td>\n",
       "      <td>ADMINISTRATIVE CONFERENCE OF THE UNITED STATES</td>\n",
       "      <td>15</td>\n",
       "      <td>1</td>\n",
       "      <td>1</td>\n",
       "      <td>8</td>\n",
       "      <td>DISTRICT OF COLUMBIA</td>\n",
       "    </tr>\n",
       "  </tbody>\n",
       "</table>\n",
       "<p>5 rows × 25 columns</p>\n",
       "</div>"
      ],
      "text/plain": [
       "                                       sub_agency        country age_level  \\\n",
       "0  ADMINISTRATIVE CONFERENCE OF THE UNITED STATES  United States     40-44   \n",
       "1  ADMINISTRATIVE CONFERENCE OF THE UNITED STATES  United States     55-59   \n",
       "2  ADMINISTRATIVE CONFERENCE OF THE UNITED STATES  United States     35-39   \n",
       "3  ADMINISTRATIVE CONFERENCE OF THE UNITED STATES  United States     35-39   \n",
       "4  ADMINISTRATIVE CONFERENCE OF THE UNITED STATES  United States     40-44   \n",
       "\n",
       "  education_level  pay_grade years_grouping          occupation  \\\n",
       "0       BACHELORS        NaN        15 - 19  PROGRAM MANAGEMENT   \n",
       "1  POST-BACHELORS        NaN        25 - 29    GENERAL ATTORNEY   \n",
       "2  POST-BACHELORS       15.0        10 - 14    GENERAL ATTORNEY   \n",
       "3  POST-BACHELORS       15.0        10 - 14    GENERAL ATTORNEY   \n",
       "4  POST-BACHELORS       13.0        10 - 14    GENERAL ATTORNEY   \n",
       "\n",
       "  occupation_category                     pay_plan stem  ... years_of_service  \\\n",
       "0      Administrative  ES-SENIOR EXECUTIVE SERVICE    0  ...             18.8   \n",
       "1        Professional  ES-SENIOR EXECUTIVE SERVICE    0  ...             29.2   \n",
       "2        Professional          GS-GENERAL SCHEDULE    0  ...             12.5   \n",
       "3        Professional          GS-GENERAL SCHEDULE    0  ...             10.5   \n",
       "4        Professional          GS-GENERAL SCHEDULE    0  ...             13.4   \n",
       "\n",
       "  age_level_code                       occupation_family occupation_code  \\\n",
       "0            6.0  GENERAL ADMIN, CLERICAL, & OFFICE SVCS             2.0   \n",
       "1            9.0                       LEGAL AND KINDRED             1.0   \n",
       "2            5.0                       LEGAL AND KINDRED             1.0   \n",
       "3            5.0                       LEGAL AND KINDRED             1.0   \n",
       "4            6.0                       LEGAL AND KINDRED             1.0   \n",
       "\n",
       "                                           agency  education_code  \\\n",
       "0  ADMINISTRATIVE CONFERENCE OF THE UNITED STATES              13   \n",
       "1  ADMINISTRATIVE CONFERENCE OF THE UNITED STATES              15   \n",
       "2  ADMINISTRATIVE CONFERENCE OF THE UNITED STATES              15   \n",
       "3  ADMINISTRATIVE CONFERENCE OF THE UNITED STATES              15   \n",
       "4  ADMINISTRATIVE CONFERENCE OF THE UNITED STATES              15   \n",
       "\n",
       "   work_status_code full_time_code  supervisor_code                 state  \n",
       "0                 1              1                2  DISTRICT OF COLUMBIA  \n",
       "1                 1              1                2  DISTRICT OF COLUMBIA  \n",
       "2                 1              1                2              OKLAHOMA  \n",
       "3                 1              1                8  DISTRICT OF COLUMBIA  \n",
       "4                 1              1                8  DISTRICT OF COLUMBIA  \n",
       "\n",
       "[5 rows x 25 columns]"
      ]
     },
     "execution_count": 339,
     "metadata": {},
     "output_type": "execute_result"
    }
   ],
   "source": [
    "df_raw19.head()"
   ]
  },
  {
   "cell_type": "code",
   "execution_count": 340,
   "id": "de7eaf54",
   "metadata": {},
   "outputs": [
    {
     "data": {
      "text/plain": [
       "(2152679, 25)"
      ]
     },
     "execution_count": 340,
     "metadata": {},
     "output_type": "execute_result"
    }
   ],
   "source": [
    "df_raw19.shape"
   ]
  },
  {
   "cell_type": "markdown",
   "id": "3ad40cc9",
   "metadata": {},
   "source": [
    "### Check for NaN values and possibly remove"
   ]
  },
  {
   "cell_type": "code",
   "execution_count": 341,
   "id": "63ce92da",
   "metadata": {},
   "outputs": [],
   "source": [
    "#In March 2022 Exploration of Data I found that EDLVL, GSEGRD, SALARY, and LOS all had NaN values"
   ]
  },
  {
   "cell_type": "code",
   "execution_count": 342,
   "id": "c5f8106d",
   "metadata": {},
   "outputs": [
    {
     "data": {
      "text/plain": [
       "sub_agency                   0\n",
       "country                      0\n",
       "age_level                    0\n",
       "education_level              0\n",
       "pay_grade               631944\n",
       "years_grouping               0\n",
       "occupation                   0\n",
       "occupation_category          0\n",
       "pay_plan                     0\n",
       "stem                         0\n",
       "supervisor_status            0\n",
       "full_time                    0\n",
       "work_status                  0\n",
       "date                         0\n",
       "salary                  301029\n",
       "years_of_service           536\n",
       "age_level_code               0\n",
       "occupation_family      1113697\n",
       "occupation_code              0\n",
       "agency                       0\n",
       "education_code               0\n",
       "work_status_code             0\n",
       "full_time_code               0\n",
       "supervisor_code              0\n",
       "state                        0\n",
       "dtype: int64"
      ]
     },
     "execution_count": 342,
     "metadata": {},
     "output_type": "execute_result"
    }
   ],
   "source": [
    "df_raw19.isnull().sum()"
   ]
  },
  {
   "cell_type": "code",
   "execution_count": 350,
   "id": "56a6e2ab",
   "metadata": {},
   "outputs": [],
   "source": [
    "#Check years of service as it is numerical (float) and we can replace with mean or median"
   ]
  },
  {
   "cell_type": "code",
   "execution_count": 351,
   "id": "da7253d0",
   "metadata": {},
   "outputs": [
    {
     "data": {
      "text/plain": [
       "count    2.152679e+06\n",
       "mean     1.221623e+01\n",
       "std      9.964196e+00\n",
       "min      0.000000e+00\n",
       "25%      3.800000e+00\n",
       "50%      1.070000e+01\n",
       "75%      1.780000e+01\n",
       "max      7.760000e+01\n",
       "Name: years_of_service, dtype: float64"
      ]
     },
     "execution_count": 351,
     "metadata": {},
     "output_type": "execute_result"
    }
   ],
   "source": [
    "df_raw19['years_of_service'].describe()"
   ]
  },
  {
   "cell_type": "code",
   "execution_count": 352,
   "id": "b6b3a876",
   "metadata": {},
   "outputs": [
    {
     "data": {
      "text/plain": [
       "10.7"
      ]
     },
     "execution_count": 352,
     "metadata": {},
     "output_type": "execute_result"
    }
   ],
   "source": [
    "df_raw19['years_of_service'].median()"
   ]
  },
  {
   "cell_type": "code",
   "execution_count": 353,
   "id": "ed7952c9",
   "metadata": {},
   "outputs": [
    {
     "data": {
      "text/plain": [
       "0    0.8\n",
       "Name: years_of_service, dtype: float64"
      ]
     },
     "execution_count": 353,
     "metadata": {},
     "output_type": "execute_result"
    }
   ],
   "source": [
    "df_raw19['years_of_service'].mode()"
   ]
  },
  {
   "cell_type": "code",
   "execution_count": 354,
   "id": "466f2c53",
   "metadata": {},
   "outputs": [],
   "source": [
    "# mode<median<mean so a positive skew so we will replace values with median as data is skewed"
   ]
  },
  {
   "cell_type": "code",
   "execution_count": 355,
   "id": "9d637e44",
   "metadata": {},
   "outputs": [],
   "source": [
    "df_raw19['years_of_service'] = df_raw19['years_of_service'].fillna(df_raw19['years_of_service'].median())"
   ]
  },
  {
   "cell_type": "code",
   "execution_count": 356,
   "id": "5f8a3614",
   "metadata": {},
   "outputs": [
    {
     "data": {
      "text/plain": [
       "sub_agency                   0\n",
       "country                      0\n",
       "age_level                    0\n",
       "education_level              0\n",
       "pay_grade               631944\n",
       "years_grouping               0\n",
       "occupation                   0\n",
       "occupation_category          0\n",
       "pay_plan                     0\n",
       "stem                         0\n",
       "supervisor_status            0\n",
       "full_time                    0\n",
       "work_status                  0\n",
       "date                         0\n",
       "salary                  301029\n",
       "years_of_service             0\n",
       "age_level_code               0\n",
       "occupation_family      1113697\n",
       "occupation_code              0\n",
       "agency                       0\n",
       "education_code               0\n",
       "work_status_code             0\n",
       "full_time_code               0\n",
       "supervisor_code              0\n",
       "state                        0\n",
       "dtype: int64"
      ]
     },
     "execution_count": 356,
     "metadata": {},
     "output_type": "execute_result"
    }
   ],
   "source": [
    "df_raw19.isnull().sum()"
   ]
  },
  {
   "cell_type": "code",
   "execution_count": 357,
   "id": "99eb5e9d",
   "metadata": {},
   "outputs": [],
   "source": [
    "#taking note that occupation_family is missing 50% so probably won't be a good category for sorting.  I'm leaving all values in"
   ]
  },
  {
   "cell_type": "code",
   "execution_count": 358,
   "id": "f6f55bb4",
   "metadata": {},
   "outputs": [],
   "source": [
    "df_nan_paygrade = df_raw19[df_raw19['pay_grade'].isnull() == True]"
   ]
  },
  {
   "cell_type": "code",
   "execution_count": 359,
   "id": "8183e41a",
   "metadata": {},
   "outputs": [
    {
     "data": {
      "text/html": [
       "<div>\n",
       "<style scoped>\n",
       "    .dataframe tbody tr th:only-of-type {\n",
       "        vertical-align: middle;\n",
       "    }\n",
       "\n",
       "    .dataframe tbody tr th {\n",
       "        vertical-align: top;\n",
       "    }\n",
       "\n",
       "    .dataframe thead th {\n",
       "        text-align: right;\n",
       "    }\n",
       "</style>\n",
       "<table border=\"1\" class=\"dataframe\">\n",
       "  <thead>\n",
       "    <tr style=\"text-align: right;\">\n",
       "      <th></th>\n",
       "      <th>sub_agency</th>\n",
       "      <th>country</th>\n",
       "      <th>age_level</th>\n",
       "      <th>education_level</th>\n",
       "      <th>pay_grade</th>\n",
       "      <th>years_grouping</th>\n",
       "      <th>occupation</th>\n",
       "      <th>occupation_category</th>\n",
       "      <th>pay_plan</th>\n",
       "      <th>stem</th>\n",
       "      <th>...</th>\n",
       "      <th>years_of_service</th>\n",
       "      <th>age_level_code</th>\n",
       "      <th>occupation_family</th>\n",
       "      <th>occupation_code</th>\n",
       "      <th>agency</th>\n",
       "      <th>education_code</th>\n",
       "      <th>work_status_code</th>\n",
       "      <th>full_time_code</th>\n",
       "      <th>supervisor_code</th>\n",
       "      <th>state</th>\n",
       "    </tr>\n",
       "  </thead>\n",
       "  <tbody>\n",
       "    <tr>\n",
       "      <th>0</th>\n",
       "      <td>ADMINISTRATIVE CONFERENCE OF THE UNITED STATES</td>\n",
       "      <td>United States</td>\n",
       "      <td>40-44</td>\n",
       "      <td>BACHELORS</td>\n",
       "      <td>NaN</td>\n",
       "      <td>15 - 19</td>\n",
       "      <td>PROGRAM MANAGEMENT</td>\n",
       "      <td>Administrative</td>\n",
       "      <td>ES-SENIOR EXECUTIVE SERVICE</td>\n",
       "      <td>0</td>\n",
       "      <td>...</td>\n",
       "      <td>18.8</td>\n",
       "      <td>6.0</td>\n",
       "      <td>GENERAL ADMIN, CLERICAL, &amp; OFFICE SVCS</td>\n",
       "      <td>2.0</td>\n",
       "      <td>ADMINISTRATIVE CONFERENCE OF THE UNITED STATES</td>\n",
       "      <td>13</td>\n",
       "      <td>1</td>\n",
       "      <td>1</td>\n",
       "      <td>2</td>\n",
       "      <td>DISTRICT OF COLUMBIA</td>\n",
       "    </tr>\n",
       "    <tr>\n",
       "      <th>1</th>\n",
       "      <td>ADMINISTRATIVE CONFERENCE OF THE UNITED STATES</td>\n",
       "      <td>United States</td>\n",
       "      <td>55-59</td>\n",
       "      <td>POST-BACHELORS</td>\n",
       "      <td>NaN</td>\n",
       "      <td>25 - 29</td>\n",
       "      <td>GENERAL ATTORNEY</td>\n",
       "      <td>Professional</td>\n",
       "      <td>ES-SENIOR EXECUTIVE SERVICE</td>\n",
       "      <td>0</td>\n",
       "      <td>...</td>\n",
       "      <td>29.2</td>\n",
       "      <td>9.0</td>\n",
       "      <td>LEGAL AND KINDRED</td>\n",
       "      <td>1.0</td>\n",
       "      <td>ADMINISTRATIVE CONFERENCE OF THE UNITED STATES</td>\n",
       "      <td>15</td>\n",
       "      <td>1</td>\n",
       "      <td>1</td>\n",
       "      <td>2</td>\n",
       "      <td>DISTRICT OF COLUMBIA</td>\n",
       "    </tr>\n",
       "    <tr>\n",
       "      <th>6</th>\n",
       "      <td>ADMINISTRATIVE CONFERENCE OF THE UNITED STATES</td>\n",
       "      <td>United States</td>\n",
       "      <td>50-54</td>\n",
       "      <td>POST-BACHELORS</td>\n",
       "      <td>NaN</td>\n",
       "      <td>10 - 14</td>\n",
       "      <td>MISCELLANEOUS ADMINISTRATION AND PROGRAM</td>\n",
       "      <td>Administrative</td>\n",
       "      <td>ES-SENIOR EXECUTIVE SERVICE</td>\n",
       "      <td>0</td>\n",
       "      <td>...</td>\n",
       "      <td>12.4</td>\n",
       "      <td>8.0</td>\n",
       "      <td>GENERAL ADMIN, CLERICAL, &amp; OFFICE SVCS</td>\n",
       "      <td>2.0</td>\n",
       "      <td>ADMINISTRATIVE CONFERENCE OF THE UNITED STATES</td>\n",
       "      <td>15</td>\n",
       "      <td>1</td>\n",
       "      <td>1</td>\n",
       "      <td>2</td>\n",
       "      <td>DISTRICT OF COLUMBIA</td>\n",
       "    </tr>\n",
       "    <tr>\n",
       "      <th>16</th>\n",
       "      <td>AMERICAN BATTLE MONUMENTS COMMISSION</td>\n",
       "      <td>FRANCE</td>\n",
       "      <td>55-59</td>\n",
       "      <td>MASTERS</td>\n",
       "      <td>NaN</td>\n",
       "      <td>35 or more</td>\n",
       "      <td>MISCELLANEOUS ADMINISTRATION AND PROGRAM</td>\n",
       "      <td>Administrative</td>\n",
       "      <td>ES-SENIOR EXECUTIVE SERVICE</td>\n",
       "      <td>0</td>\n",
       "      <td>...</td>\n",
       "      <td>36.7</td>\n",
       "      <td>9.0</td>\n",
       "      <td>GENERAL ADMIN, CLERICAL, &amp; OFFICE SVCS</td>\n",
       "      <td>2.0</td>\n",
       "      <td>AMERICAN BATTLE MONUMENTS COMMISSION</td>\n",
       "      <td>17</td>\n",
       "      <td>1</td>\n",
       "      <td>1</td>\n",
       "      <td>2</td>\n",
       "      <td>Foreign Countries</td>\n",
       "    </tr>\n",
       "    <tr>\n",
       "      <th>26</th>\n",
       "      <td>AMERICAN BATTLE MONUMENTS COMMISSION</td>\n",
       "      <td>United States</td>\n",
       "      <td>65 or more</td>\n",
       "      <td>DOCTORATE</td>\n",
       "      <td>NaN</td>\n",
       "      <td>1 - 2</td>\n",
       "      <td>HISTORY</td>\n",
       "      <td>Professional</td>\n",
       "      <td>ED-EXPERT (5 U.S.C. 3109)</td>\n",
       "      <td>0</td>\n",
       "      <td>...</td>\n",
       "      <td>1.8</td>\n",
       "      <td>11.0</td>\n",
       "      <td>SOCIAL SCIENCE, PSYCHOLOGY, AND WELFARE</td>\n",
       "      <td>1.0</td>\n",
       "      <td>AMERICAN BATTLE MONUMENTS COMMISSION</td>\n",
       "      <td>21</td>\n",
       "      <td>2</td>\n",
       "      <td>2</td>\n",
       "      <td>8</td>\n",
       "      <td>VIRGINIA</td>\n",
       "    </tr>\n",
       "    <tr>\n",
       "      <th>...</th>\n",
       "      <td>...</td>\n",
       "      <td>...</td>\n",
       "      <td>...</td>\n",
       "      <td>...</td>\n",
       "      <td>...</td>\n",
       "      <td>...</td>\n",
       "      <td>...</td>\n",
       "      <td>...</td>\n",
       "      <td>...</td>\n",
       "      <td>...</td>\n",
       "      <td>...</td>\n",
       "      <td>...</td>\n",
       "      <td>...</td>\n",
       "      <td>...</td>\n",
       "      <td>...</td>\n",
       "      <td>...</td>\n",
       "      <td>...</td>\n",
       "      <td>...</td>\n",
       "      <td>...</td>\n",
       "      <td>...</td>\n",
       "      <td>...</td>\n",
       "    </tr>\n",
       "    <tr>\n",
       "      <th>2155619</th>\n",
       "      <td>UNITED STATES-CHINA ECONOMIC AND SECURITY REVI...</td>\n",
       "      <td>United States</td>\n",
       "      <td>30-34</td>\n",
       "      <td>HIGH SCHOOL OR EQUIVALENCY</td>\n",
       "      <td>NaN</td>\n",
       "      <td>3 - 4</td>\n",
       "      <td>MISCELLANEOUS ADMINISTRATION AND PROGRAM</td>\n",
       "      <td>Administrative</td>\n",
       "      <td>AD-ADMINISTRATIVELY DETERMINED RATES, NOT ELSE...</td>\n",
       "      <td>0</td>\n",
       "      <td>...</td>\n",
       "      <td>3.2</td>\n",
       "      <td>4.0</td>\n",
       "      <td>GENERAL ADMIN, CLERICAL, &amp; OFFICE SVCS</td>\n",
       "      <td>2.0</td>\n",
       "      <td>UNITED STATES-CHINA ECONOMIC AND SECURITY REVI...</td>\n",
       "      <td>4</td>\n",
       "      <td>2</td>\n",
       "      <td>1</td>\n",
       "      <td>8</td>\n",
       "      <td>DISTRICT OF COLUMBIA</td>\n",
       "    </tr>\n",
       "    <tr>\n",
       "      <th>2155620</th>\n",
       "      <td>UNITED STATES-CHINA ECONOMIC AND SECURITY REVI...</td>\n",
       "      <td>United States</td>\n",
       "      <td>25-29</td>\n",
       "      <td>HIGH SCHOOL OR EQUIVALENCY</td>\n",
       "      <td>NaN</td>\n",
       "      <td>Less than 1</td>\n",
       "      <td>MISCELLANEOUS ADMINISTRATION AND PROGRAM</td>\n",
       "      <td>Administrative</td>\n",
       "      <td>AD-ADMINISTRATIVELY DETERMINED RATES, NOT ELSE...</td>\n",
       "      <td>0</td>\n",
       "      <td>...</td>\n",
       "      <td>0.6</td>\n",
       "      <td>3.0</td>\n",
       "      <td>GENERAL ADMIN, CLERICAL, &amp; OFFICE SVCS</td>\n",
       "      <td>2.0</td>\n",
       "      <td>UNITED STATES-CHINA ECONOMIC AND SECURITY REVI...</td>\n",
       "      <td>4</td>\n",
       "      <td>2</td>\n",
       "      <td>1</td>\n",
       "      <td>8</td>\n",
       "      <td>DISTRICT OF COLUMBIA</td>\n",
       "    </tr>\n",
       "    <tr>\n",
       "      <th>2155621</th>\n",
       "      <td>UNITED STATES-CHINA ECONOMIC AND SECURITY REVI...</td>\n",
       "      <td>United States</td>\n",
       "      <td>25-29</td>\n",
       "      <td>HIGH SCHOOL OR EQUIVALENCY</td>\n",
       "      <td>NaN</td>\n",
       "      <td>3 - 4</td>\n",
       "      <td>MISCELLANEOUS ADMINISTRATION AND PROGRAM</td>\n",
       "      <td>Administrative</td>\n",
       "      <td>AD-ADMINISTRATIVELY DETERMINED RATES, NOT ELSE...</td>\n",
       "      <td>0</td>\n",
       "      <td>...</td>\n",
       "      <td>4.5</td>\n",
       "      <td>3.0</td>\n",
       "      <td>GENERAL ADMIN, CLERICAL, &amp; OFFICE SVCS</td>\n",
       "      <td>2.0</td>\n",
       "      <td>UNITED STATES-CHINA ECONOMIC AND SECURITY REVI...</td>\n",
       "      <td>4</td>\n",
       "      <td>2</td>\n",
       "      <td>1</td>\n",
       "      <td>8</td>\n",
       "      <td>DISTRICT OF COLUMBIA</td>\n",
       "    </tr>\n",
       "    <tr>\n",
       "      <th>2155622</th>\n",
       "      <td>UNITED STATES-CHINA ECONOMIC AND SECURITY REVI...</td>\n",
       "      <td>United States</td>\n",
       "      <td>25-29</td>\n",
       "      <td>MASTERS</td>\n",
       "      <td>NaN</td>\n",
       "      <td>Less than 1</td>\n",
       "      <td>MISCELLANEOUS ADMINISTRATION AND PROGRAM</td>\n",
       "      <td>Administrative</td>\n",
       "      <td>AD-ADMINISTRATIVELY DETERMINED RATES, NOT ELSE...</td>\n",
       "      <td>0</td>\n",
       "      <td>...</td>\n",
       "      <td>0.3</td>\n",
       "      <td>3.0</td>\n",
       "      <td>GENERAL ADMIN, CLERICAL, &amp; OFFICE SVCS</td>\n",
       "      <td>2.0</td>\n",
       "      <td>UNITED STATES-CHINA ECONOMIC AND SECURITY REVI...</td>\n",
       "      <td>17</td>\n",
       "      <td>2</td>\n",
       "      <td>1</td>\n",
       "      <td>8</td>\n",
       "      <td>DISTRICT OF COLUMBIA</td>\n",
       "    </tr>\n",
       "    <tr>\n",
       "      <th>2155623</th>\n",
       "      <td>UNITED STATES-CHINA ECONOMIC AND SECURITY REVI...</td>\n",
       "      <td>United States</td>\n",
       "      <td>65 or more</td>\n",
       "      <td>HIGH SCHOOL OR EQUIVALENCY</td>\n",
       "      <td>NaN</td>\n",
       "      <td>Less than 1</td>\n",
       "      <td>MISCELLANEOUS ADMINISTRATION AND PROGRAM</td>\n",
       "      <td>Administrative</td>\n",
       "      <td>AD-ADMINISTRATIVELY DETERMINED RATES, NOT ELSE...</td>\n",
       "      <td>0</td>\n",
       "      <td>...</td>\n",
       "      <td>0.2</td>\n",
       "      <td>11.0</td>\n",
       "      <td>GENERAL ADMIN, CLERICAL, &amp; OFFICE SVCS</td>\n",
       "      <td>2.0</td>\n",
       "      <td>UNITED STATES-CHINA ECONOMIC AND SECURITY REVI...</td>\n",
       "      <td>4</td>\n",
       "      <td>2</td>\n",
       "      <td>2</td>\n",
       "      <td>2</td>\n",
       "      <td>DISTRICT OF COLUMBIA</td>\n",
       "    </tr>\n",
       "  </tbody>\n",
       "</table>\n",
       "<p>631944 rows × 25 columns</p>\n",
       "</div>"
      ],
      "text/plain": [
       "                                                sub_agency        country  \\\n",
       "0           ADMINISTRATIVE CONFERENCE OF THE UNITED STATES  United States   \n",
       "1           ADMINISTRATIVE CONFERENCE OF THE UNITED STATES  United States   \n",
       "6           ADMINISTRATIVE CONFERENCE OF THE UNITED STATES  United States   \n",
       "16                    AMERICAN BATTLE MONUMENTS COMMISSION         FRANCE   \n",
       "26                    AMERICAN BATTLE MONUMENTS COMMISSION  United States   \n",
       "...                                                    ...            ...   \n",
       "2155619  UNITED STATES-CHINA ECONOMIC AND SECURITY REVI...  United States   \n",
       "2155620  UNITED STATES-CHINA ECONOMIC AND SECURITY REVI...  United States   \n",
       "2155621  UNITED STATES-CHINA ECONOMIC AND SECURITY REVI...  United States   \n",
       "2155622  UNITED STATES-CHINA ECONOMIC AND SECURITY REVI...  United States   \n",
       "2155623  UNITED STATES-CHINA ECONOMIC AND SECURITY REVI...  United States   \n",
       "\n",
       "          age_level             education_level  pay_grade years_grouping  \\\n",
       "0             40-44                   BACHELORS        NaN        15 - 19   \n",
       "1             55-59              POST-BACHELORS        NaN        25 - 29   \n",
       "6             50-54              POST-BACHELORS        NaN        10 - 14   \n",
       "16            55-59                     MASTERS        NaN     35 or more   \n",
       "26       65 or more                   DOCTORATE        NaN          1 - 2   \n",
       "...             ...                         ...        ...            ...   \n",
       "2155619       30-34  HIGH SCHOOL OR EQUIVALENCY        NaN          3 - 4   \n",
       "2155620       25-29  HIGH SCHOOL OR EQUIVALENCY        NaN    Less than 1   \n",
       "2155621       25-29  HIGH SCHOOL OR EQUIVALENCY        NaN          3 - 4   \n",
       "2155622       25-29                     MASTERS        NaN    Less than 1   \n",
       "2155623  65 or more  HIGH SCHOOL OR EQUIVALENCY        NaN    Less than 1   \n",
       "\n",
       "                                       occupation occupation_category  \\\n",
       "0                              PROGRAM MANAGEMENT      Administrative   \n",
       "1                                GENERAL ATTORNEY        Professional   \n",
       "6        MISCELLANEOUS ADMINISTRATION AND PROGRAM      Administrative   \n",
       "16       MISCELLANEOUS ADMINISTRATION AND PROGRAM      Administrative   \n",
       "26                                        HISTORY        Professional   \n",
       "...                                           ...                 ...   \n",
       "2155619  MISCELLANEOUS ADMINISTRATION AND PROGRAM      Administrative   \n",
       "2155620  MISCELLANEOUS ADMINISTRATION AND PROGRAM      Administrative   \n",
       "2155621  MISCELLANEOUS ADMINISTRATION AND PROGRAM      Administrative   \n",
       "2155622  MISCELLANEOUS ADMINISTRATION AND PROGRAM      Administrative   \n",
       "2155623  MISCELLANEOUS ADMINISTRATION AND PROGRAM      Administrative   \n",
       "\n",
       "                                                  pay_plan stem  ...  \\\n",
       "0                              ES-SENIOR EXECUTIVE SERVICE    0  ...   \n",
       "1                              ES-SENIOR EXECUTIVE SERVICE    0  ...   \n",
       "6                              ES-SENIOR EXECUTIVE SERVICE    0  ...   \n",
       "16                             ES-SENIOR EXECUTIVE SERVICE    0  ...   \n",
       "26                               ED-EXPERT (5 U.S.C. 3109)    0  ...   \n",
       "...                                                    ...  ...  ...   \n",
       "2155619  AD-ADMINISTRATIVELY DETERMINED RATES, NOT ELSE...    0  ...   \n",
       "2155620  AD-ADMINISTRATIVELY DETERMINED RATES, NOT ELSE...    0  ...   \n",
       "2155621  AD-ADMINISTRATIVELY DETERMINED RATES, NOT ELSE...    0  ...   \n",
       "2155622  AD-ADMINISTRATIVELY DETERMINED RATES, NOT ELSE...    0  ...   \n",
       "2155623  AD-ADMINISTRATIVELY DETERMINED RATES, NOT ELSE...    0  ...   \n",
       "\n",
       "        years_of_service age_level_code  \\\n",
       "0                   18.8            6.0   \n",
       "1                   29.2            9.0   \n",
       "6                   12.4            8.0   \n",
       "16                  36.7            9.0   \n",
       "26                   1.8           11.0   \n",
       "...                  ...            ...   \n",
       "2155619              3.2            4.0   \n",
       "2155620              0.6            3.0   \n",
       "2155621              4.5            3.0   \n",
       "2155622              0.3            3.0   \n",
       "2155623              0.2           11.0   \n",
       "\n",
       "                               occupation_family occupation_code  \\\n",
       "0         GENERAL ADMIN, CLERICAL, & OFFICE SVCS             2.0   \n",
       "1                              LEGAL AND KINDRED             1.0   \n",
       "6         GENERAL ADMIN, CLERICAL, & OFFICE SVCS             2.0   \n",
       "16        GENERAL ADMIN, CLERICAL, & OFFICE SVCS             2.0   \n",
       "26       SOCIAL SCIENCE, PSYCHOLOGY, AND WELFARE             1.0   \n",
       "...                                          ...             ...   \n",
       "2155619   GENERAL ADMIN, CLERICAL, & OFFICE SVCS             2.0   \n",
       "2155620   GENERAL ADMIN, CLERICAL, & OFFICE SVCS             2.0   \n",
       "2155621   GENERAL ADMIN, CLERICAL, & OFFICE SVCS             2.0   \n",
       "2155622   GENERAL ADMIN, CLERICAL, & OFFICE SVCS             2.0   \n",
       "2155623   GENERAL ADMIN, CLERICAL, & OFFICE SVCS             2.0   \n",
       "\n",
       "                                                    agency  education_code  \\\n",
       "0           ADMINISTRATIVE CONFERENCE OF THE UNITED STATES              13   \n",
       "1           ADMINISTRATIVE CONFERENCE OF THE UNITED STATES              15   \n",
       "6           ADMINISTRATIVE CONFERENCE OF THE UNITED STATES              15   \n",
       "16                    AMERICAN BATTLE MONUMENTS COMMISSION              17   \n",
       "26                    AMERICAN BATTLE MONUMENTS COMMISSION              21   \n",
       "...                                                    ...             ...   \n",
       "2155619  UNITED STATES-CHINA ECONOMIC AND SECURITY REVI...               4   \n",
       "2155620  UNITED STATES-CHINA ECONOMIC AND SECURITY REVI...               4   \n",
       "2155621  UNITED STATES-CHINA ECONOMIC AND SECURITY REVI...               4   \n",
       "2155622  UNITED STATES-CHINA ECONOMIC AND SECURITY REVI...              17   \n",
       "2155623  UNITED STATES-CHINA ECONOMIC AND SECURITY REVI...               4   \n",
       "\n",
       "         work_status_code full_time_code  supervisor_code  \\\n",
       "0                       1              1                2   \n",
       "1                       1              1                2   \n",
       "6                       1              1                2   \n",
       "16                      1              1                2   \n",
       "26                      2              2                8   \n",
       "...                   ...            ...              ...   \n",
       "2155619                 2              1                8   \n",
       "2155620                 2              1                8   \n",
       "2155621                 2              1                8   \n",
       "2155622                 2              1                8   \n",
       "2155623                 2              2                2   \n",
       "\n",
       "                        state  \n",
       "0        DISTRICT OF COLUMBIA  \n",
       "1        DISTRICT OF COLUMBIA  \n",
       "6        DISTRICT OF COLUMBIA  \n",
       "16          Foreign Countries  \n",
       "26                   VIRGINIA  \n",
       "...                       ...  \n",
       "2155619  DISTRICT OF COLUMBIA  \n",
       "2155620  DISTRICT OF COLUMBIA  \n",
       "2155621  DISTRICT OF COLUMBIA  \n",
       "2155622  DISTRICT OF COLUMBIA  \n",
       "2155623  DISTRICT OF COLUMBIA  \n",
       "\n",
       "[631944 rows x 25 columns]"
      ]
     },
     "execution_count": 359,
     "metadata": {},
     "output_type": "execute_result"
    }
   ],
   "source": [
    "df_nan_paygrade"
   ]
  },
  {
   "cell_type": "code",
   "execution_count": 360,
   "id": "42935b3b",
   "metadata": {},
   "outputs": [],
   "source": [
    "df_nan_salary = df_raw19[df_raw19['salary'].isnull() == True]"
   ]
  },
  {
   "cell_type": "code",
   "execution_count": 361,
   "id": "3eba7fdd",
   "metadata": {},
   "outputs": [
    {
     "data": {
      "text/html": [
       "<div>\n",
       "<style scoped>\n",
       "    .dataframe tbody tr th:only-of-type {\n",
       "        vertical-align: middle;\n",
       "    }\n",
       "\n",
       "    .dataframe tbody tr th {\n",
       "        vertical-align: top;\n",
       "    }\n",
       "\n",
       "    .dataframe thead th {\n",
       "        text-align: right;\n",
       "    }\n",
       "</style>\n",
       "<table border=\"1\" class=\"dataframe\">\n",
       "  <thead>\n",
       "    <tr style=\"text-align: right;\">\n",
       "      <th></th>\n",
       "      <th>sub_agency</th>\n",
       "      <th>country</th>\n",
       "      <th>age_level</th>\n",
       "      <th>education_level</th>\n",
       "      <th>pay_grade</th>\n",
       "      <th>years_grouping</th>\n",
       "      <th>occupation</th>\n",
       "      <th>occupation_category</th>\n",
       "      <th>pay_plan</th>\n",
       "      <th>stem</th>\n",
       "      <th>...</th>\n",
       "      <th>years_of_service</th>\n",
       "      <th>age_level_code</th>\n",
       "      <th>occupation_family</th>\n",
       "      <th>occupation_code</th>\n",
       "      <th>agency</th>\n",
       "      <th>education_code</th>\n",
       "      <th>work_status_code</th>\n",
       "      <th>full_time_code</th>\n",
       "      <th>supervisor_code</th>\n",
       "      <th>state</th>\n",
       "    </tr>\n",
       "  </thead>\n",
       "  <tbody>\n",
       "    <tr>\n",
       "      <th>93</th>\n",
       "      <td>AIR FORCE INSPECTION AGENCY (FO)</td>\n",
       "      <td>SUPPRESSED</td>\n",
       "      <td>60-64</td>\n",
       "      <td>BACHELORS</td>\n",
       "      <td>14.0</td>\n",
       "      <td>15 - 19</td>\n",
       "      <td>GENERAL INSPECTION, INVESTIGATION, ENFORCEMENT...</td>\n",
       "      <td>Administrative</td>\n",
       "      <td>GS-GENERAL SCHEDULE</td>\n",
       "      <td>0</td>\n",
       "      <td>...</td>\n",
       "      <td>15.3</td>\n",
       "      <td>10.0</td>\n",
       "      <td>INVESTIGATION</td>\n",
       "      <td>2.0</td>\n",
       "      <td>DEPARTMENT OF THE AIR FORCE</td>\n",
       "      <td>13</td>\n",
       "      <td>1</td>\n",
       "      <td>1</td>\n",
       "      <td>2</td>\n",
       "      <td>SUPPRESSED (SEE DATA DEFINITIONS)</td>\n",
       "    </tr>\n",
       "    <tr>\n",
       "      <th>97</th>\n",
       "      <td>AIR FORCE INSPECTION AGENCY (FO)</td>\n",
       "      <td>SUPPRESSED</td>\n",
       "      <td>60-64</td>\n",
       "      <td>MASTERS</td>\n",
       "      <td>15.0</td>\n",
       "      <td>10 - 14</td>\n",
       "      <td>GENERAL INSPECTION, INVESTIGATION, ENFORCEMENT...</td>\n",
       "      <td>Administrative</td>\n",
       "      <td>GS-GENERAL SCHEDULE</td>\n",
       "      <td>0</td>\n",
       "      <td>...</td>\n",
       "      <td>13.2</td>\n",
       "      <td>10.0</td>\n",
       "      <td>INVESTIGATION</td>\n",
       "      <td>2.0</td>\n",
       "      <td>DEPARTMENT OF THE AIR FORCE</td>\n",
       "      <td>17</td>\n",
       "      <td>1</td>\n",
       "      <td>1</td>\n",
       "      <td>2</td>\n",
       "      <td>SUPPRESSED (SEE DATA DEFINITIONS)</td>\n",
       "    </tr>\n",
       "    <tr>\n",
       "      <th>100</th>\n",
       "      <td>AIR FORCE INSPECTION AGENCY (FO)</td>\n",
       "      <td>SUPPRESSED</td>\n",
       "      <td>35-39</td>\n",
       "      <td>HIGH SCHOOL OR EQUIVALENCY</td>\n",
       "      <td>13.0</td>\n",
       "      <td>10 - 14</td>\n",
       "      <td>GENERAL INSPECTION, INVESTIGATION, ENFORCEMENT...</td>\n",
       "      <td>Administrative</td>\n",
       "      <td>GS-GENERAL SCHEDULE</td>\n",
       "      <td>0</td>\n",
       "      <td>...</td>\n",
       "      <td>13.4</td>\n",
       "      <td>5.0</td>\n",
       "      <td>INVESTIGATION</td>\n",
       "      <td>2.0</td>\n",
       "      <td>DEPARTMENT OF THE AIR FORCE</td>\n",
       "      <td>4</td>\n",
       "      <td>1</td>\n",
       "      <td>1</td>\n",
       "      <td>8</td>\n",
       "      <td>SUPPRESSED (SEE DATA DEFINITIONS)</td>\n",
       "    </tr>\n",
       "    <tr>\n",
       "      <th>101</th>\n",
       "      <td>AIR FORCE INSPECTION AGENCY (FO)</td>\n",
       "      <td>SUPPRESSED</td>\n",
       "      <td>65 or more</td>\n",
       "      <td>BACHELORS</td>\n",
       "      <td>14.0</td>\n",
       "      <td>10 - 14</td>\n",
       "      <td>GENERAL INSPECTION, INVESTIGATION, ENFORCEMENT...</td>\n",
       "      <td>Administrative</td>\n",
       "      <td>GS-GENERAL SCHEDULE</td>\n",
       "      <td>0</td>\n",
       "      <td>...</td>\n",
       "      <td>12.6</td>\n",
       "      <td>11.0</td>\n",
       "      <td>INVESTIGATION</td>\n",
       "      <td>2.0</td>\n",
       "      <td>DEPARTMENT OF THE AIR FORCE</td>\n",
       "      <td>13</td>\n",
       "      <td>1</td>\n",
       "      <td>1</td>\n",
       "      <td>2</td>\n",
       "      <td>SUPPRESSED (SEE DATA DEFINITIONS)</td>\n",
       "    </tr>\n",
       "    <tr>\n",
       "      <th>102</th>\n",
       "      <td>AIR FORCE INSPECTION AGENCY (FO)</td>\n",
       "      <td>SUPPRESSED</td>\n",
       "      <td>35-39</td>\n",
       "      <td>MASTERS</td>\n",
       "      <td>13.0</td>\n",
       "      <td>15 - 19</td>\n",
       "      <td>GENERAL INSPECTION, INVESTIGATION, ENFORCEMENT...</td>\n",
       "      <td>Administrative</td>\n",
       "      <td>GS-GENERAL SCHEDULE</td>\n",
       "      <td>0</td>\n",
       "      <td>...</td>\n",
       "      <td>17.4</td>\n",
       "      <td>5.0</td>\n",
       "      <td>INVESTIGATION</td>\n",
       "      <td>2.0</td>\n",
       "      <td>DEPARTMENT OF THE AIR FORCE</td>\n",
       "      <td>17</td>\n",
       "      <td>1</td>\n",
       "      <td>1</td>\n",
       "      <td>8</td>\n",
       "      <td>SUPPRESSED (SEE DATA DEFINITIONS)</td>\n",
       "    </tr>\n",
       "    <tr>\n",
       "      <th>...</th>\n",
       "      <td>...</td>\n",
       "      <td>...</td>\n",
       "      <td>...</td>\n",
       "      <td>...</td>\n",
       "      <td>...</td>\n",
       "      <td>...</td>\n",
       "      <td>...</td>\n",
       "      <td>...</td>\n",
       "      <td>...</td>\n",
       "      <td>...</td>\n",
       "      <td>...</td>\n",
       "      <td>...</td>\n",
       "      <td>...</td>\n",
       "      <td>...</td>\n",
       "      <td>...</td>\n",
       "      <td>...</td>\n",
       "      <td>...</td>\n",
       "      <td>...</td>\n",
       "      <td>...</td>\n",
       "      <td>...</td>\n",
       "      <td>...</td>\n",
       "    </tr>\n",
       "    <tr>\n",
       "      <th>2155580</th>\n",
       "      <td>U.S. COMMISSION ON INTERNATIONAL RELIGIOUS FRE...</td>\n",
       "      <td>United States</td>\n",
       "      <td>60-64</td>\n",
       "      <td>HIGH SCHOOL OR EQUIVALENCY</td>\n",
       "      <td>NaN</td>\n",
       "      <td>1 - 2</td>\n",
       "      <td>MISCELLANEOUS ADMINISTRATION AND PROGRAM</td>\n",
       "      <td>Administrative</td>\n",
       "      <td>AD-ADMINISTRATIVELY DETERMINED RATES, NOT ELSE...</td>\n",
       "      <td>0</td>\n",
       "      <td>...</td>\n",
       "      <td>1.0</td>\n",
       "      <td>10.0</td>\n",
       "      <td>GENERAL ADMIN, CLERICAL, &amp; OFFICE SVCS</td>\n",
       "      <td>2.0</td>\n",
       "      <td>U.S. COMMISSION ON INTERNATIONAL RELIGIOUS FRE...</td>\n",
       "      <td>4</td>\n",
       "      <td>2</td>\n",
       "      <td>2</td>\n",
       "      <td>8</td>\n",
       "      <td>DISTRICT OF COLUMBIA</td>\n",
       "    </tr>\n",
       "    <tr>\n",
       "      <th>2155586</th>\n",
       "      <td>U.S. COMMISSION ON INTERNATIONAL RELIGIOUS FRE...</td>\n",
       "      <td>United States</td>\n",
       "      <td>65 or more</td>\n",
       "      <td>POST-BACHELORS</td>\n",
       "      <td>NaN</td>\n",
       "      <td>1 - 2</td>\n",
       "      <td>MISCELLANEOUS ADMINISTRATION AND PROGRAM</td>\n",
       "      <td>Administrative</td>\n",
       "      <td>AD-ADMINISTRATIVELY DETERMINED RATES, NOT ELSE...</td>\n",
       "      <td>0</td>\n",
       "      <td>...</td>\n",
       "      <td>2.1</td>\n",
       "      <td>11.0</td>\n",
       "      <td>GENERAL ADMIN, CLERICAL, &amp; OFFICE SVCS</td>\n",
       "      <td>2.0</td>\n",
       "      <td>U.S. COMMISSION ON INTERNATIONAL RELIGIOUS FRE...</td>\n",
       "      <td>16</td>\n",
       "      <td>2</td>\n",
       "      <td>2</td>\n",
       "      <td>8</td>\n",
       "      <td>DISTRICT OF COLUMBIA</td>\n",
       "    </tr>\n",
       "    <tr>\n",
       "      <th>2155587</th>\n",
       "      <td>U.S. COMMISSION ON INTERNATIONAL RELIGIOUS FRE...</td>\n",
       "      <td>United States</td>\n",
       "      <td>65 or more</td>\n",
       "      <td>BACHELORS</td>\n",
       "      <td>NaN</td>\n",
       "      <td>1 - 2</td>\n",
       "      <td>MISCELLANEOUS ADMINISTRATION AND PROGRAM</td>\n",
       "      <td>Administrative</td>\n",
       "      <td>AD-ADMINISTRATIVELY DETERMINED RATES, NOT ELSE...</td>\n",
       "      <td>0</td>\n",
       "      <td>...</td>\n",
       "      <td>1.8</td>\n",
       "      <td>11.0</td>\n",
       "      <td>GENERAL ADMIN, CLERICAL, &amp; OFFICE SVCS</td>\n",
       "      <td>2.0</td>\n",
       "      <td>U.S. COMMISSION ON INTERNATIONAL RELIGIOUS FRE...</td>\n",
       "      <td>13</td>\n",
       "      <td>2</td>\n",
       "      <td>2</td>\n",
       "      <td>8</td>\n",
       "      <td>DISTRICT OF COLUMBIA</td>\n",
       "    </tr>\n",
       "    <tr>\n",
       "      <th>2155588</th>\n",
       "      <td>U.S. COMMISSION ON INTERNATIONAL RELIGIOUS FRE...</td>\n",
       "      <td>United States</td>\n",
       "      <td>50-54</td>\n",
       "      <td>BACHELORS</td>\n",
       "      <td>NaN</td>\n",
       "      <td>1 - 2</td>\n",
       "      <td>MISCELLANEOUS ADMINISTRATION AND PROGRAM</td>\n",
       "      <td>Administrative</td>\n",
       "      <td>AD-ADMINISTRATIVELY DETERMINED RATES, NOT ELSE...</td>\n",
       "      <td>0</td>\n",
       "      <td>...</td>\n",
       "      <td>1.8</td>\n",
       "      <td>8.0</td>\n",
       "      <td>GENERAL ADMIN, CLERICAL, &amp; OFFICE SVCS</td>\n",
       "      <td>2.0</td>\n",
       "      <td>U.S. COMMISSION ON INTERNATIONAL RELIGIOUS FRE...</td>\n",
       "      <td>13</td>\n",
       "      <td>2</td>\n",
       "      <td>2</td>\n",
       "      <td>8</td>\n",
       "      <td>DISTRICT OF COLUMBIA</td>\n",
       "    </tr>\n",
       "    <tr>\n",
       "      <th>2155590</th>\n",
       "      <td>U.S. COMMISSION ON INTERNATIONAL RELIGIOUS FRE...</td>\n",
       "      <td>United States</td>\n",
       "      <td>65 or more</td>\n",
       "      <td>HIGH SCHOOL OR EQUIVALENCY</td>\n",
       "      <td>NaN</td>\n",
       "      <td>Less than 1</td>\n",
       "      <td>MISCELLANEOUS ADMINISTRATION AND PROGRAM</td>\n",
       "      <td>Administrative</td>\n",
       "      <td>AD-ADMINISTRATIVELY DETERMINED RATES, NOT ELSE...</td>\n",
       "      <td>0</td>\n",
       "      <td>...</td>\n",
       "      <td>0.6</td>\n",
       "      <td>11.0</td>\n",
       "      <td>GENERAL ADMIN, CLERICAL, &amp; OFFICE SVCS</td>\n",
       "      <td>2.0</td>\n",
       "      <td>U.S. COMMISSION ON INTERNATIONAL RELIGIOUS FRE...</td>\n",
       "      <td>4</td>\n",
       "      <td>2</td>\n",
       "      <td>2</td>\n",
       "      <td>8</td>\n",
       "      <td>DISTRICT OF COLUMBIA</td>\n",
       "    </tr>\n",
       "  </tbody>\n",
       "</table>\n",
       "<p>301029 rows × 25 columns</p>\n",
       "</div>"
      ],
      "text/plain": [
       "                                                sub_agency        country  \\\n",
       "93                        AIR FORCE INSPECTION AGENCY (FO)     SUPPRESSED   \n",
       "97                        AIR FORCE INSPECTION AGENCY (FO)     SUPPRESSED   \n",
       "100                       AIR FORCE INSPECTION AGENCY (FO)     SUPPRESSED   \n",
       "101                       AIR FORCE INSPECTION AGENCY (FO)     SUPPRESSED   \n",
       "102                       AIR FORCE INSPECTION AGENCY (FO)     SUPPRESSED   \n",
       "...                                                    ...            ...   \n",
       "2155580  U.S. COMMISSION ON INTERNATIONAL RELIGIOUS FRE...  United States   \n",
       "2155586  U.S. COMMISSION ON INTERNATIONAL RELIGIOUS FRE...  United States   \n",
       "2155587  U.S. COMMISSION ON INTERNATIONAL RELIGIOUS FRE...  United States   \n",
       "2155588  U.S. COMMISSION ON INTERNATIONAL RELIGIOUS FRE...  United States   \n",
       "2155590  U.S. COMMISSION ON INTERNATIONAL RELIGIOUS FRE...  United States   \n",
       "\n",
       "          age_level             education_level  pay_grade years_grouping  \\\n",
       "93            60-64                   BACHELORS       14.0        15 - 19   \n",
       "97            60-64                     MASTERS       15.0        10 - 14   \n",
       "100           35-39  HIGH SCHOOL OR EQUIVALENCY       13.0        10 - 14   \n",
       "101      65 or more                   BACHELORS       14.0        10 - 14   \n",
       "102           35-39                     MASTERS       13.0        15 - 19   \n",
       "...             ...                         ...        ...            ...   \n",
       "2155580       60-64  HIGH SCHOOL OR EQUIVALENCY        NaN          1 - 2   \n",
       "2155586  65 or more              POST-BACHELORS        NaN          1 - 2   \n",
       "2155587  65 or more                   BACHELORS        NaN          1 - 2   \n",
       "2155588       50-54                   BACHELORS        NaN          1 - 2   \n",
       "2155590  65 or more  HIGH SCHOOL OR EQUIVALENCY        NaN    Less than 1   \n",
       "\n",
       "                                                occupation  \\\n",
       "93       GENERAL INSPECTION, INVESTIGATION, ENFORCEMENT...   \n",
       "97       GENERAL INSPECTION, INVESTIGATION, ENFORCEMENT...   \n",
       "100      GENERAL INSPECTION, INVESTIGATION, ENFORCEMENT...   \n",
       "101      GENERAL INSPECTION, INVESTIGATION, ENFORCEMENT...   \n",
       "102      GENERAL INSPECTION, INVESTIGATION, ENFORCEMENT...   \n",
       "...                                                    ...   \n",
       "2155580           MISCELLANEOUS ADMINISTRATION AND PROGRAM   \n",
       "2155586           MISCELLANEOUS ADMINISTRATION AND PROGRAM   \n",
       "2155587           MISCELLANEOUS ADMINISTRATION AND PROGRAM   \n",
       "2155588           MISCELLANEOUS ADMINISTRATION AND PROGRAM   \n",
       "2155590           MISCELLANEOUS ADMINISTRATION AND PROGRAM   \n",
       "\n",
       "        occupation_category  \\\n",
       "93           Administrative   \n",
       "97           Administrative   \n",
       "100          Administrative   \n",
       "101          Administrative   \n",
       "102          Administrative   \n",
       "...                     ...   \n",
       "2155580      Administrative   \n",
       "2155586      Administrative   \n",
       "2155587      Administrative   \n",
       "2155588      Administrative   \n",
       "2155590      Administrative   \n",
       "\n",
       "                                                  pay_plan stem  ...  \\\n",
       "93                                     GS-GENERAL SCHEDULE    0  ...   \n",
       "97                                     GS-GENERAL SCHEDULE    0  ...   \n",
       "100                                    GS-GENERAL SCHEDULE    0  ...   \n",
       "101                                    GS-GENERAL SCHEDULE    0  ...   \n",
       "102                                    GS-GENERAL SCHEDULE    0  ...   \n",
       "...                                                    ...  ...  ...   \n",
       "2155580  AD-ADMINISTRATIVELY DETERMINED RATES, NOT ELSE...    0  ...   \n",
       "2155586  AD-ADMINISTRATIVELY DETERMINED RATES, NOT ELSE...    0  ...   \n",
       "2155587  AD-ADMINISTRATIVELY DETERMINED RATES, NOT ELSE...    0  ...   \n",
       "2155588  AD-ADMINISTRATIVELY DETERMINED RATES, NOT ELSE...    0  ...   \n",
       "2155590  AD-ADMINISTRATIVELY DETERMINED RATES, NOT ELSE...    0  ...   \n",
       "\n",
       "        years_of_service age_level_code  \\\n",
       "93                  15.3           10.0   \n",
       "97                  13.2           10.0   \n",
       "100                 13.4            5.0   \n",
       "101                 12.6           11.0   \n",
       "102                 17.4            5.0   \n",
       "...                  ...            ...   \n",
       "2155580              1.0           10.0   \n",
       "2155586              2.1           11.0   \n",
       "2155587              1.8           11.0   \n",
       "2155588              1.8            8.0   \n",
       "2155590              0.6           11.0   \n",
       "\n",
       "                              occupation_family occupation_code  \\\n",
       "93                                INVESTIGATION             2.0   \n",
       "97                                INVESTIGATION             2.0   \n",
       "100                               INVESTIGATION             2.0   \n",
       "101                               INVESTIGATION             2.0   \n",
       "102                               INVESTIGATION             2.0   \n",
       "...                                         ...             ...   \n",
       "2155580  GENERAL ADMIN, CLERICAL, & OFFICE SVCS             2.0   \n",
       "2155586  GENERAL ADMIN, CLERICAL, & OFFICE SVCS             2.0   \n",
       "2155587  GENERAL ADMIN, CLERICAL, & OFFICE SVCS             2.0   \n",
       "2155588  GENERAL ADMIN, CLERICAL, & OFFICE SVCS             2.0   \n",
       "2155590  GENERAL ADMIN, CLERICAL, & OFFICE SVCS             2.0   \n",
       "\n",
       "                                                    agency  education_code  \\\n",
       "93                             DEPARTMENT OF THE AIR FORCE              13   \n",
       "97                             DEPARTMENT OF THE AIR FORCE              17   \n",
       "100                            DEPARTMENT OF THE AIR FORCE               4   \n",
       "101                            DEPARTMENT OF THE AIR FORCE              13   \n",
       "102                            DEPARTMENT OF THE AIR FORCE              17   \n",
       "...                                                    ...             ...   \n",
       "2155580  U.S. COMMISSION ON INTERNATIONAL RELIGIOUS FRE...               4   \n",
       "2155586  U.S. COMMISSION ON INTERNATIONAL RELIGIOUS FRE...              16   \n",
       "2155587  U.S. COMMISSION ON INTERNATIONAL RELIGIOUS FRE...              13   \n",
       "2155588  U.S. COMMISSION ON INTERNATIONAL RELIGIOUS FRE...              13   \n",
       "2155590  U.S. COMMISSION ON INTERNATIONAL RELIGIOUS FRE...               4   \n",
       "\n",
       "         work_status_code full_time_code  supervisor_code  \\\n",
       "93                      1              1                2   \n",
       "97                      1              1                2   \n",
       "100                     1              1                8   \n",
       "101                     1              1                2   \n",
       "102                     1              1                8   \n",
       "...                   ...            ...              ...   \n",
       "2155580                 2              2                8   \n",
       "2155586                 2              2                8   \n",
       "2155587                 2              2                8   \n",
       "2155588                 2              2                8   \n",
       "2155590                 2              2                8   \n",
       "\n",
       "                                     state  \n",
       "93       SUPPRESSED (SEE DATA DEFINITIONS)  \n",
       "97       SUPPRESSED (SEE DATA DEFINITIONS)  \n",
       "100      SUPPRESSED (SEE DATA DEFINITIONS)  \n",
       "101      SUPPRESSED (SEE DATA DEFINITIONS)  \n",
       "102      SUPPRESSED (SEE DATA DEFINITIONS)  \n",
       "...                                    ...  \n",
       "2155580               DISTRICT OF COLUMBIA  \n",
       "2155586               DISTRICT OF COLUMBIA  \n",
       "2155587               DISTRICT OF COLUMBIA  \n",
       "2155588               DISTRICT OF COLUMBIA  \n",
       "2155590               DISTRICT OF COLUMBIA  \n",
       "\n",
       "[301029 rows x 25 columns]"
      ]
     },
     "execution_count": 361,
     "metadata": {},
     "output_type": "execute_result"
    }
   ],
   "source": [
    "df_nan_salary"
   ]
  },
  {
   "cell_type": "code",
   "execution_count": 362,
   "id": "a3bd47b1",
   "metadata": {},
   "outputs": [],
   "source": [
    "#Both salary and paygrade don't have a consisten grouping that have NaN values, I will leave values in for now"
   ]
  },
  {
   "cell_type": "code",
   "execution_count": 363,
   "id": "71e26405",
   "metadata": {},
   "outputs": [
    {
     "data": {
      "text/plain": [
       "(2152679, 25)"
      ]
     },
     "execution_count": 363,
     "metadata": {},
     "output_type": "execute_result"
    }
   ],
   "source": [
    "df_raw19.shape"
   ]
  },
  {
   "cell_type": "code",
   "execution_count": 364,
   "id": "62b153e2",
   "metadata": {},
   "outputs": [
    {
     "name": "stdout",
     "output_type": "stream",
     "text": [
      "<class 'pandas.core.frame.DataFrame'>\n",
      "Int64Index: 2152679 entries, 0 to 2155623\n",
      "Data columns (total 25 columns):\n",
      " #   Column               Dtype  \n",
      "---  ------               -----  \n",
      " 0   sub_agency           object \n",
      " 1   country              object \n",
      " 2   age_level            object \n",
      " 3   education_level      object \n",
      " 4   pay_grade            float64\n",
      " 5   years_grouping       object \n",
      " 6   occupation           object \n",
      " 7   occupation_category  object \n",
      " 8   pay_plan             object \n",
      " 9   stem                 object \n",
      " 10  supervisor_status    object \n",
      " 11  full_time            object \n",
      " 12  work_status          object \n",
      " 13  date                 object \n",
      " 14  salary               float64\n",
      " 15  years_of_service     float64\n",
      " 16  age_level_code       float64\n",
      " 17  occupation_family    object \n",
      " 18  occupation_code      float64\n",
      " 19  agency               object \n",
      " 20  education_code       int64  \n",
      " 21  work_status_code     int64  \n",
      " 22  full_time_code       int64  \n",
      " 23  supervisor_code      int64  \n",
      " 24  state                object \n",
      "dtypes: float64(5), int64(4), object(16)\n",
      "memory usage: 427.0+ MB\n"
     ]
    }
   ],
   "source": [
    "#double check data types\n",
    "df_raw19.info()"
   ]
  },
  {
   "cell_type": "code",
   "execution_count": 365,
   "id": "6c052b83",
   "metadata": {},
   "outputs": [],
   "source": [
    "#change data type for stem\n",
    "df_raw19['stem']=df_raw19['stem'].astype('int64')"
   ]
  },
  {
   "cell_type": "code",
   "execution_count": 366,
   "id": "5ff675ad",
   "metadata": {},
   "outputs": [
    {
     "name": "stdout",
     "output_type": "stream",
     "text": [
      "<class 'pandas.core.frame.DataFrame'>\n",
      "Int64Index: 2152679 entries, 0 to 2155623\n",
      "Data columns (total 25 columns):\n",
      " #   Column               Dtype  \n",
      "---  ------               -----  \n",
      " 0   sub_agency           object \n",
      " 1   country              object \n",
      " 2   age_level            object \n",
      " 3   education_level      object \n",
      " 4   pay_grade            float64\n",
      " 5   years_grouping       object \n",
      " 6   occupation           object \n",
      " 7   occupation_category  object \n",
      " 8   pay_plan             object \n",
      " 9   stem                 int64  \n",
      " 10  supervisor_status    object \n",
      " 11  full_time            object \n",
      " 12  work_status          object \n",
      " 13  date                 object \n",
      " 14  salary               float64\n",
      " 15  years_of_service     float64\n",
      " 16  age_level_code       float64\n",
      " 17  occupation_family    object \n",
      " 18  occupation_code      float64\n",
      " 19  agency               object \n",
      " 20  education_code       int64  \n",
      " 21  work_status_code     int64  \n",
      " 22  full_time_code       int64  \n",
      " 23  supervisor_code      int64  \n",
      " 24  state                object \n",
      "dtypes: float64(5), int64(5), object(15)\n",
      "memory usage: 427.0+ MB\n"
     ]
    }
   ],
   "source": [
    "df_raw19.info()"
   ]
  },
  {
   "cell_type": "markdown",
   "id": "8cdefc36",
   "metadata": {},
   "source": [
    "### 16. Export data frame as March 2022 Clean-A pickle"
   ]
  },
  {
   "cell_type": "code",
   "execution_count": 367,
   "id": "354c41e0",
   "metadata": {},
   "outputs": [],
   "source": [
    "df_raw19.to_pickle(os.path.join(path,'prepared data','March 2022 clean-a.pkl'))"
   ]
  },
  {
   "cell_type": "code",
   "execution_count": null,
   "id": "d10643f5",
   "metadata": {},
   "outputs": [],
   "source": []
  }
 ],
 "metadata": {
  "kernelspec": {
   "display_name": "Python 3 (ipykernel)",
   "language": "python",
   "name": "python3"
  },
  "language_info": {
   "codemirror_mode": {
    "name": "ipython",
    "version": 3
   },
   "file_extension": ".py",
   "mimetype": "text/x-python",
   "name": "python",
   "nbconvert_exporter": "python",
   "pygments_lexer": "ipython3",
   "version": "3.9.12"
  }
 },
 "nbformat": 4,
 "nbformat_minor": 5
}
