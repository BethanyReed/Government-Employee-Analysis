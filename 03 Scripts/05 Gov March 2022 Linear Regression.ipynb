{
 "cells": [
  {
   "cell_type": "markdown",
   "id": "9d596e27",
   "metadata": {},
   "source": [
    "# March 2022 - Linear Regression"
   ]
  },
  {
   "cell_type": "markdown",
   "id": "3cd0ed73",
   "metadata": {},
   "source": [
    "## 1. Import Libraries and Data\n",
    "## 2. Data Cleaning\n",
    "## 3. Check for extreme values\n",
    "## 4. Data Prep for Regression Analysis\n",
    "## 5. Regression Analysis\n",
    "## 6. Check Model Performance with statistics\n",
    "## 7. Conclusions"
   ]
  },
  {
   "cell_type": "markdown",
   "id": "f18151c7",
   "metadata": {},
   "source": [
    "### 1. Import Libraries and Data"
   ]
  },
  {
   "cell_type": "code",
   "execution_count": 1,
   "id": "4e7f2c1f",
   "metadata": {},
   "outputs": [],
   "source": [
    "import pandas as pd\n",
    "import numpy as np\n",
    "import seaborn as sns\n",
    "import matplotlib\n",
    "import matplotlib.pyplot as plt\n",
    "import os\n",
    "import sklearn\n",
    "from sklearn.model_selection import train_test_split \n",
    "from sklearn.linear_model import LinearRegression\n",
    "from sklearn.metrics import mean_squared_error, r2_score"
   ]
  },
  {
   "cell_type": "code",
   "execution_count": 2,
   "id": "0a48cc06",
   "metadata": {},
   "outputs": [],
   "source": [
    "# Allow graphs created to be displayed within the notebook without the need to \"call\" them specifically.\n",
    "\n",
    "%matplotlib inline"
   ]
  },
  {
   "cell_type": "code",
   "execution_count": 3,
   "id": "fd3bc300",
   "metadata": {},
   "outputs": [],
   "source": [
    "path = r'/Users/bethanybreed/Documents/A Career Foundry/Gov Employ Data/02 Data'"
   ]
  },
  {
   "cell_type": "code",
   "execution_count": 4,
   "id": "bbc5f649",
   "metadata": {},
   "outputs": [],
   "source": [
    "# Import Data\n",
    "\n",
    "df = pd.read_pickle(os.path.join(path,'prepared data','March 2022 clean-a.pkl'))"
   ]
  },
  {
   "cell_type": "code",
   "execution_count": 5,
   "id": "ae30c261",
   "metadata": {},
   "outputs": [
    {
     "data": {
      "text/plain": [
       "(2152679, 19)"
      ]
     },
     "execution_count": 5,
     "metadata": {},
     "output_type": "execute_result"
    }
   ],
   "source": [
    "df.shape"
   ]
  },
  {
   "cell_type": "markdown",
   "id": "e7d8287a",
   "metadata": {},
   "source": [
    "### 2. Data Cleaning"
   ]
  },
  {
   "cell_type": "code",
   "execution_count": 6,
   "id": "f4b80d26",
   "metadata": {},
   "outputs": [
    {
     "data": {
      "text/plain": [
       "sub_agency                   0\n",
       "country                      0\n",
       "age_level                    0\n",
       "education_level              0\n",
       "pay_grade               631944\n",
       "years_grouping               0\n",
       "occupation                   0\n",
       "occupation_category          0\n",
       "pay_plan                     0\n",
       "stem                         0\n",
       "supervisor_status            0\n",
       "full_time                    0\n",
       "work_status                  0\n",
       "date                         0\n",
       "salary                  301029\n",
       "years_of_service             0\n",
       "occupation_family      1113697\n",
       "agency                       0\n",
       "state                        0\n",
       "dtype: int64"
      ]
     },
     "execution_count": 6,
     "metadata": {},
     "output_type": "execute_result"
    }
   ],
   "source": [
    "# Check for missing values\n",
    "\n",
    "df.isnull().sum()"
   ]
  },
  {
   "cell_type": "code",
   "execution_count": 7,
   "id": "35225cb0",
   "metadata": {},
   "outputs": [],
   "source": [
    "# I am looking at years of service and salary, so I need to handle the missing values in salary column"
   ]
  },
  {
   "cell_type": "code",
   "execution_count": 8,
   "id": "0b28fd7c",
   "metadata": {},
   "outputs": [],
   "source": [
    "#create data frame with missing values to see examples of what is missing\n",
    "df_nan = df[df['salary'].isnull() == True]"
   ]
  },
  {
   "cell_type": "code",
   "execution_count": 9,
   "id": "8bbaa0a2",
   "metadata": {},
   "outputs": [
    {
     "data": {
      "text/html": [
       "<div>\n",
       "<style scoped>\n",
       "    .dataframe tbody tr th:only-of-type {\n",
       "        vertical-align: middle;\n",
       "    }\n",
       "\n",
       "    .dataframe tbody tr th {\n",
       "        vertical-align: top;\n",
       "    }\n",
       "\n",
       "    .dataframe thead th {\n",
       "        text-align: right;\n",
       "    }\n",
       "</style>\n",
       "<table border=\"1\" class=\"dataframe\">\n",
       "  <thead>\n",
       "    <tr style=\"text-align: right;\">\n",
       "      <th></th>\n",
       "      <th>sub_agency</th>\n",
       "      <th>country</th>\n",
       "      <th>age_level</th>\n",
       "      <th>education_level</th>\n",
       "      <th>pay_grade</th>\n",
       "      <th>years_grouping</th>\n",
       "      <th>occupation</th>\n",
       "      <th>occupation_category</th>\n",
       "      <th>pay_plan</th>\n",
       "      <th>stem</th>\n",
       "      <th>supervisor_status</th>\n",
       "      <th>full_time</th>\n",
       "      <th>work_status</th>\n",
       "      <th>date</th>\n",
       "      <th>salary</th>\n",
       "      <th>years_of_service</th>\n",
       "      <th>occupation_family</th>\n",
       "      <th>agency</th>\n",
       "      <th>state</th>\n",
       "    </tr>\n",
       "  </thead>\n",
       "  <tbody>\n",
       "    <tr>\n",
       "      <th>93</th>\n",
       "      <td>AIR FORCE INSPECTION AGENCY (FO)</td>\n",
       "      <td>SUPPRESSED</td>\n",
       "      <td>60-64</td>\n",
       "      <td>BACHELORS</td>\n",
       "      <td>14.0</td>\n",
       "      <td>15 - 19</td>\n",
       "      <td>GENERAL INSPECTION, INVESTIGATION, ENFORCEMENT...</td>\n",
       "      <td>Administrative</td>\n",
       "      <td>GS-GENERAL SCHEDULE</td>\n",
       "      <td>0</td>\n",
       "      <td>SUPERVISOR OR MANAGER</td>\n",
       "      <td>Full time</td>\n",
       "      <td>Non-Seasonal Full Time Permanent</td>\n",
       "      <td>March 2022</td>\n",
       "      <td>NaN</td>\n",
       "      <td>15.3</td>\n",
       "      <td>INVESTIGATION</td>\n",
       "      <td>DEPARTMENT OF THE AIR FORCE</td>\n",
       "      <td>SUPPRESSED (SEE DATA DEFINITIONS)</td>\n",
       "    </tr>\n",
       "    <tr>\n",
       "      <th>97</th>\n",
       "      <td>AIR FORCE INSPECTION AGENCY (FO)</td>\n",
       "      <td>SUPPRESSED</td>\n",
       "      <td>60-64</td>\n",
       "      <td>MASTERS</td>\n",
       "      <td>15.0</td>\n",
       "      <td>10 - 14</td>\n",
       "      <td>GENERAL INSPECTION, INVESTIGATION, ENFORCEMENT...</td>\n",
       "      <td>Administrative</td>\n",
       "      <td>GS-GENERAL SCHEDULE</td>\n",
       "      <td>0</td>\n",
       "      <td>SUPERVISOR OR MANAGER</td>\n",
       "      <td>Full time</td>\n",
       "      <td>Non-Seasonal Full Time Permanent</td>\n",
       "      <td>March 2022</td>\n",
       "      <td>NaN</td>\n",
       "      <td>13.2</td>\n",
       "      <td>INVESTIGATION</td>\n",
       "      <td>DEPARTMENT OF THE AIR FORCE</td>\n",
       "      <td>SUPPRESSED (SEE DATA DEFINITIONS)</td>\n",
       "    </tr>\n",
       "    <tr>\n",
       "      <th>100</th>\n",
       "      <td>AIR FORCE INSPECTION AGENCY (FO)</td>\n",
       "      <td>SUPPRESSED</td>\n",
       "      <td>35-39</td>\n",
       "      <td>HIGH SCHOOL OR EQUIVALENCY</td>\n",
       "      <td>13.0</td>\n",
       "      <td>10 - 14</td>\n",
       "      <td>GENERAL INSPECTION, INVESTIGATION, ENFORCEMENT...</td>\n",
       "      <td>Administrative</td>\n",
       "      <td>GS-GENERAL SCHEDULE</td>\n",
       "      <td>0</td>\n",
       "      <td>UNSPECIFIED</td>\n",
       "      <td>Full time</td>\n",
       "      <td>Non-Seasonal Full Time Permanent</td>\n",
       "      <td>March 2022</td>\n",
       "      <td>NaN</td>\n",
       "      <td>13.4</td>\n",
       "      <td>INVESTIGATION</td>\n",
       "      <td>DEPARTMENT OF THE AIR FORCE</td>\n",
       "      <td>SUPPRESSED (SEE DATA DEFINITIONS)</td>\n",
       "    </tr>\n",
       "    <tr>\n",
       "      <th>101</th>\n",
       "      <td>AIR FORCE INSPECTION AGENCY (FO)</td>\n",
       "      <td>SUPPRESSED</td>\n",
       "      <td>65 or more</td>\n",
       "      <td>BACHELORS</td>\n",
       "      <td>14.0</td>\n",
       "      <td>10 - 14</td>\n",
       "      <td>GENERAL INSPECTION, INVESTIGATION, ENFORCEMENT...</td>\n",
       "      <td>Administrative</td>\n",
       "      <td>GS-GENERAL SCHEDULE</td>\n",
       "      <td>0</td>\n",
       "      <td>SUPERVISOR OR MANAGER</td>\n",
       "      <td>Full time</td>\n",
       "      <td>Non-Seasonal Full Time Permanent</td>\n",
       "      <td>March 2022</td>\n",
       "      <td>NaN</td>\n",
       "      <td>12.6</td>\n",
       "      <td>INVESTIGATION</td>\n",
       "      <td>DEPARTMENT OF THE AIR FORCE</td>\n",
       "      <td>SUPPRESSED (SEE DATA DEFINITIONS)</td>\n",
       "    </tr>\n",
       "    <tr>\n",
       "      <th>102</th>\n",
       "      <td>AIR FORCE INSPECTION AGENCY (FO)</td>\n",
       "      <td>SUPPRESSED</td>\n",
       "      <td>35-39</td>\n",
       "      <td>MASTERS</td>\n",
       "      <td>13.0</td>\n",
       "      <td>15 - 19</td>\n",
       "      <td>GENERAL INSPECTION, INVESTIGATION, ENFORCEMENT...</td>\n",
       "      <td>Administrative</td>\n",
       "      <td>GS-GENERAL SCHEDULE</td>\n",
       "      <td>0</td>\n",
       "      <td>UNSPECIFIED</td>\n",
       "      <td>Full time</td>\n",
       "      <td>Non-Seasonal Full Time Permanent</td>\n",
       "      <td>March 2022</td>\n",
       "      <td>NaN</td>\n",
       "      <td>17.4</td>\n",
       "      <td>INVESTIGATION</td>\n",
       "      <td>DEPARTMENT OF THE AIR FORCE</td>\n",
       "      <td>SUPPRESSED (SEE DATA DEFINITIONS)</td>\n",
       "    </tr>\n",
       "    <tr>\n",
       "      <th>...</th>\n",
       "      <td>...</td>\n",
       "      <td>...</td>\n",
       "      <td>...</td>\n",
       "      <td>...</td>\n",
       "      <td>...</td>\n",
       "      <td>...</td>\n",
       "      <td>...</td>\n",
       "      <td>...</td>\n",
       "      <td>...</td>\n",
       "      <td>...</td>\n",
       "      <td>...</td>\n",
       "      <td>...</td>\n",
       "      <td>...</td>\n",
       "      <td>...</td>\n",
       "      <td>...</td>\n",
       "      <td>...</td>\n",
       "      <td>...</td>\n",
       "      <td>...</td>\n",
       "      <td>...</td>\n",
       "    </tr>\n",
       "    <tr>\n",
       "      <th>2155580</th>\n",
       "      <td>U.S. COMMISSION ON INTERNATIONAL RELIGIOUS FRE...</td>\n",
       "      <td>United States</td>\n",
       "      <td>60-64</td>\n",
       "      <td>HIGH SCHOOL OR EQUIVALENCY</td>\n",
       "      <td>NaN</td>\n",
       "      <td>1 - 2</td>\n",
       "      <td>MISCELLANEOUS ADMINISTRATION AND PROGRAM</td>\n",
       "      <td>Administrative</td>\n",
       "      <td>AD-ADMINISTRATIVELY DETERMINED RATES, NOT ELSE...</td>\n",
       "      <td>0</td>\n",
       "      <td>UNSPECIFIED</td>\n",
       "      <td>Not Full time</td>\n",
       "      <td>Other Employees</td>\n",
       "      <td>March 2022</td>\n",
       "      <td>NaN</td>\n",
       "      <td>1.0</td>\n",
       "      <td>GENERAL ADMIN, CLERICAL, &amp; OFFICE SVCS</td>\n",
       "      <td>U.S. COMMISSION ON INTERNATIONAL RELIGIOUS FRE...</td>\n",
       "      <td>DISTRICT OF COLUMBIA</td>\n",
       "    </tr>\n",
       "    <tr>\n",
       "      <th>2155586</th>\n",
       "      <td>U.S. COMMISSION ON INTERNATIONAL RELIGIOUS FRE...</td>\n",
       "      <td>United States</td>\n",
       "      <td>65 or more</td>\n",
       "      <td>POST-BACHELORS</td>\n",
       "      <td>NaN</td>\n",
       "      <td>1 - 2</td>\n",
       "      <td>MISCELLANEOUS ADMINISTRATION AND PROGRAM</td>\n",
       "      <td>Administrative</td>\n",
       "      <td>AD-ADMINISTRATIVELY DETERMINED RATES, NOT ELSE...</td>\n",
       "      <td>0</td>\n",
       "      <td>UNSPECIFIED</td>\n",
       "      <td>Not Full time</td>\n",
       "      <td>Other Employees</td>\n",
       "      <td>March 2022</td>\n",
       "      <td>NaN</td>\n",
       "      <td>2.1</td>\n",
       "      <td>GENERAL ADMIN, CLERICAL, &amp; OFFICE SVCS</td>\n",
       "      <td>U.S. COMMISSION ON INTERNATIONAL RELIGIOUS FRE...</td>\n",
       "      <td>DISTRICT OF COLUMBIA</td>\n",
       "    </tr>\n",
       "    <tr>\n",
       "      <th>2155587</th>\n",
       "      <td>U.S. COMMISSION ON INTERNATIONAL RELIGIOUS FRE...</td>\n",
       "      <td>United States</td>\n",
       "      <td>65 or more</td>\n",
       "      <td>BACHELORS</td>\n",
       "      <td>NaN</td>\n",
       "      <td>1 - 2</td>\n",
       "      <td>MISCELLANEOUS ADMINISTRATION AND PROGRAM</td>\n",
       "      <td>Administrative</td>\n",
       "      <td>AD-ADMINISTRATIVELY DETERMINED RATES, NOT ELSE...</td>\n",
       "      <td>0</td>\n",
       "      <td>UNSPECIFIED</td>\n",
       "      <td>Not Full time</td>\n",
       "      <td>Other Employees</td>\n",
       "      <td>March 2022</td>\n",
       "      <td>NaN</td>\n",
       "      <td>1.8</td>\n",
       "      <td>GENERAL ADMIN, CLERICAL, &amp; OFFICE SVCS</td>\n",
       "      <td>U.S. COMMISSION ON INTERNATIONAL RELIGIOUS FRE...</td>\n",
       "      <td>DISTRICT OF COLUMBIA</td>\n",
       "    </tr>\n",
       "    <tr>\n",
       "      <th>2155588</th>\n",
       "      <td>U.S. COMMISSION ON INTERNATIONAL RELIGIOUS FRE...</td>\n",
       "      <td>United States</td>\n",
       "      <td>50-54</td>\n",
       "      <td>BACHELORS</td>\n",
       "      <td>NaN</td>\n",
       "      <td>1 - 2</td>\n",
       "      <td>MISCELLANEOUS ADMINISTRATION AND PROGRAM</td>\n",
       "      <td>Administrative</td>\n",
       "      <td>AD-ADMINISTRATIVELY DETERMINED RATES, NOT ELSE...</td>\n",
       "      <td>0</td>\n",
       "      <td>UNSPECIFIED</td>\n",
       "      <td>Not Full time</td>\n",
       "      <td>Other Employees</td>\n",
       "      <td>March 2022</td>\n",
       "      <td>NaN</td>\n",
       "      <td>1.8</td>\n",
       "      <td>GENERAL ADMIN, CLERICAL, &amp; OFFICE SVCS</td>\n",
       "      <td>U.S. COMMISSION ON INTERNATIONAL RELIGIOUS FRE...</td>\n",
       "      <td>DISTRICT OF COLUMBIA</td>\n",
       "    </tr>\n",
       "    <tr>\n",
       "      <th>2155590</th>\n",
       "      <td>U.S. COMMISSION ON INTERNATIONAL RELIGIOUS FRE...</td>\n",
       "      <td>United States</td>\n",
       "      <td>65 or more</td>\n",
       "      <td>HIGH SCHOOL OR EQUIVALENCY</td>\n",
       "      <td>NaN</td>\n",
       "      <td>Less than 1</td>\n",
       "      <td>MISCELLANEOUS ADMINISTRATION AND PROGRAM</td>\n",
       "      <td>Administrative</td>\n",
       "      <td>AD-ADMINISTRATIVELY DETERMINED RATES, NOT ELSE...</td>\n",
       "      <td>0</td>\n",
       "      <td>UNSPECIFIED</td>\n",
       "      <td>Not Full time</td>\n",
       "      <td>Other Employees</td>\n",
       "      <td>March 2022</td>\n",
       "      <td>NaN</td>\n",
       "      <td>0.6</td>\n",
       "      <td>GENERAL ADMIN, CLERICAL, &amp; OFFICE SVCS</td>\n",
       "      <td>U.S. COMMISSION ON INTERNATIONAL RELIGIOUS FRE...</td>\n",
       "      <td>DISTRICT OF COLUMBIA</td>\n",
       "    </tr>\n",
       "  </tbody>\n",
       "</table>\n",
       "<p>301029 rows × 19 columns</p>\n",
       "</div>"
      ],
      "text/plain": [
       "                                                sub_agency        country  \\\n",
       "93                        AIR FORCE INSPECTION AGENCY (FO)     SUPPRESSED   \n",
       "97                        AIR FORCE INSPECTION AGENCY (FO)     SUPPRESSED   \n",
       "100                       AIR FORCE INSPECTION AGENCY (FO)     SUPPRESSED   \n",
       "101                       AIR FORCE INSPECTION AGENCY (FO)     SUPPRESSED   \n",
       "102                       AIR FORCE INSPECTION AGENCY (FO)     SUPPRESSED   \n",
       "...                                                    ...            ...   \n",
       "2155580  U.S. COMMISSION ON INTERNATIONAL RELIGIOUS FRE...  United States   \n",
       "2155586  U.S. COMMISSION ON INTERNATIONAL RELIGIOUS FRE...  United States   \n",
       "2155587  U.S. COMMISSION ON INTERNATIONAL RELIGIOUS FRE...  United States   \n",
       "2155588  U.S. COMMISSION ON INTERNATIONAL RELIGIOUS FRE...  United States   \n",
       "2155590  U.S. COMMISSION ON INTERNATIONAL RELIGIOUS FRE...  United States   \n",
       "\n",
       "          age_level             education_level  pay_grade years_grouping  \\\n",
       "93            60-64                   BACHELORS       14.0        15 - 19   \n",
       "97            60-64                     MASTERS       15.0        10 - 14   \n",
       "100           35-39  HIGH SCHOOL OR EQUIVALENCY       13.0        10 - 14   \n",
       "101      65 or more                   BACHELORS       14.0        10 - 14   \n",
       "102           35-39                     MASTERS       13.0        15 - 19   \n",
       "...             ...                         ...        ...            ...   \n",
       "2155580       60-64  HIGH SCHOOL OR EQUIVALENCY        NaN          1 - 2   \n",
       "2155586  65 or more              POST-BACHELORS        NaN          1 - 2   \n",
       "2155587  65 or more                   BACHELORS        NaN          1 - 2   \n",
       "2155588       50-54                   BACHELORS        NaN          1 - 2   \n",
       "2155590  65 or more  HIGH SCHOOL OR EQUIVALENCY        NaN    Less than 1   \n",
       "\n",
       "                                                occupation  \\\n",
       "93       GENERAL INSPECTION, INVESTIGATION, ENFORCEMENT...   \n",
       "97       GENERAL INSPECTION, INVESTIGATION, ENFORCEMENT...   \n",
       "100      GENERAL INSPECTION, INVESTIGATION, ENFORCEMENT...   \n",
       "101      GENERAL INSPECTION, INVESTIGATION, ENFORCEMENT...   \n",
       "102      GENERAL INSPECTION, INVESTIGATION, ENFORCEMENT...   \n",
       "...                                                    ...   \n",
       "2155580           MISCELLANEOUS ADMINISTRATION AND PROGRAM   \n",
       "2155586           MISCELLANEOUS ADMINISTRATION AND PROGRAM   \n",
       "2155587           MISCELLANEOUS ADMINISTRATION AND PROGRAM   \n",
       "2155588           MISCELLANEOUS ADMINISTRATION AND PROGRAM   \n",
       "2155590           MISCELLANEOUS ADMINISTRATION AND PROGRAM   \n",
       "\n",
       "        occupation_category  \\\n",
       "93           Administrative   \n",
       "97           Administrative   \n",
       "100          Administrative   \n",
       "101          Administrative   \n",
       "102          Administrative   \n",
       "...                     ...   \n",
       "2155580      Administrative   \n",
       "2155586      Administrative   \n",
       "2155587      Administrative   \n",
       "2155588      Administrative   \n",
       "2155590      Administrative   \n",
       "\n",
       "                                                  pay_plan stem  \\\n",
       "93                                     GS-GENERAL SCHEDULE    0   \n",
       "97                                     GS-GENERAL SCHEDULE    0   \n",
       "100                                    GS-GENERAL SCHEDULE    0   \n",
       "101                                    GS-GENERAL SCHEDULE    0   \n",
       "102                                    GS-GENERAL SCHEDULE    0   \n",
       "...                                                    ...  ...   \n",
       "2155580  AD-ADMINISTRATIVELY DETERMINED RATES, NOT ELSE...    0   \n",
       "2155586  AD-ADMINISTRATIVELY DETERMINED RATES, NOT ELSE...    0   \n",
       "2155587  AD-ADMINISTRATIVELY DETERMINED RATES, NOT ELSE...    0   \n",
       "2155588  AD-ADMINISTRATIVELY DETERMINED RATES, NOT ELSE...    0   \n",
       "2155590  AD-ADMINISTRATIVELY DETERMINED RATES, NOT ELSE...    0   \n",
       "\n",
       "             supervisor_status      full_time  \\\n",
       "93       SUPERVISOR OR MANAGER      Full time   \n",
       "97       SUPERVISOR OR MANAGER      Full time   \n",
       "100                UNSPECIFIED      Full time   \n",
       "101      SUPERVISOR OR MANAGER      Full time   \n",
       "102                UNSPECIFIED      Full time   \n",
       "...                        ...            ...   \n",
       "2155580            UNSPECIFIED  Not Full time   \n",
       "2155586            UNSPECIFIED  Not Full time   \n",
       "2155587            UNSPECIFIED  Not Full time   \n",
       "2155588            UNSPECIFIED  Not Full time   \n",
       "2155590            UNSPECIFIED  Not Full time   \n",
       "\n",
       "                              work_status        date  salary  \\\n",
       "93       Non-Seasonal Full Time Permanent  March 2022     NaN   \n",
       "97       Non-Seasonal Full Time Permanent  March 2022     NaN   \n",
       "100      Non-Seasonal Full Time Permanent  March 2022     NaN   \n",
       "101      Non-Seasonal Full Time Permanent  March 2022     NaN   \n",
       "102      Non-Seasonal Full Time Permanent  March 2022     NaN   \n",
       "...                                   ...         ...     ...   \n",
       "2155580                   Other Employees  March 2022     NaN   \n",
       "2155586                   Other Employees  March 2022     NaN   \n",
       "2155587                   Other Employees  March 2022     NaN   \n",
       "2155588                   Other Employees  March 2022     NaN   \n",
       "2155590                   Other Employees  March 2022     NaN   \n",
       "\n",
       "         years_of_service                       occupation_family  \\\n",
       "93                   15.3                           INVESTIGATION   \n",
       "97                   13.2                           INVESTIGATION   \n",
       "100                  13.4                           INVESTIGATION   \n",
       "101                  12.6                           INVESTIGATION   \n",
       "102                  17.4                           INVESTIGATION   \n",
       "...                   ...                                     ...   \n",
       "2155580               1.0  GENERAL ADMIN, CLERICAL, & OFFICE SVCS   \n",
       "2155586               2.1  GENERAL ADMIN, CLERICAL, & OFFICE SVCS   \n",
       "2155587               1.8  GENERAL ADMIN, CLERICAL, & OFFICE SVCS   \n",
       "2155588               1.8  GENERAL ADMIN, CLERICAL, & OFFICE SVCS   \n",
       "2155590               0.6  GENERAL ADMIN, CLERICAL, & OFFICE SVCS   \n",
       "\n",
       "                                                    agency  \\\n",
       "93                             DEPARTMENT OF THE AIR FORCE   \n",
       "97                             DEPARTMENT OF THE AIR FORCE   \n",
       "100                            DEPARTMENT OF THE AIR FORCE   \n",
       "101                            DEPARTMENT OF THE AIR FORCE   \n",
       "102                            DEPARTMENT OF THE AIR FORCE   \n",
       "...                                                    ...   \n",
       "2155580  U.S. COMMISSION ON INTERNATIONAL RELIGIOUS FRE...   \n",
       "2155586  U.S. COMMISSION ON INTERNATIONAL RELIGIOUS FRE...   \n",
       "2155587  U.S. COMMISSION ON INTERNATIONAL RELIGIOUS FRE...   \n",
       "2155588  U.S. COMMISSION ON INTERNATIONAL RELIGIOUS FRE...   \n",
       "2155590  U.S. COMMISSION ON INTERNATIONAL RELIGIOUS FRE...   \n",
       "\n",
       "                                     state  \n",
       "93       SUPPRESSED (SEE DATA DEFINITIONS)  \n",
       "97       SUPPRESSED (SEE DATA DEFINITIONS)  \n",
       "100      SUPPRESSED (SEE DATA DEFINITIONS)  \n",
       "101      SUPPRESSED (SEE DATA DEFINITIONS)  \n",
       "102      SUPPRESSED (SEE DATA DEFINITIONS)  \n",
       "...                                    ...  \n",
       "2155580               DISTRICT OF COLUMBIA  \n",
       "2155586               DISTRICT OF COLUMBIA  \n",
       "2155587               DISTRICT OF COLUMBIA  \n",
       "2155588               DISTRICT OF COLUMBIA  \n",
       "2155590               DISTRICT OF COLUMBIA  \n",
       "\n",
       "[301029 rows x 19 columns]"
      ]
     },
     "execution_count": 9,
     "metadata": {},
     "output_type": "execute_result"
    }
   ],
   "source": [
    "df_nan"
   ]
  },
  {
   "cell_type": "code",
   "execution_count": 10,
   "id": "69ac73ac",
   "metadata": {},
   "outputs": [
    {
     "data": {
      "text/plain": [
       "CUSTOMS AND BORDER PROTECTION                                  59525\n",
       "TRANSPORTATION SECURITY ADMINISTRATION                         54148\n",
       "FEDERAL BUREAU OF INVESTIGATION                                32101\n",
       "IMMIGRATION AND CUSTOMS ENFORCEMENT                            18294\n",
       "BUREAU OF PRISONS/FEDERAL PRISON SYSTEM                        16665\n",
       "                                                               ...  \n",
       "US ARMY AFRICA/SOUTHERN EUROPEAN TASK FORCE (USAFRAF/SETAF)        1\n",
       "OFFICE OF THE CHIEF FINANCIAL OFFICER                              1\n",
       "FEDERAL HIGHWAY ADMINISTRATION                                     1\n",
       "GREAT LAKES SAINT LAWRENCE SEAWAY DEVELOPMENT CORPORATION          1\n",
       "THE WOMEN'S SUFFRAGE CENTENNIAL COMMISSION                         1\n",
       "Name: sub_agency, Length: 332, dtype: int64"
      ]
     },
     "execution_count": 10,
     "metadata": {},
     "output_type": "execute_result"
    }
   ],
   "source": [
    "df_nan.sub_agency.value_counts(dropna = False)"
   ]
  },
  {
   "cell_type": "code",
   "execution_count": 11,
   "id": "14cd49f5",
   "metadata": {},
   "outputs": [
    {
     "data": {
      "text/plain": [
       "Full time        291903\n",
       "Not Full time      9121\n",
       "Unspecified           5\n",
       "Name: full_time, dtype: int64"
      ]
     },
     "execution_count": 11,
     "metadata": {},
     "output_type": "execute_result"
    }
   ],
   "source": [
    "df_nan.full_time.value_counts(dropna = False)"
   ]
  },
  {
   "cell_type": "code",
   "execution_count": 12,
   "id": "6d2253e2",
   "metadata": {},
   "outputs": [],
   "source": [
    "#Missing values are a variety of items.  Since a salary can be dependent on full/part time\n",
    "#I will get the mean of each variable in full_time and replace NaN in df with corresponding mean"
   ]
  },
  {
   "cell_type": "code",
   "execution_count": 13,
   "id": "d03f983c",
   "metadata": {},
   "outputs": [],
   "source": [
    "salary_mean = df.groupby('full_time').agg({'salary': ['mean']})"
   ]
  },
  {
   "cell_type": "code",
   "execution_count": 14,
   "id": "963bcd1d",
   "metadata": {},
   "outputs": [
    {
     "data": {
      "text/html": [
       "<div>\n",
       "<style scoped>\n",
       "    .dataframe tbody tr th:only-of-type {\n",
       "        vertical-align: middle;\n",
       "    }\n",
       "\n",
       "    .dataframe tbody tr th {\n",
       "        vertical-align: top;\n",
       "    }\n",
       "\n",
       "    .dataframe thead tr th {\n",
       "        text-align: left;\n",
       "    }\n",
       "\n",
       "    .dataframe thead tr:last-of-type th {\n",
       "        text-align: right;\n",
       "    }\n",
       "</style>\n",
       "<table border=\"1\" class=\"dataframe\">\n",
       "  <thead>\n",
       "    <tr>\n",
       "      <th></th>\n",
       "      <th>salary</th>\n",
       "    </tr>\n",
       "    <tr>\n",
       "      <th></th>\n",
       "      <th>mean</th>\n",
       "    </tr>\n",
       "    <tr>\n",
       "      <th>full_time</th>\n",
       "      <th></th>\n",
       "    </tr>\n",
       "  </thead>\n",
       "  <tbody>\n",
       "    <tr>\n",
       "      <th>Full time</th>\n",
       "      <td>95713.128873</td>\n",
       "    </tr>\n",
       "    <tr>\n",
       "      <th>Not Full time</th>\n",
       "      <td>92309.141031</td>\n",
       "    </tr>\n",
       "    <tr>\n",
       "      <th>Unspecified</th>\n",
       "      <td>83802.888889</td>\n",
       "    </tr>\n",
       "  </tbody>\n",
       "</table>\n",
       "</div>"
      ],
      "text/plain": [
       "                     salary\n",
       "                       mean\n",
       "full_time                  \n",
       "Full time      95713.128873\n",
       "Not Full time  92309.141031\n",
       "Unspecified    83802.888889"
      ]
     },
     "execution_count": 14,
     "metadata": {},
     "output_type": "execute_result"
    }
   ],
   "source": [
    "salary_mean"
   ]
  },
  {
   "cell_type": "code",
   "execution_count": 15,
   "id": "d1da0fd4",
   "metadata": {},
   "outputs": [],
   "source": [
    "# fill NaN values in df with 0 to make it easy to replace\n",
    "df['salary'] = df['salary'].fillna(0)"
   ]
  },
  {
   "cell_type": "code",
   "execution_count": 16,
   "id": "de5c9a47",
   "metadata": {},
   "outputs": [],
   "source": [
    "# replace values with mean salary"
   ]
  },
  {
   "cell_type": "code",
   "execution_count": 17,
   "id": "972ae1a0",
   "metadata": {
    "scrolled": true
   },
   "outputs": [],
   "source": [
    "df['salary'] = np.where((df['salary'] == 0)\n",
    "                           & (df['full_time'] == 'Full time'), #Identifies the case to apply to\n",
    "                           ['95713.13'],      #This is the value that is inserted\n",
    "                           df['salary'])      #This is the column that is affected"
   ]
  },
  {
   "cell_type": "code",
   "execution_count": 18,
   "id": "e40ed3bf",
   "metadata": {},
   "outputs": [],
   "source": [
    "df['salary'] = np.where((df['salary'] == 0)\n",
    "                           & (df['full_time'] == 'Not Full time'), #Identifies the case to apply to\n",
    "                           ['92309.14'],      #This is the value that is inserted\n",
    "                           df['salary'])      #This is the column that is affected"
   ]
  },
  {
   "cell_type": "code",
   "execution_count": 19,
   "id": "8113d761",
   "metadata": {},
   "outputs": [],
   "source": [
    "df['salary'] = np.where((df['salary'] == 0)\n",
    "                           & (df['full_time'] == 'Unspecified'), #Identifies the case to apply to\n",
    "                           ['83802.89'],      #This is the value that is inserted\n",
    "                           df['salary'])      #This is the column that is affected"
   ]
  },
  {
   "cell_type": "code",
   "execution_count": 20,
   "id": "fd4525cc",
   "metadata": {},
   "outputs": [],
   "source": [
    "#double check df column for NaN or values that equal 0 to make sure nothing is missed"
   ]
  },
  {
   "cell_type": "code",
   "execution_count": 21,
   "id": "2ad6e382",
   "metadata": {},
   "outputs": [
    {
     "data": {
      "text/plain": [
       "sub_agency                   0\n",
       "country                      0\n",
       "age_level                    0\n",
       "education_level              0\n",
       "pay_grade               631944\n",
       "years_grouping               0\n",
       "occupation                   0\n",
       "occupation_category          0\n",
       "pay_plan                     0\n",
       "stem                         0\n",
       "supervisor_status            0\n",
       "full_time                    0\n",
       "work_status                  0\n",
       "date                         0\n",
       "salary                       0\n",
       "years_of_service             0\n",
       "occupation_family      1113697\n",
       "agency                       0\n",
       "state                        0\n",
       "dtype: int64"
      ]
     },
     "execution_count": 21,
     "metadata": {},
     "output_type": "execute_result"
    }
   ],
   "source": [
    "df.isnull().sum()"
   ]
  },
  {
   "cell_type": "code",
   "execution_count": 22,
   "id": "2dcf19e4",
   "metadata": {},
   "outputs": [],
   "source": [
    "count = (df['salary'] == 0).sum()"
   ]
  },
  {
   "cell_type": "code",
   "execution_count": 23,
   "id": "f9fb65ee",
   "metadata": {},
   "outputs": [
    {
     "data": {
      "text/plain": [
       "0"
      ]
     },
     "execution_count": 23,
     "metadata": {},
     "output_type": "execute_result"
    }
   ],
   "source": [
    "count"
   ]
  },
  {
   "cell_type": "markdown",
   "id": "5a2c86e8",
   "metadata": {},
   "source": [
    "### 3. Check for extreme values"
   ]
  },
  {
   "cell_type": "code",
   "execution_count": 24,
   "id": "2f8e70f0",
   "metadata": {},
   "outputs": [
    {
     "name": "stderr",
     "output_type": "stream",
     "text": [
      "/Users/bethanybreed/opt/anaconda3/lib/python3.9/site-packages/seaborn/distributions.py:2619: FutureWarning: `distplot` is a deprecated function and will be removed in a future version. Please adapt your code to use either `displot` (a figure-level function with similar flexibility) or `histplot` (an axes-level function for histograms).\n",
      "  warnings.warn(msg, FutureWarning)\n"
     ]
    },
    {
     "data": {
      "text/plain": [
       "<AxesSubplot:xlabel='salary', ylabel='Density'>"
      ]
     },
     "execution_count": 24,
     "metadata": {},
     "output_type": "execute_result"
    },
    {
     "data": {
      "image/png": "[encoded data removed]",
      "text/plain": [
       "<Figure size 432x288 with 1 Axes>"
      ]
     },
     "metadata": {
      "needs_background": "light"
     },
     "output_type": "display_data"
    }
   ],
   "source": [
    "sns.distplot(df['salary'], bins=25) # Shows extreme values"
   ]
  },
  {
   "cell_type": "code",
   "execution_count": 25,
   "id": "7b40e926",
   "metadata": {},
   "outputs": [],
   "source": [
    "#I will leave them for now, as this is expected, not many people will make the larger salaries which may be part of our conclusion"
   ]
  },
  {
   "cell_type": "markdown",
   "id": "1707c20d",
   "metadata": {},
   "source": [
    "### 4. Data Prep for Regression Analysis"
   ]
  },
  {
   "cell_type": "markdown",
   "id": "4284cff4",
   "metadata": {},
   "source": [
    "### I am looking at Years of Service and how it affects Salary based of Variable Relationships Script\n",
    "\n",
    "## Hypothesis Years of Service affects Salary"
   ]
  },
  {
   "cell_type": "code",
   "execution_count": 26,
   "id": "cc65d0d7",
   "metadata": {},
   "outputs": [
    {
     "data": {
      "text/plain": [
       "str"
      ]
     },
     "execution_count": 26,
     "metadata": {},
     "output_type": "execute_result"
    }
   ],
   "source": [
    "type('years_of_service')"
   ]
  },
  {
   "cell_type": "code",
   "execution_count": 27,
   "id": "b3160549",
   "metadata": {},
   "outputs": [],
   "source": [
    "df = df.astype({\"years_of_service\": float, \"salary\": float})"
   ]
  },
  {
   "cell_type": "code",
   "execution_count": 28,
   "id": "5450b3b8",
   "metadata": {},
   "outputs": [
    {
     "data": {
      "text/plain": [
       "str"
      ]
     },
     "execution_count": 28,
     "metadata": {},
     "output_type": "execute_result"
    }
   ],
   "source": [
    "type('years_of_service')"
   ]
  },
  {
   "cell_type": "code",
   "execution_count": 29,
   "id": "7165fc03",
   "metadata": {},
   "outputs": [
    {
     "data": {
      "text/plain": [
       "0.8     24194\n",
       "0.3     23637\n",
       "1.8     23147\n",
       "2.8     22229\n",
       "5.8     18971\n",
       "        ...  \n",
       "61.4        1\n",
       "62.3        1\n",
       "63.6        1\n",
       "66.0        1\n",
       "70.7        1\n",
       "Name: years_of_service, Length: 642, dtype: int64"
      ]
     },
     "execution_count": 29,
     "metadata": {},
     "output_type": "execute_result"
    }
   ],
   "source": [
    "df.years_of_service.value_counts(dropna = False)"
   ]
  },
  {
   "cell_type": "code",
   "execution_count": 30,
   "id": "041c5a3d",
   "metadata": {},
   "outputs": [
    {
     "data": {
      "text/plain": [
       "95713.13     291903\n",
       "176300.00     39673\n",
       "138868.00     14039\n",
       "164102.00     13435\n",
       "36118.00       9660\n",
       "              ...  \n",
       "195231.00         1\n",
       "179996.00         1\n",
       "178698.00         1\n",
       "183279.00         1\n",
       "55631.00          1\n",
       "Name: salary, Length: 121051, dtype: int64"
      ]
     },
     "execution_count": 30,
     "metadata": {},
     "output_type": "execute_result"
    }
   ],
   "source": [
    "df.salary.value_counts(dropna = False)"
   ]
  },
  {
   "cell_type": "code",
   "execution_count": 31,
   "id": "29e9d1f1",
   "metadata": {},
   "outputs": [
    {
     "data": {
      "image/png": "[encoded data removed]",
      "text/plain": [
       "<Figure size 432x288 with 1 Axes>"
      ]
     },
     "metadata": {
      "needs_background": "light"
     },
     "output_type": "display_data"
    }
   ],
   "source": [
    "# Create a scatterplot using matplotlib to check how variables work together\n",
    "\n",
    "df.plot(x = 'years_of_service', y='salary',style='o') \n",
    "plt.title('Years of Service vs Salary')  \n",
    "plt.xlabel('Years of Service')  \n",
    "plt.ylabel('Salary')  \n",
    "plt.show()"
   ]
  },
  {
   "cell_type": "code",
   "execution_count": 32,
   "id": "32e4c3f0",
   "metadata": {},
   "outputs": [],
   "source": [
    "# Reshape the variables into NumPy arrays and put them into separate objects.\n",
    "\n",
    "X = df['years_of_service'].values.reshape(-1,1)\n",
    "y = df['salary'].values.reshape(-1,1)"
   ]
  },
  {
   "cell_type": "code",
   "execution_count": 33,
   "id": "3388e6a3",
   "metadata": {},
   "outputs": [
    {
     "data": {
      "text/plain": [
       "array([[18.8],\n",
       "       [29.2],\n",
       "       [12.5],\n",
       "       ...,\n",
       "       [ 4.5],\n",
       "       [ 0.3],\n",
       "       [ 0.2]])"
      ]
     },
     "execution_count": 33,
     "metadata": {},
     "output_type": "execute_result"
    }
   ],
   "source": [
    "X"
   ]
  },
  {
   "cell_type": "code",
   "execution_count": 34,
   "id": "9d4ad232",
   "metadata": {},
   "outputs": [
    {
     "data": {
      "text/plain": [
       "array([[192500.],\n",
       "       [187000.],\n",
       "       [161786.],\n",
       "       ...,\n",
       "       [ 56661.],\n",
       "       [ 55631.],\n",
       "       [176894.]])"
      ]
     },
     "execution_count": 34,
     "metadata": {},
     "output_type": "execute_result"
    }
   ],
   "source": [
    "y"
   ]
  },
  {
   "cell_type": "code",
   "execution_count": 35,
   "id": "5700d852",
   "metadata": {},
   "outputs": [],
   "source": [
    "# Split data into a training set and a test set.\n",
    "\n",
    "X_train, X_test, y_train, y_test = train_test_split(X, y, test_size=0.3, random_state=0)"
   ]
  },
  {
   "cell_type": "markdown",
   "id": "2d80595a",
   "metadata": {},
   "source": [
    "### 5. Regression analysis"
   ]
  },
  {
   "cell_type": "code",
   "execution_count": 36,
   "id": "5a63e4d1",
   "metadata": {},
   "outputs": [],
   "source": [
    "# Create a regression object.\n",
    "\n",
    "regression = LinearRegression()"
   ]
  },
  {
   "cell_type": "code",
   "execution_count": 37,
   "id": "86200f81",
   "metadata": {},
   "outputs": [
    {
     "data": {
      "text/plain": [
       "LinearRegression()"
      ]
     },
     "execution_count": 37,
     "metadata": {},
     "output_type": "execute_result"
    }
   ],
   "source": [
    "# Fit the regression object onto the training set.\n",
    "\n",
    "regression.fit(X_train, y_train)"
   ]
  },
  {
   "cell_type": "code",
   "execution_count": 38,
   "id": "5468e76f",
   "metadata": {},
   "outputs": [],
   "source": [
    "# Predict the values of y using X.\n",
    "\n",
    "y_predicted = regression.predict(X_test)"
   ]
  },
  {
   "cell_type": "code",
   "execution_count": 39,
   "id": "06f16e0a",
   "metadata": {},
   "outputs": [
    {
     "data": {
      "image/png": "[encoded data removed]",
      "text/plain": [
       "<Figure size 432x288 with 1 Axes>"
      ]
     },
     "metadata": {
      "needs_background": "light"
     },
     "output_type": "display_data"
    }
   ],
   "source": [
    "# Create a plot that shows the regression line from the model on the test set.\n",
    "\n",
    "plot_test = plt\n",
    "plot_test.scatter(X_test, y_test, color='gray', s = 15)\n",
    "plot_test.plot(X_test, y_predicted, color='red', linewidth =3)\n",
    "plot_test.title('Years of Service and Salary (Test set)')\n",
    "plot_test.xlabel('Years of Service')\n",
    "plot_test.ylabel('Salary')\n",
    "plot_test.show()"
   ]
  },
  {
   "cell_type": "markdown",
   "id": "10ad3e32",
   "metadata": {},
   "source": [
    "### The line shows a positive impact that years of service has on salary.  You can see that it is not a strong match though as you would expect the points to be more concentrated around the line.  You can see that 0 years of service still has a wide range of salaries and is not a clear indicator that you would have a high salary.  And on the far end you can see clearly that those over 50 don't have the highest salaries.  We can double check the statistics on this but it is clear that working longer years does not necessarily indicate a higher salary and there are other factors at play"
   ]
  },
  {
   "cell_type": "markdown",
   "id": "aad610a1",
   "metadata": {},
   "source": [
    "### 6. Check Model Performance with statistics"
   ]
  },
  {
   "cell_type": "code",
   "execution_count": 40,
   "id": "6256e73b",
   "metadata": {},
   "outputs": [],
   "source": [
    "# Create objects that contain the model summary statistics.\n",
    "\n",
    "rmse = mean_squared_error(y_test, y_predicted) \n",
    "r2 = r2_score(y_test, y_predicted) "
   ]
  },
  {
   "cell_type": "code",
   "execution_count": 41,
   "id": "42d144c7",
   "metadata": {},
   "outputs": [
    {
     "name": "stdout",
     "output_type": "stream",
     "text": [
      "Slope: [[1288.09600112]]\n",
      "Mean squared error:  1713677683.7290251\n",
      "R2 score:  0.0881950824357901\n"
     ]
    }
   ],
   "source": [
    "# Print the model summary statistics.\n",
    "\n",
    "print('Slope:' ,regression.coef_)\n",
    "print('Mean squared error: ', rmse)\n",
    "print('R2 score: ', r2)"
   ]
  },
  {
   "cell_type": "code",
   "execution_count": 42,
   "id": "186a02dd",
   "metadata": {},
   "outputs": [
    {
     "data": {
      "text/plain": [
       "array([[ 98640.86024453],\n",
       "       [ 95935.85864217],\n",
       "       [102247.52904768],\n",
       "       ...,\n",
       "       [ 83441.32743127],\n",
       "       [ 80221.08742846],\n",
       "       [ 87563.23463487]])"
      ]
     },
     "execution_count": 42,
     "metadata": {},
     "output_type": "execute_result"
    }
   ],
   "source": [
    "y_predicted"
   ]
  },
  {
   "cell_type": "code",
   "execution_count": 43,
   "id": "f19861aa",
   "metadata": {},
   "outputs": [
    {
     "data": {
      "text/html": [
       "<div>\n",
       "<style scoped>\n",
       "    .dataframe tbody tr th:only-of-type {\n",
       "        vertical-align: middle;\n",
       "    }\n",
       "\n",
       "    .dataframe tbody tr th {\n",
       "        vertical-align: top;\n",
       "    }\n",
       "\n",
       "    .dataframe thead th {\n",
       "        text-align: right;\n",
       "    }\n",
       "</style>\n",
       "<table border=\"1\" class=\"dataframe\">\n",
       "  <thead>\n",
       "    <tr style=\"text-align: right;\">\n",
       "      <th></th>\n",
       "      <th>Actual</th>\n",
       "      <th>Predicted</th>\n",
       "    </tr>\n",
       "  </thead>\n",
       "  <tbody>\n",
       "    <tr>\n",
       "      <th>0</th>\n",
       "      <td>95713.13</td>\n",
       "      <td>98640.860245</td>\n",
       "    </tr>\n",
       "    <tr>\n",
       "      <th>1</th>\n",
       "      <td>95713.13</td>\n",
       "      <td>95935.858642</td>\n",
       "    </tr>\n",
       "    <tr>\n",
       "      <th>2</th>\n",
       "      <td>82091.00</td>\n",
       "      <td>102247.529048</td>\n",
       "    </tr>\n",
       "    <tr>\n",
       "      <th>3</th>\n",
       "      <td>56474.00</td>\n",
       "      <td>84342.994632</td>\n",
       "    </tr>\n",
       "    <tr>\n",
       "      <th>4</th>\n",
       "      <td>153239.00</td>\n",
       "      <td>117447.061861</td>\n",
       "    </tr>\n",
       "    <tr>\n",
       "      <th>5</th>\n",
       "      <td>32570.00</td>\n",
       "      <td>79834.658628</td>\n",
       "    </tr>\n",
       "    <tr>\n",
       "      <th>6</th>\n",
       "      <td>140777.00</td>\n",
       "      <td>98383.241044</td>\n",
       "    </tr>\n",
       "    <tr>\n",
       "      <th>7</th>\n",
       "      <td>110697.00</td>\n",
       "      <td>96064.668242</td>\n",
       "    </tr>\n",
       "    <tr>\n",
       "      <th>8</th>\n",
       "      <td>84655.00</td>\n",
       "      <td>82153.231430</td>\n",
       "    </tr>\n",
       "    <tr>\n",
       "      <th>9</th>\n",
       "      <td>71272.00</td>\n",
       "      <td>99800.146646</td>\n",
       "    </tr>\n",
       "    <tr>\n",
       "      <th>10</th>\n",
       "      <td>103661.00</td>\n",
       "      <td>97610.383444</td>\n",
       "    </tr>\n",
       "    <tr>\n",
       "      <th>11</th>\n",
       "      <td>98517.00</td>\n",
       "      <td>81122.754629</td>\n",
       "    </tr>\n",
       "    <tr>\n",
       "      <th>12</th>\n",
       "      <td>50025.00</td>\n",
       "      <td>81766.802630</td>\n",
       "    </tr>\n",
       "    <tr>\n",
       "      <th>13</th>\n",
       "      <td>95713.13</td>\n",
       "      <td>87305.615435</td>\n",
       "    </tr>\n",
       "    <tr>\n",
       "      <th>14</th>\n",
       "      <td>71912.00</td>\n",
       "      <td>86532.757834</td>\n",
       "    </tr>\n",
       "    <tr>\n",
       "      <th>15</th>\n",
       "      <td>48868.00</td>\n",
       "      <td>111006.581855</td>\n",
       "    </tr>\n",
       "    <tr>\n",
       "      <th>16</th>\n",
       "      <td>50966.00</td>\n",
       "      <td>83183.708231</td>\n",
       "    </tr>\n",
       "    <tr>\n",
       "      <th>17</th>\n",
       "      <td>91514.00</td>\n",
       "      <td>97481.573844</td>\n",
       "    </tr>\n",
       "    <tr>\n",
       "      <th>18</th>\n",
       "      <td>100664.00</td>\n",
       "      <td>83570.137031</td>\n",
       "    </tr>\n",
       "    <tr>\n",
       "      <th>19</th>\n",
       "      <td>158563.00</td>\n",
       "      <td>99027.289045</td>\n",
       "    </tr>\n",
       "    <tr>\n",
       "      <th>20</th>\n",
       "      <td>116718.00</td>\n",
       "      <td>96064.668242</td>\n",
       "    </tr>\n",
       "    <tr>\n",
       "      <th>21</th>\n",
       "      <td>107857.00</td>\n",
       "      <td>96451.097043</td>\n",
       "    </tr>\n",
       "    <tr>\n",
       "      <th>22</th>\n",
       "      <td>95713.13</td>\n",
       "      <td>108688.009053</td>\n",
       "    </tr>\n",
       "    <tr>\n",
       "      <th>23</th>\n",
       "      <td>86074.00</td>\n",
       "      <td>109460.866654</td>\n",
       "    </tr>\n",
       "    <tr>\n",
       "      <th>24</th>\n",
       "      <td>97430.00</td>\n",
       "      <td>122341.826665</td>\n",
       "    </tr>\n",
       "    <tr>\n",
       "      <th>25</th>\n",
       "      <td>87301.00</td>\n",
       "      <td>98383.241044</td>\n",
       "    </tr>\n",
       "    <tr>\n",
       "      <th>26</th>\n",
       "      <td>64195.00</td>\n",
       "      <td>91169.903438</td>\n",
       "    </tr>\n",
       "    <tr>\n",
       "      <th>27</th>\n",
       "      <td>84621.00</td>\n",
       "      <td>84858.233033</td>\n",
       "    </tr>\n",
       "    <tr>\n",
       "      <th>28</th>\n",
       "      <td>40262.00</td>\n",
       "      <td>79705.849028</td>\n",
       "    </tr>\n",
       "    <tr>\n",
       "      <th>29</th>\n",
       "      <td>95713.13</td>\n",
       "      <td>92973.237840</td>\n",
       "    </tr>\n",
       "  </tbody>\n",
       "</table>\n",
       "</div>"
      ],
      "text/plain": [
       "       Actual      Predicted\n",
       "0    95713.13   98640.860245\n",
       "1    95713.13   95935.858642\n",
       "2    82091.00  102247.529048\n",
       "3    56474.00   84342.994632\n",
       "4   153239.00  117447.061861\n",
       "5    32570.00   79834.658628\n",
       "6   140777.00   98383.241044\n",
       "7   110697.00   96064.668242\n",
       "8    84655.00   82153.231430\n",
       "9    71272.00   99800.146646\n",
       "10  103661.00   97610.383444\n",
       "11   98517.00   81122.754629\n",
       "12   50025.00   81766.802630\n",
       "13   95713.13   87305.615435\n",
       "14   71912.00   86532.757834\n",
       "15   48868.00  111006.581855\n",
       "16   50966.00   83183.708231\n",
       "17   91514.00   97481.573844\n",
       "18  100664.00   83570.137031\n",
       "19  158563.00   99027.289045\n",
       "20  116718.00   96064.668242\n",
       "21  107857.00   96451.097043\n",
       "22   95713.13  108688.009053\n",
       "23   86074.00  109460.866654\n",
       "24   97430.00  122341.826665\n",
       "25   87301.00   98383.241044\n",
       "26   64195.00   91169.903438\n",
       "27   84621.00   84858.233033\n",
       "28   40262.00   79705.849028\n",
       "29   95713.13   92973.237840"
      ]
     },
     "execution_count": 43,
     "metadata": {},
     "output_type": "execute_result"
    }
   ],
   "source": [
    "# Create a dataframe comparing the actual and predicted values of y.\n",
    "\n",
    "compare = pd.DataFrame({'Actual': y_test.flatten(), 'Predicted': y_predicted.flatten()})\n",
    "compare.head(30)"
   ]
  },
  {
   "cell_type": "markdown",
   "id": "8478a870",
   "metadata": {},
   "source": [
    "# 7. Conclusions"
   ]
  },
  {
   "cell_type": "markdown",
   "id": "2b953fb3",
   "metadata": {},
   "source": [
    "### Overall this model was not the best.\n",
    "### The slope shows that there was a positve correlation, but it is not strong at all as the slope is not at a sharper angle and many dots are very far away from it.\n",
    "### The MSE is very large being 1,714,532,910.  We have a lot of values that are VERY far away from the regression line which is causing such a large number.  The higher this number the less accurate our model is.\n",
    "### The R2 score is .087.  The closer this is to 0, the less of a good fit the model is.  We would hope to see a value closer to 1 to indicate a good model fit."
   ]
  },
  {
   "cell_type": "markdown",
   "id": "58f28497",
   "metadata": {},
   "source": [
    "### With these results I would then look to see if there are other indicators of salary that indicate a better model so someone would know what to do in order to look for a higher salary (better job, education, leadership role, etc). As the number of years you work does not clearly indicate a higher salary. \n",
    "\n",
    "### There is slight data issues with the salary.  I did not want to exclude the values, but imputing the mean might not have been the most accurate since there are so many factors that lead to salary vs just full time or part time.  As I did not exclude any values (even some of the extreme values) this model would be an accurate representation of the relationship between years of service and salary."
   ]
  },
  {
   "cell_type": "code",
   "execution_count": null,
   "id": "009f3f3c",
   "metadata": {},
   "outputs": [],
   "source": []
  }
 ],
 "metadata": {
  "kernelspec": {
   "display_name": "Python 3 (ipykernel)",
   "language": "python",
   "name": "python3"
  },
  "language_info": {
   "codemirror_mode": {
    "name": "ipython",
    "version": 3
   },
   "file_extension": ".py",
   "mimetype": "text/x-python",
   "name": "python",
   "nbconvert_exporter": "python",
   "pygments_lexer": "ipython3",
   "version": "3.9.12"
  }
 },
 "nbformat": 4,
 "nbformat_minor": 5
}
