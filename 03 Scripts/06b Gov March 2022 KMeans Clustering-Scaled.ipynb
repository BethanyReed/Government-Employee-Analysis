{
 "cells": [
  {
   "cell_type": "markdown",
   "id": "7b62eeaa",
   "metadata": {},
   "source": [
    "# March 2022 - KMeans Clustering"
   ]
  },
  {
   "cell_type": "markdown",
   "id": "38a3c96e",
   "metadata": {},
   "source": [
    "## 1. Import Data and Libraries\n",
    "## 2. Create Subset with only numerical data\n",
    "## 3. Clean Data\n",
    "## 4. Elbow Technique\n",
    "## 5. K-Means Clustering\n",
    "## 6. Check Clustering Stats\n",
    "## 7. Final Observations"
   ]
  },
  {
   "cell_type": "markdown",
   "id": "c93b52a9",
   "metadata": {},
   "source": [
    "### 1. Import Data and Libraries"
   ]
  },
  {
   "cell_type": "code",
   "execution_count": 1,
   "id": "2f16e0b7",
   "metadata": {},
   "outputs": [],
   "source": [
    "#Import Libraries\n",
    "\n",
    "import pandas as pd\n",
    "import numpy as np\n",
    "import seaborn as sns\n",
    "import matplotlib\n",
    "import matplotlib.pyplot as plt\n",
    "import os\n",
    "import sklearn\n",
    "from sklearn.cluster import KMeans\n",
    "import pylab as pl\n",
    "from sklearn.preprocessing import StandardScaler\n",
    "from sklearn.decomposition import PCA"
   ]
  },
  {
   "cell_type": "code",
   "execution_count": 2,
   "id": "5f8d6713",
   "metadata": {},
   "outputs": [],
   "source": [
    "# Display graphs without having to call\n",
    "\n",
    "%matplotlib inline"
   ]
  },
  {
   "cell_type": "code",
   "execution_count": 3,
   "id": "e5196d16",
   "metadata": {},
   "outputs": [],
   "source": [
    "path = r'/Users/bethanybreed/Documents/A Career Foundry/Gov Employ Data/02 Data'"
   ]
  },
  {
   "cell_type": "code",
   "execution_count": 4,
   "id": "ebfa44df",
   "metadata": {},
   "outputs": [],
   "source": [
    "# Import Data\n",
    "\n",
    "df = pd.read_pickle(os.path.join(path,'prepared data','March 2022 clean-a.pkl'))"
   ]
  },
  {
   "cell_type": "code",
   "execution_count": 5,
   "id": "385172b7",
   "metadata": {},
   "outputs": [
    {
     "data": {
      "text/plain": [
       "(2152679, 19)"
      ]
     },
     "execution_count": 5,
     "metadata": {},
     "output_type": "execute_result"
    }
   ],
   "source": [
    "df.shape"
   ]
  },
  {
   "cell_type": "code",
   "execution_count": 6,
   "id": "706b4d45",
   "metadata": {},
   "outputs": [
    {
     "data": {
      "text/html": [
       "<div>\n",
       "<style scoped>\n",
       "    .dataframe tbody tr th:only-of-type {\n",
       "        vertical-align: middle;\n",
       "    }\n",
       "\n",
       "    .dataframe tbody tr th {\n",
       "        vertical-align: top;\n",
       "    }\n",
       "\n",
       "    .dataframe thead th {\n",
       "        text-align: right;\n",
       "    }\n",
       "</style>\n",
       "<table border=\"1\" class=\"dataframe\">\n",
       "  <thead>\n",
       "    <tr style=\"text-align: right;\">\n",
       "      <th></th>\n",
       "      <th>sub_agency</th>\n",
       "      <th>country</th>\n",
       "      <th>age_level</th>\n",
       "      <th>education_level</th>\n",
       "      <th>pay_grade</th>\n",
       "      <th>years_grouping</th>\n",
       "      <th>occupation</th>\n",
       "      <th>occupation_category</th>\n",
       "      <th>pay_plan</th>\n",
       "      <th>stem</th>\n",
       "      <th>supervisor_status</th>\n",
       "      <th>full_time</th>\n",
       "      <th>work_status</th>\n",
       "      <th>date</th>\n",
       "      <th>salary</th>\n",
       "      <th>years_of_service</th>\n",
       "      <th>occupation_family</th>\n",
       "      <th>agency</th>\n",
       "      <th>state</th>\n",
       "    </tr>\n",
       "  </thead>\n",
       "  <tbody>\n",
       "    <tr>\n",
       "      <th>0</th>\n",
       "      <td>ADMINISTRATIVE CONFERENCE OF THE UNITED STATES</td>\n",
       "      <td>United States</td>\n",
       "      <td>40-44</td>\n",
       "      <td>BACHELORS</td>\n",
       "      <td>NaN</td>\n",
       "      <td>15 - 19</td>\n",
       "      <td>PROGRAM MANAGEMENT</td>\n",
       "      <td>Administrative</td>\n",
       "      <td>ES-SENIOR EXECUTIVE SERVICE</td>\n",
       "      <td>0</td>\n",
       "      <td>SUPERVISOR OR MANAGER</td>\n",
       "      <td>Full time</td>\n",
       "      <td>Non-Seasonal Full Time Permanent</td>\n",
       "      <td>March 2022</td>\n",
       "      <td>192500.0</td>\n",
       "      <td>18.8</td>\n",
       "      <td>GENERAL ADMIN, CLERICAL, &amp; OFFICE SVCS</td>\n",
       "      <td>ADMINISTRATIVE CONFERENCE OF THE UNITED STATES</td>\n",
       "      <td>DISTRICT OF COLUMBIA</td>\n",
       "    </tr>\n",
       "    <tr>\n",
       "      <th>1</th>\n",
       "      <td>ADMINISTRATIVE CONFERENCE OF THE UNITED STATES</td>\n",
       "      <td>United States</td>\n",
       "      <td>55-59</td>\n",
       "      <td>POST-BACHELORS</td>\n",
       "      <td>NaN</td>\n",
       "      <td>25 - 29</td>\n",
       "      <td>GENERAL ATTORNEY</td>\n",
       "      <td>Professional</td>\n",
       "      <td>ES-SENIOR EXECUTIVE SERVICE</td>\n",
       "      <td>0</td>\n",
       "      <td>SUPERVISOR OR MANAGER</td>\n",
       "      <td>Full time</td>\n",
       "      <td>Non-Seasonal Full Time Permanent</td>\n",
       "      <td>March 2022</td>\n",
       "      <td>187000.0</td>\n",
       "      <td>29.2</td>\n",
       "      <td>LEGAL AND KINDRED</td>\n",
       "      <td>ADMINISTRATIVE CONFERENCE OF THE UNITED STATES</td>\n",
       "      <td>DISTRICT OF COLUMBIA</td>\n",
       "    </tr>\n",
       "    <tr>\n",
       "      <th>2</th>\n",
       "      <td>ADMINISTRATIVE CONFERENCE OF THE UNITED STATES</td>\n",
       "      <td>United States</td>\n",
       "      <td>35-39</td>\n",
       "      <td>POST-BACHELORS</td>\n",
       "      <td>15.0</td>\n",
       "      <td>10 - 14</td>\n",
       "      <td>GENERAL ATTORNEY</td>\n",
       "      <td>Professional</td>\n",
       "      <td>GS-GENERAL SCHEDULE</td>\n",
       "      <td>0</td>\n",
       "      <td>SUPERVISOR OR MANAGER</td>\n",
       "      <td>Full time</td>\n",
       "      <td>Non-Seasonal Full Time Permanent</td>\n",
       "      <td>March 2022</td>\n",
       "      <td>161786.0</td>\n",
       "      <td>12.5</td>\n",
       "      <td>LEGAL AND KINDRED</td>\n",
       "      <td>ADMINISTRATIVE CONFERENCE OF THE UNITED STATES</td>\n",
       "      <td>OKLAHOMA</td>\n",
       "    </tr>\n",
       "    <tr>\n",
       "      <th>3</th>\n",
       "      <td>ADMINISTRATIVE CONFERENCE OF THE UNITED STATES</td>\n",
       "      <td>United States</td>\n",
       "      <td>35-39</td>\n",
       "      <td>POST-BACHELORS</td>\n",
       "      <td>15.0</td>\n",
       "      <td>10 - 14</td>\n",
       "      <td>GENERAL ATTORNEY</td>\n",
       "      <td>Professional</td>\n",
       "      <td>GS-GENERAL SCHEDULE</td>\n",
       "      <td>0</td>\n",
       "      <td>UNSPECIFIED</td>\n",
       "      <td>Full time</td>\n",
       "      <td>Non-Seasonal Full Time Permanent</td>\n",
       "      <td>March 2022</td>\n",
       "      <td>158383.0</td>\n",
       "      <td>10.5</td>\n",
       "      <td>LEGAL AND KINDRED</td>\n",
       "      <td>ADMINISTRATIVE CONFERENCE OF THE UNITED STATES</td>\n",
       "      <td>DISTRICT OF COLUMBIA</td>\n",
       "    </tr>\n",
       "    <tr>\n",
       "      <th>4</th>\n",
       "      <td>ADMINISTRATIVE CONFERENCE OF THE UNITED STATES</td>\n",
       "      <td>United States</td>\n",
       "      <td>40-44</td>\n",
       "      <td>POST-BACHELORS</td>\n",
       "      <td>13.0</td>\n",
       "      <td>10 - 14</td>\n",
       "      <td>GENERAL ATTORNEY</td>\n",
       "      <td>Professional</td>\n",
       "      <td>GS-GENERAL SCHEDULE</td>\n",
       "      <td>0</td>\n",
       "      <td>UNSPECIFIED</td>\n",
       "      <td>Full time</td>\n",
       "      <td>Non-Seasonal Full Time Permanent</td>\n",
       "      <td>March 2022</td>\n",
       "      <td>121065.0</td>\n",
       "      <td>13.4</td>\n",
       "      <td>LEGAL AND KINDRED</td>\n",
       "      <td>ADMINISTRATIVE CONFERENCE OF THE UNITED STATES</td>\n",
       "      <td>DISTRICT OF COLUMBIA</td>\n",
       "    </tr>\n",
       "  </tbody>\n",
       "</table>\n",
       "</div>"
      ],
      "text/plain": [
       "                                       sub_agency        country age_level  \\\n",
       "0  ADMINISTRATIVE CONFERENCE OF THE UNITED STATES  United States     40-44   \n",
       "1  ADMINISTRATIVE CONFERENCE OF THE UNITED STATES  United States     55-59   \n",
       "2  ADMINISTRATIVE CONFERENCE OF THE UNITED STATES  United States     35-39   \n",
       "3  ADMINISTRATIVE CONFERENCE OF THE UNITED STATES  United States     35-39   \n",
       "4  ADMINISTRATIVE CONFERENCE OF THE UNITED STATES  United States     40-44   \n",
       "\n",
       "  education_level  pay_grade years_grouping          occupation  \\\n",
       "0       BACHELORS        NaN        15 - 19  PROGRAM MANAGEMENT   \n",
       "1  POST-BACHELORS        NaN        25 - 29    GENERAL ATTORNEY   \n",
       "2  POST-BACHELORS       15.0        10 - 14    GENERAL ATTORNEY   \n",
       "3  POST-BACHELORS       15.0        10 - 14    GENERAL ATTORNEY   \n",
       "4  POST-BACHELORS       13.0        10 - 14    GENERAL ATTORNEY   \n",
       "\n",
       "  occupation_category                     pay_plan stem  \\\n",
       "0      Administrative  ES-SENIOR EXECUTIVE SERVICE    0   \n",
       "1        Professional  ES-SENIOR EXECUTIVE SERVICE    0   \n",
       "2        Professional          GS-GENERAL SCHEDULE    0   \n",
       "3        Professional          GS-GENERAL SCHEDULE    0   \n",
       "4        Professional          GS-GENERAL SCHEDULE    0   \n",
       "\n",
       "       supervisor_status  full_time                       work_status  \\\n",
       "0  SUPERVISOR OR MANAGER  Full time  Non-Seasonal Full Time Permanent   \n",
       "1  SUPERVISOR OR MANAGER  Full time  Non-Seasonal Full Time Permanent   \n",
       "2  SUPERVISOR OR MANAGER  Full time  Non-Seasonal Full Time Permanent   \n",
       "3            UNSPECIFIED  Full time  Non-Seasonal Full Time Permanent   \n",
       "4            UNSPECIFIED  Full time  Non-Seasonal Full Time Permanent   \n",
       "\n",
       "         date    salary  years_of_service  \\\n",
       "0  March 2022  192500.0              18.8   \n",
       "1  March 2022  187000.0              29.2   \n",
       "2  March 2022  161786.0              12.5   \n",
       "3  March 2022  158383.0              10.5   \n",
       "4  March 2022  121065.0              13.4   \n",
       "\n",
       "                        occupation_family  \\\n",
       "0  GENERAL ADMIN, CLERICAL, & OFFICE SVCS   \n",
       "1                       LEGAL AND KINDRED   \n",
       "2                       LEGAL AND KINDRED   \n",
       "3                       LEGAL AND KINDRED   \n",
       "4                       LEGAL AND KINDRED   \n",
       "\n",
       "                                           agency                 state  \n",
       "0  ADMINISTRATIVE CONFERENCE OF THE UNITED STATES  DISTRICT OF COLUMBIA  \n",
       "1  ADMINISTRATIVE CONFERENCE OF THE UNITED STATES  DISTRICT OF COLUMBIA  \n",
       "2  ADMINISTRATIVE CONFERENCE OF THE UNITED STATES              OKLAHOMA  \n",
       "3  ADMINISTRATIVE CONFERENCE OF THE UNITED STATES  DISTRICT OF COLUMBIA  \n",
       "4  ADMINISTRATIVE CONFERENCE OF THE UNITED STATES  DISTRICT OF COLUMBIA  "
      ]
     },
     "execution_count": 6,
     "metadata": {},
     "output_type": "execute_result"
    }
   ],
   "source": [
    "df.head()"
   ]
  },
  {
   "cell_type": "markdown",
   "id": "c8198f0c",
   "metadata": {},
   "source": [
    "### 2. Create Subset with only numerical data"
   ]
  },
  {
   "cell_type": "code",
   "execution_count": 7,
   "id": "595e8b2a",
   "metadata": {},
   "outputs": [],
   "source": [
    "columns = ['pay_grade','years_of_service','salary','stem']"
   ]
  },
  {
   "cell_type": "code",
   "execution_count": 8,
   "id": "0ae23b2b",
   "metadata": {},
   "outputs": [],
   "source": [
    "#Create subset\n",
    "\n",
    "sub = df[columns]"
   ]
  },
  {
   "cell_type": "code",
   "execution_count": 9,
   "id": "16482973",
   "metadata": {},
   "outputs": [
    {
     "data": {
      "text/html": [
       "<div>\n",
       "<style scoped>\n",
       "    .dataframe tbody tr th:only-of-type {\n",
       "        vertical-align: middle;\n",
       "    }\n",
       "\n",
       "    .dataframe tbody tr th {\n",
       "        vertical-align: top;\n",
       "    }\n",
       "\n",
       "    .dataframe thead th {\n",
       "        text-align: right;\n",
       "    }\n",
       "</style>\n",
       "<table border=\"1\" class=\"dataframe\">\n",
       "  <thead>\n",
       "    <tr style=\"text-align: right;\">\n",
       "      <th></th>\n",
       "      <th>pay_grade</th>\n",
       "      <th>years_of_service</th>\n",
       "      <th>salary</th>\n",
       "      <th>stem</th>\n",
       "    </tr>\n",
       "  </thead>\n",
       "  <tbody>\n",
       "    <tr>\n",
       "      <th>0</th>\n",
       "      <td>NaN</td>\n",
       "      <td>18.8</td>\n",
       "      <td>192500.0</td>\n",
       "      <td>0</td>\n",
       "    </tr>\n",
       "    <tr>\n",
       "      <th>1</th>\n",
       "      <td>NaN</td>\n",
       "      <td>29.2</td>\n",
       "      <td>187000.0</td>\n",
       "      <td>0</td>\n",
       "    </tr>\n",
       "    <tr>\n",
       "      <th>2</th>\n",
       "      <td>15.0</td>\n",
       "      <td>12.5</td>\n",
       "      <td>161786.0</td>\n",
       "      <td>0</td>\n",
       "    </tr>\n",
       "    <tr>\n",
       "      <th>3</th>\n",
       "      <td>15.0</td>\n",
       "      <td>10.5</td>\n",
       "      <td>158383.0</td>\n",
       "      <td>0</td>\n",
       "    </tr>\n",
       "    <tr>\n",
       "      <th>4</th>\n",
       "      <td>13.0</td>\n",
       "      <td>13.4</td>\n",
       "      <td>121065.0</td>\n",
       "      <td>0</td>\n",
       "    </tr>\n",
       "  </tbody>\n",
       "</table>\n",
       "</div>"
      ],
      "text/plain": [
       "   pay_grade  years_of_service    salary stem\n",
       "0        NaN              18.8  192500.0    0\n",
       "1        NaN              29.2  187000.0    0\n",
       "2       15.0              12.5  161786.0    0\n",
       "3       15.0              10.5  158383.0    0\n",
       "4       13.0              13.4  121065.0    0"
      ]
     },
     "execution_count": 9,
     "metadata": {},
     "output_type": "execute_result"
    }
   ],
   "source": [
    "sub.head()"
   ]
  },
  {
   "cell_type": "code",
   "execution_count": 10,
   "id": "696cdd77",
   "metadata": {},
   "outputs": [
    {
     "data": {
      "text/plain": [
       "(2152679, 4)"
      ]
     },
     "execution_count": 10,
     "metadata": {},
     "output_type": "execute_result"
    }
   ],
   "source": [
    "sub.shape"
   ]
  },
  {
   "cell_type": "markdown",
   "id": "7d3a9d33",
   "metadata": {},
   "source": [
    "### 3. Clean Data"
   ]
  },
  {
   "cell_type": "code",
   "execution_count": 11,
   "id": "ab794de2",
   "metadata": {},
   "outputs": [
    {
     "data": {
      "text/plain": [
       "pay_grade           631944\n",
       "years_of_service         0\n",
       "salary              301029\n",
       "stem                     0\n",
       "dtype: int64"
      ]
     },
     "execution_count": 11,
     "metadata": {},
     "output_type": "execute_result"
    }
   ],
   "source": [
    "# Check for missing values\n",
    "\n",
    "sub.isnull().sum()"
   ]
  },
  {
   "cell_type": "code",
   "execution_count": 12,
   "id": "c42e5f45",
   "metadata": {},
   "outputs": [],
   "source": [
    "#Fix pay_grade NaN"
   ]
  },
  {
   "cell_type": "code",
   "execution_count": 13,
   "id": "6d914e83",
   "metadata": {},
   "outputs": [],
   "source": [
    "paygrade_nan = sub[sub['pay_grade'].isnull() == True]"
   ]
  },
  {
   "cell_type": "code",
   "execution_count": 14,
   "id": "9f593824",
   "metadata": {
    "scrolled": true
   },
   "outputs": [
    {
     "data": {
      "text/html": [
       "<div>\n",
       "<style scoped>\n",
       "    .dataframe tbody tr th:only-of-type {\n",
       "        vertical-align: middle;\n",
       "    }\n",
       "\n",
       "    .dataframe tbody tr th {\n",
       "        vertical-align: top;\n",
       "    }\n",
       "\n",
       "    .dataframe thead th {\n",
       "        text-align: right;\n",
       "    }\n",
       "</style>\n",
       "<table border=\"1\" class=\"dataframe\">\n",
       "  <thead>\n",
       "    <tr style=\"text-align: right;\">\n",
       "      <th></th>\n",
       "      <th>pay_grade</th>\n",
       "      <th>years_of_service</th>\n",
       "      <th>salary</th>\n",
       "      <th>stem</th>\n",
       "    </tr>\n",
       "  </thead>\n",
       "  <tbody>\n",
       "    <tr>\n",
       "      <th>0</th>\n",
       "      <td>NaN</td>\n",
       "      <td>18.8</td>\n",
       "      <td>192500.0</td>\n",
       "      <td>0</td>\n",
       "    </tr>\n",
       "    <tr>\n",
       "      <th>1</th>\n",
       "      <td>NaN</td>\n",
       "      <td>29.2</td>\n",
       "      <td>187000.0</td>\n",
       "      <td>0</td>\n",
       "    </tr>\n",
       "    <tr>\n",
       "      <th>6</th>\n",
       "      <td>NaN</td>\n",
       "      <td>12.4</td>\n",
       "      <td>199300.0</td>\n",
       "      <td>0</td>\n",
       "    </tr>\n",
       "    <tr>\n",
       "      <th>16</th>\n",
       "      <td>NaN</td>\n",
       "      <td>36.7</td>\n",
       "      <td>203252.0</td>\n",
       "      <td>0</td>\n",
       "    </tr>\n",
       "    <tr>\n",
       "      <th>26</th>\n",
       "      <td>NaN</td>\n",
       "      <td>1.8</td>\n",
       "      <td>104350.0</td>\n",
       "      <td>0</td>\n",
       "    </tr>\n",
       "    <tr>\n",
       "      <th>...</th>\n",
       "      <td>...</td>\n",
       "      <td>...</td>\n",
       "      <td>...</td>\n",
       "      <td>...</td>\n",
       "    </tr>\n",
       "    <tr>\n",
       "      <th>2155619</th>\n",
       "      <td>NaN</td>\n",
       "      <td>3.2</td>\n",
       "      <td>77780.0</td>\n",
       "      <td>0</td>\n",
       "    </tr>\n",
       "    <tr>\n",
       "      <th>2155620</th>\n",
       "      <td>NaN</td>\n",
       "      <td>0.6</td>\n",
       "      <td>42288.0</td>\n",
       "      <td>0</td>\n",
       "    </tr>\n",
       "    <tr>\n",
       "      <th>2155621</th>\n",
       "      <td>NaN</td>\n",
       "      <td>4.5</td>\n",
       "      <td>56661.0</td>\n",
       "      <td>0</td>\n",
       "    </tr>\n",
       "    <tr>\n",
       "      <th>2155622</th>\n",
       "      <td>NaN</td>\n",
       "      <td>0.3</td>\n",
       "      <td>55631.0</td>\n",
       "      <td>0</td>\n",
       "    </tr>\n",
       "    <tr>\n",
       "      <th>2155623</th>\n",
       "      <td>NaN</td>\n",
       "      <td>0.2</td>\n",
       "      <td>176894.0</td>\n",
       "      <td>0</td>\n",
       "    </tr>\n",
       "  </tbody>\n",
       "</table>\n",
       "<p>631944 rows × 4 columns</p>\n",
       "</div>"
      ],
      "text/plain": [
       "         pay_grade  years_of_service    salary stem\n",
       "0              NaN              18.8  192500.0    0\n",
       "1              NaN              29.2  187000.0    0\n",
       "6              NaN              12.4  199300.0    0\n",
       "16             NaN              36.7  203252.0    0\n",
       "26             NaN               1.8  104350.0    0\n",
       "...            ...               ...       ...  ...\n",
       "2155619        NaN               3.2   77780.0    0\n",
       "2155620        NaN               0.6   42288.0    0\n",
       "2155621        NaN               4.5   56661.0    0\n",
       "2155622        NaN               0.3   55631.0    0\n",
       "2155623        NaN               0.2  176894.0    0\n",
       "\n",
       "[631944 rows x 4 columns]"
      ]
     },
     "execution_count": 14,
     "metadata": {},
     "output_type": "execute_result"
    }
   ],
   "source": [
    "paygrade_nan"
   ]
  },
  {
   "cell_type": "code",
   "execution_count": 15,
   "id": "32e13a86",
   "metadata": {},
   "outputs": [
    {
     "data": {
      "text/plain": [
       "10.60831440060234"
      ]
     },
     "execution_count": 15,
     "metadata": {},
     "output_type": "execute_result"
    }
   ],
   "source": [
    "sub.pay_grade.mean()"
   ]
  },
  {
   "cell_type": "code",
   "execution_count": 16,
   "id": "cc77ae76",
   "metadata": {},
   "outputs": [
    {
     "data": {
      "text/plain": [
       "12.0"
      ]
     },
     "execution_count": 16,
     "metadata": {},
     "output_type": "execute_result"
    }
   ],
   "source": [
    "sub.pay_grade.median()"
   ]
  },
  {
   "cell_type": "code",
   "execution_count": 17,
   "id": "54cc85b2",
   "metadata": {},
   "outputs": [
    {
     "data": {
      "text/plain": [
       "0    12.0\n",
       "Name: pay_grade, dtype: float64"
      ]
     },
     "execution_count": 17,
     "metadata": {},
     "output_type": "execute_result"
    }
   ],
   "source": [
    "sub.pay_grade.mode()"
   ]
  },
  {
   "cell_type": "code",
   "execution_count": 18,
   "id": "975278ec",
   "metadata": {},
   "outputs": [
    {
     "name": "stderr",
     "output_type": "stream",
     "text": [
      "/var/folders/rt/m2j4lb4d1jn3b18ck1_f2csm0000gn/T/ipykernel_4991/1276879238.py:2: SettingWithCopyWarning: \n",
      "A value is trying to be set on a copy of a slice from a DataFrame.\n",
      "Try using .loc[row_indexer,col_indexer] = value instead\n",
      "\n",
      "See the caveats in the documentation: https://pandas.pydata.org/pandas-docs/stable/user_guide/indexing.html#returning-a-view-versus-a-copy\n",
      "  sub['pay_grade'] = sub['pay_grade'].fillna(sub['pay_grade'].median())\n"
     ]
    }
   ],
   "source": [
    "#replace pay_grade NaN values with median\n",
    "sub['pay_grade'] = sub['pay_grade'].fillna(sub['pay_grade'].median())"
   ]
  },
  {
   "cell_type": "code",
   "execution_count": 19,
   "id": "47ca0749",
   "metadata": {},
   "outputs": [
    {
     "data": {
      "text/plain": [
       "pay_grade                0\n",
       "years_of_service         0\n",
       "salary              301029\n",
       "stem                     0\n",
       "dtype: int64"
      ]
     },
     "execution_count": 19,
     "metadata": {},
     "output_type": "execute_result"
    }
   ],
   "source": [
    "sub.isnull().sum()"
   ]
  },
  {
   "cell_type": "code",
   "execution_count": 20,
   "id": "40924452",
   "metadata": {},
   "outputs": [],
   "source": [
    "# Fix salary NaN"
   ]
  },
  {
   "cell_type": "code",
   "execution_count": 21,
   "id": "570b4bfc",
   "metadata": {},
   "outputs": [],
   "source": [
    "salary_nan = sub[sub['salary'].isnull() == True]"
   ]
  },
  {
   "cell_type": "code",
   "execution_count": 22,
   "id": "98602815",
   "metadata": {},
   "outputs": [
    {
     "data": {
      "text/html": [
       "<div>\n",
       "<style scoped>\n",
       "    .dataframe tbody tr th:only-of-type {\n",
       "        vertical-align: middle;\n",
       "    }\n",
       "\n",
       "    .dataframe tbody tr th {\n",
       "        vertical-align: top;\n",
       "    }\n",
       "\n",
       "    .dataframe thead th {\n",
       "        text-align: right;\n",
       "    }\n",
       "</style>\n",
       "<table border=\"1\" class=\"dataframe\">\n",
       "  <thead>\n",
       "    <tr style=\"text-align: right;\">\n",
       "      <th></th>\n",
       "      <th>pay_grade</th>\n",
       "      <th>years_of_service</th>\n",
       "      <th>salary</th>\n",
       "      <th>stem</th>\n",
       "    </tr>\n",
       "  </thead>\n",
       "  <tbody>\n",
       "    <tr>\n",
       "      <th>93</th>\n",
       "      <td>14.0</td>\n",
       "      <td>15.3</td>\n",
       "      <td>NaN</td>\n",
       "      <td>0</td>\n",
       "    </tr>\n",
       "    <tr>\n",
       "      <th>97</th>\n",
       "      <td>15.0</td>\n",
       "      <td>13.2</td>\n",
       "      <td>NaN</td>\n",
       "      <td>0</td>\n",
       "    </tr>\n",
       "    <tr>\n",
       "      <th>100</th>\n",
       "      <td>13.0</td>\n",
       "      <td>13.4</td>\n",
       "      <td>NaN</td>\n",
       "      <td>0</td>\n",
       "    </tr>\n",
       "    <tr>\n",
       "      <th>101</th>\n",
       "      <td>14.0</td>\n",
       "      <td>12.6</td>\n",
       "      <td>NaN</td>\n",
       "      <td>0</td>\n",
       "    </tr>\n",
       "    <tr>\n",
       "      <th>102</th>\n",
       "      <td>13.0</td>\n",
       "      <td>17.4</td>\n",
       "      <td>NaN</td>\n",
       "      <td>0</td>\n",
       "    </tr>\n",
       "    <tr>\n",
       "      <th>...</th>\n",
       "      <td>...</td>\n",
       "      <td>...</td>\n",
       "      <td>...</td>\n",
       "      <td>...</td>\n",
       "    </tr>\n",
       "    <tr>\n",
       "      <th>2155580</th>\n",
       "      <td>12.0</td>\n",
       "      <td>1.0</td>\n",
       "      <td>NaN</td>\n",
       "      <td>0</td>\n",
       "    </tr>\n",
       "    <tr>\n",
       "      <th>2155586</th>\n",
       "      <td>12.0</td>\n",
       "      <td>2.1</td>\n",
       "      <td>NaN</td>\n",
       "      <td>0</td>\n",
       "    </tr>\n",
       "    <tr>\n",
       "      <th>2155587</th>\n",
       "      <td>12.0</td>\n",
       "      <td>1.8</td>\n",
       "      <td>NaN</td>\n",
       "      <td>0</td>\n",
       "    </tr>\n",
       "    <tr>\n",
       "      <th>2155588</th>\n",
       "      <td>12.0</td>\n",
       "      <td>1.8</td>\n",
       "      <td>NaN</td>\n",
       "      <td>0</td>\n",
       "    </tr>\n",
       "    <tr>\n",
       "      <th>2155590</th>\n",
       "      <td>12.0</td>\n",
       "      <td>0.6</td>\n",
       "      <td>NaN</td>\n",
       "      <td>0</td>\n",
       "    </tr>\n",
       "  </tbody>\n",
       "</table>\n",
       "<p>301029 rows × 4 columns</p>\n",
       "</div>"
      ],
      "text/plain": [
       "         pay_grade  years_of_service  salary stem\n",
       "93            14.0              15.3     NaN    0\n",
       "97            15.0              13.2     NaN    0\n",
       "100           13.0              13.4     NaN    0\n",
       "101           14.0              12.6     NaN    0\n",
       "102           13.0              17.4     NaN    0\n",
       "...            ...               ...     ...  ...\n",
       "2155580       12.0               1.0     NaN    0\n",
       "2155586       12.0               2.1     NaN    0\n",
       "2155587       12.0               1.8     NaN    0\n",
       "2155588       12.0               1.8     NaN    0\n",
       "2155590       12.0               0.6     NaN    0\n",
       "\n",
       "[301029 rows x 4 columns]"
      ]
     },
     "execution_count": 22,
     "metadata": {},
     "output_type": "execute_result"
    }
   ],
   "source": [
    "salary_nan"
   ]
  },
  {
   "cell_type": "code",
   "execution_count": 23,
   "id": "643a53e8",
   "metadata": {},
   "outputs": [
    {
     "data": {
      "text/plain": [
       "95563.19367267033"
      ]
     },
     "execution_count": 23,
     "metadata": {},
     "output_type": "execute_result"
    }
   ],
   "source": [
    "sub.salary.mean()"
   ]
  },
  {
   "cell_type": "code",
   "execution_count": 24,
   "id": "f0fa9a38",
   "metadata": {},
   "outputs": [
    {
     "data": {
      "text/plain": [
       "0    176300.0\n",
       "Name: salary, dtype: float64"
      ]
     },
     "execution_count": 24,
     "metadata": {},
     "output_type": "execute_result"
    }
   ],
   "source": [
    "sub.salary.mode()"
   ]
  },
  {
   "cell_type": "code",
   "execution_count": 25,
   "id": "3c35bb18",
   "metadata": {},
   "outputs": [
    {
     "data": {
      "text/plain": [
       "87301.0"
      ]
     },
     "execution_count": 25,
     "metadata": {},
     "output_type": "execute_result"
    }
   ],
   "source": [
    "sub.salary.median()"
   ]
  },
  {
   "cell_type": "code",
   "execution_count": 26,
   "id": "8628b1e6",
   "metadata": {},
   "outputs": [
    {
     "name": "stderr",
     "output_type": "stream",
     "text": [
      "/var/folders/rt/m2j4lb4d1jn3b18ck1_f2csm0000gn/T/ipykernel_4991/4293097397.py:2: SettingWithCopyWarning: \n",
      "A value is trying to be set on a copy of a slice from a DataFrame.\n",
      "Try using .loc[row_indexer,col_indexer] = value instead\n",
      "\n",
      "See the caveats in the documentation: https://pandas.pydata.org/pandas-docs/stable/user_guide/indexing.html#returning-a-view-versus-a-copy\n",
      "  sub['salary'] = sub['salary'].fillna(sub['salary'].mean())\n"
     ]
    }
   ],
   "source": [
    "#replace pay_grade NaN values with median\n",
    "sub['salary'] = sub['salary'].fillna(sub['salary'].mean())"
   ]
  },
  {
   "cell_type": "code",
   "execution_count": 27,
   "id": "47c6089f",
   "metadata": {},
   "outputs": [
    {
     "data": {
      "text/plain": [
       "pay_grade           0\n",
       "years_of_service    0\n",
       "salary              0\n",
       "stem                0\n",
       "dtype: int64"
      ]
     },
     "execution_count": 27,
     "metadata": {},
     "output_type": "execute_result"
    }
   ],
   "source": [
    "sub.isnull().sum()"
   ]
  },
  {
   "cell_type": "markdown",
   "id": "38d574de",
   "metadata": {},
   "source": [
    "### Standardize Data"
   ]
  },
  {
   "cell_type": "code",
   "execution_count": 28,
   "id": "540ac93a",
   "metadata": {},
   "outputs": [],
   "source": [
    "scaler = StandardScaler()"
   ]
  },
  {
   "cell_type": "code",
   "execution_count": 32,
   "id": "bceb29df",
   "metadata": {},
   "outputs": [
    {
     "data": {
      "text/html": [
       "<div>\n",
       "<style scoped>\n",
       "    .dataframe tbody tr th:only-of-type {\n",
       "        vertical-align: middle;\n",
       "    }\n",
       "\n",
       "    .dataframe tbody tr th {\n",
       "        vertical-align: top;\n",
       "    }\n",
       "\n",
       "    .dataframe thead th {\n",
       "        text-align: right;\n",
       "    }\n",
       "</style>\n",
       "<table border=\"1\" class=\"dataframe\">\n",
       "  <thead>\n",
       "    <tr style=\"text-align: right;\">\n",
       "      <th></th>\n",
       "      <th>pay_grade</th>\n",
       "      <th>years_of_service</th>\n",
       "      <th>salary</th>\n",
       "      <th>stem</th>\n",
       "    </tr>\n",
       "  </thead>\n",
       "  <tbody>\n",
       "    <tr>\n",
       "      <th>0</th>\n",
       "      <td>0.380626</td>\n",
       "      <td>0.660743</td>\n",
       "      <td>2.258228</td>\n",
       "      <td>-0.593642</td>\n",
       "    </tr>\n",
       "    <tr>\n",
       "      <th>1</th>\n",
       "      <td>0.380626</td>\n",
       "      <td>1.704480</td>\n",
       "      <td>2.130100</td>\n",
       "      <td>-0.593642</td>\n",
       "    </tr>\n",
       "    <tr>\n",
       "      <th>2</th>\n",
       "      <td>1.542086</td>\n",
       "      <td>0.028479</td>\n",
       "      <td>1.542718</td>\n",
       "      <td>-0.593642</td>\n",
       "    </tr>\n",
       "    <tr>\n",
       "      <th>3</th>\n",
       "      <td>1.542086</td>\n",
       "      <td>-0.172240</td>\n",
       "      <td>1.463442</td>\n",
       "      <td>-0.593642</td>\n",
       "    </tr>\n",
       "    <tr>\n",
       "      <th>4</th>\n",
       "      <td>0.767779</td>\n",
       "      <td>0.118802</td>\n",
       "      <td>0.594087</td>\n",
       "      <td>-0.593642</td>\n",
       "    </tr>\n",
       "  </tbody>\n",
       "</table>\n",
       "</div>"
      ],
      "text/plain": [
       "   pay_grade  years_of_service    salary      stem\n",
       "0   0.380626          0.660743  2.258228 -0.593642\n",
       "1   0.380626          1.704480  2.130100 -0.593642\n",
       "2   1.542086          0.028479  1.542718 -0.593642\n",
       "3   1.542086         -0.172240  1.463442 -0.593642\n",
       "4   0.767779          0.118802  0.594087 -0.593642"
      ]
     },
     "execution_count": 32,
     "metadata": {},
     "output_type": "execute_result"
    }
   ],
   "source": [
    "df2 = pd.DataFrame(scaler.fit_transform(sub), columns = columns)\n",
    "df2.head()"
   ]
  },
  {
   "cell_type": "markdown",
   "id": "4fe58dfc",
   "metadata": {},
   "source": [
    "### 4. Elbow Technique"
   ]
  },
  {
   "cell_type": "code",
   "execution_count": 33,
   "id": "e988be36",
   "metadata": {},
   "outputs": [],
   "source": [
    "num_cl = range(1, 10) # Defines the range of potential clusters in the data.\n",
    "kmeans = [KMeans(n_clusters=i) for i in num_cl] # Defines k-means clusters in the range assigned above."
   ]
  },
  {
   "cell_type": "code",
   "execution_count": 34,
   "id": "5fb28e0f",
   "metadata": {},
   "outputs": [
    {
     "data": {
      "text/plain": [
       "[-8610715.999999592,\n",
       " -6034672.574655823,\n",
       " -4180780.3031258383,\n",
       " -3315323.886863008,\n",
       " -2772926.157431375,\n",
       " -2425340.560171146,\n",
       " -2104960.4050745503,\n",
       " -1883321.9698055186,\n",
       " -1665939.7705983915]"
      ]
     },
     "execution_count": 34,
     "metadata": {},
     "output_type": "execute_result"
    }
   ],
   "source": [
    "score = [kmeans[i].fit(df2).score(df2) for i in range(len(kmeans))] # Creates a score that represents \n",
    "# a rate of variation for the given cluster option.\n",
    "\n",
    "score"
   ]
  },
  {
   "cell_type": "code",
   "execution_count": 35,
   "id": "4f395ffa",
   "metadata": {},
   "outputs": [
    {
     "data": {
      "image/png": "[encoded data removed]",
      "text/plain": [
       "<Figure size 432x288 with 1 Axes>"
      ]
     },
     "metadata": {
      "needs_background": "light"
     },
     "output_type": "display_data"
    }
   ],
   "source": [
    "# Plot the elbow curve using PyLab.\n",
    "\n",
    "pl.plot(num_cl,score)\n",
    "pl.xlabel('Number of Clusters')\n",
    "pl.ylabel('Score')\n",
    "pl.title('Elbow Curve')\n",
    "pl.show()"
   ]
  },
  {
   "cell_type": "markdown",
   "id": "b8cdab14",
   "metadata": {},
   "source": [
    "###  After standardizing the data and doing the elbow technique to find the curve, we can conclude that we should create 5 clusters.  We could go with 4 as well, as 4-5 isn't a sharp curve but it seems to flatten out more to. me at 5 so I'll go with 5 clusters."
   ]
  },
  {
   "cell_type": "markdown",
   "id": "e09c205b",
   "metadata": {},
   "source": [
    "### 5. K-Means Clustering"
   ]
  },
  {
   "cell_type": "code",
   "execution_count": 36,
   "id": "25a2312b",
   "metadata": {},
   "outputs": [],
   "source": [
    "# Create the k-means object.\n",
    "\n",
    "kmeans = KMeans(n_clusters = 5) "
   ]
  },
  {
   "cell_type": "code",
   "execution_count": 37,
   "id": "ca8483e8",
   "metadata": {},
   "outputs": [
    {
     "data": {
      "text/plain": [
       "KMeans(n_clusters=5)"
      ]
     },
     "execution_count": 37,
     "metadata": {},
     "output_type": "execute_result"
    }
   ],
   "source": [
    "# Fit the k-means object to the data.\n",
    "\n",
    "kmeans.fit(df2)"
   ]
  },
  {
   "cell_type": "code",
   "execution_count": 38,
   "id": "9816ad99",
   "metadata": {},
   "outputs": [],
   "source": [
    "df2['clusters'] = kmeans.fit_predict(df2)"
   ]
  },
  {
   "cell_type": "code",
   "execution_count": 39,
   "id": "c13b3428",
   "metadata": {},
   "outputs": [
    {
     "data": {
      "text/html": [
       "<div>\n",
       "<style scoped>\n",
       "    .dataframe tbody tr th:only-of-type {\n",
       "        vertical-align: middle;\n",
       "    }\n",
       "\n",
       "    .dataframe tbody tr th {\n",
       "        vertical-align: top;\n",
       "    }\n",
       "\n",
       "    .dataframe thead th {\n",
       "        text-align: right;\n",
       "    }\n",
       "</style>\n",
       "<table border=\"1\" class=\"dataframe\">\n",
       "  <thead>\n",
       "    <tr style=\"text-align: right;\">\n",
       "      <th></th>\n",
       "      <th>pay_grade</th>\n",
       "      <th>years_of_service</th>\n",
       "      <th>salary</th>\n",
       "      <th>stem</th>\n",
       "      <th>clusters</th>\n",
       "    </tr>\n",
       "  </thead>\n",
       "  <tbody>\n",
       "    <tr>\n",
       "      <th>0</th>\n",
       "      <td>0.380626</td>\n",
       "      <td>0.660743</td>\n",
       "      <td>2.258228</td>\n",
       "      <td>-0.593642</td>\n",
       "      <td>0</td>\n",
       "    </tr>\n",
       "    <tr>\n",
       "      <th>1</th>\n",
       "      <td>0.380626</td>\n",
       "      <td>1.704480</td>\n",
       "      <td>2.130100</td>\n",
       "      <td>-0.593642</td>\n",
       "      <td>0</td>\n",
       "    </tr>\n",
       "    <tr>\n",
       "      <th>2</th>\n",
       "      <td>1.542086</td>\n",
       "      <td>0.028479</td>\n",
       "      <td>1.542718</td>\n",
       "      <td>-0.593642</td>\n",
       "      <td>0</td>\n",
       "    </tr>\n",
       "    <tr>\n",
       "      <th>3</th>\n",
       "      <td>1.542086</td>\n",
       "      <td>-0.172240</td>\n",
       "      <td>1.463442</td>\n",
       "      <td>-0.593642</td>\n",
       "      <td>0</td>\n",
       "    </tr>\n",
       "    <tr>\n",
       "      <th>4</th>\n",
       "      <td>0.767779</td>\n",
       "      <td>0.118802</td>\n",
       "      <td>0.594087</td>\n",
       "      <td>-0.593642</td>\n",
       "      <td>1</td>\n",
       "    </tr>\n",
       "  </tbody>\n",
       "</table>\n",
       "</div>"
      ],
      "text/plain": [
       "   pay_grade  years_of_service    salary      stem  clusters\n",
       "0   0.380626          0.660743  2.258228 -0.593642         0\n",
       "1   0.380626          1.704480  2.130100 -0.593642         0\n",
       "2   1.542086          0.028479  1.542718 -0.593642         0\n",
       "3   1.542086         -0.172240  1.463442 -0.593642         0\n",
       "4   0.767779          0.118802  0.594087 -0.593642         1"
      ]
     },
     "execution_count": 39,
     "metadata": {},
     "output_type": "execute_result"
    }
   ],
   "source": [
    "df2.head()"
   ]
  },
  {
   "cell_type": "code",
   "execution_count": 40,
   "id": "4a3bd416",
   "metadata": {},
   "outputs": [
    {
     "data": {
      "text/plain": [
       "1    722269\n",
       "3    461088\n",
       "0    426989\n",
       "4    365120\n",
       "2    177213\n",
       "Name: clusters, dtype: int64"
      ]
     },
     "execution_count": 40,
     "metadata": {},
     "output_type": "execute_result"
    }
   ],
   "source": [
    "df2['clusters'].value_counts()"
   ]
  },
  {
   "cell_type": "code",
   "execution_count": 41,
   "id": "708ed6e2",
   "metadata": {},
   "outputs": [
    {
     "data": {
      "image/png": "[encoded data removed]",
      "text/plain": [
       "<Figure size 864x576 with 1 Axes>"
      ]
     },
     "metadata": {
      "needs_background": "light"
     },
     "output_type": "display_data"
    }
   ],
   "source": [
    "# Plot the clusters for the \"Pay Grade\" and \"Salary\" variables.\n",
    "\n",
    "plt.figure(figsize=(12,8))\n",
    "ax = sns.scatterplot(x=df2['pay_grade'], y=df2['salary'], hue=kmeans.labels_, s=100) \n",
    "# Here, you're subsetting `X` for the x and y arguments to avoid using their labels. \n",
    "# `hue` takes the value of the attribute `kmeans.labels_`, which is the result of running the k-means algorithm.\n",
    "# `s` represents the size of the points you want to see in the plot.\n",
    "\n",
    "ax.grid(False) # This removes the grid from the background.\n",
    "plt.xlabel('Pay Grade') # Label x-axis.\n",
    "plt.ylabel('Salary') # Label y-axis.\n",
    "plt.show()"
   ]
  },
  {
   "cell_type": "markdown",
   "id": "dc3e54a7",
   "metadata": {},
   "source": [
    "## This visual compares Pay Grade and Salary.  As we know these two items correlate so you would expect to see more categories that are one color on one end and one on the other for groupings.  I do see where the other categories come in for the cream, black and pink colors where the salaries go from top to bottom range but the pay grade was higher.  So this shows where those two variables aren't connecting as well (which we also knew)"
   ]
  },
  {
   "cell_type": "code",
   "execution_count": 42,
   "id": "f962deaf",
   "metadata": {},
   "outputs": [
    {
     "data": {
      "image/png": "[encoded data removed]",
      "text/plain": [
       "<Figure size 864x576 with 1 Axes>"
      ]
     },
     "metadata": {
      "needs_background": "light"
     },
     "output_type": "display_data"
    }
   ],
   "source": [
    "# Plot the clusters for the \"Stem\" and \"Pay Grade\" variables.\n",
    "\n",
    "plt.figure(figsize=(12,8))\n",
    "ax = sns.scatterplot(x=df2['pay_grade'], y=df2['stem'], hue=kmeans.labels_, s=100) \n",
    "# Here, you're subsetting `X` for the x and y arguments to avoid using their labels. \n",
    "# `hue` takes the value of the attribute `kmeans.labels_`, which is the result of running the k-means algorithm.\n",
    "# `s` represents the size of the points you want to see in the plot.\n",
    "\n",
    "ax.grid(False) # This removes the grid from the background.\n",
    "plt.xlabel('Pay Grade') # Label x-axis.\n",
    "plt.ylabel('Stem') # Label y-axis.\n",
    "plt.show()"
   ]
  },
  {
   "cell_type": "markdown",
   "id": "a6250920",
   "metadata": {},
   "source": [
    "## This visual shows stem and pay grade comparison.  I wanted to see what it would do with the stem category since it only has two values.  You can see out of the 5 categories we only really see 3.  But with less Stem options it was able to categorize the pay grades better, basically dividing each stem into 2 categories for pay grade (higher grades and lower grades)"
   ]
  },
  {
   "cell_type": "code",
   "execution_count": 43,
   "id": "e2ffa76b",
   "metadata": {},
   "outputs": [
    {
     "data": {
      "image/png": "[encoded data removed]",
      "text/plain": [
       "<Figure size 864x576 with 1 Axes>"
      ]
     },
     "metadata": {
      "needs_background": "light"
     },
     "output_type": "display_data"
    }
   ],
   "source": [
    "# Plot the clusters for the \"Years of Service\" and \"Pay Grade\" variables.\n",
    "\n",
    "plt.figure(figsize=(12,8))\n",
    "ax = sns.scatterplot(x=df2['pay_grade'], y=df2['years_of_service'], hue=kmeans.labels_, s=100) \n",
    "# Here, you're subsetting `X` for the x and y arguments to avoid using their labels. \n",
    "# `hue` takes the value of the attribute `kmeans.labels_`, which is the result of running the k-means algorithm.\n",
    "# `s` represents the size of the points you want to see in the plot.\n",
    "\n",
    "ax.grid(False) # This removes the grid from the background.\n",
    "plt.xlabel('Pay Grade') # Label x-axis.\n",
    "plt.ylabel('Years of Service') # Label y-axis.\n",
    "plt.show()"
   ]
  },
  {
   "cell_type": "markdown",
   "id": "c10e2c8e",
   "metadata": {},
   "source": [
    "## This last visual compares pay grade and years of service.  You would hope that the longer you work the more your pay increases, but due to the variety of professions that may make more coming in new, you can see that assumption isn't true. You see a lot of the purple in the low pay grade range and a lot of the cream in the middle with higher years of service.  the higher pay grades really seem to be a hodge podge of colors making it hard to understand, but as we know these two variables only correlate a tiny bit, I think it would be hard to categorize them."
   ]
  },
  {
   "cell_type": "markdown",
   "id": "ac90691e",
   "metadata": {},
   "source": [
    "### 6. Check Clustering Stats"
   ]
  },
  {
   "cell_type": "code",
   "execution_count": 44,
   "id": "9961ecf8",
   "metadata": {},
   "outputs": [],
   "source": [
    "df2.loc[df2['clusters'] == 4, 'cluster'] = 'black'\n",
    "df2.loc[df2['clusters'] == 3, 'cluster'] = 'dark purple'\n",
    "df2.loc[df2['clusters'] == 2, 'cluster'] = 'purple'\n",
    "df2.loc[df2['clusters'] == 1, 'cluster'] = 'pink'\n",
    "df2.loc[df2['clusters'] == 0, 'cluster'] = 'cream'"
   ]
  },
  {
   "cell_type": "code",
   "execution_count": 45,
   "id": "2e7ab640",
   "metadata": {},
   "outputs": [
    {
     "data": {
      "text/html": [
       "<div>\n",
       "<style scoped>\n",
       "    .dataframe tbody tr th:only-of-type {\n",
       "        vertical-align: middle;\n",
       "    }\n",
       "\n",
       "    .dataframe tbody tr th {\n",
       "        vertical-align: top;\n",
       "    }\n",
       "\n",
       "    .dataframe thead tr th {\n",
       "        text-align: left;\n",
       "    }\n",
       "\n",
       "    .dataframe thead tr:last-of-type th {\n",
       "        text-align: right;\n",
       "    }\n",
       "</style>\n",
       "<table border=\"1\" class=\"dataframe\">\n",
       "  <thead>\n",
       "    <tr>\n",
       "      <th></th>\n",
       "      <th colspan=\"2\" halign=\"left\">pay_grade</th>\n",
       "      <th colspan=\"2\" halign=\"left\">stem</th>\n",
       "      <th colspan=\"2\" halign=\"left\">salary</th>\n",
       "      <th colspan=\"2\" halign=\"left\">years_of_service</th>\n",
       "    </tr>\n",
       "    <tr>\n",
       "      <th></th>\n",
       "      <th>mean</th>\n",
       "      <th>median</th>\n",
       "      <th>mean</th>\n",
       "      <th>median</th>\n",
       "      <th>mean</th>\n",
       "      <th>median</th>\n",
       "      <th>mean</th>\n",
       "      <th>median</th>\n",
       "    </tr>\n",
       "    <tr>\n",
       "      <th>cluster</th>\n",
       "      <th></th>\n",
       "      <th></th>\n",
       "      <th></th>\n",
       "      <th></th>\n",
       "      <th></th>\n",
       "      <th></th>\n",
       "      <th></th>\n",
       "      <th></th>\n",
       "    </tr>\n",
       "  </thead>\n",
       "  <tbody>\n",
       "    <tr>\n",
       "      <th>black</th>\n",
       "      <td>0.367319</td>\n",
       "      <td>0.380626</td>\n",
       "      <td>1.684516</td>\n",
       "      <td>1.684516</td>\n",
       "      <td>0.091002</td>\n",
       "      <td>0.011713</td>\n",
       "      <td>-0.440071</td>\n",
       "      <td>-0.573677</td>\n",
       "    </tr>\n",
       "    <tr>\n",
       "      <th>cream</th>\n",
       "      <td>0.540087</td>\n",
       "      <td>0.380626</td>\n",
       "      <td>-0.591482</td>\n",
       "      <td>-0.593642</td>\n",
       "      <td>0.485075</td>\n",
       "      <td>0.216880</td>\n",
       "      <td>1.218301</td>\n",
       "      <td>1.012000</td>\n",
       "    </tr>\n",
       "    <tr>\n",
       "      <th>dark purple</th>\n",
       "      <td>-1.664857</td>\n",
       "      <td>-1.555141</td>\n",
       "      <td>-0.481639</td>\n",
       "      <td>-0.593642</td>\n",
       "      <td>-0.936340</td>\n",
       "      <td>-0.999211</td>\n",
       "      <td>-0.421603</td>\n",
       "      <td>-0.694109</td>\n",
       "    </tr>\n",
       "    <tr>\n",
       "      <th>pink</th>\n",
       "      <td>0.382127</td>\n",
       "      <td>0.380626</td>\n",
       "      <td>-0.593642</td>\n",
       "      <td>-0.593642</td>\n",
       "      <td>-0.177105</td>\n",
       "      <td>-0.069356</td>\n",
       "      <td>-0.445238</td>\n",
       "      <td>-0.503426</td>\n",
       "    </tr>\n",
       "    <tr>\n",
       "      <th>purple</th>\n",
       "      <td>0.716199</td>\n",
       "      <td>0.380626</td>\n",
       "      <td>1.627155</td>\n",
       "      <td>1.684516</td>\n",
       "      <td>1.801810</td>\n",
       "      <td>1.440869</td>\n",
       "      <td>0.882865</td>\n",
       "      <td>0.821318</td>\n",
       "    </tr>\n",
       "  </tbody>\n",
       "</table>\n",
       "</div>"
      ],
      "text/plain": [
       "            pay_grade                stem              salary            \\\n",
       "                 mean    median      mean    median      mean    median   \n",
       "cluster                                                                   \n",
       "black        0.367319  0.380626  1.684516  1.684516  0.091002  0.011713   \n",
       "cream        0.540087  0.380626 -0.591482 -0.593642  0.485075  0.216880   \n",
       "dark purple -1.664857 -1.555141 -0.481639 -0.593642 -0.936340 -0.999211   \n",
       "pink         0.382127  0.380626 -0.593642 -0.593642 -0.177105 -0.069356   \n",
       "purple       0.716199  0.380626  1.627155  1.684516  1.801810  1.440869   \n",
       "\n",
       "            years_of_service            \n",
       "                        mean    median  \n",
       "cluster                                 \n",
       "black              -0.440071 -0.573677  \n",
       "cream               1.218301  1.012000  \n",
       "dark purple        -0.421603 -0.694109  \n",
       "pink               -0.445238 -0.503426  \n",
       "purple              0.882865  0.821318  "
      ]
     },
     "execution_count": 45,
     "metadata": {},
     "output_type": "execute_result"
    }
   ],
   "source": [
    "df2.groupby('cluster').agg({'pay_grade':['mean', 'median'], \n",
    "                         'stem':['mean', 'median'], \n",
    "                         'salary':['mean', 'median'],\n",
    "                          'years_of_service':['mean', 'median']})"
   ]
  },
  {
   "cell_type": "markdown",
   "id": "c1c25e6e",
   "metadata": {},
   "source": [
    "### 7. Final Observations"
   ]
  },
  {
   "cell_type": "markdown",
   "id": "944a6017",
   "metadata": {},
   "source": [
    "## Seeing the final breakdown of each category does make it hard for me to understand as I had to scale the data.  I can't see the median salary amount in each category as it was scaled.  You can still see the comparison of each category though. The numbers are fairly all over the place.  None of them have a clear \"highest value of each category\" same with none of them have the lowest.  I believe this is since the variables have so much data and they have such a variance from top to bottom in all the categories you don't see a very clear way to cluster the data.  This is expected with the data.  This strategy is definitely better set for something like sales and things where you can find similar traits.  All the things I have run on my data so far has not shown any sort of similar traits between any of my categories so I would have been surprised to find much here."
   ]
  },
  {
   "cell_type": "code",
   "execution_count": null,
   "id": "3264e8e7",
   "metadata": {},
   "outputs": [],
   "source": []
  }
 ],
 "metadata": {
  "kernelspec": {
   "display_name": "Python 3 (ipykernel)",
   "language": "python",
   "name": "python3"
  },
  "language_info": {
   "codemirror_mode": {
    "name": "ipython",
    "version": 3
   },
   "file_extension": ".py",
   "mimetype": "text/x-python",
   "name": "python",
   "nbconvert_exporter": "python",
   "pygments_lexer": "ipython3",
   "version": "3.9.12"
  }
 },
 "nbformat": 4,
 "nbformat_minor": 5
}
