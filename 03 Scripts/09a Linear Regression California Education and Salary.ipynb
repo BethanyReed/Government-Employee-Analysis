{
 "cells": [
  {
   "cell_type": "markdown",
   "id": "913c1a36",
   "metadata": {},
   "source": [
    "# Linear Regression California Education Level and Salary"
   ]
  },
  {
   "cell_type": "markdown",
   "id": "096b53ba",
   "metadata": {},
   "source": [
    "## 1. Import Libraries and Data \n",
    "## 2. Data Cleaning\n",
    "## 3. Check for Extreme Values\n",
    "## 4. Data Prep for Regression Analysis\n",
    "## 5. Regression analysis\n",
    "## 6. Check Model Performance with statistics\n",
    "## 7. Conclusion"
   ]
  },
  {
   "cell_type": "markdown",
   "id": "a12ed23d",
   "metadata": {},
   "source": [
    "### 1. Import Libraries and Data"
   ]
  },
  {
   "cell_type": "code",
   "execution_count": 1,
   "id": "d2149fe2",
   "metadata": {},
   "outputs": [],
   "source": [
    "import pandas as pd\n",
    "import numpy as np\n",
    "import seaborn as sns\n",
    "import matplotlib\n",
    "import matplotlib.pyplot as plt\n",
    "import os\n",
    "import sklearn\n",
    "from sklearn.model_selection import train_test_split \n",
    "from sklearn.linear_model import LinearRegression\n",
    "from sklearn.metrics import mean_squared_error, r2_score"
   ]
  },
  {
   "cell_type": "code",
   "execution_count": 2,
   "id": "cc37f72c",
   "metadata": {},
   "outputs": [],
   "source": [
    "# Allow graphs created to be displayed within the notebook without the need to \"call\" them specifically.\n",
    "\n",
    "%matplotlib inline"
   ]
  },
  {
   "cell_type": "code",
   "execution_count": 3,
   "id": "2999df44",
   "metadata": {},
   "outputs": [],
   "source": [
    "path = r'/Users/bethanybreed/Documents/A Career Foundry/Gov Employ Data/02 Data'"
   ]
  },
  {
   "cell_type": "code",
   "execution_count": 4,
   "id": "61aaf683",
   "metadata": {},
   "outputs": [],
   "source": [
    "# Import Data\n",
    "\n",
    "df = pd.read_pickle(os.path.join(path,'prepared data','March 2022 clean-a.pkl'))"
   ]
  },
  {
   "cell_type": "code",
   "execution_count": 5,
   "id": "163d3d73",
   "metadata": {},
   "outputs": [
    {
     "data": {
      "text/plain": [
       "(2152679, 25)"
      ]
     },
     "execution_count": 5,
     "metadata": {},
     "output_type": "execute_result"
    }
   ],
   "source": [
    "df.shape"
   ]
  },
  {
   "cell_type": "code",
   "execution_count": 6,
   "id": "dfecbf09",
   "metadata": {},
   "outputs": [
    {
     "data": {
      "text/html": [
       "<div>\n",
       "<style scoped>\n",
       "    .dataframe tbody tr th:only-of-type {\n",
       "        vertical-align: middle;\n",
       "    }\n",
       "\n",
       "    .dataframe tbody tr th {\n",
       "        vertical-align: top;\n",
       "    }\n",
       "\n",
       "    .dataframe thead th {\n",
       "        text-align: right;\n",
       "    }\n",
       "</style>\n",
       "<table border=\"1\" class=\"dataframe\">\n",
       "  <thead>\n",
       "    <tr style=\"text-align: right;\">\n",
       "      <th></th>\n",
       "      <th>sub_agency</th>\n",
       "      <th>country</th>\n",
       "      <th>age_level</th>\n",
       "      <th>education_level</th>\n",
       "      <th>pay_grade</th>\n",
       "      <th>years_grouping</th>\n",
       "      <th>occupation</th>\n",
       "      <th>occupation_category</th>\n",
       "      <th>pay_plan</th>\n",
       "      <th>stem</th>\n",
       "      <th>...</th>\n",
       "      <th>years_of_service</th>\n",
       "      <th>age_level_code</th>\n",
       "      <th>occupation_family</th>\n",
       "      <th>occupation_code</th>\n",
       "      <th>agency</th>\n",
       "      <th>education_code</th>\n",
       "      <th>work_status_code</th>\n",
       "      <th>full_time_code</th>\n",
       "      <th>supervisor_code</th>\n",
       "      <th>state</th>\n",
       "    </tr>\n",
       "  </thead>\n",
       "  <tbody>\n",
       "    <tr>\n",
       "      <th>0</th>\n",
       "      <td>ADMINISTRATIVE CONFERENCE OF THE UNITED STATES</td>\n",
       "      <td>United States</td>\n",
       "      <td>40-44</td>\n",
       "      <td>BACHELORS</td>\n",
       "      <td>NaN</td>\n",
       "      <td>15 - 19</td>\n",
       "      <td>PROGRAM MANAGEMENT</td>\n",
       "      <td>Administrative</td>\n",
       "      <td>ES-SENIOR EXECUTIVE SERVICE</td>\n",
       "      <td>0</td>\n",
       "      <td>...</td>\n",
       "      <td>18.8</td>\n",
       "      <td>6.0</td>\n",
       "      <td>GENERAL ADMIN, CLERICAL, &amp; OFFICE SVCS</td>\n",
       "      <td>2.0</td>\n",
       "      <td>ADMINISTRATIVE CONFERENCE OF THE UNITED STATES</td>\n",
       "      <td>13</td>\n",
       "      <td>1</td>\n",
       "      <td>1</td>\n",
       "      <td>2</td>\n",
       "      <td>DISTRICT OF COLUMBIA</td>\n",
       "    </tr>\n",
       "    <tr>\n",
       "      <th>1</th>\n",
       "      <td>ADMINISTRATIVE CONFERENCE OF THE UNITED STATES</td>\n",
       "      <td>United States</td>\n",
       "      <td>55-59</td>\n",
       "      <td>POST-BACHELORS</td>\n",
       "      <td>NaN</td>\n",
       "      <td>25 - 29</td>\n",
       "      <td>GENERAL ATTORNEY</td>\n",
       "      <td>Professional</td>\n",
       "      <td>ES-SENIOR EXECUTIVE SERVICE</td>\n",
       "      <td>0</td>\n",
       "      <td>...</td>\n",
       "      <td>29.2</td>\n",
       "      <td>9.0</td>\n",
       "      <td>LEGAL AND KINDRED</td>\n",
       "      <td>1.0</td>\n",
       "      <td>ADMINISTRATIVE CONFERENCE OF THE UNITED STATES</td>\n",
       "      <td>15</td>\n",
       "      <td>1</td>\n",
       "      <td>1</td>\n",
       "      <td>2</td>\n",
       "      <td>DISTRICT OF COLUMBIA</td>\n",
       "    </tr>\n",
       "    <tr>\n",
       "      <th>2</th>\n",
       "      <td>ADMINISTRATIVE CONFERENCE OF THE UNITED STATES</td>\n",
       "      <td>United States</td>\n",
       "      <td>35-39</td>\n",
       "      <td>POST-BACHELORS</td>\n",
       "      <td>15.0</td>\n",
       "      <td>10 - 14</td>\n",
       "      <td>GENERAL ATTORNEY</td>\n",
       "      <td>Professional</td>\n",
       "      <td>GS-GENERAL SCHEDULE</td>\n",
       "      <td>0</td>\n",
       "      <td>...</td>\n",
       "      <td>12.5</td>\n",
       "      <td>5.0</td>\n",
       "      <td>LEGAL AND KINDRED</td>\n",
       "      <td>1.0</td>\n",
       "      <td>ADMINISTRATIVE CONFERENCE OF THE UNITED STATES</td>\n",
       "      <td>15</td>\n",
       "      <td>1</td>\n",
       "      <td>1</td>\n",
       "      <td>2</td>\n",
       "      <td>OKLAHOMA</td>\n",
       "    </tr>\n",
       "    <tr>\n",
       "      <th>3</th>\n",
       "      <td>ADMINISTRATIVE CONFERENCE OF THE UNITED STATES</td>\n",
       "      <td>United States</td>\n",
       "      <td>35-39</td>\n",
       "      <td>POST-BACHELORS</td>\n",
       "      <td>15.0</td>\n",
       "      <td>10 - 14</td>\n",
       "      <td>GENERAL ATTORNEY</td>\n",
       "      <td>Professional</td>\n",
       "      <td>GS-GENERAL SCHEDULE</td>\n",
       "      <td>0</td>\n",
       "      <td>...</td>\n",
       "      <td>10.5</td>\n",
       "      <td>5.0</td>\n",
       "      <td>LEGAL AND KINDRED</td>\n",
       "      <td>1.0</td>\n",
       "      <td>ADMINISTRATIVE CONFERENCE OF THE UNITED STATES</td>\n",
       "      <td>15</td>\n",
       "      <td>1</td>\n",
       "      <td>1</td>\n",
       "      <td>8</td>\n",
       "      <td>DISTRICT OF COLUMBIA</td>\n",
       "    </tr>\n",
       "    <tr>\n",
       "      <th>4</th>\n",
       "      <td>ADMINISTRATIVE CONFERENCE OF THE UNITED STATES</td>\n",
       "      <td>United States</td>\n",
       "      <td>40-44</td>\n",
       "      <td>POST-BACHELORS</td>\n",
       "      <td>13.0</td>\n",
       "      <td>10 - 14</td>\n",
       "      <td>GENERAL ATTORNEY</td>\n",
       "      <td>Professional</td>\n",
       "      <td>GS-GENERAL SCHEDULE</td>\n",
       "      <td>0</td>\n",
       "      <td>...</td>\n",
       "      <td>13.4</td>\n",
       "      <td>6.0</td>\n",
       "      <td>LEGAL AND KINDRED</td>\n",
       "      <td>1.0</td>\n",
       "      <td>ADMINISTRATIVE CONFERENCE OF THE UNITED STATES</td>\n",
       "      <td>15</td>\n",
       "      <td>1</td>\n",
       "      <td>1</td>\n",
       "      <td>8</td>\n",
       "      <td>DISTRICT OF COLUMBIA</td>\n",
       "    </tr>\n",
       "  </tbody>\n",
       "</table>\n",
       "<p>5 rows × 25 columns</p>\n",
       "</div>"
      ],
      "text/plain": [
       "                                       sub_agency        country age_level  \\\n",
       "0  ADMINISTRATIVE CONFERENCE OF THE UNITED STATES  United States     40-44   \n",
       "1  ADMINISTRATIVE CONFERENCE OF THE UNITED STATES  United States     55-59   \n",
       "2  ADMINISTRATIVE CONFERENCE OF THE UNITED STATES  United States     35-39   \n",
       "3  ADMINISTRATIVE CONFERENCE OF THE UNITED STATES  United States     35-39   \n",
       "4  ADMINISTRATIVE CONFERENCE OF THE UNITED STATES  United States     40-44   \n",
       "\n",
       "  education_level  pay_grade years_grouping          occupation  \\\n",
       "0       BACHELORS        NaN        15 - 19  PROGRAM MANAGEMENT   \n",
       "1  POST-BACHELORS        NaN        25 - 29    GENERAL ATTORNEY   \n",
       "2  POST-BACHELORS       15.0        10 - 14    GENERAL ATTORNEY   \n",
       "3  POST-BACHELORS       15.0        10 - 14    GENERAL ATTORNEY   \n",
       "4  POST-BACHELORS       13.0        10 - 14    GENERAL ATTORNEY   \n",
       "\n",
       "  occupation_category                     pay_plan  stem  ...  \\\n",
       "0      Administrative  ES-SENIOR EXECUTIVE SERVICE     0  ...   \n",
       "1        Professional  ES-SENIOR EXECUTIVE SERVICE     0  ...   \n",
       "2        Professional          GS-GENERAL SCHEDULE     0  ...   \n",
       "3        Professional          GS-GENERAL SCHEDULE     0  ...   \n",
       "4        Professional          GS-GENERAL SCHEDULE     0  ...   \n",
       "\n",
       "  years_of_service age_level_code                       occupation_family  \\\n",
       "0             18.8            6.0  GENERAL ADMIN, CLERICAL, & OFFICE SVCS   \n",
       "1             29.2            9.0                       LEGAL AND KINDRED   \n",
       "2             12.5            5.0                       LEGAL AND KINDRED   \n",
       "3             10.5            5.0                       LEGAL AND KINDRED   \n",
       "4             13.4            6.0                       LEGAL AND KINDRED   \n",
       "\n",
       "  occupation_code                                          agency  \\\n",
       "0             2.0  ADMINISTRATIVE CONFERENCE OF THE UNITED STATES   \n",
       "1             1.0  ADMINISTRATIVE CONFERENCE OF THE UNITED STATES   \n",
       "2             1.0  ADMINISTRATIVE CONFERENCE OF THE UNITED STATES   \n",
       "3             1.0  ADMINISTRATIVE CONFERENCE OF THE UNITED STATES   \n",
       "4             1.0  ADMINISTRATIVE CONFERENCE OF THE UNITED STATES   \n",
       "\n",
       "   education_code  work_status_code full_time_code  supervisor_code  \\\n",
       "0              13                 1              1                2   \n",
       "1              15                 1              1                2   \n",
       "2              15                 1              1                2   \n",
       "3              15                 1              1                8   \n",
       "4              15                 1              1                8   \n",
       "\n",
       "                  state  \n",
       "0  DISTRICT OF COLUMBIA  \n",
       "1  DISTRICT OF COLUMBIA  \n",
       "2              OKLAHOMA  \n",
       "3  DISTRICT OF COLUMBIA  \n",
       "4  DISTRICT OF COLUMBIA  \n",
       "\n",
       "[5 rows x 25 columns]"
      ]
     },
     "execution_count": 6,
     "metadata": {},
     "output_type": "execute_result"
    }
   ],
   "source": [
    "df.head()"
   ]
  },
  {
   "cell_type": "markdown",
   "id": "1cfd2ab5",
   "metadata": {},
   "source": [
    "### 2. Data Cleaning"
   ]
  },
  {
   "cell_type": "code",
   "execution_count": 7,
   "id": "1db1c47f",
   "metadata": {},
   "outputs": [],
   "source": [
    "#subset into California as it is the state with 2nd highest amount of workers (District of Columbia being 1)"
   ]
  },
  {
   "cell_type": "code",
   "execution_count": 8,
   "id": "246c95d9",
   "metadata": {},
   "outputs": [],
   "source": [
    "df_cali =  df[df['state']=='CALIFORNIA']"
   ]
  },
  {
   "cell_type": "code",
   "execution_count": 9,
   "id": "975da6ce",
   "metadata": {},
   "outputs": [
    {
     "data": {
      "text/html": [
       "<div>\n",
       "<style scoped>\n",
       "    .dataframe tbody tr th:only-of-type {\n",
       "        vertical-align: middle;\n",
       "    }\n",
       "\n",
       "    .dataframe tbody tr th {\n",
       "        vertical-align: top;\n",
       "    }\n",
       "\n",
       "    .dataframe thead th {\n",
       "        text-align: right;\n",
       "    }\n",
       "</style>\n",
       "<table border=\"1\" class=\"dataframe\">\n",
       "  <thead>\n",
       "    <tr style=\"text-align: right;\">\n",
       "      <th></th>\n",
       "      <th>sub_agency</th>\n",
       "      <th>country</th>\n",
       "      <th>age_level</th>\n",
       "      <th>education_level</th>\n",
       "      <th>pay_grade</th>\n",
       "      <th>years_grouping</th>\n",
       "      <th>occupation</th>\n",
       "      <th>occupation_category</th>\n",
       "      <th>pay_plan</th>\n",
       "      <th>stem</th>\n",
       "      <th>...</th>\n",
       "      <th>years_of_service</th>\n",
       "      <th>age_level_code</th>\n",
       "      <th>occupation_family</th>\n",
       "      <th>occupation_code</th>\n",
       "      <th>agency</th>\n",
       "      <th>education_code</th>\n",
       "      <th>work_status_code</th>\n",
       "      <th>full_time_code</th>\n",
       "      <th>supervisor_code</th>\n",
       "      <th>state</th>\n",
       "    </tr>\n",
       "  </thead>\n",
       "  <tbody>\n",
       "    <tr>\n",
       "      <th>21</th>\n",
       "      <td>AMERICAN BATTLE MONUMENTS COMMISSION</td>\n",
       "      <td>United States</td>\n",
       "      <td>40-44</td>\n",
       "      <td>BACHELORS</td>\n",
       "      <td>13.0</td>\n",
       "      <td>10 - 14</td>\n",
       "      <td>HUMAN RESOURCES MANAGEMENT</td>\n",
       "      <td>Administrative</td>\n",
       "      <td>GS-GENERAL SCHEDULE</td>\n",
       "      <td>0</td>\n",
       "      <td>...</td>\n",
       "      <td>14.6</td>\n",
       "      <td>6.0</td>\n",
       "      <td>PERSONNEL MGMT &amp; INDUSTRIAL  RELATIONS</td>\n",
       "      <td>2.0</td>\n",
       "      <td>AMERICAN BATTLE MONUMENTS COMMISSION</td>\n",
       "      <td>13</td>\n",
       "      <td>1</td>\n",
       "      <td>1</td>\n",
       "      <td>8</td>\n",
       "      <td>CALIFORNIA</td>\n",
       "    </tr>\n",
       "    <tr>\n",
       "      <th>122</th>\n",
       "      <td>AIR FORCE OPERATIONAL TEST AND EVALUATION CENTER</td>\n",
       "      <td>United States</td>\n",
       "      <td>60-64</td>\n",
       "      <td>MASTERS</td>\n",
       "      <td>13.0</td>\n",
       "      <td>10 - 14</td>\n",
       "      <td>MISCELLANEOUS ADMINISTRATION AND PROGRAM</td>\n",
       "      <td>Administrative</td>\n",
       "      <td>GS-GENERAL SCHEDULE</td>\n",
       "      <td>0</td>\n",
       "      <td>...</td>\n",
       "      <td>10.0</td>\n",
       "      <td>10.0</td>\n",
       "      <td>GENERAL ADMIN, CLERICAL, &amp; OFFICE SVCS</td>\n",
       "      <td>2.0</td>\n",
       "      <td>DEPARTMENT OF THE AIR FORCE</td>\n",
       "      <td>17</td>\n",
       "      <td>1</td>\n",
       "      <td>1</td>\n",
       "      <td>8</td>\n",
       "      <td>CALIFORNIA</td>\n",
       "    </tr>\n",
       "    <tr>\n",
       "      <th>123</th>\n",
       "      <td>AIR FORCE OPERATIONAL TEST AND EVALUATION CENTER</td>\n",
       "      <td>United States</td>\n",
       "      <td>40-44</td>\n",
       "      <td>BACHELORS</td>\n",
       "      <td>13.0</td>\n",
       "      <td>5 - 9</td>\n",
       "      <td>MISCELLANEOUS ADMINISTRATION AND PROGRAM</td>\n",
       "      <td>Administrative</td>\n",
       "      <td>GS-GENERAL SCHEDULE</td>\n",
       "      <td>0</td>\n",
       "      <td>...</td>\n",
       "      <td>8.3</td>\n",
       "      <td>6.0</td>\n",
       "      <td>GENERAL ADMIN, CLERICAL, &amp; OFFICE SVCS</td>\n",
       "      <td>2.0</td>\n",
       "      <td>DEPARTMENT OF THE AIR FORCE</td>\n",
       "      <td>13</td>\n",
       "      <td>1</td>\n",
       "      <td>1</td>\n",
       "      <td>8</td>\n",
       "      <td>CALIFORNIA</td>\n",
       "    </tr>\n",
       "    <tr>\n",
       "      <th>129</th>\n",
       "      <td>AIR FORCE OPERATIONAL TEST AND EVALUATION CENTER</td>\n",
       "      <td>United States</td>\n",
       "      <td>65 or more</td>\n",
       "      <td>BETWEEN HS &amp; BACHELORS</td>\n",
       "      <td>9.0</td>\n",
       "      <td>35 or more</td>\n",
       "      <td>TECHNICAL WRITING AND EDITING</td>\n",
       "      <td>Administrative</td>\n",
       "      <td>GS-GENERAL SCHEDULE</td>\n",
       "      <td>0</td>\n",
       "      <td>...</td>\n",
       "      <td>37.7</td>\n",
       "      <td>11.0</td>\n",
       "      <td>INFORMATION AND ARTS</td>\n",
       "      <td>2.0</td>\n",
       "      <td>DEPARTMENT OF THE AIR FORCE</td>\n",
       "      <td>10</td>\n",
       "      <td>1</td>\n",
       "      <td>1</td>\n",
       "      <td>8</td>\n",
       "      <td>CALIFORNIA</td>\n",
       "    </tr>\n",
       "    <tr>\n",
       "      <th>147</th>\n",
       "      <td>AIR FORCE OPERATIONAL TEST AND EVALUATION CENTER</td>\n",
       "      <td>United States</td>\n",
       "      <td>55-59</td>\n",
       "      <td>MASTERS</td>\n",
       "      <td>13.0</td>\n",
       "      <td>20 - 24</td>\n",
       "      <td>OPERATIONS RESEARCH</td>\n",
       "      <td>Professional</td>\n",
       "      <td>GS-GENERAL SCHEDULE</td>\n",
       "      <td>1</td>\n",
       "      <td>...</td>\n",
       "      <td>22.2</td>\n",
       "      <td>9.0</td>\n",
       "      <td>MATHEMATICS AND STATISTICS</td>\n",
       "      <td>1.0</td>\n",
       "      <td>DEPARTMENT OF THE AIR FORCE</td>\n",
       "      <td>17</td>\n",
       "      <td>1</td>\n",
       "      <td>1</td>\n",
       "      <td>8</td>\n",
       "      <td>CALIFORNIA</td>\n",
       "    </tr>\n",
       "  </tbody>\n",
       "</table>\n",
       "<p>5 rows × 25 columns</p>\n",
       "</div>"
      ],
      "text/plain": [
       "                                           sub_agency        country  \\\n",
       "21               AMERICAN BATTLE MONUMENTS COMMISSION  United States   \n",
       "122  AIR FORCE OPERATIONAL TEST AND EVALUATION CENTER  United States   \n",
       "123  AIR FORCE OPERATIONAL TEST AND EVALUATION CENTER  United States   \n",
       "129  AIR FORCE OPERATIONAL TEST AND EVALUATION CENTER  United States   \n",
       "147  AIR FORCE OPERATIONAL TEST AND EVALUATION CENTER  United States   \n",
       "\n",
       "      age_level         education_level  pay_grade years_grouping  \\\n",
       "21        40-44               BACHELORS       13.0        10 - 14   \n",
       "122       60-64                 MASTERS       13.0        10 - 14   \n",
       "123       40-44               BACHELORS       13.0          5 - 9   \n",
       "129  65 or more  BETWEEN HS & BACHELORS        9.0     35 or more   \n",
       "147       55-59                 MASTERS       13.0        20 - 24   \n",
       "\n",
       "                                   occupation occupation_category  \\\n",
       "21                 HUMAN RESOURCES MANAGEMENT      Administrative   \n",
       "122  MISCELLANEOUS ADMINISTRATION AND PROGRAM      Administrative   \n",
       "123  MISCELLANEOUS ADMINISTRATION AND PROGRAM      Administrative   \n",
       "129             TECHNICAL WRITING AND EDITING      Administrative   \n",
       "147                       OPERATIONS RESEARCH        Professional   \n",
       "\n",
       "                pay_plan  stem  ... years_of_service age_level_code  \\\n",
       "21   GS-GENERAL SCHEDULE     0  ...             14.6            6.0   \n",
       "122  GS-GENERAL SCHEDULE     0  ...             10.0           10.0   \n",
       "123  GS-GENERAL SCHEDULE     0  ...              8.3            6.0   \n",
       "129  GS-GENERAL SCHEDULE     0  ...             37.7           11.0   \n",
       "147  GS-GENERAL SCHEDULE     1  ...             22.2            9.0   \n",
       "\n",
       "                          occupation_family occupation_code  \\\n",
       "21   PERSONNEL MGMT & INDUSTRIAL  RELATIONS             2.0   \n",
       "122  GENERAL ADMIN, CLERICAL, & OFFICE SVCS             2.0   \n",
       "123  GENERAL ADMIN, CLERICAL, & OFFICE SVCS             2.0   \n",
       "129                    INFORMATION AND ARTS             2.0   \n",
       "147              MATHEMATICS AND STATISTICS             1.0   \n",
       "\n",
       "                                   agency  education_code  work_status_code  \\\n",
       "21   AMERICAN BATTLE MONUMENTS COMMISSION              13                 1   \n",
       "122           DEPARTMENT OF THE AIR FORCE              17                 1   \n",
       "123           DEPARTMENT OF THE AIR FORCE              13                 1   \n",
       "129           DEPARTMENT OF THE AIR FORCE              10                 1   \n",
       "147           DEPARTMENT OF THE AIR FORCE              17                 1   \n",
       "\n",
       "    full_time_code  supervisor_code       state  \n",
       "21               1                8  CALIFORNIA  \n",
       "122              1                8  CALIFORNIA  \n",
       "123              1                8  CALIFORNIA  \n",
       "129              1                8  CALIFORNIA  \n",
       "147              1                8  CALIFORNIA  \n",
       "\n",
       "[5 rows x 25 columns]"
      ]
     },
     "execution_count": 9,
     "metadata": {},
     "output_type": "execute_result"
    }
   ],
   "source": [
    "df_cali.head()"
   ]
  },
  {
   "cell_type": "code",
   "execution_count": 10,
   "id": "e7e189b5",
   "metadata": {},
   "outputs": [
    {
     "data": {
      "text/plain": [
       "(141103, 25)"
      ]
     },
     "execution_count": 10,
     "metadata": {},
     "output_type": "execute_result"
    }
   ],
   "source": [
    "df_cali.shape"
   ]
  },
  {
   "cell_type": "code",
   "execution_count": 11,
   "id": "b14c3293",
   "metadata": {},
   "outputs": [],
   "source": [
    "# I am looking at education code and salary as you would think the more education you have, the higher the salary"
   ]
  },
  {
   "cell_type": "code",
   "execution_count": 12,
   "id": "faeb1c25",
   "metadata": {},
   "outputs": [
    {
     "data": {
      "text/plain": [
       "sub_agency                 0\n",
       "country                    0\n",
       "age_level                  0\n",
       "education_level            0\n",
       "pay_grade              51340\n",
       "years_grouping             0\n",
       "occupation                 0\n",
       "occupation_category        0\n",
       "pay_plan                   0\n",
       "stem                       0\n",
       "supervisor_status          0\n",
       "full_time                  0\n",
       "work_status                0\n",
       "date                       0\n",
       "salary                   624\n",
       "years_of_service           0\n",
       "age_level_code             0\n",
       "occupation_family      71108\n",
       "occupation_code            0\n",
       "agency                     0\n",
       "education_code             0\n",
       "work_status_code           0\n",
       "full_time_code             0\n",
       "supervisor_code            0\n",
       "state                      0\n",
       "dtype: int64"
      ]
     },
     "execution_count": 12,
     "metadata": {},
     "output_type": "execute_result"
    }
   ],
   "source": [
    "# Check for missing values\n",
    "\n",
    "df_cali.isnull().sum()"
   ]
  },
  {
   "cell_type": "code",
   "execution_count": 14,
   "id": "d9556c16",
   "metadata": {},
   "outputs": [
    {
     "name": "stderr",
     "output_type": "stream",
     "text": [
      "/var/folders/rt/m2j4lb4d1jn3b18ck1_f2csm0000gn/T/ipykernel_29500/2009302436.py:2: SettingWithCopyWarning: \n",
      "A value is trying to be set on a copy of a slice from a DataFrame\n",
      "\n",
      "See the caveats in the documentation: https://pandas.pydata.org/pandas-docs/stable/user_guide/indexing.html#returning-a-view-versus-a-copy\n",
      "  df_cali.dropna(subset = ['salary'], inplace = True)\n"
     ]
    }
   ],
   "source": [
    "# Missing values are a .004% of whole so I will just drop them for this analysis\n",
    "df_cali.dropna(subset = ['salary'], inplace = True)"
   ]
  },
  {
   "cell_type": "code",
   "execution_count": 15,
   "id": "79e20612",
   "metadata": {},
   "outputs": [
    {
     "data": {
      "text/plain": [
       "sub_agency                 0\n",
       "country                    0\n",
       "age_level                  0\n",
       "education_level            0\n",
       "pay_grade              50833\n",
       "years_grouping             0\n",
       "occupation                 0\n",
       "occupation_category        0\n",
       "pay_plan                   0\n",
       "stem                       0\n",
       "supervisor_status          0\n",
       "full_time                  0\n",
       "work_status                0\n",
       "date                       0\n",
       "salary                     0\n",
       "years_of_service           0\n",
       "age_level_code             0\n",
       "occupation_family      71028\n",
       "occupation_code            0\n",
       "agency                     0\n",
       "education_code             0\n",
       "work_status_code           0\n",
       "full_time_code             0\n",
       "supervisor_code            0\n",
       "state                      0\n",
       "dtype: int64"
      ]
     },
     "execution_count": 15,
     "metadata": {},
     "output_type": "execute_result"
    }
   ],
   "source": [
    "df_cali.isnull().sum()"
   ]
  },
  {
   "cell_type": "code",
   "execution_count": 16,
   "id": "444b47ee",
   "metadata": {},
   "outputs": [
    {
     "name": "stdout",
     "output_type": "stream",
     "text": [
      "<class 'pandas.core.frame.DataFrame'>\n",
      "Int64Index: 140479 entries, 21 to 2155550\n",
      "Data columns (total 25 columns):\n",
      " #   Column               Non-Null Count   Dtype  \n",
      "---  ------               --------------   -----  \n",
      " 0   sub_agency           140479 non-null  object \n",
      " 1   country              140479 non-null  object \n",
      " 2   age_level            140479 non-null  object \n",
      " 3   education_level      140479 non-null  object \n",
      " 4   pay_grade            89646 non-null   float64\n",
      " 5   years_grouping       140479 non-null  object \n",
      " 6   occupation           140479 non-null  object \n",
      " 7   occupation_category  140479 non-null  object \n",
      " 8   pay_plan             140479 non-null  object \n",
      " 9   stem                 140479 non-null  int64  \n",
      " 10  supervisor_status    140479 non-null  object \n",
      " 11  full_time            140479 non-null  object \n",
      " 12  work_status          140479 non-null  object \n",
      " 13  date                 140479 non-null  object \n",
      " 14  salary               140479 non-null  float64\n",
      " 15  years_of_service     140479 non-null  float64\n",
      " 16  age_level_code       140479 non-null  float64\n",
      " 17  occupation_family    69451 non-null   object \n",
      " 18  occupation_code      140479 non-null  float64\n",
      " 19  agency               140479 non-null  object \n",
      " 20  education_code       140479 non-null  int64  \n",
      " 21  work_status_code     140479 non-null  int64  \n",
      " 22  full_time_code       140479 non-null  int64  \n",
      " 23  supervisor_code      140479 non-null  int64  \n",
      " 24  state                140479 non-null  object \n",
      "dtypes: float64(5), int64(5), object(15)\n",
      "memory usage: 27.9+ MB\n"
     ]
    }
   ],
   "source": [
    "df_cali.info()"
   ]
  },
  {
   "cell_type": "markdown",
   "id": "a10894fa",
   "metadata": {},
   "source": [
    "### 3. Check for Extreme Values"
   ]
  },
  {
   "cell_type": "code",
   "execution_count": 18,
   "id": "dd824c59",
   "metadata": {},
   "outputs": [
    {
     "name": "stderr",
     "output_type": "stream",
     "text": [
      "/Users/bethanybreed/opt/anaconda3/lib/python3.9/site-packages/seaborn/distributions.py:2619: FutureWarning: `distplot` is a deprecated function and will be removed in a future version. Please adapt your code to use either `displot` (a figure-level function with similar flexibility) or `histplot` (an axes-level function for histograms).\n",
      "  warnings.warn(msg, FutureWarning)\n"
     ]
    },
    {
     "data": {
      "text/plain": [
       "<AxesSubplot:xlabel='education_code', ylabel='Density'>"
      ]
     },
     "execution_count": 18,
     "metadata": {},
     "output_type": "execute_result"
    },
    {
     "data": {
      "image/png": "[encoded data removed]",
      "text/plain": [
       "<Figure size 432x288 with 1 Axes>"
      ]
     },
     "metadata": {
      "needs_background": "light"
     },
     "output_type": "display_data"
    }
   ],
   "source": [
    "sns.distplot(df_cali['education_code'], bins=25) # Shows extreme values"
   ]
  },
  {
   "cell_type": "code",
   "execution_count": 19,
   "id": "2310d0b2",
   "metadata": {},
   "outputs": [
    {
     "name": "stderr",
     "output_type": "stream",
     "text": [
      "/Users/bethanybreed/opt/anaconda3/lib/python3.9/site-packages/seaborn/distributions.py:2619: FutureWarning: `distplot` is a deprecated function and will be removed in a future version. Please adapt your code to use either `displot` (a figure-level function with similar flexibility) or `histplot` (an axes-level function for histograms).\n",
      "  warnings.warn(msg, FutureWarning)\n"
     ]
    },
    {
     "data": {
      "text/plain": [
       "<AxesSubplot:xlabel='salary', ylabel='Density'>"
      ]
     },
     "execution_count": 19,
     "metadata": {},
     "output_type": "execute_result"
    },
    {
     "data": {
      "image/png": "[encoded data removed]",
      "text/plain": [
       "<Figure size 432x288 with 1 Axes>"
      ]
     },
     "metadata": {
      "needs_background": "light"
     },
     "output_type": "display_data"
    }
   ],
   "source": [
    "sns.distplot(df_cali['salary'], bins=25) # Shows extreme values"
   ]
  },
  {
   "cell_type": "code",
   "execution_count": 20,
   "id": "0c41c839",
   "metadata": {},
   "outputs": [],
   "source": [
    "#I will leave them for now, as these are all within the expected ranges"
   ]
  },
  {
   "cell_type": "markdown",
   "id": "1820a50a",
   "metadata": {},
   "source": [
    "### 4. Data Prep for Regression Analysis"
   ]
  },
  {
   "cell_type": "markdown",
   "id": "8d2ebc1d",
   "metadata": {},
   "source": [
    "### I am looking at Education Level and how it affects Salary\n",
    "\n",
    "## Hypothesis Education Level affects Salary in a positive manner"
   ]
  },
  {
   "cell_type": "code",
   "execution_count": 21,
   "id": "8997c7b4",
   "metadata": {},
   "outputs": [
    {
     "name": "stdout",
     "output_type": "stream",
     "text": [
      "<class 'pandas.core.frame.DataFrame'>\n",
      "Int64Index: 140479 entries, 21 to 2155550\n",
      "Data columns (total 25 columns):\n",
      " #   Column               Non-Null Count   Dtype  \n",
      "---  ------               --------------   -----  \n",
      " 0   sub_agency           140479 non-null  object \n",
      " 1   country              140479 non-null  object \n",
      " 2   age_level            140479 non-null  object \n",
      " 3   education_level      140479 non-null  object \n",
      " 4   pay_grade            89646 non-null   float64\n",
      " 5   years_grouping       140479 non-null  object \n",
      " 6   occupation           140479 non-null  object \n",
      " 7   occupation_category  140479 non-null  object \n",
      " 8   pay_plan             140479 non-null  object \n",
      " 9   stem                 140479 non-null  int64  \n",
      " 10  supervisor_status    140479 non-null  object \n",
      " 11  full_time            140479 non-null  object \n",
      " 12  work_status          140479 non-null  object \n",
      " 13  date                 140479 non-null  object \n",
      " 14  salary               140479 non-null  float64\n",
      " 15  years_of_service     140479 non-null  float64\n",
      " 16  age_level_code       140479 non-null  float64\n",
      " 17  occupation_family    69451 non-null   object \n",
      " 18  occupation_code      140479 non-null  float64\n",
      " 19  agency               140479 non-null  object \n",
      " 20  education_code       140479 non-null  int64  \n",
      " 21  work_status_code     140479 non-null  int64  \n",
      " 22  full_time_code       140479 non-null  int64  \n",
      " 23  supervisor_code      140479 non-null  int64  \n",
      " 24  state                140479 non-null  object \n",
      "dtypes: float64(5), int64(5), object(15)\n",
      "memory usage: 27.9+ MB\n"
     ]
    }
   ],
   "source": [
    "#double check data types\n",
    "df_cali.info()"
   ]
  },
  {
   "cell_type": "code",
   "execution_count": 23,
   "id": "25f29a79",
   "metadata": {},
   "outputs": [
    {
     "data": {
      "text/plain": [
       "176300.0    3419\n",
       "138171.0    1816\n",
       "141064.0    1618\n",
       "118635.0    1058\n",
       "76135.0      954\n",
       "            ... \n",
       "85267.0        1\n",
       "88673.0        1\n",
       "91312.0        1\n",
       "87576.0        1\n",
       "279286.0       1\n",
       "Name: salary, Length: 21298, dtype: int64"
      ]
     },
     "execution_count": 23,
     "metadata": {},
     "output_type": "execute_result"
    }
   ],
   "source": [
    "df_cali.salary.value_counts(dropna = False)"
   ]
  },
  {
   "cell_type": "code",
   "execution_count": 24,
   "id": "ae7a11ad",
   "metadata": {},
   "outputs": [
    {
     "data": {
      "text/plain": [
       "13    38608\n",
       "4     35832\n",
       "17    21994\n",
       "10     8781\n",
       "15     5769\n",
       "7      5232\n",
       "21     5168\n",
       "9      3803\n",
       "8      3450\n",
       "6      2344\n",
       "1      2117\n",
       "14     1676\n",
       "12     1582\n",
       "11     1536\n",
       "3       714\n",
       "5       645\n",
       "18      565\n",
       "22      428\n",
       "16      114\n",
       "19       43\n",
       "20       39\n",
       "2        39\n",
       "Name: education_code, dtype: int64"
      ]
     },
     "execution_count": 24,
     "metadata": {},
     "output_type": "execute_result"
    }
   ],
   "source": [
    "df_cali.education_code.value_counts(dropna = False)"
   ]
  },
  {
   "cell_type": "code",
   "execution_count": 26,
   "id": "193e7ec5",
   "metadata": {},
   "outputs": [
    {
     "data": {
      "image/png": "[encoded data removed]",
      "text/plain": [
       "<Figure size 432x288 with 1 Axes>"
      ]
     },
     "metadata": {
      "needs_background": "light"
     },
     "output_type": "display_data"
    }
   ],
   "source": [
    "# Create a scatterplot using matplotlib to check how variables work together\n",
    "\n",
    "df_cali.plot(x = 'education_code', y='salary',style='o') \n",
    "plt.title('Education Level vs Salary')  \n",
    "plt.xlabel('Education Level')  \n",
    "plt.ylabel('Salary')  \n",
    "plt.show()"
   ]
  },
  {
   "cell_type": "code",
   "execution_count": 27,
   "id": "20dde3ca",
   "metadata": {},
   "outputs": [],
   "source": [
    "# Reshape the variables into NumPy arrays and put them into separate objects.\n",
    "\n",
    "X = df_cali['education_code'].values.reshape(-1,1)\n",
    "y = df_cali['salary'].values.reshape(-1,1)"
   ]
  },
  {
   "cell_type": "code",
   "execution_count": 28,
   "id": "a5db85a5",
   "metadata": {},
   "outputs": [
    {
     "data": {
      "text/plain": [
       "array([[13],\n",
       "       [17],\n",
       "       [13],\n",
       "       ...,\n",
       "       [13],\n",
       "       [ 9],\n",
       "       [17]])"
      ]
     },
     "execution_count": 28,
     "metadata": {},
     "output_type": "execute_result"
    }
   ],
   "source": [
    "X"
   ]
  },
  {
   "cell_type": "code",
   "execution_count": 29,
   "id": "272da90a",
   "metadata": {},
   "outputs": [
    {
     "data": {
      "text/plain": [
       "array([[120618.],\n",
       "       [130214.],\n",
       "       [126597.],\n",
       "       ...,\n",
       "       [ 77059.],\n",
       "       [ 62142.],\n",
       "       [183300.]])"
      ]
     },
     "execution_count": 29,
     "metadata": {},
     "output_type": "execute_result"
    }
   ],
   "source": [
    "y"
   ]
  },
  {
   "cell_type": "code",
   "execution_count": 30,
   "id": "efca7ebf",
   "metadata": {},
   "outputs": [],
   "source": [
    "# Split data into a training set and a test set.\n",
    "\n",
    "X_train, X_test, y_train, y_test = train_test_split(X, y, test_size=0.3, random_state=0)"
   ]
  },
  {
   "cell_type": "markdown",
   "id": "b3ddbc6e",
   "metadata": {},
   "source": [
    "### 5. Regression analysis"
   ]
  },
  {
   "cell_type": "code",
   "execution_count": 31,
   "id": "269e49d0",
   "metadata": {},
   "outputs": [],
   "source": [
    "# Create a regression object.\n",
    "\n",
    "regression = LinearRegression()"
   ]
  },
  {
   "cell_type": "code",
   "execution_count": 32,
   "id": "ded165d3",
   "metadata": {},
   "outputs": [
    {
     "data": {
      "text/plain": [
       "LinearRegression()"
      ]
     },
     "execution_count": 32,
     "metadata": {},
     "output_type": "execute_result"
    }
   ],
   "source": [
    "# Fit the regression object onto the training set.\n",
    "\n",
    "regression.fit(X_train, y_train)"
   ]
  },
  {
   "cell_type": "code",
   "execution_count": 33,
   "id": "6f766ce0",
   "metadata": {},
   "outputs": [],
   "source": [
    "# Predict the values of y using X.\n",
    "\n",
    "y_predicted = regression.predict(X_test)"
   ]
  },
  {
   "cell_type": "code",
   "execution_count": 34,
   "id": "5aabf42a",
   "metadata": {},
   "outputs": [
    {
     "data": {
      "image/png": "[encoded data removed]",
      "text/plain": [
       "<Figure size 432x288 with 1 Axes>"
      ]
     },
     "metadata": {
      "needs_background": "light"
     },
     "output_type": "display_data"
    }
   ],
   "source": [
    "# Create a plot that shows the regression line from the model on the test set.\n",
    "\n",
    "plot_test = plt\n",
    "plot_test.scatter(X_test, y_test, color='gray', s = 15)\n",
    "plot_test.plot(X_test, y_predicted, color='red', linewidth =3)\n",
    "plot_test.title('Education Level and Salary (Test set)')\n",
    "plot_test.xlabel('Education Level')\n",
    "plot_test.ylabel('Salary')\n",
    "plot_test.show()"
   ]
  },
  {
   "cell_type": "markdown",
   "id": "e129f061",
   "metadata": {},
   "source": [
    "### The line shows a positive impact that education level has on salary.  As the line has a low slope it is not a high correlation.  Also as you can the high amount of dots that are not close to the line, that implies the correlation is not strong as we would have expected it to be."
   ]
  },
  {
   "cell_type": "markdown",
   "id": "adadcd25",
   "metadata": {},
   "source": [
    "### 6. Check Model Performance with statistics"
   ]
  },
  {
   "cell_type": "code",
   "execution_count": 35,
   "id": "55d07603",
   "metadata": {},
   "outputs": [],
   "source": [
    "# Create objects that contain the model summary statistics.\n",
    "\n",
    "rmse = mean_squared_error(y_test, y_predicted) \n",
    "r2 = r2_score(y_test, y_predicted) "
   ]
  },
  {
   "cell_type": "code",
   "execution_count": 36,
   "id": "b2ca5a9b",
   "metadata": {},
   "outputs": [
    {
     "name": "stdout",
     "output_type": "stream",
     "text": [
      "Slope: [[4215.73433075]]\n",
      "Mean squared error:  1823678501.9162877\n",
      "R2 score:  0.217635785104919\n"
     ]
    }
   ],
   "source": [
    "# Print the model summary statistics.\n",
    "\n",
    "print('Slope:' ,regression.coef_)\n",
    "print('Mean squared error: ', rmse)\n",
    "print('R2 score: ', r2)"
   ]
  },
  {
   "cell_type": "code",
   "execution_count": 37,
   "id": "a82827b2",
   "metadata": {},
   "outputs": [
    {
     "data": {
      "text/plain": [
       "array([[ 91921.2699738 ],\n",
       "       [108784.2072968 ],\n",
       "       [108784.2072968 ],\n",
       "       ...,\n",
       "       [ 91921.2699738 ],\n",
       "       [ 70842.59832005],\n",
       "       [108784.2072968 ]])"
      ]
     },
     "execution_count": 37,
     "metadata": {},
     "output_type": "execute_result"
    }
   ],
   "source": [
    "y_predicted"
   ]
  },
  {
   "cell_type": "code",
   "execution_count": 38,
   "id": "5d1fe7ab",
   "metadata": {},
   "outputs": [
    {
     "data": {
      "text/html": [
       "<div>\n",
       "<style scoped>\n",
       "    .dataframe tbody tr th:only-of-type {\n",
       "        vertical-align: middle;\n",
       "    }\n",
       "\n",
       "    .dataframe tbody tr th {\n",
       "        vertical-align: top;\n",
       "    }\n",
       "\n",
       "    .dataframe thead th {\n",
       "        text-align: right;\n",
       "    }\n",
       "</style>\n",
       "<table border=\"1\" class=\"dataframe\">\n",
       "  <thead>\n",
       "    <tr style=\"text-align: right;\">\n",
       "      <th></th>\n",
       "      <th>Actual</th>\n",
       "      <th>Predicted</th>\n",
       "    </tr>\n",
       "  </thead>\n",
       "  <tbody>\n",
       "    <tr>\n",
       "      <th>0</th>\n",
       "      <td>94891.0</td>\n",
       "      <td>91921.269974</td>\n",
       "    </tr>\n",
       "    <tr>\n",
       "      <th>1</th>\n",
       "      <td>116202.0</td>\n",
       "      <td>108784.207297</td>\n",
       "    </tr>\n",
       "    <tr>\n",
       "      <th>2</th>\n",
       "      <td>84572.0</td>\n",
       "      <td>108784.207297</td>\n",
       "    </tr>\n",
       "    <tr>\n",
       "      <th>3</th>\n",
       "      <td>61564.0</td>\n",
       "      <td>70842.598320</td>\n",
       "    </tr>\n",
       "    <tr>\n",
       "      <th>4</th>\n",
       "      <td>76135.0</td>\n",
       "      <td>58195.395328</td>\n",
       "    </tr>\n",
       "    <tr>\n",
       "      <th>5</th>\n",
       "      <td>146839.0</td>\n",
       "      <td>108784.207297</td>\n",
       "    </tr>\n",
       "    <tr>\n",
       "      <th>6</th>\n",
       "      <td>152550.0</td>\n",
       "      <td>142510.081943</td>\n",
       "    </tr>\n",
       "    <tr>\n",
       "      <th>7</th>\n",
       "      <td>70039.0</td>\n",
       "      <td>96137.004305</td>\n",
       "    </tr>\n",
       "    <tr>\n",
       "      <th>8</th>\n",
       "      <td>61992.0</td>\n",
       "      <td>83489.801312</td>\n",
       "    </tr>\n",
       "    <tr>\n",
       "      <th>9</th>\n",
       "      <td>109508.0</td>\n",
       "      <td>108784.207297</td>\n",
       "    </tr>\n",
       "    <tr>\n",
       "      <th>10</th>\n",
       "      <td>107809.0</td>\n",
       "      <td>108784.207297</td>\n",
       "    </tr>\n",
       "    <tr>\n",
       "      <th>11</th>\n",
       "      <td>110242.0</td>\n",
       "      <td>83489.801312</td>\n",
       "    </tr>\n",
       "    <tr>\n",
       "      <th>12</th>\n",
       "      <td>76744.0</td>\n",
       "      <td>91921.269974</td>\n",
       "    </tr>\n",
       "    <tr>\n",
       "      <th>13</th>\n",
       "      <td>271341.0</td>\n",
       "      <td>117215.675958</td>\n",
       "    </tr>\n",
       "    <tr>\n",
       "      <th>14</th>\n",
       "      <td>97339.0</td>\n",
       "      <td>70842.598320</td>\n",
       "    </tr>\n",
       "    <tr>\n",
       "      <th>15</th>\n",
       "      <td>58907.0</td>\n",
       "      <td>87705.535643</td>\n",
       "    </tr>\n",
       "    <tr>\n",
       "      <th>16</th>\n",
       "      <td>127510.0</td>\n",
       "      <td>87705.535643</td>\n",
       "    </tr>\n",
       "    <tr>\n",
       "      <th>17</th>\n",
       "      <td>149857.0</td>\n",
       "      <td>96137.004305</td>\n",
       "    </tr>\n",
       "    <tr>\n",
       "      <th>18</th>\n",
       "      <td>95343.0</td>\n",
       "      <td>108784.207297</td>\n",
       "    </tr>\n",
       "    <tr>\n",
       "      <th>19</th>\n",
       "      <td>75778.0</td>\n",
       "      <td>79274.066982</td>\n",
       "    </tr>\n",
       "    <tr>\n",
       "      <th>20</th>\n",
       "      <td>97490.0</td>\n",
       "      <td>108784.207297</td>\n",
       "    </tr>\n",
       "    <tr>\n",
       "      <th>21</th>\n",
       "      <td>52070.0</td>\n",
       "      <td>70842.598320</td>\n",
       "    </tr>\n",
       "    <tr>\n",
       "      <th>22</th>\n",
       "      <td>81209.0</td>\n",
       "      <td>125647.144620</td>\n",
       "    </tr>\n",
       "    <tr>\n",
       "      <th>23</th>\n",
       "      <td>176300.0</td>\n",
       "      <td>125647.144620</td>\n",
       "    </tr>\n",
       "    <tr>\n",
       "      <th>24</th>\n",
       "      <td>158242.0</td>\n",
       "      <td>108784.207297</td>\n",
       "    </tr>\n",
       "    <tr>\n",
       "      <th>25</th>\n",
       "      <td>92154.0</td>\n",
       "      <td>117215.675958</td>\n",
       "    </tr>\n",
       "    <tr>\n",
       "      <th>26</th>\n",
       "      <td>101247.0</td>\n",
       "      <td>125647.144620</td>\n",
       "    </tr>\n",
       "    <tr>\n",
       "      <th>27</th>\n",
       "      <td>176300.0</td>\n",
       "      <td>117215.675958</td>\n",
       "    </tr>\n",
       "    <tr>\n",
       "      <th>28</th>\n",
       "      <td>113643.0</td>\n",
       "      <td>108784.207297</td>\n",
       "    </tr>\n",
       "    <tr>\n",
       "      <th>29</th>\n",
       "      <td>101303.0</td>\n",
       "      <td>108784.207297</td>\n",
       "    </tr>\n",
       "  </tbody>\n",
       "</table>\n",
       "</div>"
      ],
      "text/plain": [
       "      Actual      Predicted\n",
       "0    94891.0   91921.269974\n",
       "1   116202.0  108784.207297\n",
       "2    84572.0  108784.207297\n",
       "3    61564.0   70842.598320\n",
       "4    76135.0   58195.395328\n",
       "5   146839.0  108784.207297\n",
       "6   152550.0  142510.081943\n",
       "7    70039.0   96137.004305\n",
       "8    61992.0   83489.801312\n",
       "9   109508.0  108784.207297\n",
       "10  107809.0  108784.207297\n",
       "11  110242.0   83489.801312\n",
       "12   76744.0   91921.269974\n",
       "13  271341.0  117215.675958\n",
       "14   97339.0   70842.598320\n",
       "15   58907.0   87705.535643\n",
       "16  127510.0   87705.535643\n",
       "17  149857.0   96137.004305\n",
       "18   95343.0  108784.207297\n",
       "19   75778.0   79274.066982\n",
       "20   97490.0  108784.207297\n",
       "21   52070.0   70842.598320\n",
       "22   81209.0  125647.144620\n",
       "23  176300.0  125647.144620\n",
       "24  158242.0  108784.207297\n",
       "25   92154.0  117215.675958\n",
       "26  101247.0  125647.144620\n",
       "27  176300.0  117215.675958\n",
       "28  113643.0  108784.207297\n",
       "29  101303.0  108784.207297"
      ]
     },
     "execution_count": 38,
     "metadata": {},
     "output_type": "execute_result"
    }
   ],
   "source": [
    "# Create a dataframe comparing the actual and predicted values of y.\n",
    "\n",
    "compare = pd.DataFrame({'Actual': y_test.flatten(), 'Predicted': y_predicted.flatten()})\n",
    "compare.head(30)"
   ]
  },
  {
   "cell_type": "markdown",
   "id": "33baee94",
   "metadata": {},
   "source": [
    "## 7. Conclusion"
   ]
  },
  {
   "cell_type": "markdown",
   "id": "7274ade1",
   "metadata": {},
   "source": [
    "### Follow up with the statistics show the MSE as very large indicating many plots that are far from our trend line. the R2 score is .217 We would hope to see a value closer to 1 to indicate a good fit.\n",
    "\n",
    "### This shows that education code (the level of your education) does not directly correlate with your salary."
   ]
  },
  {
   "cell_type": "code",
   "execution_count": null,
   "id": "bbc01140",
   "metadata": {},
   "outputs": [],
   "source": []
  }
 ],
 "metadata": {
  "kernelspec": {
   "display_name": "Python 3 (ipykernel)",
   "language": "python",
   "name": "python3"
  },
  "language_info": {
   "codemirror_mode": {
    "name": "ipython",
    "version": 3
   },
   "file_extension": ".py",
   "mimetype": "text/x-python",
   "name": "python",
   "nbconvert_exporter": "python",
   "pygments_lexer": "ipython3",
   "version": "3.9.12"
  }
 },
 "nbformat": 4,
 "nbformat_minor": 5
}
