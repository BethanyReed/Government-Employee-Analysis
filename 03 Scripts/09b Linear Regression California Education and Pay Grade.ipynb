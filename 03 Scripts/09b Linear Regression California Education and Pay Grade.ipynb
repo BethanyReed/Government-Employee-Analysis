{
 "cells": [
  {
   "cell_type": "markdown",
   "id": "913c1a36",
   "metadata": {},
   "source": [
    "# Linear Regression California Education Level and Pay Grade"
   ]
  },
  {
   "cell_type": "markdown",
   "id": "096b53ba",
   "metadata": {},
   "source": [
    "## 1. Import Libraries and Data \n",
    "## 2. Data Cleaning\n",
    "## 3. Check for Extreme Values\n",
    "## 4. Data Prep for Regression Analysis\n",
    "## 5. Regression analysis\n",
    "## 6. Check Model Performance with statistics\n",
    "## 7. Conclusion"
   ]
  },
  {
   "cell_type": "markdown",
   "id": "a12ed23d",
   "metadata": {},
   "source": [
    "### 1. Import Libraries and Data"
   ]
  },
  {
   "cell_type": "code",
   "execution_count": 1,
   "id": "d2149fe2",
   "metadata": {},
   "outputs": [],
   "source": [
    "import pandas as pd\n",
    "import numpy as np\n",
    "import seaborn as sns\n",
    "import matplotlib\n",
    "import matplotlib.pyplot as plt\n",
    "import os\n",
    "import sklearn\n",
    "from sklearn.model_selection import train_test_split \n",
    "from sklearn.linear_model import LinearRegression\n",
    "from sklearn.metrics import mean_squared_error, r2_score"
   ]
  },
  {
   "cell_type": "code",
   "execution_count": 2,
   "id": "cc37f72c",
   "metadata": {},
   "outputs": [],
   "source": [
    "# Allow graphs created to be displayed within the notebook without the need to \"call\" them specifically.\n",
    "\n",
    "%matplotlib inline"
   ]
  },
  {
   "cell_type": "code",
   "execution_count": 3,
   "id": "2999df44",
   "metadata": {},
   "outputs": [],
   "source": [
    "path = r'/Users/bethanybreed/Documents/A Career Foundry/Gov Employ Data/02 Data'"
   ]
  },
  {
   "cell_type": "code",
   "execution_count": 4,
   "id": "61aaf683",
   "metadata": {},
   "outputs": [],
   "source": [
    "# Import Data\n",
    "\n",
    "df = pd.read_pickle(os.path.join(path,'prepared data','March 2022 clean-a.pkl'))"
   ]
  },
  {
   "cell_type": "code",
   "execution_count": 5,
   "id": "163d3d73",
   "metadata": {},
   "outputs": [
    {
     "data": {
      "text/plain": [
       "(2152679, 25)"
      ]
     },
     "execution_count": 5,
     "metadata": {},
     "output_type": "execute_result"
    }
   ],
   "source": [
    "df.shape"
   ]
  },
  {
   "cell_type": "code",
   "execution_count": 6,
   "id": "dfecbf09",
   "metadata": {},
   "outputs": [
    {
     "data": {
      "text/html": [
       "<div>\n",
       "<style scoped>\n",
       "    .dataframe tbody tr th:only-of-type {\n",
       "        vertical-align: middle;\n",
       "    }\n",
       "\n",
       "    .dataframe tbody tr th {\n",
       "        vertical-align: top;\n",
       "    }\n",
       "\n",
       "    .dataframe thead th {\n",
       "        text-align: right;\n",
       "    }\n",
       "</style>\n",
       "<table border=\"1\" class=\"dataframe\">\n",
       "  <thead>\n",
       "    <tr style=\"text-align: right;\">\n",
       "      <th></th>\n",
       "      <th>sub_agency</th>\n",
       "      <th>country</th>\n",
       "      <th>age_level</th>\n",
       "      <th>education_level</th>\n",
       "      <th>pay_grade</th>\n",
       "      <th>years_grouping</th>\n",
       "      <th>occupation</th>\n",
       "      <th>occupation_category</th>\n",
       "      <th>pay_plan</th>\n",
       "      <th>stem</th>\n",
       "      <th>...</th>\n",
       "      <th>years_of_service</th>\n",
       "      <th>age_level_code</th>\n",
       "      <th>occupation_family</th>\n",
       "      <th>occupation_code</th>\n",
       "      <th>agency</th>\n",
       "      <th>education_code</th>\n",
       "      <th>work_status_code</th>\n",
       "      <th>full_time_code</th>\n",
       "      <th>supervisor_code</th>\n",
       "      <th>state</th>\n",
       "    </tr>\n",
       "  </thead>\n",
       "  <tbody>\n",
       "    <tr>\n",
       "      <th>0</th>\n",
       "      <td>ADMINISTRATIVE CONFERENCE OF THE UNITED STATES</td>\n",
       "      <td>United States</td>\n",
       "      <td>40-44</td>\n",
       "      <td>BACHELORS</td>\n",
       "      <td>NaN</td>\n",
       "      <td>15 - 19</td>\n",
       "      <td>PROGRAM MANAGEMENT</td>\n",
       "      <td>Administrative</td>\n",
       "      <td>ES-SENIOR EXECUTIVE SERVICE</td>\n",
       "      <td>0</td>\n",
       "      <td>...</td>\n",
       "      <td>18.8</td>\n",
       "      <td>6.0</td>\n",
       "      <td>GENERAL ADMIN, CLERICAL, &amp; OFFICE SVCS</td>\n",
       "      <td>2.0</td>\n",
       "      <td>ADMINISTRATIVE CONFERENCE OF THE UNITED STATES</td>\n",
       "      <td>13</td>\n",
       "      <td>1</td>\n",
       "      <td>1</td>\n",
       "      <td>2</td>\n",
       "      <td>DISTRICT OF COLUMBIA</td>\n",
       "    </tr>\n",
       "    <tr>\n",
       "      <th>1</th>\n",
       "      <td>ADMINISTRATIVE CONFERENCE OF THE UNITED STATES</td>\n",
       "      <td>United States</td>\n",
       "      <td>55-59</td>\n",
       "      <td>POST-BACHELORS</td>\n",
       "      <td>NaN</td>\n",
       "      <td>25 - 29</td>\n",
       "      <td>GENERAL ATTORNEY</td>\n",
       "      <td>Professional</td>\n",
       "      <td>ES-SENIOR EXECUTIVE SERVICE</td>\n",
       "      <td>0</td>\n",
       "      <td>...</td>\n",
       "      <td>29.2</td>\n",
       "      <td>9.0</td>\n",
       "      <td>LEGAL AND KINDRED</td>\n",
       "      <td>1.0</td>\n",
       "      <td>ADMINISTRATIVE CONFERENCE OF THE UNITED STATES</td>\n",
       "      <td>15</td>\n",
       "      <td>1</td>\n",
       "      <td>1</td>\n",
       "      <td>2</td>\n",
       "      <td>DISTRICT OF COLUMBIA</td>\n",
       "    </tr>\n",
       "    <tr>\n",
       "      <th>2</th>\n",
       "      <td>ADMINISTRATIVE CONFERENCE OF THE UNITED STATES</td>\n",
       "      <td>United States</td>\n",
       "      <td>35-39</td>\n",
       "      <td>POST-BACHELORS</td>\n",
       "      <td>15.0</td>\n",
       "      <td>10 - 14</td>\n",
       "      <td>GENERAL ATTORNEY</td>\n",
       "      <td>Professional</td>\n",
       "      <td>GS-GENERAL SCHEDULE</td>\n",
       "      <td>0</td>\n",
       "      <td>...</td>\n",
       "      <td>12.5</td>\n",
       "      <td>5.0</td>\n",
       "      <td>LEGAL AND KINDRED</td>\n",
       "      <td>1.0</td>\n",
       "      <td>ADMINISTRATIVE CONFERENCE OF THE UNITED STATES</td>\n",
       "      <td>15</td>\n",
       "      <td>1</td>\n",
       "      <td>1</td>\n",
       "      <td>2</td>\n",
       "      <td>OKLAHOMA</td>\n",
       "    </tr>\n",
       "    <tr>\n",
       "      <th>3</th>\n",
       "      <td>ADMINISTRATIVE CONFERENCE OF THE UNITED STATES</td>\n",
       "      <td>United States</td>\n",
       "      <td>35-39</td>\n",
       "      <td>POST-BACHELORS</td>\n",
       "      <td>15.0</td>\n",
       "      <td>10 - 14</td>\n",
       "      <td>GENERAL ATTORNEY</td>\n",
       "      <td>Professional</td>\n",
       "      <td>GS-GENERAL SCHEDULE</td>\n",
       "      <td>0</td>\n",
       "      <td>...</td>\n",
       "      <td>10.5</td>\n",
       "      <td>5.0</td>\n",
       "      <td>LEGAL AND KINDRED</td>\n",
       "      <td>1.0</td>\n",
       "      <td>ADMINISTRATIVE CONFERENCE OF THE UNITED STATES</td>\n",
       "      <td>15</td>\n",
       "      <td>1</td>\n",
       "      <td>1</td>\n",
       "      <td>8</td>\n",
       "      <td>DISTRICT OF COLUMBIA</td>\n",
       "    </tr>\n",
       "    <tr>\n",
       "      <th>4</th>\n",
       "      <td>ADMINISTRATIVE CONFERENCE OF THE UNITED STATES</td>\n",
       "      <td>United States</td>\n",
       "      <td>40-44</td>\n",
       "      <td>POST-BACHELORS</td>\n",
       "      <td>13.0</td>\n",
       "      <td>10 - 14</td>\n",
       "      <td>GENERAL ATTORNEY</td>\n",
       "      <td>Professional</td>\n",
       "      <td>GS-GENERAL SCHEDULE</td>\n",
       "      <td>0</td>\n",
       "      <td>...</td>\n",
       "      <td>13.4</td>\n",
       "      <td>6.0</td>\n",
       "      <td>LEGAL AND KINDRED</td>\n",
       "      <td>1.0</td>\n",
       "      <td>ADMINISTRATIVE CONFERENCE OF THE UNITED STATES</td>\n",
       "      <td>15</td>\n",
       "      <td>1</td>\n",
       "      <td>1</td>\n",
       "      <td>8</td>\n",
       "      <td>DISTRICT OF COLUMBIA</td>\n",
       "    </tr>\n",
       "  </tbody>\n",
       "</table>\n",
       "<p>5 rows × 25 columns</p>\n",
       "</div>"
      ],
      "text/plain": [
       "                                       sub_agency        country age_level  \\\n",
       "0  ADMINISTRATIVE CONFERENCE OF THE UNITED STATES  United States     40-44   \n",
       "1  ADMINISTRATIVE CONFERENCE OF THE UNITED STATES  United States     55-59   \n",
       "2  ADMINISTRATIVE CONFERENCE OF THE UNITED STATES  United States     35-39   \n",
       "3  ADMINISTRATIVE CONFERENCE OF THE UNITED STATES  United States     35-39   \n",
       "4  ADMINISTRATIVE CONFERENCE OF THE UNITED STATES  United States     40-44   \n",
       "\n",
       "  education_level  pay_grade years_grouping          occupation  \\\n",
       "0       BACHELORS        NaN        15 - 19  PROGRAM MANAGEMENT   \n",
       "1  POST-BACHELORS        NaN        25 - 29    GENERAL ATTORNEY   \n",
       "2  POST-BACHELORS       15.0        10 - 14    GENERAL ATTORNEY   \n",
       "3  POST-BACHELORS       15.0        10 - 14    GENERAL ATTORNEY   \n",
       "4  POST-BACHELORS       13.0        10 - 14    GENERAL ATTORNEY   \n",
       "\n",
       "  occupation_category                     pay_plan  stem  ...  \\\n",
       "0      Administrative  ES-SENIOR EXECUTIVE SERVICE     0  ...   \n",
       "1        Professional  ES-SENIOR EXECUTIVE SERVICE     0  ...   \n",
       "2        Professional          GS-GENERAL SCHEDULE     0  ...   \n",
       "3        Professional          GS-GENERAL SCHEDULE     0  ...   \n",
       "4        Professional          GS-GENERAL SCHEDULE     0  ...   \n",
       "\n",
       "  years_of_service age_level_code                       occupation_family  \\\n",
       "0             18.8            6.0  GENERAL ADMIN, CLERICAL, & OFFICE SVCS   \n",
       "1             29.2            9.0                       LEGAL AND KINDRED   \n",
       "2             12.5            5.0                       LEGAL AND KINDRED   \n",
       "3             10.5            5.0                       LEGAL AND KINDRED   \n",
       "4             13.4            6.0                       LEGAL AND KINDRED   \n",
       "\n",
       "  occupation_code                                          agency  \\\n",
       "0             2.0  ADMINISTRATIVE CONFERENCE OF THE UNITED STATES   \n",
       "1             1.0  ADMINISTRATIVE CONFERENCE OF THE UNITED STATES   \n",
       "2             1.0  ADMINISTRATIVE CONFERENCE OF THE UNITED STATES   \n",
       "3             1.0  ADMINISTRATIVE CONFERENCE OF THE UNITED STATES   \n",
       "4             1.0  ADMINISTRATIVE CONFERENCE OF THE UNITED STATES   \n",
       "\n",
       "   education_code  work_status_code full_time_code  supervisor_code  \\\n",
       "0              13                 1              1                2   \n",
       "1              15                 1              1                2   \n",
       "2              15                 1              1                2   \n",
       "3              15                 1              1                8   \n",
       "4              15                 1              1                8   \n",
       "\n",
       "                  state  \n",
       "0  DISTRICT OF COLUMBIA  \n",
       "1  DISTRICT OF COLUMBIA  \n",
       "2              OKLAHOMA  \n",
       "3  DISTRICT OF COLUMBIA  \n",
       "4  DISTRICT OF COLUMBIA  \n",
       "\n",
       "[5 rows x 25 columns]"
      ]
     },
     "execution_count": 6,
     "metadata": {},
     "output_type": "execute_result"
    }
   ],
   "source": [
    "df.head()"
   ]
  },
  {
   "cell_type": "markdown",
   "id": "1cfd2ab5",
   "metadata": {},
   "source": [
    "### 2. Data Cleaning"
   ]
  },
  {
   "cell_type": "code",
   "execution_count": 7,
   "id": "1db1c47f",
   "metadata": {},
   "outputs": [],
   "source": [
    "#subset into California as it is the state with 2nd highest amount of workers (District of Columbia being 1)"
   ]
  },
  {
   "cell_type": "code",
   "execution_count": 8,
   "id": "246c95d9",
   "metadata": {},
   "outputs": [],
   "source": [
    "df_cali =  df[df['state']=='CALIFORNIA']"
   ]
  },
  {
   "cell_type": "code",
   "execution_count": 9,
   "id": "975da6ce",
   "metadata": {},
   "outputs": [
    {
     "data": {
      "text/html": [
       "<div>\n",
       "<style scoped>\n",
       "    .dataframe tbody tr th:only-of-type {\n",
       "        vertical-align: middle;\n",
       "    }\n",
       "\n",
       "    .dataframe tbody tr th {\n",
       "        vertical-align: top;\n",
       "    }\n",
       "\n",
       "    .dataframe thead th {\n",
       "        text-align: right;\n",
       "    }\n",
       "</style>\n",
       "<table border=\"1\" class=\"dataframe\">\n",
       "  <thead>\n",
       "    <tr style=\"text-align: right;\">\n",
       "      <th></th>\n",
       "      <th>sub_agency</th>\n",
       "      <th>country</th>\n",
       "      <th>age_level</th>\n",
       "      <th>education_level</th>\n",
       "      <th>pay_grade</th>\n",
       "      <th>years_grouping</th>\n",
       "      <th>occupation</th>\n",
       "      <th>occupation_category</th>\n",
       "      <th>pay_plan</th>\n",
       "      <th>stem</th>\n",
       "      <th>...</th>\n",
       "      <th>years_of_service</th>\n",
       "      <th>age_level_code</th>\n",
       "      <th>occupation_family</th>\n",
       "      <th>occupation_code</th>\n",
       "      <th>agency</th>\n",
       "      <th>education_code</th>\n",
       "      <th>work_status_code</th>\n",
       "      <th>full_time_code</th>\n",
       "      <th>supervisor_code</th>\n",
       "      <th>state</th>\n",
       "    </tr>\n",
       "  </thead>\n",
       "  <tbody>\n",
       "    <tr>\n",
       "      <th>21</th>\n",
       "      <td>AMERICAN BATTLE MONUMENTS COMMISSION</td>\n",
       "      <td>United States</td>\n",
       "      <td>40-44</td>\n",
       "      <td>BACHELORS</td>\n",
       "      <td>13.0</td>\n",
       "      <td>10 - 14</td>\n",
       "      <td>HUMAN RESOURCES MANAGEMENT</td>\n",
       "      <td>Administrative</td>\n",
       "      <td>GS-GENERAL SCHEDULE</td>\n",
       "      <td>0</td>\n",
       "      <td>...</td>\n",
       "      <td>14.6</td>\n",
       "      <td>6.0</td>\n",
       "      <td>PERSONNEL MGMT &amp; INDUSTRIAL  RELATIONS</td>\n",
       "      <td>2.0</td>\n",
       "      <td>AMERICAN BATTLE MONUMENTS COMMISSION</td>\n",
       "      <td>13</td>\n",
       "      <td>1</td>\n",
       "      <td>1</td>\n",
       "      <td>8</td>\n",
       "      <td>CALIFORNIA</td>\n",
       "    </tr>\n",
       "    <tr>\n",
       "      <th>122</th>\n",
       "      <td>AIR FORCE OPERATIONAL TEST AND EVALUATION CENTER</td>\n",
       "      <td>United States</td>\n",
       "      <td>60-64</td>\n",
       "      <td>MASTERS</td>\n",
       "      <td>13.0</td>\n",
       "      <td>10 - 14</td>\n",
       "      <td>MISCELLANEOUS ADMINISTRATION AND PROGRAM</td>\n",
       "      <td>Administrative</td>\n",
       "      <td>GS-GENERAL SCHEDULE</td>\n",
       "      <td>0</td>\n",
       "      <td>...</td>\n",
       "      <td>10.0</td>\n",
       "      <td>10.0</td>\n",
       "      <td>GENERAL ADMIN, CLERICAL, &amp; OFFICE SVCS</td>\n",
       "      <td>2.0</td>\n",
       "      <td>DEPARTMENT OF THE AIR FORCE</td>\n",
       "      <td>17</td>\n",
       "      <td>1</td>\n",
       "      <td>1</td>\n",
       "      <td>8</td>\n",
       "      <td>CALIFORNIA</td>\n",
       "    </tr>\n",
       "    <tr>\n",
       "      <th>123</th>\n",
       "      <td>AIR FORCE OPERATIONAL TEST AND EVALUATION CENTER</td>\n",
       "      <td>United States</td>\n",
       "      <td>40-44</td>\n",
       "      <td>BACHELORS</td>\n",
       "      <td>13.0</td>\n",
       "      <td>5 - 9</td>\n",
       "      <td>MISCELLANEOUS ADMINISTRATION AND PROGRAM</td>\n",
       "      <td>Administrative</td>\n",
       "      <td>GS-GENERAL SCHEDULE</td>\n",
       "      <td>0</td>\n",
       "      <td>...</td>\n",
       "      <td>8.3</td>\n",
       "      <td>6.0</td>\n",
       "      <td>GENERAL ADMIN, CLERICAL, &amp; OFFICE SVCS</td>\n",
       "      <td>2.0</td>\n",
       "      <td>DEPARTMENT OF THE AIR FORCE</td>\n",
       "      <td>13</td>\n",
       "      <td>1</td>\n",
       "      <td>1</td>\n",
       "      <td>8</td>\n",
       "      <td>CALIFORNIA</td>\n",
       "    </tr>\n",
       "    <tr>\n",
       "      <th>129</th>\n",
       "      <td>AIR FORCE OPERATIONAL TEST AND EVALUATION CENTER</td>\n",
       "      <td>United States</td>\n",
       "      <td>65 or more</td>\n",
       "      <td>BETWEEN HS &amp; BACHELORS</td>\n",
       "      <td>9.0</td>\n",
       "      <td>35 or more</td>\n",
       "      <td>TECHNICAL WRITING AND EDITING</td>\n",
       "      <td>Administrative</td>\n",
       "      <td>GS-GENERAL SCHEDULE</td>\n",
       "      <td>0</td>\n",
       "      <td>...</td>\n",
       "      <td>37.7</td>\n",
       "      <td>11.0</td>\n",
       "      <td>INFORMATION AND ARTS</td>\n",
       "      <td>2.0</td>\n",
       "      <td>DEPARTMENT OF THE AIR FORCE</td>\n",
       "      <td>10</td>\n",
       "      <td>1</td>\n",
       "      <td>1</td>\n",
       "      <td>8</td>\n",
       "      <td>CALIFORNIA</td>\n",
       "    </tr>\n",
       "    <tr>\n",
       "      <th>147</th>\n",
       "      <td>AIR FORCE OPERATIONAL TEST AND EVALUATION CENTER</td>\n",
       "      <td>United States</td>\n",
       "      <td>55-59</td>\n",
       "      <td>MASTERS</td>\n",
       "      <td>13.0</td>\n",
       "      <td>20 - 24</td>\n",
       "      <td>OPERATIONS RESEARCH</td>\n",
       "      <td>Professional</td>\n",
       "      <td>GS-GENERAL SCHEDULE</td>\n",
       "      <td>1</td>\n",
       "      <td>...</td>\n",
       "      <td>22.2</td>\n",
       "      <td>9.0</td>\n",
       "      <td>MATHEMATICS AND STATISTICS</td>\n",
       "      <td>1.0</td>\n",
       "      <td>DEPARTMENT OF THE AIR FORCE</td>\n",
       "      <td>17</td>\n",
       "      <td>1</td>\n",
       "      <td>1</td>\n",
       "      <td>8</td>\n",
       "      <td>CALIFORNIA</td>\n",
       "    </tr>\n",
       "  </tbody>\n",
       "</table>\n",
       "<p>5 rows × 25 columns</p>\n",
       "</div>"
      ],
      "text/plain": [
       "                                           sub_agency        country  \\\n",
       "21               AMERICAN BATTLE MONUMENTS COMMISSION  United States   \n",
       "122  AIR FORCE OPERATIONAL TEST AND EVALUATION CENTER  United States   \n",
       "123  AIR FORCE OPERATIONAL TEST AND EVALUATION CENTER  United States   \n",
       "129  AIR FORCE OPERATIONAL TEST AND EVALUATION CENTER  United States   \n",
       "147  AIR FORCE OPERATIONAL TEST AND EVALUATION CENTER  United States   \n",
       "\n",
       "      age_level         education_level  pay_grade years_grouping  \\\n",
       "21        40-44               BACHELORS       13.0        10 - 14   \n",
       "122       60-64                 MASTERS       13.0        10 - 14   \n",
       "123       40-44               BACHELORS       13.0          5 - 9   \n",
       "129  65 or more  BETWEEN HS & BACHELORS        9.0     35 or more   \n",
       "147       55-59                 MASTERS       13.0        20 - 24   \n",
       "\n",
       "                                   occupation occupation_category  \\\n",
       "21                 HUMAN RESOURCES MANAGEMENT      Administrative   \n",
       "122  MISCELLANEOUS ADMINISTRATION AND PROGRAM      Administrative   \n",
       "123  MISCELLANEOUS ADMINISTRATION AND PROGRAM      Administrative   \n",
       "129             TECHNICAL WRITING AND EDITING      Administrative   \n",
       "147                       OPERATIONS RESEARCH        Professional   \n",
       "\n",
       "                pay_plan  stem  ... years_of_service age_level_code  \\\n",
       "21   GS-GENERAL SCHEDULE     0  ...             14.6            6.0   \n",
       "122  GS-GENERAL SCHEDULE     0  ...             10.0           10.0   \n",
       "123  GS-GENERAL SCHEDULE     0  ...              8.3            6.0   \n",
       "129  GS-GENERAL SCHEDULE     0  ...             37.7           11.0   \n",
       "147  GS-GENERAL SCHEDULE     1  ...             22.2            9.0   \n",
       "\n",
       "                          occupation_family occupation_code  \\\n",
       "21   PERSONNEL MGMT & INDUSTRIAL  RELATIONS             2.0   \n",
       "122  GENERAL ADMIN, CLERICAL, & OFFICE SVCS             2.0   \n",
       "123  GENERAL ADMIN, CLERICAL, & OFFICE SVCS             2.0   \n",
       "129                    INFORMATION AND ARTS             2.0   \n",
       "147              MATHEMATICS AND STATISTICS             1.0   \n",
       "\n",
       "                                   agency  education_code  work_status_code  \\\n",
       "21   AMERICAN BATTLE MONUMENTS COMMISSION              13                 1   \n",
       "122           DEPARTMENT OF THE AIR FORCE              17                 1   \n",
       "123           DEPARTMENT OF THE AIR FORCE              13                 1   \n",
       "129           DEPARTMENT OF THE AIR FORCE              10                 1   \n",
       "147           DEPARTMENT OF THE AIR FORCE              17                 1   \n",
       "\n",
       "    full_time_code  supervisor_code       state  \n",
       "21               1                8  CALIFORNIA  \n",
       "122              1                8  CALIFORNIA  \n",
       "123              1                8  CALIFORNIA  \n",
       "129              1                8  CALIFORNIA  \n",
       "147              1                8  CALIFORNIA  \n",
       "\n",
       "[5 rows x 25 columns]"
      ]
     },
     "execution_count": 9,
     "metadata": {},
     "output_type": "execute_result"
    }
   ],
   "source": [
    "df_cali.head()"
   ]
  },
  {
   "cell_type": "code",
   "execution_count": 10,
   "id": "e7e189b5",
   "metadata": {},
   "outputs": [
    {
     "data": {
      "text/plain": [
       "(141103, 25)"
      ]
     },
     "execution_count": 10,
     "metadata": {},
     "output_type": "execute_result"
    }
   ],
   "source": [
    "df_cali.shape"
   ]
  },
  {
   "cell_type": "code",
   "execution_count": 11,
   "id": "b14c3293",
   "metadata": {},
   "outputs": [],
   "source": [
    "# I am looking at education code and pay grade as you would think the more education you have, the higher the pay grade and our variable relationships showed a correlation"
   ]
  },
  {
   "cell_type": "code",
   "execution_count": 12,
   "id": "faeb1c25",
   "metadata": {},
   "outputs": [
    {
     "data": {
      "text/plain": [
       "sub_agency                 0\n",
       "country                    0\n",
       "age_level                  0\n",
       "education_level            0\n",
       "pay_grade              51340\n",
       "years_grouping             0\n",
       "occupation                 0\n",
       "occupation_category        0\n",
       "pay_plan                   0\n",
       "stem                       0\n",
       "supervisor_status          0\n",
       "full_time                  0\n",
       "work_status                0\n",
       "date                       0\n",
       "salary                   624\n",
       "years_of_service           0\n",
       "age_level_code             0\n",
       "occupation_family      71108\n",
       "occupation_code            0\n",
       "agency                     0\n",
       "education_code             0\n",
       "work_status_code           0\n",
       "full_time_code             0\n",
       "supervisor_code            0\n",
       "state                      0\n",
       "dtype: int64"
      ]
     },
     "execution_count": 12,
     "metadata": {},
     "output_type": "execute_result"
    }
   ],
   "source": [
    "# Check for missing values\n",
    "\n",
    "df_cali.isnull().sum()"
   ]
  },
  {
   "cell_type": "code",
   "execution_count": 13,
   "id": "804105fc",
   "metadata": {},
   "outputs": [],
   "source": [
    "#create data frame with missing values to see examples of what is missing\n",
    "df_nan = df_cali[df_cali['pay_grade'].isnull() == True]"
   ]
  },
  {
   "cell_type": "code",
   "execution_count": 14,
   "id": "d11087f7",
   "metadata": {},
   "outputs": [
    {
     "data": {
      "text/html": [
       "<div>\n",
       "<style scoped>\n",
       "    .dataframe tbody tr th:only-of-type {\n",
       "        vertical-align: middle;\n",
       "    }\n",
       "\n",
       "    .dataframe tbody tr th {\n",
       "        vertical-align: top;\n",
       "    }\n",
       "\n",
       "    .dataframe thead th {\n",
       "        text-align: right;\n",
       "    }\n",
       "</style>\n",
       "<table border=\"1\" class=\"dataframe\">\n",
       "  <thead>\n",
       "    <tr style=\"text-align: right;\">\n",
       "      <th></th>\n",
       "      <th>sub_agency</th>\n",
       "      <th>country</th>\n",
       "      <th>age_level</th>\n",
       "      <th>education_level</th>\n",
       "      <th>pay_grade</th>\n",
       "      <th>years_grouping</th>\n",
       "      <th>occupation</th>\n",
       "      <th>occupation_category</th>\n",
       "      <th>pay_plan</th>\n",
       "      <th>stem</th>\n",
       "      <th>...</th>\n",
       "      <th>years_of_service</th>\n",
       "      <th>age_level_code</th>\n",
       "      <th>occupation_family</th>\n",
       "      <th>occupation_code</th>\n",
       "      <th>agency</th>\n",
       "      <th>education_code</th>\n",
       "      <th>work_status_code</th>\n",
       "      <th>full_time_code</th>\n",
       "      <th>supervisor_code</th>\n",
       "      <th>state</th>\n",
       "    </tr>\n",
       "  </thead>\n",
       "  <tbody>\n",
       "    <tr>\n",
       "      <th>15831</th>\n",
       "      <td>AIR EDUCATION AND TRAINING COMMAND</td>\n",
       "      <td>United States</td>\n",
       "      <td>50-54</td>\n",
       "      <td>BACHELORS</td>\n",
       "      <td>NaN</td>\n",
       "      <td>5 - 9</td>\n",
       "      <td>HEAVY MOBILE EQUIPMENT MECHANIC</td>\n",
       "      <td>Blue Collar</td>\n",
       "      <td>WS-SUPERVISORY PAY SCHEDULES - FEDERAL WAGE SY...</td>\n",
       "      <td>0</td>\n",
       "      <td>...</td>\n",
       "      <td>7.1</td>\n",
       "      <td>8.0</td>\n",
       "      <td>TRANSPORT/MOBILE EQUIPMENT MAINTENANCE</td>\n",
       "      <td>6.0</td>\n",
       "      <td>DEPARTMENT OF THE AIR FORCE</td>\n",
       "      <td>13</td>\n",
       "      <td>1</td>\n",
       "      <td>1</td>\n",
       "      <td>2</td>\n",
       "      <td>CALIFORNIA</td>\n",
       "    </tr>\n",
       "    <tr>\n",
       "      <th>22517</th>\n",
       "      <td>HEADQUARTERS, AIR FORCE RESERVE COMMAND</td>\n",
       "      <td>United States</td>\n",
       "      <td>35-39</td>\n",
       "      <td>BACHELORS</td>\n",
       "      <td>NaN</td>\n",
       "      <td>5 - 9</td>\n",
       "      <td>AIRCRAFT PNEUDRAULIC SYSTEMS MECHANIC</td>\n",
       "      <td>Blue Collar</td>\n",
       "      <td>WG-NONSUPERVISORY PAY SCHEDULES - FEDERAL WAGE...</td>\n",
       "      <td>0</td>\n",
       "      <td>...</td>\n",
       "      <td>7.2</td>\n",
       "      <td>5.0</td>\n",
       "      <td>FLUID SYSTEMS MAINTENANCE</td>\n",
       "      <td>6.0</td>\n",
       "      <td>DEPARTMENT OF THE AIR FORCE</td>\n",
       "      <td>13</td>\n",
       "      <td>1</td>\n",
       "      <td>1</td>\n",
       "      <td>8</td>\n",
       "      <td>CALIFORNIA</td>\n",
       "    </tr>\n",
       "    <tr>\n",
       "      <th>22553</th>\n",
       "      <td>HEADQUARTERS, AIR FORCE RESERVE COMMAND</td>\n",
       "      <td>United States</td>\n",
       "      <td>40-44</td>\n",
       "      <td>BACHELORS</td>\n",
       "      <td>NaN</td>\n",
       "      <td>5 - 9</td>\n",
       "      <td>AIRCRAFT MECHANIC</td>\n",
       "      <td>Blue Collar</td>\n",
       "      <td>WS-SUPERVISORY PAY SCHEDULES - FEDERAL WAGE SY...</td>\n",
       "      <td>0</td>\n",
       "      <td>...</td>\n",
       "      <td>6.2</td>\n",
       "      <td>6.0</td>\n",
       "      <td>AIRCRAFT OVERHAUL</td>\n",
       "      <td>6.0</td>\n",
       "      <td>DEPARTMENT OF THE AIR FORCE</td>\n",
       "      <td>13</td>\n",
       "      <td>1</td>\n",
       "      <td>1</td>\n",
       "      <td>2</td>\n",
       "      <td>CALIFORNIA</td>\n",
       "    </tr>\n",
       "    <tr>\n",
       "      <th>22559</th>\n",
       "      <td>HEADQUARTERS, AIR FORCE RESERVE COMMAND</td>\n",
       "      <td>United States</td>\n",
       "      <td>30-34</td>\n",
       "      <td>BACHELORS</td>\n",
       "      <td>NaN</td>\n",
       "      <td>5 - 9</td>\n",
       "      <td>AIRCRAFT PNEUDRAULIC SYSTEMS MECHANIC</td>\n",
       "      <td>Blue Collar</td>\n",
       "      <td>WG-NONSUPERVISORY PAY SCHEDULES - FEDERAL WAGE...</td>\n",
       "      <td>0</td>\n",
       "      <td>...</td>\n",
       "      <td>8.5</td>\n",
       "      <td>4.0</td>\n",
       "      <td>FLUID SYSTEMS MAINTENANCE</td>\n",
       "      <td>6.0</td>\n",
       "      <td>DEPARTMENT OF THE AIR FORCE</td>\n",
       "      <td>13</td>\n",
       "      <td>1</td>\n",
       "      <td>1</td>\n",
       "      <td>8</td>\n",
       "      <td>CALIFORNIA</td>\n",
       "    </tr>\n",
       "    <tr>\n",
       "      <th>22638</th>\n",
       "      <td>HEADQUARTERS, AIR FORCE RESERVE COMMAND</td>\n",
       "      <td>United States</td>\n",
       "      <td>35-39</td>\n",
       "      <td>BETWEEN HS &amp; BACHELORS</td>\n",
       "      <td>NaN</td>\n",
       "      <td>15 - 19</td>\n",
       "      <td>AIRCRAFT PNEUDRAULIC SYSTEMS MECHANIC</td>\n",
       "      <td>Blue Collar</td>\n",
       "      <td>WS-SUPERVISORY PAY SCHEDULES - FEDERAL WAGE SY...</td>\n",
       "      <td>0</td>\n",
       "      <td>...</td>\n",
       "      <td>16.3</td>\n",
       "      <td>5.0</td>\n",
       "      <td>FLUID SYSTEMS MAINTENANCE</td>\n",
       "      <td>6.0</td>\n",
       "      <td>DEPARTMENT OF THE AIR FORCE</td>\n",
       "      <td>12</td>\n",
       "      <td>1</td>\n",
       "      <td>1</td>\n",
       "      <td>2</td>\n",
       "      <td>CALIFORNIA</td>\n",
       "    </tr>\n",
       "    <tr>\n",
       "      <th>...</th>\n",
       "      <td>...</td>\n",
       "      <td>...</td>\n",
       "      <td>...</td>\n",
       "      <td>...</td>\n",
       "      <td>...</td>\n",
       "      <td>...</td>\n",
       "      <td>...</td>\n",
       "      <td>...</td>\n",
       "      <td>...</td>\n",
       "      <td>...</td>\n",
       "      <td>...</td>\n",
       "      <td>...</td>\n",
       "      <td>...</td>\n",
       "      <td>...</td>\n",
       "      <td>...</td>\n",
       "      <td>...</td>\n",
       "      <td>...</td>\n",
       "      <td>...</td>\n",
       "      <td>...</td>\n",
       "      <td>...</td>\n",
       "      <td>...</td>\n",
       "    </tr>\n",
       "    <tr>\n",
       "      <th>2155279</th>\n",
       "      <td>VETERANS HEALTH ADMINISTRATION</td>\n",
       "      <td>United States</td>\n",
       "      <td>45-49</td>\n",
       "      <td>BETWEEN HS &amp; BACHELORS</td>\n",
       "      <td>NaN</td>\n",
       "      <td>5 - 9</td>\n",
       "      <td>MATERIALS HANDLER</td>\n",
       "      <td>Blue Collar</td>\n",
       "      <td>WG-NONSUPERVISORY PAY SCHEDULES - FEDERAL WAGE...</td>\n",
       "      <td>0</td>\n",
       "      <td>...</td>\n",
       "      <td>6.7</td>\n",
       "      <td>7.0</td>\n",
       "      <td>WAREHOUSING AND STOCK HANDLING</td>\n",
       "      <td>6.0</td>\n",
       "      <td>DEPARTMENT OF VETERANS AFFAIRS</td>\n",
       "      <td>8</td>\n",
       "      <td>1</td>\n",
       "      <td>1</td>\n",
       "      <td>8</td>\n",
       "      <td>CALIFORNIA</td>\n",
       "    </tr>\n",
       "    <tr>\n",
       "      <th>2155281</th>\n",
       "      <td>VETERANS HEALTH ADMINISTRATION</td>\n",
       "      <td>United States</td>\n",
       "      <td>55-59</td>\n",
       "      <td>BACHELORS</td>\n",
       "      <td>NaN</td>\n",
       "      <td>5 - 9</td>\n",
       "      <td>NURSE</td>\n",
       "      <td>Professional</td>\n",
       "      <td>VN-NURSING</td>\n",
       "      <td>1</td>\n",
       "      <td>...</td>\n",
       "      <td>6.7</td>\n",
       "      <td>9.0</td>\n",
       "      <td>MEDICAL, HOSPITAL, DENTAL &amp; PUB HEALTH</td>\n",
       "      <td>1.0</td>\n",
       "      <td>DEPARTMENT OF VETERANS AFFAIRS</td>\n",
       "      <td>13</td>\n",
       "      <td>1</td>\n",
       "      <td>1</td>\n",
       "      <td>8</td>\n",
       "      <td>CALIFORNIA</td>\n",
       "    </tr>\n",
       "    <tr>\n",
       "      <th>2155385</th>\n",
       "      <td>VETERANS HEALTH ADMINISTRATION</td>\n",
       "      <td>United States</td>\n",
       "      <td>55-59</td>\n",
       "      <td>POST-BACHELORS</td>\n",
       "      <td>NaN</td>\n",
       "      <td>5 - 9</td>\n",
       "      <td>MEDICAL OFFICER</td>\n",
       "      <td>Professional</td>\n",
       "      <td>AD-ADMINISTRATIVELY DETERMINED RATES, NOT ELSE...</td>\n",
       "      <td>1</td>\n",
       "      <td>...</td>\n",
       "      <td>5.9</td>\n",
       "      <td>9.0</td>\n",
       "      <td>MEDICAL, HOSPITAL, DENTAL &amp; PUB HEALTH</td>\n",
       "      <td>1.0</td>\n",
       "      <td>DEPARTMENT OF VETERANS AFFAIRS</td>\n",
       "      <td>15</td>\n",
       "      <td>1</td>\n",
       "      <td>1</td>\n",
       "      <td>8</td>\n",
       "      <td>CALIFORNIA</td>\n",
       "    </tr>\n",
       "    <tr>\n",
       "      <th>2155479</th>\n",
       "      <td>VETERANS HEALTH ADMINISTRATION</td>\n",
       "      <td>United States</td>\n",
       "      <td>40-44</td>\n",
       "      <td>BACHELORS</td>\n",
       "      <td>NaN</td>\n",
       "      <td>5 - 9</td>\n",
       "      <td>NURSE</td>\n",
       "      <td>Professional</td>\n",
       "      <td>VN-NURSING</td>\n",
       "      <td>1</td>\n",
       "      <td>...</td>\n",
       "      <td>5.4</td>\n",
       "      <td>6.0</td>\n",
       "      <td>MEDICAL, HOSPITAL, DENTAL &amp; PUB HEALTH</td>\n",
       "      <td>1.0</td>\n",
       "      <td>DEPARTMENT OF VETERANS AFFAIRS</td>\n",
       "      <td>13</td>\n",
       "      <td>1</td>\n",
       "      <td>1</td>\n",
       "      <td>8</td>\n",
       "      <td>CALIFORNIA</td>\n",
       "    </tr>\n",
       "    <tr>\n",
       "      <th>2155550</th>\n",
       "      <td>FEDERAL PERMITTING IMPROVEMENT STEERING COUNCIL</td>\n",
       "      <td>United States</td>\n",
       "      <td>45-49</td>\n",
       "      <td>MASTERS</td>\n",
       "      <td>NaN</td>\n",
       "      <td>Less than 1</td>\n",
       "      <td>PROGRAM MANAGEMENT</td>\n",
       "      <td>Administrative</td>\n",
       "      <td>ES-SENIOR EXECUTIVE SERVICE</td>\n",
       "      <td>0</td>\n",
       "      <td>...</td>\n",
       "      <td>0.7</td>\n",
       "      <td>7.0</td>\n",
       "      <td>GENERAL ADMIN, CLERICAL, &amp; OFFICE SVCS</td>\n",
       "      <td>2.0</td>\n",
       "      <td>FEDERAL PERMITTING IMPROVEMENT STEERING COUNCIL</td>\n",
       "      <td>17</td>\n",
       "      <td>1</td>\n",
       "      <td>1</td>\n",
       "      <td>2</td>\n",
       "      <td>CALIFORNIA</td>\n",
       "    </tr>\n",
       "  </tbody>\n",
       "</table>\n",
       "<p>51340 rows × 25 columns</p>\n",
       "</div>"
      ],
      "text/plain": [
       "                                              sub_agency        country  \\\n",
       "15831                 AIR EDUCATION AND TRAINING COMMAND  United States   \n",
       "22517            HEADQUARTERS, AIR FORCE RESERVE COMMAND  United States   \n",
       "22553            HEADQUARTERS, AIR FORCE RESERVE COMMAND  United States   \n",
       "22559            HEADQUARTERS, AIR FORCE RESERVE COMMAND  United States   \n",
       "22638            HEADQUARTERS, AIR FORCE RESERVE COMMAND  United States   \n",
       "...                                                  ...            ...   \n",
       "2155279                   VETERANS HEALTH ADMINISTRATION  United States   \n",
       "2155281                   VETERANS HEALTH ADMINISTRATION  United States   \n",
       "2155385                   VETERANS HEALTH ADMINISTRATION  United States   \n",
       "2155479                   VETERANS HEALTH ADMINISTRATION  United States   \n",
       "2155550  FEDERAL PERMITTING IMPROVEMENT STEERING COUNCIL  United States   \n",
       "\n",
       "        age_level         education_level  pay_grade years_grouping  \\\n",
       "15831       50-54               BACHELORS        NaN          5 - 9   \n",
       "22517       35-39               BACHELORS        NaN          5 - 9   \n",
       "22553       40-44               BACHELORS        NaN          5 - 9   \n",
       "22559       30-34               BACHELORS        NaN          5 - 9   \n",
       "22638       35-39  BETWEEN HS & BACHELORS        NaN        15 - 19   \n",
       "...           ...                     ...        ...            ...   \n",
       "2155279     45-49  BETWEEN HS & BACHELORS        NaN          5 - 9   \n",
       "2155281     55-59               BACHELORS        NaN          5 - 9   \n",
       "2155385     55-59          POST-BACHELORS        NaN          5 - 9   \n",
       "2155479     40-44               BACHELORS        NaN          5 - 9   \n",
       "2155550     45-49                 MASTERS        NaN    Less than 1   \n",
       "\n",
       "                                    occupation occupation_category  \\\n",
       "15831          HEAVY MOBILE EQUIPMENT MECHANIC         Blue Collar   \n",
       "22517    AIRCRAFT PNEUDRAULIC SYSTEMS MECHANIC         Blue Collar   \n",
       "22553                        AIRCRAFT MECHANIC         Blue Collar   \n",
       "22559    AIRCRAFT PNEUDRAULIC SYSTEMS MECHANIC         Blue Collar   \n",
       "22638    AIRCRAFT PNEUDRAULIC SYSTEMS MECHANIC         Blue Collar   \n",
       "...                                        ...                 ...   \n",
       "2155279                      MATERIALS HANDLER         Blue Collar   \n",
       "2155281                                  NURSE        Professional   \n",
       "2155385                        MEDICAL OFFICER        Professional   \n",
       "2155479                                  NURSE        Professional   \n",
       "2155550                     PROGRAM MANAGEMENT      Administrative   \n",
       "\n",
       "                                                  pay_plan  stem  ...  \\\n",
       "15831    WS-SUPERVISORY PAY SCHEDULES - FEDERAL WAGE SY...     0  ...   \n",
       "22517    WG-NONSUPERVISORY PAY SCHEDULES - FEDERAL WAGE...     0  ...   \n",
       "22553    WS-SUPERVISORY PAY SCHEDULES - FEDERAL WAGE SY...     0  ...   \n",
       "22559    WG-NONSUPERVISORY PAY SCHEDULES - FEDERAL WAGE...     0  ...   \n",
       "22638    WS-SUPERVISORY PAY SCHEDULES - FEDERAL WAGE SY...     0  ...   \n",
       "...                                                    ...   ...  ...   \n",
       "2155279  WG-NONSUPERVISORY PAY SCHEDULES - FEDERAL WAGE...     0  ...   \n",
       "2155281                                         VN-NURSING     1  ...   \n",
       "2155385  AD-ADMINISTRATIVELY DETERMINED RATES, NOT ELSE...     1  ...   \n",
       "2155479                                         VN-NURSING     1  ...   \n",
       "2155550                        ES-SENIOR EXECUTIVE SERVICE     0  ...   \n",
       "\n",
       "        years_of_service age_level_code  \\\n",
       "15831                7.1            8.0   \n",
       "22517                7.2            5.0   \n",
       "22553                6.2            6.0   \n",
       "22559                8.5            4.0   \n",
       "22638               16.3            5.0   \n",
       "...                  ...            ...   \n",
       "2155279              6.7            7.0   \n",
       "2155281              6.7            9.0   \n",
       "2155385              5.9            9.0   \n",
       "2155479              5.4            6.0   \n",
       "2155550              0.7            7.0   \n",
       "\n",
       "                              occupation_family occupation_code  \\\n",
       "15831    TRANSPORT/MOBILE EQUIPMENT MAINTENANCE             6.0   \n",
       "22517                 FLUID SYSTEMS MAINTENANCE             6.0   \n",
       "22553                         AIRCRAFT OVERHAUL             6.0   \n",
       "22559                 FLUID SYSTEMS MAINTENANCE             6.0   \n",
       "22638                 FLUID SYSTEMS MAINTENANCE             6.0   \n",
       "...                                         ...             ...   \n",
       "2155279          WAREHOUSING AND STOCK HANDLING             6.0   \n",
       "2155281  MEDICAL, HOSPITAL, DENTAL & PUB HEALTH             1.0   \n",
       "2155385  MEDICAL, HOSPITAL, DENTAL & PUB HEALTH             1.0   \n",
       "2155479  MEDICAL, HOSPITAL, DENTAL & PUB HEALTH             1.0   \n",
       "2155550  GENERAL ADMIN, CLERICAL, & OFFICE SVCS             2.0   \n",
       "\n",
       "                                                  agency  education_code  \\\n",
       "15831                        DEPARTMENT OF THE AIR FORCE              13   \n",
       "22517                        DEPARTMENT OF THE AIR FORCE              13   \n",
       "22553                        DEPARTMENT OF THE AIR FORCE              13   \n",
       "22559                        DEPARTMENT OF THE AIR FORCE              13   \n",
       "22638                        DEPARTMENT OF THE AIR FORCE              12   \n",
       "...                                                  ...             ...   \n",
       "2155279                   DEPARTMENT OF VETERANS AFFAIRS               8   \n",
       "2155281                   DEPARTMENT OF VETERANS AFFAIRS              13   \n",
       "2155385                   DEPARTMENT OF VETERANS AFFAIRS              15   \n",
       "2155479                   DEPARTMENT OF VETERANS AFFAIRS              13   \n",
       "2155550  FEDERAL PERMITTING IMPROVEMENT STEERING COUNCIL              17   \n",
       "\n",
       "         work_status_code full_time_code  supervisor_code       state  \n",
       "15831                   1              1                2  CALIFORNIA  \n",
       "22517                   1              1                8  CALIFORNIA  \n",
       "22553                   1              1                2  CALIFORNIA  \n",
       "22559                   1              1                8  CALIFORNIA  \n",
       "22638                   1              1                2  CALIFORNIA  \n",
       "...                   ...            ...              ...         ...  \n",
       "2155279                 1              1                8  CALIFORNIA  \n",
       "2155281                 1              1                8  CALIFORNIA  \n",
       "2155385                 1              1                8  CALIFORNIA  \n",
       "2155479                 1              1                8  CALIFORNIA  \n",
       "2155550                 1              1                2  CALIFORNIA  \n",
       "\n",
       "[51340 rows x 25 columns]"
      ]
     },
     "execution_count": 14,
     "metadata": {},
     "output_type": "execute_result"
    }
   ],
   "source": [
    "df_nan"
   ]
  },
  {
   "cell_type": "code",
   "execution_count": 15,
   "id": "d9556c16",
   "metadata": {},
   "outputs": [],
   "source": [
    "# Missing values are a variety of items. Pay Grades can be 1-15, I will check mean/mode/median and compare"
   ]
  },
  {
   "cell_type": "code",
   "execution_count": 16,
   "id": "18315fc7",
   "metadata": {},
   "outputs": [
    {
     "data": {
      "text/plain": [
       "9.875416374229916"
      ]
     },
     "execution_count": 16,
     "metadata": {},
     "output_type": "execute_result"
    }
   ],
   "source": [
    "df_cali.pay_grade.mean()"
   ]
  },
  {
   "cell_type": "code",
   "execution_count": 17,
   "id": "b20fd976",
   "metadata": {},
   "outputs": [
    {
     "data": {
      "text/plain": [
       "11.0"
      ]
     },
     "execution_count": 17,
     "metadata": {},
     "output_type": "execute_result"
    }
   ],
   "source": [
    "df_cali.pay_grade.median()"
   ]
  },
  {
   "cell_type": "code",
   "execution_count": 18,
   "id": "c47d34c8",
   "metadata": {},
   "outputs": [
    {
     "data": {
      "text/plain": [
       "0    12.0\n",
       "Name: pay_grade, dtype: float64"
      ]
     },
     "execution_count": 18,
     "metadata": {},
     "output_type": "execute_result"
    }
   ],
   "source": [
    "df_cali.pay_grade.mode()"
   ]
  },
  {
   "cell_type": "code",
   "execution_count": 19,
   "id": "a8412b52",
   "metadata": {},
   "outputs": [
    {
     "name": "stderr",
     "output_type": "stream",
     "text": [
      "/var/folders/rt/m2j4lb4d1jn3b18ck1_f2csm0000gn/T/ipykernel_29593/3775298334.py:2: SettingWithCopyWarning: \n",
      "A value is trying to be set on a copy of a slice from a DataFrame.\n",
      "Try using .loc[row_indexer,col_indexer] = value instead\n",
      "\n",
      "See the caveats in the documentation: https://pandas.pydata.org/pandas-docs/stable/user_guide/indexing.html#returning-a-view-versus-a-copy\n",
      "  df_cali['pay_grade'] = df_cali['pay_grade'].fillna(df_cali['pay_grade'].median())\n"
     ]
    }
   ],
   "source": [
    "#replace pay_grade NaN values with median\n",
    "df_cali['pay_grade'] = df_cali['pay_grade'].fillna(df_cali['pay_grade'].median())"
   ]
  },
  {
   "cell_type": "code",
   "execution_count": 20,
   "id": "79e20612",
   "metadata": {},
   "outputs": [
    {
     "data": {
      "text/plain": [
       "sub_agency                 0\n",
       "country                    0\n",
       "age_level                  0\n",
       "education_level            0\n",
       "pay_grade                  0\n",
       "years_grouping             0\n",
       "occupation                 0\n",
       "occupation_category        0\n",
       "pay_plan                   0\n",
       "stem                       0\n",
       "supervisor_status          0\n",
       "full_time                  0\n",
       "work_status                0\n",
       "date                       0\n",
       "salary                   624\n",
       "years_of_service           0\n",
       "age_level_code             0\n",
       "occupation_family      71108\n",
       "occupation_code            0\n",
       "agency                     0\n",
       "education_code             0\n",
       "work_status_code           0\n",
       "full_time_code             0\n",
       "supervisor_code            0\n",
       "state                      0\n",
       "dtype: int64"
      ]
     },
     "execution_count": 20,
     "metadata": {},
     "output_type": "execute_result"
    }
   ],
   "source": [
    "df_cali.isnull().sum()"
   ]
  },
  {
   "cell_type": "code",
   "execution_count": 21,
   "id": "444b47ee",
   "metadata": {},
   "outputs": [
    {
     "name": "stdout",
     "output_type": "stream",
     "text": [
      "<class 'pandas.core.frame.DataFrame'>\n",
      "Int64Index: 141103 entries, 21 to 2155550\n",
      "Data columns (total 25 columns):\n",
      " #   Column               Non-Null Count   Dtype  \n",
      "---  ------               --------------   -----  \n",
      " 0   sub_agency           141103 non-null  object \n",
      " 1   country              141103 non-null  object \n",
      " 2   age_level            141103 non-null  object \n",
      " 3   education_level      141103 non-null  object \n",
      " 4   pay_grade            141103 non-null  float64\n",
      " 5   years_grouping       141103 non-null  object \n",
      " 6   occupation           141103 non-null  object \n",
      " 7   occupation_category  141103 non-null  object \n",
      " 8   pay_plan             141103 non-null  object \n",
      " 9   stem                 141103 non-null  int64  \n",
      " 10  supervisor_status    141103 non-null  object \n",
      " 11  full_time            141103 non-null  object \n",
      " 12  work_status          141103 non-null  object \n",
      " 13  date                 141103 non-null  object \n",
      " 14  salary               140479 non-null  float64\n",
      " 15  years_of_service     141103 non-null  float64\n",
      " 16  age_level_code       141103 non-null  float64\n",
      " 17  occupation_family    69995 non-null   object \n",
      " 18  occupation_code      141103 non-null  float64\n",
      " 19  agency               141103 non-null  object \n",
      " 20  education_code       141103 non-null  int64  \n",
      " 21  work_status_code     141103 non-null  int64  \n",
      " 22  full_time_code       141103 non-null  int64  \n",
      " 23  supervisor_code      141103 non-null  int64  \n",
      " 24  state                141103 non-null  object \n",
      "dtypes: float64(5), int64(5), object(15)\n",
      "memory usage: 28.0+ MB\n"
     ]
    }
   ],
   "source": [
    "df_cali.info()"
   ]
  },
  {
   "cell_type": "markdown",
   "id": "a10894fa",
   "metadata": {},
   "source": [
    "### 3. Check for Extreme Values"
   ]
  },
  {
   "cell_type": "code",
   "execution_count": 22,
   "id": "dd824c59",
   "metadata": {},
   "outputs": [
    {
     "name": "stderr",
     "output_type": "stream",
     "text": [
      "/Users/bethanybreed/opt/anaconda3/lib/python3.9/site-packages/seaborn/distributions.py:2619: FutureWarning: `distplot` is a deprecated function and will be removed in a future version. Please adapt your code to use either `displot` (a figure-level function with similar flexibility) or `histplot` (an axes-level function for histograms).\n",
      "  warnings.warn(msg, FutureWarning)\n"
     ]
    },
    {
     "data": {
      "text/plain": [
       "<AxesSubplot:xlabel='education_code', ylabel='Density'>"
      ]
     },
     "execution_count": 22,
     "metadata": {},
     "output_type": "execute_result"
    },
    {
     "data": {
      "image/png": "[encoded data removed]",
      "text/plain": [
       "<Figure size 432x288 with 1 Axes>"
      ]
     },
     "metadata": {
      "needs_background": "light"
     },
     "output_type": "display_data"
    }
   ],
   "source": [
    "sns.distplot(df['education_code'], bins=25) # Shows extreme values"
   ]
  },
  {
   "cell_type": "code",
   "execution_count": 23,
   "id": "2310d0b2",
   "metadata": {},
   "outputs": [
    {
     "name": "stderr",
     "output_type": "stream",
     "text": [
      "/Users/bethanybreed/opt/anaconda3/lib/python3.9/site-packages/seaborn/distributions.py:2619: FutureWarning: `distplot` is a deprecated function and will be removed in a future version. Please adapt your code to use either `displot` (a figure-level function with similar flexibility) or `histplot` (an axes-level function for histograms).\n",
      "  warnings.warn(msg, FutureWarning)\n"
     ]
    },
    {
     "data": {
      "text/plain": [
       "<AxesSubplot:xlabel='pay_grade', ylabel='Density'>"
      ]
     },
     "execution_count": 23,
     "metadata": {},
     "output_type": "execute_result"
    },
    {
     "data": {
      "image/png": "[encoded data removed]",
      "text/plain": [
       "<Figure size 432x288 with 1 Axes>"
      ]
     },
     "metadata": {
      "needs_background": "light"
     },
     "output_type": "display_data"
    }
   ],
   "source": [
    "sns.distplot(df['pay_grade'], bins=25) # Shows extreme values"
   ]
  },
  {
   "cell_type": "code",
   "execution_count": 24,
   "id": "0c41c839",
   "metadata": {},
   "outputs": [],
   "source": [
    "#I will leave them for now, as these are all within the expected ranges"
   ]
  },
  {
   "cell_type": "markdown",
   "id": "1820a50a",
   "metadata": {},
   "source": [
    "### 4. Data Prep for Regression Analysis"
   ]
  },
  {
   "cell_type": "markdown",
   "id": "8d2ebc1d",
   "metadata": {},
   "source": [
    "### I am looking at Education Level and how it affects Pay Grade based off 08 Individual State Correlation Script\n",
    "\n",
    "## Hypothesis Education Level affects Pay Grade in a positive manner"
   ]
  },
  {
   "cell_type": "code",
   "execution_count": 25,
   "id": "8997c7b4",
   "metadata": {},
   "outputs": [
    {
     "name": "stdout",
     "output_type": "stream",
     "text": [
      "<class 'pandas.core.frame.DataFrame'>\n",
      "Int64Index: 141103 entries, 21 to 2155550\n",
      "Data columns (total 25 columns):\n",
      " #   Column               Non-Null Count   Dtype  \n",
      "---  ------               --------------   -----  \n",
      " 0   sub_agency           141103 non-null  object \n",
      " 1   country              141103 non-null  object \n",
      " 2   age_level            141103 non-null  object \n",
      " 3   education_level      141103 non-null  object \n",
      " 4   pay_grade            141103 non-null  float64\n",
      " 5   years_grouping       141103 non-null  object \n",
      " 6   occupation           141103 non-null  object \n",
      " 7   occupation_category  141103 non-null  object \n",
      " 8   pay_plan             141103 non-null  object \n",
      " 9   stem                 141103 non-null  int64  \n",
      " 10  supervisor_status    141103 non-null  object \n",
      " 11  full_time            141103 non-null  object \n",
      " 12  work_status          141103 non-null  object \n",
      " 13  date                 141103 non-null  object \n",
      " 14  salary               140479 non-null  float64\n",
      " 15  years_of_service     141103 non-null  float64\n",
      " 16  age_level_code       141103 non-null  float64\n",
      " 17  occupation_family    69995 non-null   object \n",
      " 18  occupation_code      141103 non-null  float64\n",
      " 19  agency               141103 non-null  object \n",
      " 20  education_code       141103 non-null  int64  \n",
      " 21  work_status_code     141103 non-null  int64  \n",
      " 22  full_time_code       141103 non-null  int64  \n",
      " 23  supervisor_code      141103 non-null  int64  \n",
      " 24  state                141103 non-null  object \n",
      "dtypes: float64(5), int64(5), object(15)\n",
      "memory usage: 28.0+ MB\n"
     ]
    }
   ],
   "source": [
    "#double check data types\n",
    "df_cali.info()"
   ]
  },
  {
   "cell_type": "code",
   "execution_count": 26,
   "id": "25f29a79",
   "metadata": {},
   "outputs": [
    {
     "data": {
      "text/plain": [
       "11.0    65143\n",
       "12.0    18155\n",
       "13.0    11146\n",
       "9.0      9619\n",
       "7.0      9045\n",
       "6.0      7470\n",
       "5.0      6377\n",
       "14.0     4638\n",
       "8.0      3863\n",
       "4.0      2224\n",
       "15.0     1999\n",
       "10.0      904\n",
       "3.0       483\n",
       "2.0        22\n",
       "1.0        15\n",
       "Name: pay_grade, dtype: int64"
      ]
     },
     "execution_count": 26,
     "metadata": {},
     "output_type": "execute_result"
    }
   ],
   "source": [
    "df_cali.pay_grade.value_counts(dropna = False)"
   ]
  },
  {
   "cell_type": "code",
   "execution_count": 27,
   "id": "ae7a11ad",
   "metadata": {},
   "outputs": [
    {
     "data": {
      "text/plain": [
       "13    38744\n",
       "4     35919\n",
       "17    22165\n",
       "10     8799\n",
       "15     5884\n",
       "7      5238\n",
       "21     5199\n",
       "9      3814\n",
       "8      3457\n",
       "6      2350\n",
       "1      2120\n",
       "14     1686\n",
       "12     1588\n",
       "11     1540\n",
       "3       718\n",
       "5       646\n",
       "18      570\n",
       "22      428\n",
       "16      116\n",
       "19       43\n",
       "20       40\n",
       "2        39\n",
       "Name: education_code, dtype: int64"
      ]
     },
     "execution_count": 27,
     "metadata": {},
     "output_type": "execute_result"
    }
   ],
   "source": [
    "df_cali.education_code.value_counts(dropna = False)"
   ]
  },
  {
   "cell_type": "code",
   "execution_count": 28,
   "id": "193e7ec5",
   "metadata": {},
   "outputs": [
    {
     "data": {
      "image/png": "[encoded data removed]",
      "text/plain": [
       "<Figure size 432x288 with 1 Axes>"
      ]
     },
     "metadata": {
      "needs_background": "light"
     },
     "output_type": "display_data"
    }
   ],
   "source": [
    "# Create a scatterplot using matplotlib to check how variables work together\n",
    "\n",
    "df.plot(x = 'education_code', y='pay_grade',style='o') \n",
    "plt.title('Education Level vs Pay Grade')  \n",
    "plt.xlabel('Education Level')  \n",
    "plt.ylabel('Pay Grade')  \n",
    "plt.show()"
   ]
  },
  {
   "cell_type": "code",
   "execution_count": 29,
   "id": "20dde3ca",
   "metadata": {},
   "outputs": [],
   "source": [
    "# Reshape the variables into NumPy arrays and put them into separate objects.\n",
    "\n",
    "X = df_cali['education_code'].values.reshape(-1,1)\n",
    "y = df_cali['pay_grade'].values.reshape(-1,1)"
   ]
  },
  {
   "cell_type": "code",
   "execution_count": 30,
   "id": "d44e6a1c",
   "metadata": {},
   "outputs": [
    {
     "data": {
      "text/plain": [
       "array([[13],\n",
       "       [17],\n",
       "       [13],\n",
       "       ...,\n",
       "       [13],\n",
       "       [ 9],\n",
       "       [17]])"
      ]
     },
     "execution_count": 30,
     "metadata": {},
     "output_type": "execute_result"
    }
   ],
   "source": [
    "X"
   ]
  },
  {
   "cell_type": "code",
   "execution_count": 31,
   "id": "6eb414cd",
   "metadata": {},
   "outputs": [
    {
     "data": {
      "text/plain": [
       "array([[13.],\n",
       "       [13.],\n",
       "       [13.],\n",
       "       ...,\n",
       "       [11.],\n",
       "       [ 7.],\n",
       "       [11.]])"
      ]
     },
     "execution_count": 31,
     "metadata": {},
     "output_type": "execute_result"
    }
   ],
   "source": [
    "y"
   ]
  },
  {
   "cell_type": "code",
   "execution_count": 32,
   "id": "2c6d3567",
   "metadata": {},
   "outputs": [],
   "source": [
    "# Split data into a training set and a test set.\n",
    "\n",
    "X_train, X_test, y_train, y_test = train_test_split(X, y, test_size=0.3, random_state=0)"
   ]
  },
  {
   "cell_type": "markdown",
   "id": "a9557834",
   "metadata": {},
   "source": [
    "### 5. Regression analysis"
   ]
  },
  {
   "cell_type": "code",
   "execution_count": 33,
   "id": "97fe239e",
   "metadata": {},
   "outputs": [],
   "source": [
    "# Create a regression object.\n",
    "\n",
    "regression = LinearRegression()"
   ]
  },
  {
   "cell_type": "code",
   "execution_count": 34,
   "id": "aae6c9db",
   "metadata": {},
   "outputs": [
    {
     "data": {
      "text/plain": [
       "LinearRegression()"
      ]
     },
     "execution_count": 34,
     "metadata": {},
     "output_type": "execute_result"
    }
   ],
   "source": [
    "# Fit the regression object onto the training set.\n",
    "\n",
    "regression.fit(X_train, y_train)"
   ]
  },
  {
   "cell_type": "code",
   "execution_count": 35,
   "id": "edcc2936",
   "metadata": {},
   "outputs": [],
   "source": [
    "# Predict the values of y using X.\n",
    "\n",
    "y_predicted = regression.predict(X_test)"
   ]
  },
  {
   "cell_type": "code",
   "execution_count": 36,
   "id": "ea6fc31a",
   "metadata": {},
   "outputs": [
    {
     "data": {
      "image/png": "[encoded data removed]",
      "text/plain": [
       "<Figure size 432x288 with 1 Axes>"
      ]
     },
     "metadata": {
      "needs_background": "light"
     },
     "output_type": "display_data"
    }
   ],
   "source": [
    "# Create a plot that shows the regression line from the model on the test set.\n",
    "\n",
    "plot_test = plt\n",
    "plot_test.scatter(X_test, y_test, color='gray', s = 15)\n",
    "plot_test.plot(X_test, y_predicted, color='red', linewidth =3)\n",
    "plot_test.title('Education Level and Pay Grade (Test set)')\n",
    "plot_test.xlabel('Education Level')\n",
    "plot_test.ylabel('Pay Grade')\n",
    "plot_test.show()"
   ]
  },
  {
   "cell_type": "markdown",
   "id": "ad91402c",
   "metadata": {},
   "source": [
    "### The line shows a positive impact that education level has on pay grade.  As the line has a low slope it is not a high correlation.  Also as you can the high amount of dots that are not close to the line, that implies the correlation is not strong as we would have expected it to be."
   ]
  },
  {
   "cell_type": "markdown",
   "id": "c3ab5f91",
   "metadata": {},
   "source": [
    "### 6. Check Model Performance with statistics"
   ]
  },
  {
   "cell_type": "code",
   "execution_count": 37,
   "id": "8c18f2b2",
   "metadata": {},
   "outputs": [],
   "source": [
    "# Create objects that contain the model summary statistics.\n",
    "\n",
    "rmse = mean_squared_error(y_test, y_predicted) \n",
    "r2 = r2_score(y_test, y_predicted) "
   ]
  },
  {
   "cell_type": "code",
   "execution_count": 38,
   "id": "de79f2ed",
   "metadata": {},
   "outputs": [
    {
     "name": "stdout",
     "output_type": "stream",
     "text": [
      "Slope: [[0.1824853]]\n",
      "Mean squared error:  5.019694769974021\n",
      "R2 score:  0.15540937062098792\n"
     ]
    }
   ],
   "source": [
    "# Print the model summary statistics.\n",
    "\n",
    "print('Slope:' ,regression.coef_)\n",
    "print('Mean squared error: ', rmse)\n",
    "print('R2 score: ', r2)"
   ]
  },
  {
   "cell_type": "code",
   "execution_count": 39,
   "id": "fae1d0aa",
   "metadata": {},
   "outputs": [
    {
     "data": {
      "text/plain": [
       "array([[ 9.60040342],\n",
       "       [11.06028581],\n",
       "       [11.06028581],\n",
       "       ...,\n",
       "       [10.69531522],\n",
       "       [10.51282992],\n",
       "       [ 9.05294753]])"
      ]
     },
     "execution_count": 39,
     "metadata": {},
     "output_type": "execute_result"
    }
   ],
   "source": [
    "y_predicted"
   ]
  },
  {
   "cell_type": "code",
   "execution_count": 40,
   "id": "8a211dd2",
   "metadata": {},
   "outputs": [
    {
     "data": {
      "text/html": [
       "<div>\n",
       "<style scoped>\n",
       "    .dataframe tbody tr th:only-of-type {\n",
       "        vertical-align: middle;\n",
       "    }\n",
       "\n",
       "    .dataframe tbody tr th {\n",
       "        vertical-align: top;\n",
       "    }\n",
       "\n",
       "    .dataframe thead th {\n",
       "        text-align: right;\n",
       "    }\n",
       "</style>\n",
       "<table border=\"1\" class=\"dataframe\">\n",
       "  <thead>\n",
       "    <tr style=\"text-align: right;\">\n",
       "      <th></th>\n",
       "      <th>Actual</th>\n",
       "      <th>Predicted</th>\n",
       "    </tr>\n",
       "  </thead>\n",
       "  <tbody>\n",
       "    <tr>\n",
       "      <th>0</th>\n",
       "      <td>9.0</td>\n",
       "      <td>9.600403</td>\n",
       "    </tr>\n",
       "    <tr>\n",
       "      <th>1</th>\n",
       "      <td>14.0</td>\n",
       "      <td>11.060286</td>\n",
       "    </tr>\n",
       "    <tr>\n",
       "      <th>2</th>\n",
       "      <td>11.0</td>\n",
       "      <td>11.060286</td>\n",
       "    </tr>\n",
       "    <tr>\n",
       "      <th>3</th>\n",
       "      <td>7.0</td>\n",
       "      <td>9.052948</td>\n",
       "    </tr>\n",
       "    <tr>\n",
       "      <th>4</th>\n",
       "      <td>11.0</td>\n",
       "      <td>8.505492</td>\n",
       "    </tr>\n",
       "    <tr>\n",
       "      <th>5</th>\n",
       "      <td>13.0</td>\n",
       "      <td>11.425256</td>\n",
       "    </tr>\n",
       "    <tr>\n",
       "      <th>6</th>\n",
       "      <td>12.0</td>\n",
       "      <td>9.052948</td>\n",
       "    </tr>\n",
       "    <tr>\n",
       "      <th>7</th>\n",
       "      <td>11.0</td>\n",
       "      <td>10.695315</td>\n",
       "    </tr>\n",
       "    <tr>\n",
       "      <th>8</th>\n",
       "      <td>9.0</td>\n",
       "      <td>12.155198</td>\n",
       "    </tr>\n",
       "    <tr>\n",
       "      <th>9</th>\n",
       "      <td>6.0</td>\n",
       "      <td>10.695315</td>\n",
       "    </tr>\n",
       "    <tr>\n",
       "      <th>10</th>\n",
       "      <td>11.0</td>\n",
       "      <td>10.147859</td>\n",
       "    </tr>\n",
       "    <tr>\n",
       "      <th>11</th>\n",
       "      <td>11.0</td>\n",
       "      <td>11.060286</td>\n",
       "    </tr>\n",
       "    <tr>\n",
       "      <th>12</th>\n",
       "      <td>8.0</td>\n",
       "      <td>9.600403</td>\n",
       "    </tr>\n",
       "    <tr>\n",
       "      <th>13</th>\n",
       "      <td>8.0</td>\n",
       "      <td>9.782889</td>\n",
       "    </tr>\n",
       "    <tr>\n",
       "      <th>14</th>\n",
       "      <td>12.0</td>\n",
       "      <td>12.155198</td>\n",
       "    </tr>\n",
       "    <tr>\n",
       "      <th>15</th>\n",
       "      <td>11.0</td>\n",
       "      <td>10.695315</td>\n",
       "    </tr>\n",
       "    <tr>\n",
       "      <th>16</th>\n",
       "      <td>13.0</td>\n",
       "      <td>11.425256</td>\n",
       "    </tr>\n",
       "    <tr>\n",
       "      <th>17</th>\n",
       "      <td>11.0</td>\n",
       "      <td>10.695315</td>\n",
       "    </tr>\n",
       "    <tr>\n",
       "      <th>18</th>\n",
       "      <td>8.0</td>\n",
       "      <td>10.147859</td>\n",
       "    </tr>\n",
       "    <tr>\n",
       "      <th>19</th>\n",
       "      <td>9.0</td>\n",
       "      <td>10.695315</td>\n",
       "    </tr>\n",
       "    <tr>\n",
       "      <th>20</th>\n",
       "      <td>12.0</td>\n",
       "      <td>10.695315</td>\n",
       "    </tr>\n",
       "    <tr>\n",
       "      <th>21</th>\n",
       "      <td>6.0</td>\n",
       "      <td>9.052948</td>\n",
       "    </tr>\n",
       "    <tr>\n",
       "      <th>22</th>\n",
       "      <td>7.0</td>\n",
       "      <td>9.965374</td>\n",
       "    </tr>\n",
       "    <tr>\n",
       "      <th>23</th>\n",
       "      <td>9.0</td>\n",
       "      <td>10.330345</td>\n",
       "    </tr>\n",
       "    <tr>\n",
       "      <th>24</th>\n",
       "      <td>12.0</td>\n",
       "      <td>12.155198</td>\n",
       "    </tr>\n",
       "    <tr>\n",
       "      <th>25</th>\n",
       "      <td>11.0</td>\n",
       "      <td>11.425256</td>\n",
       "    </tr>\n",
       "    <tr>\n",
       "      <th>26</th>\n",
       "      <td>11.0</td>\n",
       "      <td>9.052948</td>\n",
       "    </tr>\n",
       "    <tr>\n",
       "      <th>27</th>\n",
       "      <td>11.0</td>\n",
       "      <td>11.425256</td>\n",
       "    </tr>\n",
       "    <tr>\n",
       "      <th>28</th>\n",
       "      <td>11.0</td>\n",
       "      <td>9.052948</td>\n",
       "    </tr>\n",
       "    <tr>\n",
       "      <th>29</th>\n",
       "      <td>12.0</td>\n",
       "      <td>10.147859</td>\n",
       "    </tr>\n",
       "  </tbody>\n",
       "</table>\n",
       "</div>"
      ],
      "text/plain": [
       "    Actual  Predicted\n",
       "0      9.0   9.600403\n",
       "1     14.0  11.060286\n",
       "2     11.0  11.060286\n",
       "3      7.0   9.052948\n",
       "4     11.0   8.505492\n",
       "5     13.0  11.425256\n",
       "6     12.0   9.052948\n",
       "7     11.0  10.695315\n",
       "8      9.0  12.155198\n",
       "9      6.0  10.695315\n",
       "10    11.0  10.147859\n",
       "11    11.0  11.060286\n",
       "12     8.0   9.600403\n",
       "13     8.0   9.782889\n",
       "14    12.0  12.155198\n",
       "15    11.0  10.695315\n",
       "16    13.0  11.425256\n",
       "17    11.0  10.695315\n",
       "18     8.0  10.147859\n",
       "19     9.0  10.695315\n",
       "20    12.0  10.695315\n",
       "21     6.0   9.052948\n",
       "22     7.0   9.965374\n",
       "23     9.0  10.330345\n",
       "24    12.0  12.155198\n",
       "25    11.0  11.425256\n",
       "26    11.0   9.052948\n",
       "27    11.0  11.425256\n",
       "28    11.0   9.052948\n",
       "29    12.0  10.147859"
      ]
     },
     "execution_count": 40,
     "metadata": {},
     "output_type": "execute_result"
    }
   ],
   "source": [
    "# Create a dataframe comparing the actual and predicted values of y.\n",
    "\n",
    "compare = pd.DataFrame({'Actual': y_test.flatten(), 'Predicted': y_predicted.flatten()})\n",
    "compare.head(30)"
   ]
  },
  {
   "cell_type": "markdown",
   "id": "2f35cd52",
   "metadata": {},
   "source": [
    "## 7. Conclusion"
   ]
  },
  {
   "cell_type": "markdown",
   "id": "ace65f80",
   "metadata": {},
   "source": [
    "### Follow up with the statistics show the MSE as a 5. This is still large enough to indicate many plots that are far from our trend line. the R2 score is .155 We would hope to see a value closer to 1 to indicate a good fit.\n",
    "\n",
    "### This shows that education code (the level of your education) does not directly correlate with your pay grade even though the variables seem to have a slight relationship"
   ]
  },
  {
   "cell_type": "code",
   "execution_count": null,
   "id": "63461f65",
   "metadata": {},
   "outputs": [],
   "source": []
  }
 ],
 "metadata": {
  "kernelspec": {
   "display_name": "Python 3 (ipykernel)",
   "language": "python",
   "name": "python3"
  },
  "language_info": {
   "codemirror_mode": {
    "name": "ipython",
    "version": 3
   },
   "file_extension": ".py",
   "mimetype": "text/x-python",
   "name": "python",
   "nbconvert_exporter": "python",
   "pygments_lexer": "ipython3",
   "version": "3.9.12"
  }
 },
 "nbformat": 4,
 "nbformat_minor": 5
}
