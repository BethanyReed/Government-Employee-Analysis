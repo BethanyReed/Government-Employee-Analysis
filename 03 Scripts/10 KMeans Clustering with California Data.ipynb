{
 "cells": [
  {
   "cell_type": "markdown",
   "id": "0c5a8f72",
   "metadata": {},
   "source": [
    "# Kmeans Clustering with California Data"
   ]
  },
  {
   "cell_type": "markdown",
   "id": "f9403ee1",
   "metadata": {},
   "source": [
    "## 1. Import Data and Libraries\n",
    "## 2. Create Subset with only numerical data\n",
    "## 3. Clean Data\n",
    "## 4. Elbow Technique\n",
    "## 5. K-Means Clustering\n",
    "## 6. Check Clustering Stats\n",
    "## 7. Final Observations"
   ]
  },
  {
   "cell_type": "markdown",
   "id": "6f65ab14",
   "metadata": {},
   "source": [
    "## 1. Import Data and Libraries"
   ]
  },
  {
   "cell_type": "code",
   "execution_count": 1,
   "id": "71322e6c",
   "metadata": {},
   "outputs": [],
   "source": [
    "#Import Libraries\n",
    "\n",
    "import pandas as pd\n",
    "import numpy as np\n",
    "import seaborn as sns\n",
    "import matplotlib\n",
    "import matplotlib.pyplot as plt\n",
    "import os\n",
    "import sklearn\n",
    "from sklearn.cluster import KMeans\n",
    "import pylab as pl\n",
    "from sklearn.preprocessing import StandardScaler\n",
    "from sklearn.decomposition import PCA"
   ]
  },
  {
   "cell_type": "code",
   "execution_count": 2,
   "id": "1a2c05f2",
   "metadata": {},
   "outputs": [],
   "source": [
    "# Display graphs without having to call\n",
    "\n",
    "%matplotlib inline"
   ]
  },
  {
   "cell_type": "code",
   "execution_count": 3,
   "id": "530f0c2c",
   "metadata": {},
   "outputs": [],
   "source": [
    "path = r'/Users/bethanybreed/Documents/A Career Foundry/Gov Employ Data/02 Data'"
   ]
  },
  {
   "cell_type": "code",
   "execution_count": 4,
   "id": "8470c8ad",
   "metadata": {},
   "outputs": [],
   "source": [
    "# Import Data\n",
    "\n",
    "df = pd.read_pickle(os.path.join(path,'prepared data','March 2022 clean-a.pkl'))"
   ]
  },
  {
   "cell_type": "code",
   "execution_count": 5,
   "id": "d6ce7917",
   "metadata": {},
   "outputs": [
    {
     "data": {
      "text/plain": [
       "(2152679, 25)"
      ]
     },
     "execution_count": 5,
     "metadata": {},
     "output_type": "execute_result"
    }
   ],
   "source": [
    "df.shape"
   ]
  },
  {
   "cell_type": "code",
   "execution_count": 6,
   "id": "0850b939",
   "metadata": {},
   "outputs": [
    {
     "data": {
      "text/html": [
       "<div>\n",
       "<style scoped>\n",
       "    .dataframe tbody tr th:only-of-type {\n",
       "        vertical-align: middle;\n",
       "    }\n",
       "\n",
       "    .dataframe tbody tr th {\n",
       "        vertical-align: top;\n",
       "    }\n",
       "\n",
       "    .dataframe thead th {\n",
       "        text-align: right;\n",
       "    }\n",
       "</style>\n",
       "<table border=\"1\" class=\"dataframe\">\n",
       "  <thead>\n",
       "    <tr style=\"text-align: right;\">\n",
       "      <th></th>\n",
       "      <th>sub_agency</th>\n",
       "      <th>country</th>\n",
       "      <th>age_level</th>\n",
       "      <th>education_level</th>\n",
       "      <th>pay_grade</th>\n",
       "      <th>years_grouping</th>\n",
       "      <th>occupation</th>\n",
       "      <th>occupation_category</th>\n",
       "      <th>pay_plan</th>\n",
       "      <th>stem</th>\n",
       "      <th>...</th>\n",
       "      <th>years_of_service</th>\n",
       "      <th>age_level_code</th>\n",
       "      <th>occupation_family</th>\n",
       "      <th>occupation_code</th>\n",
       "      <th>agency</th>\n",
       "      <th>education_code</th>\n",
       "      <th>work_status_code</th>\n",
       "      <th>full_time_code</th>\n",
       "      <th>supervisor_code</th>\n",
       "      <th>state</th>\n",
       "    </tr>\n",
       "  </thead>\n",
       "  <tbody>\n",
       "    <tr>\n",
       "      <th>0</th>\n",
       "      <td>ADMINISTRATIVE CONFERENCE OF THE UNITED STATES</td>\n",
       "      <td>United States</td>\n",
       "      <td>40-44</td>\n",
       "      <td>BACHELORS</td>\n",
       "      <td>NaN</td>\n",
       "      <td>15 - 19</td>\n",
       "      <td>PROGRAM MANAGEMENT</td>\n",
       "      <td>Administrative</td>\n",
       "      <td>ES-SENIOR EXECUTIVE SERVICE</td>\n",
       "      <td>0</td>\n",
       "      <td>...</td>\n",
       "      <td>18.8</td>\n",
       "      <td>6.0</td>\n",
       "      <td>GENERAL ADMIN, CLERICAL, &amp; OFFICE SVCS</td>\n",
       "      <td>2.0</td>\n",
       "      <td>ADMINISTRATIVE CONFERENCE OF THE UNITED STATES</td>\n",
       "      <td>13</td>\n",
       "      <td>1</td>\n",
       "      <td>1</td>\n",
       "      <td>2</td>\n",
       "      <td>DISTRICT OF COLUMBIA</td>\n",
       "    </tr>\n",
       "    <tr>\n",
       "      <th>1</th>\n",
       "      <td>ADMINISTRATIVE CONFERENCE OF THE UNITED STATES</td>\n",
       "      <td>United States</td>\n",
       "      <td>55-59</td>\n",
       "      <td>POST-BACHELORS</td>\n",
       "      <td>NaN</td>\n",
       "      <td>25 - 29</td>\n",
       "      <td>GENERAL ATTORNEY</td>\n",
       "      <td>Professional</td>\n",
       "      <td>ES-SENIOR EXECUTIVE SERVICE</td>\n",
       "      <td>0</td>\n",
       "      <td>...</td>\n",
       "      <td>29.2</td>\n",
       "      <td>9.0</td>\n",
       "      <td>LEGAL AND KINDRED</td>\n",
       "      <td>1.0</td>\n",
       "      <td>ADMINISTRATIVE CONFERENCE OF THE UNITED STATES</td>\n",
       "      <td>15</td>\n",
       "      <td>1</td>\n",
       "      <td>1</td>\n",
       "      <td>2</td>\n",
       "      <td>DISTRICT OF COLUMBIA</td>\n",
       "    </tr>\n",
       "    <tr>\n",
       "      <th>2</th>\n",
       "      <td>ADMINISTRATIVE CONFERENCE OF THE UNITED STATES</td>\n",
       "      <td>United States</td>\n",
       "      <td>35-39</td>\n",
       "      <td>POST-BACHELORS</td>\n",
       "      <td>15.0</td>\n",
       "      <td>10 - 14</td>\n",
       "      <td>GENERAL ATTORNEY</td>\n",
       "      <td>Professional</td>\n",
       "      <td>GS-GENERAL SCHEDULE</td>\n",
       "      <td>0</td>\n",
       "      <td>...</td>\n",
       "      <td>12.5</td>\n",
       "      <td>5.0</td>\n",
       "      <td>LEGAL AND KINDRED</td>\n",
       "      <td>1.0</td>\n",
       "      <td>ADMINISTRATIVE CONFERENCE OF THE UNITED STATES</td>\n",
       "      <td>15</td>\n",
       "      <td>1</td>\n",
       "      <td>1</td>\n",
       "      <td>2</td>\n",
       "      <td>OKLAHOMA</td>\n",
       "    </tr>\n",
       "    <tr>\n",
       "      <th>3</th>\n",
       "      <td>ADMINISTRATIVE CONFERENCE OF THE UNITED STATES</td>\n",
       "      <td>United States</td>\n",
       "      <td>35-39</td>\n",
       "      <td>POST-BACHELORS</td>\n",
       "      <td>15.0</td>\n",
       "      <td>10 - 14</td>\n",
       "      <td>GENERAL ATTORNEY</td>\n",
       "      <td>Professional</td>\n",
       "      <td>GS-GENERAL SCHEDULE</td>\n",
       "      <td>0</td>\n",
       "      <td>...</td>\n",
       "      <td>10.5</td>\n",
       "      <td>5.0</td>\n",
       "      <td>LEGAL AND KINDRED</td>\n",
       "      <td>1.0</td>\n",
       "      <td>ADMINISTRATIVE CONFERENCE OF THE UNITED STATES</td>\n",
       "      <td>15</td>\n",
       "      <td>1</td>\n",
       "      <td>1</td>\n",
       "      <td>8</td>\n",
       "      <td>DISTRICT OF COLUMBIA</td>\n",
       "    </tr>\n",
       "    <tr>\n",
       "      <th>4</th>\n",
       "      <td>ADMINISTRATIVE CONFERENCE OF THE UNITED STATES</td>\n",
       "      <td>United States</td>\n",
       "      <td>40-44</td>\n",
       "      <td>POST-BACHELORS</td>\n",
       "      <td>13.0</td>\n",
       "      <td>10 - 14</td>\n",
       "      <td>GENERAL ATTORNEY</td>\n",
       "      <td>Professional</td>\n",
       "      <td>GS-GENERAL SCHEDULE</td>\n",
       "      <td>0</td>\n",
       "      <td>...</td>\n",
       "      <td>13.4</td>\n",
       "      <td>6.0</td>\n",
       "      <td>LEGAL AND KINDRED</td>\n",
       "      <td>1.0</td>\n",
       "      <td>ADMINISTRATIVE CONFERENCE OF THE UNITED STATES</td>\n",
       "      <td>15</td>\n",
       "      <td>1</td>\n",
       "      <td>1</td>\n",
       "      <td>8</td>\n",
       "      <td>DISTRICT OF COLUMBIA</td>\n",
       "    </tr>\n",
       "  </tbody>\n",
       "</table>\n",
       "<p>5 rows × 25 columns</p>\n",
       "</div>"
      ],
      "text/plain": [
       "                                       sub_agency        country age_level  \\\n",
       "0  ADMINISTRATIVE CONFERENCE OF THE UNITED STATES  United States     40-44   \n",
       "1  ADMINISTRATIVE CONFERENCE OF THE UNITED STATES  United States     55-59   \n",
       "2  ADMINISTRATIVE CONFERENCE OF THE UNITED STATES  United States     35-39   \n",
       "3  ADMINISTRATIVE CONFERENCE OF THE UNITED STATES  United States     35-39   \n",
       "4  ADMINISTRATIVE CONFERENCE OF THE UNITED STATES  United States     40-44   \n",
       "\n",
       "  education_level  pay_grade years_grouping          occupation  \\\n",
       "0       BACHELORS        NaN        15 - 19  PROGRAM MANAGEMENT   \n",
       "1  POST-BACHELORS        NaN        25 - 29    GENERAL ATTORNEY   \n",
       "2  POST-BACHELORS       15.0        10 - 14    GENERAL ATTORNEY   \n",
       "3  POST-BACHELORS       15.0        10 - 14    GENERAL ATTORNEY   \n",
       "4  POST-BACHELORS       13.0        10 - 14    GENERAL ATTORNEY   \n",
       "\n",
       "  occupation_category                     pay_plan  stem  ...  \\\n",
       "0      Administrative  ES-SENIOR EXECUTIVE SERVICE     0  ...   \n",
       "1        Professional  ES-SENIOR EXECUTIVE SERVICE     0  ...   \n",
       "2        Professional          GS-GENERAL SCHEDULE     0  ...   \n",
       "3        Professional          GS-GENERAL SCHEDULE     0  ...   \n",
       "4        Professional          GS-GENERAL SCHEDULE     0  ...   \n",
       "\n",
       "  years_of_service age_level_code                       occupation_family  \\\n",
       "0             18.8            6.0  GENERAL ADMIN, CLERICAL, & OFFICE SVCS   \n",
       "1             29.2            9.0                       LEGAL AND KINDRED   \n",
       "2             12.5            5.0                       LEGAL AND KINDRED   \n",
       "3             10.5            5.0                       LEGAL AND KINDRED   \n",
       "4             13.4            6.0                       LEGAL AND KINDRED   \n",
       "\n",
       "  occupation_code                                          agency  \\\n",
       "0             2.0  ADMINISTRATIVE CONFERENCE OF THE UNITED STATES   \n",
       "1             1.0  ADMINISTRATIVE CONFERENCE OF THE UNITED STATES   \n",
       "2             1.0  ADMINISTRATIVE CONFERENCE OF THE UNITED STATES   \n",
       "3             1.0  ADMINISTRATIVE CONFERENCE OF THE UNITED STATES   \n",
       "4             1.0  ADMINISTRATIVE CONFERENCE OF THE UNITED STATES   \n",
       "\n",
       "   education_code  work_status_code full_time_code  supervisor_code  \\\n",
       "0              13                 1              1                2   \n",
       "1              15                 1              1                2   \n",
       "2              15                 1              1                2   \n",
       "3              15                 1              1                8   \n",
       "4              15                 1              1                8   \n",
       "\n",
       "                  state  \n",
       "0  DISTRICT OF COLUMBIA  \n",
       "1  DISTRICT OF COLUMBIA  \n",
       "2              OKLAHOMA  \n",
       "3  DISTRICT OF COLUMBIA  \n",
       "4  DISTRICT OF COLUMBIA  \n",
       "\n",
       "[5 rows x 25 columns]"
      ]
     },
     "execution_count": 6,
     "metadata": {},
     "output_type": "execute_result"
    }
   ],
   "source": [
    "df.head()"
   ]
  },
  {
   "cell_type": "markdown",
   "id": "2328b3ea",
   "metadata": {},
   "source": [
    "### 2. Create Subset of only California with only numerical data"
   ]
  },
  {
   "cell_type": "code",
   "execution_count": 7,
   "id": "80075bf2",
   "metadata": {},
   "outputs": [],
   "source": [
    "df_cali =  df[df['state']=='CALIFORNIA']"
   ]
  },
  {
   "cell_type": "code",
   "execution_count": 8,
   "id": "205dcf3d",
   "metadata": {},
   "outputs": [
    {
     "data": {
      "text/html": [
       "<div>\n",
       "<style scoped>\n",
       "    .dataframe tbody tr th:only-of-type {\n",
       "        vertical-align: middle;\n",
       "    }\n",
       "\n",
       "    .dataframe tbody tr th {\n",
       "        vertical-align: top;\n",
       "    }\n",
       "\n",
       "    .dataframe thead th {\n",
       "        text-align: right;\n",
       "    }\n",
       "</style>\n",
       "<table border=\"1\" class=\"dataframe\">\n",
       "  <thead>\n",
       "    <tr style=\"text-align: right;\">\n",
       "      <th></th>\n",
       "      <th>sub_agency</th>\n",
       "      <th>country</th>\n",
       "      <th>age_level</th>\n",
       "      <th>education_level</th>\n",
       "      <th>pay_grade</th>\n",
       "      <th>years_grouping</th>\n",
       "      <th>occupation</th>\n",
       "      <th>occupation_category</th>\n",
       "      <th>pay_plan</th>\n",
       "      <th>stem</th>\n",
       "      <th>...</th>\n",
       "      <th>years_of_service</th>\n",
       "      <th>age_level_code</th>\n",
       "      <th>occupation_family</th>\n",
       "      <th>occupation_code</th>\n",
       "      <th>agency</th>\n",
       "      <th>education_code</th>\n",
       "      <th>work_status_code</th>\n",
       "      <th>full_time_code</th>\n",
       "      <th>supervisor_code</th>\n",
       "      <th>state</th>\n",
       "    </tr>\n",
       "  </thead>\n",
       "  <tbody>\n",
       "    <tr>\n",
       "      <th>21</th>\n",
       "      <td>AMERICAN BATTLE MONUMENTS COMMISSION</td>\n",
       "      <td>United States</td>\n",
       "      <td>40-44</td>\n",
       "      <td>BACHELORS</td>\n",
       "      <td>13.0</td>\n",
       "      <td>10 - 14</td>\n",
       "      <td>HUMAN RESOURCES MANAGEMENT</td>\n",
       "      <td>Administrative</td>\n",
       "      <td>GS-GENERAL SCHEDULE</td>\n",
       "      <td>0</td>\n",
       "      <td>...</td>\n",
       "      <td>14.6</td>\n",
       "      <td>6.0</td>\n",
       "      <td>PERSONNEL MGMT &amp; INDUSTRIAL  RELATIONS</td>\n",
       "      <td>2.0</td>\n",
       "      <td>AMERICAN BATTLE MONUMENTS COMMISSION</td>\n",
       "      <td>13</td>\n",
       "      <td>1</td>\n",
       "      <td>1</td>\n",
       "      <td>8</td>\n",
       "      <td>CALIFORNIA</td>\n",
       "    </tr>\n",
       "    <tr>\n",
       "      <th>122</th>\n",
       "      <td>AIR FORCE OPERATIONAL TEST AND EVALUATION CENTER</td>\n",
       "      <td>United States</td>\n",
       "      <td>60-64</td>\n",
       "      <td>MASTERS</td>\n",
       "      <td>13.0</td>\n",
       "      <td>10 - 14</td>\n",
       "      <td>MISCELLANEOUS ADMINISTRATION AND PROGRAM</td>\n",
       "      <td>Administrative</td>\n",
       "      <td>GS-GENERAL SCHEDULE</td>\n",
       "      <td>0</td>\n",
       "      <td>...</td>\n",
       "      <td>10.0</td>\n",
       "      <td>10.0</td>\n",
       "      <td>GENERAL ADMIN, CLERICAL, &amp; OFFICE SVCS</td>\n",
       "      <td>2.0</td>\n",
       "      <td>DEPARTMENT OF THE AIR FORCE</td>\n",
       "      <td>17</td>\n",
       "      <td>1</td>\n",
       "      <td>1</td>\n",
       "      <td>8</td>\n",
       "      <td>CALIFORNIA</td>\n",
       "    </tr>\n",
       "    <tr>\n",
       "      <th>123</th>\n",
       "      <td>AIR FORCE OPERATIONAL TEST AND EVALUATION CENTER</td>\n",
       "      <td>United States</td>\n",
       "      <td>40-44</td>\n",
       "      <td>BACHELORS</td>\n",
       "      <td>13.0</td>\n",
       "      <td>5 - 9</td>\n",
       "      <td>MISCELLANEOUS ADMINISTRATION AND PROGRAM</td>\n",
       "      <td>Administrative</td>\n",
       "      <td>GS-GENERAL SCHEDULE</td>\n",
       "      <td>0</td>\n",
       "      <td>...</td>\n",
       "      <td>8.3</td>\n",
       "      <td>6.0</td>\n",
       "      <td>GENERAL ADMIN, CLERICAL, &amp; OFFICE SVCS</td>\n",
       "      <td>2.0</td>\n",
       "      <td>DEPARTMENT OF THE AIR FORCE</td>\n",
       "      <td>13</td>\n",
       "      <td>1</td>\n",
       "      <td>1</td>\n",
       "      <td>8</td>\n",
       "      <td>CALIFORNIA</td>\n",
       "    </tr>\n",
       "    <tr>\n",
       "      <th>129</th>\n",
       "      <td>AIR FORCE OPERATIONAL TEST AND EVALUATION CENTER</td>\n",
       "      <td>United States</td>\n",
       "      <td>65 or more</td>\n",
       "      <td>BETWEEN HS &amp; BACHELORS</td>\n",
       "      <td>9.0</td>\n",
       "      <td>35 or more</td>\n",
       "      <td>TECHNICAL WRITING AND EDITING</td>\n",
       "      <td>Administrative</td>\n",
       "      <td>GS-GENERAL SCHEDULE</td>\n",
       "      <td>0</td>\n",
       "      <td>...</td>\n",
       "      <td>37.7</td>\n",
       "      <td>11.0</td>\n",
       "      <td>INFORMATION AND ARTS</td>\n",
       "      <td>2.0</td>\n",
       "      <td>DEPARTMENT OF THE AIR FORCE</td>\n",
       "      <td>10</td>\n",
       "      <td>1</td>\n",
       "      <td>1</td>\n",
       "      <td>8</td>\n",
       "      <td>CALIFORNIA</td>\n",
       "    </tr>\n",
       "    <tr>\n",
       "      <th>147</th>\n",
       "      <td>AIR FORCE OPERATIONAL TEST AND EVALUATION CENTER</td>\n",
       "      <td>United States</td>\n",
       "      <td>55-59</td>\n",
       "      <td>MASTERS</td>\n",
       "      <td>13.0</td>\n",
       "      <td>20 - 24</td>\n",
       "      <td>OPERATIONS RESEARCH</td>\n",
       "      <td>Professional</td>\n",
       "      <td>GS-GENERAL SCHEDULE</td>\n",
       "      <td>1</td>\n",
       "      <td>...</td>\n",
       "      <td>22.2</td>\n",
       "      <td>9.0</td>\n",
       "      <td>MATHEMATICS AND STATISTICS</td>\n",
       "      <td>1.0</td>\n",
       "      <td>DEPARTMENT OF THE AIR FORCE</td>\n",
       "      <td>17</td>\n",
       "      <td>1</td>\n",
       "      <td>1</td>\n",
       "      <td>8</td>\n",
       "      <td>CALIFORNIA</td>\n",
       "    </tr>\n",
       "  </tbody>\n",
       "</table>\n",
       "<p>5 rows × 25 columns</p>\n",
       "</div>"
      ],
      "text/plain": [
       "                                           sub_agency        country  \\\n",
       "21               AMERICAN BATTLE MONUMENTS COMMISSION  United States   \n",
       "122  AIR FORCE OPERATIONAL TEST AND EVALUATION CENTER  United States   \n",
       "123  AIR FORCE OPERATIONAL TEST AND EVALUATION CENTER  United States   \n",
       "129  AIR FORCE OPERATIONAL TEST AND EVALUATION CENTER  United States   \n",
       "147  AIR FORCE OPERATIONAL TEST AND EVALUATION CENTER  United States   \n",
       "\n",
       "      age_level         education_level  pay_grade years_grouping  \\\n",
       "21        40-44               BACHELORS       13.0        10 - 14   \n",
       "122       60-64                 MASTERS       13.0        10 - 14   \n",
       "123       40-44               BACHELORS       13.0          5 - 9   \n",
       "129  65 or more  BETWEEN HS & BACHELORS        9.0     35 or more   \n",
       "147       55-59                 MASTERS       13.0        20 - 24   \n",
       "\n",
       "                                   occupation occupation_category  \\\n",
       "21                 HUMAN RESOURCES MANAGEMENT      Administrative   \n",
       "122  MISCELLANEOUS ADMINISTRATION AND PROGRAM      Administrative   \n",
       "123  MISCELLANEOUS ADMINISTRATION AND PROGRAM      Administrative   \n",
       "129             TECHNICAL WRITING AND EDITING      Administrative   \n",
       "147                       OPERATIONS RESEARCH        Professional   \n",
       "\n",
       "                pay_plan  stem  ... years_of_service age_level_code  \\\n",
       "21   GS-GENERAL SCHEDULE     0  ...             14.6            6.0   \n",
       "122  GS-GENERAL SCHEDULE     0  ...             10.0           10.0   \n",
       "123  GS-GENERAL SCHEDULE     0  ...              8.3            6.0   \n",
       "129  GS-GENERAL SCHEDULE     0  ...             37.7           11.0   \n",
       "147  GS-GENERAL SCHEDULE     1  ...             22.2            9.0   \n",
       "\n",
       "                          occupation_family occupation_code  \\\n",
       "21   PERSONNEL MGMT & INDUSTRIAL  RELATIONS             2.0   \n",
       "122  GENERAL ADMIN, CLERICAL, & OFFICE SVCS             2.0   \n",
       "123  GENERAL ADMIN, CLERICAL, & OFFICE SVCS             2.0   \n",
       "129                    INFORMATION AND ARTS             2.0   \n",
       "147              MATHEMATICS AND STATISTICS             1.0   \n",
       "\n",
       "                                   agency  education_code  work_status_code  \\\n",
       "21   AMERICAN BATTLE MONUMENTS COMMISSION              13                 1   \n",
       "122           DEPARTMENT OF THE AIR FORCE              17                 1   \n",
       "123           DEPARTMENT OF THE AIR FORCE              13                 1   \n",
       "129           DEPARTMENT OF THE AIR FORCE              10                 1   \n",
       "147           DEPARTMENT OF THE AIR FORCE              17                 1   \n",
       "\n",
       "    full_time_code  supervisor_code       state  \n",
       "21               1                8  CALIFORNIA  \n",
       "122              1                8  CALIFORNIA  \n",
       "123              1                8  CALIFORNIA  \n",
       "129              1                8  CALIFORNIA  \n",
       "147              1                8  CALIFORNIA  \n",
       "\n",
       "[5 rows x 25 columns]"
      ]
     },
     "execution_count": 8,
     "metadata": {},
     "output_type": "execute_result"
    }
   ],
   "source": [
    "df_cali.head()"
   ]
  },
  {
   "cell_type": "code",
   "execution_count": 9,
   "id": "ee708522",
   "metadata": {},
   "outputs": [
    {
     "data": {
      "text/plain": [
       "(141103, 25)"
      ]
     },
     "execution_count": 9,
     "metadata": {},
     "output_type": "execute_result"
    }
   ],
   "source": [
    "df_cali.shape"
   ]
  },
  {
   "cell_type": "code",
   "execution_count": 10,
   "id": "5052f6ec",
   "metadata": {},
   "outputs": [
    {
     "name": "stdout",
     "output_type": "stream",
     "text": [
      "<class 'pandas.core.frame.DataFrame'>\n",
      "Int64Index: 141103 entries, 21 to 2155550\n",
      "Data columns (total 25 columns):\n",
      " #   Column               Non-Null Count   Dtype  \n",
      "---  ------               --------------   -----  \n",
      " 0   sub_agency           141103 non-null  object \n",
      " 1   country              141103 non-null  object \n",
      " 2   age_level            141103 non-null  object \n",
      " 3   education_level      141103 non-null  object \n",
      " 4   pay_grade            89763 non-null   float64\n",
      " 5   years_grouping       141103 non-null  object \n",
      " 6   occupation           141103 non-null  object \n",
      " 7   occupation_category  141103 non-null  object \n",
      " 8   pay_plan             141103 non-null  object \n",
      " 9   stem                 141103 non-null  int64  \n",
      " 10  supervisor_status    141103 non-null  object \n",
      " 11  full_time            141103 non-null  object \n",
      " 12  work_status          141103 non-null  object \n",
      " 13  date                 141103 non-null  object \n",
      " 14  salary               140479 non-null  float64\n",
      " 15  years_of_service     141103 non-null  float64\n",
      " 16  age_level_code       141103 non-null  float64\n",
      " 17  occupation_family    69995 non-null   object \n",
      " 18  occupation_code      141103 non-null  float64\n",
      " 19  agency               141103 non-null  object \n",
      " 20  education_code       141103 non-null  int64  \n",
      " 21  work_status_code     141103 non-null  int64  \n",
      " 22  full_time_code       141103 non-null  int64  \n",
      " 23  supervisor_code      141103 non-null  int64  \n",
      " 24  state                141103 non-null  object \n",
      "dtypes: float64(5), int64(5), object(15)\n",
      "memory usage: 28.0+ MB\n"
     ]
    }
   ],
   "source": [
    "df_cali.info()"
   ]
  },
  {
   "cell_type": "code",
   "execution_count": 11,
   "id": "bf8c1d11",
   "metadata": {},
   "outputs": [],
   "source": [
    "columns = ['pay_grade','stem', 'salary', 'years_of_service','age_level_code','occupation_code', 'education_code', 'work_status_code', 'full_time_code', 'supervisor_code']"
   ]
  },
  {
   "cell_type": "code",
   "execution_count": 12,
   "id": "19044cb6",
   "metadata": {},
   "outputs": [],
   "source": [
    "#Create subset\n",
    "\n",
    "sub = df_cali[columns]"
   ]
  },
  {
   "cell_type": "code",
   "execution_count": 13,
   "id": "b65da685",
   "metadata": {},
   "outputs": [
    {
     "data": {
      "text/html": [
       "<div>\n",
       "<style scoped>\n",
       "    .dataframe tbody tr th:only-of-type {\n",
       "        vertical-align: middle;\n",
       "    }\n",
       "\n",
       "    .dataframe tbody tr th {\n",
       "        vertical-align: top;\n",
       "    }\n",
       "\n",
       "    .dataframe thead th {\n",
       "        text-align: right;\n",
       "    }\n",
       "</style>\n",
       "<table border=\"1\" class=\"dataframe\">\n",
       "  <thead>\n",
       "    <tr style=\"text-align: right;\">\n",
       "      <th></th>\n",
       "      <th>pay_grade</th>\n",
       "      <th>stem</th>\n",
       "      <th>salary</th>\n",
       "      <th>years_of_service</th>\n",
       "      <th>age_level_code</th>\n",
       "      <th>occupation_code</th>\n",
       "      <th>education_code</th>\n",
       "      <th>work_status_code</th>\n",
       "      <th>full_time_code</th>\n",
       "      <th>supervisor_code</th>\n",
       "    </tr>\n",
       "  </thead>\n",
       "  <tbody>\n",
       "    <tr>\n",
       "      <th>21</th>\n",
       "      <td>13.0</td>\n",
       "      <td>0</td>\n",
       "      <td>120618.0</td>\n",
       "      <td>14.6</td>\n",
       "      <td>6.0</td>\n",
       "      <td>2.0</td>\n",
       "      <td>13</td>\n",
       "      <td>1</td>\n",
       "      <td>1</td>\n",
       "      <td>8</td>\n",
       "    </tr>\n",
       "    <tr>\n",
       "      <th>122</th>\n",
       "      <td>13.0</td>\n",
       "      <td>0</td>\n",
       "      <td>130214.0</td>\n",
       "      <td>10.0</td>\n",
       "      <td>10.0</td>\n",
       "      <td>2.0</td>\n",
       "      <td>17</td>\n",
       "      <td>1</td>\n",
       "      <td>1</td>\n",
       "      <td>8</td>\n",
       "    </tr>\n",
       "    <tr>\n",
       "      <th>123</th>\n",
       "      <td>13.0</td>\n",
       "      <td>0</td>\n",
       "      <td>126597.0</td>\n",
       "      <td>8.3</td>\n",
       "      <td>6.0</td>\n",
       "      <td>2.0</td>\n",
       "      <td>13</td>\n",
       "      <td>1</td>\n",
       "      <td>1</td>\n",
       "      <td>8</td>\n",
       "    </tr>\n",
       "    <tr>\n",
       "      <th>129</th>\n",
       "      <td>9.0</td>\n",
       "      <td>0</td>\n",
       "      <td>81805.0</td>\n",
       "      <td>37.7</td>\n",
       "      <td>11.0</td>\n",
       "      <td>2.0</td>\n",
       "      <td>10</td>\n",
       "      <td>1</td>\n",
       "      <td>1</td>\n",
       "      <td>8</td>\n",
       "    </tr>\n",
       "    <tr>\n",
       "      <th>147</th>\n",
       "      <td>13.0</td>\n",
       "      <td>1</td>\n",
       "      <td>122980.0</td>\n",
       "      <td>22.2</td>\n",
       "      <td>9.0</td>\n",
       "      <td>1.0</td>\n",
       "      <td>17</td>\n",
       "      <td>1</td>\n",
       "      <td>1</td>\n",
       "      <td>8</td>\n",
       "    </tr>\n",
       "  </tbody>\n",
       "</table>\n",
       "</div>"
      ],
      "text/plain": [
       "     pay_grade  stem    salary  years_of_service  age_level_code  \\\n",
       "21        13.0     0  120618.0              14.6             6.0   \n",
       "122       13.0     0  130214.0              10.0            10.0   \n",
       "123       13.0     0  126597.0               8.3             6.0   \n",
       "129        9.0     0   81805.0              37.7            11.0   \n",
       "147       13.0     1  122980.0              22.2             9.0   \n",
       "\n",
       "     occupation_code  education_code  work_status_code  full_time_code  \\\n",
       "21               2.0              13                 1               1   \n",
       "122              2.0              17                 1               1   \n",
       "123              2.0              13                 1               1   \n",
       "129              2.0              10                 1               1   \n",
       "147              1.0              17                 1               1   \n",
       "\n",
       "     supervisor_code  \n",
       "21                 8  \n",
       "122                8  \n",
       "123                8  \n",
       "129                8  \n",
       "147                8  "
      ]
     },
     "execution_count": 13,
     "metadata": {},
     "output_type": "execute_result"
    }
   ],
   "source": [
    "sub.head()"
   ]
  },
  {
   "cell_type": "code",
   "execution_count": 14,
   "id": "beeaacab",
   "metadata": {},
   "outputs": [
    {
     "data": {
      "text/plain": [
       "(141103, 10)"
      ]
     },
     "execution_count": 14,
     "metadata": {},
     "output_type": "execute_result"
    }
   ],
   "source": [
    "sub.shape"
   ]
  },
  {
   "cell_type": "markdown",
   "id": "b7628dac",
   "metadata": {},
   "source": [
    "### 3. Clean Data"
   ]
  },
  {
   "cell_type": "code",
   "execution_count": 15,
   "id": "2bcfdcee",
   "metadata": {},
   "outputs": [
    {
     "data": {
      "text/plain": [
       "pay_grade           51340\n",
       "stem                    0\n",
       "salary                624\n",
       "years_of_service        0\n",
       "age_level_code          0\n",
       "occupation_code         0\n",
       "education_code          0\n",
       "work_status_code        0\n",
       "full_time_code          0\n",
       "supervisor_code         0\n",
       "dtype: int64"
      ]
     },
     "execution_count": 15,
     "metadata": {},
     "output_type": "execute_result"
    }
   ],
   "source": [
    "# Check for missing values\n",
    "\n",
    "sub.isnull().sum()"
   ]
  },
  {
   "cell_type": "code",
   "execution_count": 16,
   "id": "6bc22602",
   "metadata": {},
   "outputs": [],
   "source": [
    "#Fix pay_grade NaN"
   ]
  },
  {
   "cell_type": "code",
   "execution_count": 17,
   "id": "7c50e4b9",
   "metadata": {},
   "outputs": [],
   "source": [
    "paygrade_nan = sub[sub['pay_grade'].isnull() == True]"
   ]
  },
  {
   "cell_type": "code",
   "execution_count": 18,
   "id": "f5eb4642",
   "metadata": {},
   "outputs": [
    {
     "data": {
      "text/html": [
       "<div>\n",
       "<style scoped>\n",
       "    .dataframe tbody tr th:only-of-type {\n",
       "        vertical-align: middle;\n",
       "    }\n",
       "\n",
       "    .dataframe tbody tr th {\n",
       "        vertical-align: top;\n",
       "    }\n",
       "\n",
       "    .dataframe thead th {\n",
       "        text-align: right;\n",
       "    }\n",
       "</style>\n",
       "<table border=\"1\" class=\"dataframe\">\n",
       "  <thead>\n",
       "    <tr style=\"text-align: right;\">\n",
       "      <th></th>\n",
       "      <th>pay_grade</th>\n",
       "      <th>stem</th>\n",
       "      <th>salary</th>\n",
       "      <th>years_of_service</th>\n",
       "      <th>age_level_code</th>\n",
       "      <th>occupation_code</th>\n",
       "      <th>education_code</th>\n",
       "      <th>work_status_code</th>\n",
       "      <th>full_time_code</th>\n",
       "      <th>supervisor_code</th>\n",
       "    </tr>\n",
       "  </thead>\n",
       "  <tbody>\n",
       "    <tr>\n",
       "      <th>15831</th>\n",
       "      <td>NaN</td>\n",
       "      <td>0</td>\n",
       "      <td>93706.0</td>\n",
       "      <td>7.1</td>\n",
       "      <td>8.0</td>\n",
       "      <td>6.0</td>\n",
       "      <td>13</td>\n",
       "      <td>1</td>\n",
       "      <td>1</td>\n",
       "      <td>2</td>\n",
       "    </tr>\n",
       "    <tr>\n",
       "      <th>22517</th>\n",
       "      <td>NaN</td>\n",
       "      <td>0</td>\n",
       "      <td>83667.0</td>\n",
       "      <td>7.2</td>\n",
       "      <td>5.0</td>\n",
       "      <td>6.0</td>\n",
       "      <td>13</td>\n",
       "      <td>1</td>\n",
       "      <td>1</td>\n",
       "      <td>8</td>\n",
       "    </tr>\n",
       "    <tr>\n",
       "      <th>22553</th>\n",
       "      <td>NaN</td>\n",
       "      <td>0</td>\n",
       "      <td>98026.0</td>\n",
       "      <td>6.2</td>\n",
       "      <td>6.0</td>\n",
       "      <td>6.0</td>\n",
       "      <td>13</td>\n",
       "      <td>1</td>\n",
       "      <td>1</td>\n",
       "      <td>2</td>\n",
       "    </tr>\n",
       "    <tr>\n",
       "      <th>22559</th>\n",
       "      <td>NaN</td>\n",
       "      <td>0</td>\n",
       "      <td>74777.0</td>\n",
       "      <td>8.5</td>\n",
       "      <td>4.0</td>\n",
       "      <td>6.0</td>\n",
       "      <td>13</td>\n",
       "      <td>1</td>\n",
       "      <td>1</td>\n",
       "      <td>8</td>\n",
       "    </tr>\n",
       "    <tr>\n",
       "      <th>22638</th>\n",
       "      <td>NaN</td>\n",
       "      <td>0</td>\n",
       "      <td>99675.0</td>\n",
       "      <td>16.3</td>\n",
       "      <td>5.0</td>\n",
       "      <td>6.0</td>\n",
       "      <td>12</td>\n",
       "      <td>1</td>\n",
       "      <td>1</td>\n",
       "      <td>2</td>\n",
       "    </tr>\n",
       "    <tr>\n",
       "      <th>...</th>\n",
       "      <td>...</td>\n",
       "      <td>...</td>\n",
       "      <td>...</td>\n",
       "      <td>...</td>\n",
       "      <td>...</td>\n",
       "      <td>...</td>\n",
       "      <td>...</td>\n",
       "      <td>...</td>\n",
       "      <td>...</td>\n",
       "      <td>...</td>\n",
       "    </tr>\n",
       "    <tr>\n",
       "      <th>2155279</th>\n",
       "      <td>NaN</td>\n",
       "      <td>0</td>\n",
       "      <td>48940.0</td>\n",
       "      <td>6.7</td>\n",
       "      <td>7.0</td>\n",
       "      <td>6.0</td>\n",
       "      <td>8</td>\n",
       "      <td>1</td>\n",
       "      <td>1</td>\n",
       "      <td>8</td>\n",
       "    </tr>\n",
       "    <tr>\n",
       "      <th>2155281</th>\n",
       "      <td>NaN</td>\n",
       "      <td>1</td>\n",
       "      <td>151595.0</td>\n",
       "      <td>6.7</td>\n",
       "      <td>9.0</td>\n",
       "      <td>1.0</td>\n",
       "      <td>13</td>\n",
       "      <td>1</td>\n",
       "      <td>1</td>\n",
       "      <td>8</td>\n",
       "    </tr>\n",
       "    <tr>\n",
       "      <th>2155385</th>\n",
       "      <td>NaN</td>\n",
       "      <td>1</td>\n",
       "      <td>257480.0</td>\n",
       "      <td>5.9</td>\n",
       "      <td>9.0</td>\n",
       "      <td>1.0</td>\n",
       "      <td>15</td>\n",
       "      <td>1</td>\n",
       "      <td>1</td>\n",
       "      <td>8</td>\n",
       "    </tr>\n",
       "    <tr>\n",
       "      <th>2155479</th>\n",
       "      <td>NaN</td>\n",
       "      <td>1</td>\n",
       "      <td>95087.0</td>\n",
       "      <td>5.4</td>\n",
       "      <td>6.0</td>\n",
       "      <td>1.0</td>\n",
       "      <td>13</td>\n",
       "      <td>1</td>\n",
       "      <td>1</td>\n",
       "      <td>8</td>\n",
       "    </tr>\n",
       "    <tr>\n",
       "      <th>2155550</th>\n",
       "      <td>NaN</td>\n",
       "      <td>0</td>\n",
       "      <td>183300.0</td>\n",
       "      <td>0.7</td>\n",
       "      <td>7.0</td>\n",
       "      <td>2.0</td>\n",
       "      <td>17</td>\n",
       "      <td>1</td>\n",
       "      <td>1</td>\n",
       "      <td>2</td>\n",
       "    </tr>\n",
       "  </tbody>\n",
       "</table>\n",
       "<p>51340 rows × 10 columns</p>\n",
       "</div>"
      ],
      "text/plain": [
       "         pay_grade  stem    salary  years_of_service  age_level_code  \\\n",
       "15831          NaN     0   93706.0               7.1             8.0   \n",
       "22517          NaN     0   83667.0               7.2             5.0   \n",
       "22553          NaN     0   98026.0               6.2             6.0   \n",
       "22559          NaN     0   74777.0               8.5             4.0   \n",
       "22638          NaN     0   99675.0              16.3             5.0   \n",
       "...            ...   ...       ...               ...             ...   \n",
       "2155279        NaN     0   48940.0               6.7             7.0   \n",
       "2155281        NaN     1  151595.0               6.7             9.0   \n",
       "2155385        NaN     1  257480.0               5.9             9.0   \n",
       "2155479        NaN     1   95087.0               5.4             6.0   \n",
       "2155550        NaN     0  183300.0               0.7             7.0   \n",
       "\n",
       "         occupation_code  education_code  work_status_code  full_time_code  \\\n",
       "15831                6.0              13                 1               1   \n",
       "22517                6.0              13                 1               1   \n",
       "22553                6.0              13                 1               1   \n",
       "22559                6.0              13                 1               1   \n",
       "22638                6.0              12                 1               1   \n",
       "...                  ...             ...               ...             ...   \n",
       "2155279              6.0               8                 1               1   \n",
       "2155281              1.0              13                 1               1   \n",
       "2155385              1.0              15                 1               1   \n",
       "2155479              1.0              13                 1               1   \n",
       "2155550              2.0              17                 1               1   \n",
       "\n",
       "         supervisor_code  \n",
       "15831                  2  \n",
       "22517                  8  \n",
       "22553                  2  \n",
       "22559                  8  \n",
       "22638                  2  \n",
       "...                  ...  \n",
       "2155279                8  \n",
       "2155281                8  \n",
       "2155385                8  \n",
       "2155479                8  \n",
       "2155550                2  \n",
       "\n",
       "[51340 rows x 10 columns]"
      ]
     },
     "execution_count": 18,
     "metadata": {},
     "output_type": "execute_result"
    }
   ],
   "source": [
    "paygrade_nan"
   ]
  },
  {
   "cell_type": "code",
   "execution_count": 19,
   "id": "b2bfe189",
   "metadata": {},
   "outputs": [
    {
     "data": {
      "text/plain": [
       "9.875416374229916"
      ]
     },
     "execution_count": 19,
     "metadata": {},
     "output_type": "execute_result"
    }
   ],
   "source": [
    "sub.pay_grade.mean()"
   ]
  },
  {
   "cell_type": "code",
   "execution_count": 20,
   "id": "43390bc9",
   "metadata": {},
   "outputs": [
    {
     "data": {
      "text/plain": [
       "11.0"
      ]
     },
     "execution_count": 20,
     "metadata": {},
     "output_type": "execute_result"
    }
   ],
   "source": [
    "sub.pay_grade.median()"
   ]
  },
  {
   "cell_type": "code",
   "execution_count": 21,
   "id": "1e9de43d",
   "metadata": {},
   "outputs": [
    {
     "data": {
      "text/plain": [
       "0    12.0\n",
       "Name: pay_grade, dtype: float64"
      ]
     },
     "execution_count": 21,
     "metadata": {},
     "output_type": "execute_result"
    }
   ],
   "source": [
    "sub.pay_grade.mode()"
   ]
  },
  {
   "cell_type": "code",
   "execution_count": 22,
   "id": "f0e1bfd9",
   "metadata": {},
   "outputs": [
    {
     "name": "stderr",
     "output_type": "stream",
     "text": [
      "/var/folders/rt/m2j4lb4d1jn3b18ck1_f2csm0000gn/T/ipykernel_33258/1276879238.py:2: SettingWithCopyWarning: \n",
      "A value is trying to be set on a copy of a slice from a DataFrame.\n",
      "Try using .loc[row_indexer,col_indexer] = value instead\n",
      "\n",
      "See the caveats in the documentation: https://pandas.pydata.org/pandas-docs/stable/user_guide/indexing.html#returning-a-view-versus-a-copy\n",
      "  sub['pay_grade'] = sub['pay_grade'].fillna(sub['pay_grade'].median())\n"
     ]
    }
   ],
   "source": [
    "#replace pay_grade NaN values with median\n",
    "sub['pay_grade'] = sub['pay_grade'].fillna(sub['pay_grade'].median())"
   ]
  },
  {
   "cell_type": "code",
   "execution_count": 23,
   "id": "f20564d1",
   "metadata": {},
   "outputs": [
    {
     "data": {
      "text/plain": [
       "pay_grade             0\n",
       "stem                  0\n",
       "salary              624\n",
       "years_of_service      0\n",
       "age_level_code        0\n",
       "occupation_code       0\n",
       "education_code        0\n",
       "work_status_code      0\n",
       "full_time_code        0\n",
       "supervisor_code       0\n",
       "dtype: int64"
      ]
     },
     "execution_count": 23,
     "metadata": {},
     "output_type": "execute_result"
    }
   ],
   "source": [
    "sub.isnull().sum()"
   ]
  },
  {
   "cell_type": "code",
   "execution_count": 24,
   "id": "19a3cc98",
   "metadata": {},
   "outputs": [],
   "source": [
    "# Fix salary NaN"
   ]
  },
  {
   "cell_type": "code",
   "execution_count": 25,
   "id": "e11518ea",
   "metadata": {},
   "outputs": [],
   "source": [
    "salary_nan = sub[sub['salary'].isnull() == True]"
   ]
  },
  {
   "cell_type": "code",
   "execution_count": 26,
   "id": "dcf4465b",
   "metadata": {},
   "outputs": [
    {
     "data": {
      "text/html": [
       "<div>\n",
       "<style scoped>\n",
       "    .dataframe tbody tr th:only-of-type {\n",
       "        vertical-align: middle;\n",
       "    }\n",
       "\n",
       "    .dataframe tbody tr th {\n",
       "        vertical-align: top;\n",
       "    }\n",
       "\n",
       "    .dataframe thead th {\n",
       "        text-align: right;\n",
       "    }\n",
       "</style>\n",
       "<table border=\"1\" class=\"dataframe\">\n",
       "  <thead>\n",
       "    <tr style=\"text-align: right;\">\n",
       "      <th></th>\n",
       "      <th>pay_grade</th>\n",
       "      <th>stem</th>\n",
       "      <th>salary</th>\n",
       "      <th>years_of_service</th>\n",
       "      <th>age_level_code</th>\n",
       "      <th>occupation_code</th>\n",
       "      <th>education_code</th>\n",
       "      <th>work_status_code</th>\n",
       "      <th>full_time_code</th>\n",
       "      <th>supervisor_code</th>\n",
       "    </tr>\n",
       "  </thead>\n",
       "  <tbody>\n",
       "    <tr>\n",
       "      <th>25778</th>\n",
       "      <td>9.0</td>\n",
       "      <td>0</td>\n",
       "      <td>NaN</td>\n",
       "      <td>21.7</td>\n",
       "      <td>8.0</td>\n",
       "      <td>3.0</td>\n",
       "      <td>13</td>\n",
       "      <td>1</td>\n",
       "      <td>1</td>\n",
       "      <td>8</td>\n",
       "    </tr>\n",
       "    <tr>\n",
       "      <th>26307</th>\n",
       "      <td>13.0</td>\n",
       "      <td>1</td>\n",
       "      <td>NaN</td>\n",
       "      <td>12.7</td>\n",
       "      <td>7.0</td>\n",
       "      <td>1.0</td>\n",
       "      <td>17</td>\n",
       "      <td>1</td>\n",
       "      <td>1</td>\n",
       "      <td>4</td>\n",
       "    </tr>\n",
       "    <tr>\n",
       "      <th>28826</th>\n",
       "      <td>7.0</td>\n",
       "      <td>0</td>\n",
       "      <td>NaN</td>\n",
       "      <td>6.7</td>\n",
       "      <td>5.0</td>\n",
       "      <td>3.0</td>\n",
       "      <td>14</td>\n",
       "      <td>1</td>\n",
       "      <td>1</td>\n",
       "      <td>8</td>\n",
       "    </tr>\n",
       "    <tr>\n",
       "      <th>48901</th>\n",
       "      <td>12.0</td>\n",
       "      <td>0</td>\n",
       "      <td>NaN</td>\n",
       "      <td>7.1</td>\n",
       "      <td>9.0</td>\n",
       "      <td>2.0</td>\n",
       "      <td>4</td>\n",
       "      <td>1</td>\n",
       "      <td>1</td>\n",
       "      <td>8</td>\n",
       "    </tr>\n",
       "    <tr>\n",
       "      <th>144201</th>\n",
       "      <td>9.0</td>\n",
       "      <td>0</td>\n",
       "      <td>NaN</td>\n",
       "      <td>12.8</td>\n",
       "      <td>5.0</td>\n",
       "      <td>2.0</td>\n",
       "      <td>4</td>\n",
       "      <td>1</td>\n",
       "      <td>1</td>\n",
       "      <td>8</td>\n",
       "    </tr>\n",
       "    <tr>\n",
       "      <th>...</th>\n",
       "      <td>...</td>\n",
       "      <td>...</td>\n",
       "      <td>...</td>\n",
       "      <td>...</td>\n",
       "      <td>...</td>\n",
       "      <td>...</td>\n",
       "      <td>...</td>\n",
       "      <td>...</td>\n",
       "      <td>...</td>\n",
       "      <td>...</td>\n",
       "    </tr>\n",
       "    <tr>\n",
       "      <th>2141321</th>\n",
       "      <td>11.0</td>\n",
       "      <td>0</td>\n",
       "      <td>NaN</td>\n",
       "      <td>0.3</td>\n",
       "      <td>3.0</td>\n",
       "      <td>2.0</td>\n",
       "      <td>17</td>\n",
       "      <td>1</td>\n",
       "      <td>1</td>\n",
       "      <td>8</td>\n",
       "    </tr>\n",
       "    <tr>\n",
       "      <th>2143754</th>\n",
       "      <td>11.0</td>\n",
       "      <td>0</td>\n",
       "      <td>NaN</td>\n",
       "      <td>0.3</td>\n",
       "      <td>9.0</td>\n",
       "      <td>2.0</td>\n",
       "      <td>17</td>\n",
       "      <td>1</td>\n",
       "      <td>1</td>\n",
       "      <td>8</td>\n",
       "    </tr>\n",
       "    <tr>\n",
       "      <th>2145619</th>\n",
       "      <td>11.0</td>\n",
       "      <td>0</td>\n",
       "      <td>NaN</td>\n",
       "      <td>0.2</td>\n",
       "      <td>5.0</td>\n",
       "      <td>2.0</td>\n",
       "      <td>17</td>\n",
       "      <td>1</td>\n",
       "      <td>1</td>\n",
       "      <td>8</td>\n",
       "    </tr>\n",
       "    <tr>\n",
       "      <th>2145639</th>\n",
       "      <td>11.0</td>\n",
       "      <td>0</td>\n",
       "      <td>NaN</td>\n",
       "      <td>0.2</td>\n",
       "      <td>6.0</td>\n",
       "      <td>2.0</td>\n",
       "      <td>17</td>\n",
       "      <td>1</td>\n",
       "      <td>1</td>\n",
       "      <td>8</td>\n",
       "    </tr>\n",
       "    <tr>\n",
       "      <th>2147614</th>\n",
       "      <td>6.0</td>\n",
       "      <td>1</td>\n",
       "      <td>NaN</td>\n",
       "      <td>0.2</td>\n",
       "      <td>6.0</td>\n",
       "      <td>3.0</td>\n",
       "      <td>6</td>\n",
       "      <td>1</td>\n",
       "      <td>1</td>\n",
       "      <td>8</td>\n",
       "    </tr>\n",
       "  </tbody>\n",
       "</table>\n",
       "<p>624 rows × 10 columns</p>\n",
       "</div>"
      ],
      "text/plain": [
       "         pay_grade  stem  salary  years_of_service  age_level_code  \\\n",
       "25778          9.0     0     NaN              21.7             8.0   \n",
       "26307         13.0     1     NaN              12.7             7.0   \n",
       "28826          7.0     0     NaN               6.7             5.0   \n",
       "48901         12.0     0     NaN               7.1             9.0   \n",
       "144201         9.0     0     NaN              12.8             5.0   \n",
       "...            ...   ...     ...               ...             ...   \n",
       "2141321       11.0     0     NaN               0.3             3.0   \n",
       "2143754       11.0     0     NaN               0.3             9.0   \n",
       "2145619       11.0     0     NaN               0.2             5.0   \n",
       "2145639       11.0     0     NaN               0.2             6.0   \n",
       "2147614        6.0     1     NaN               0.2             6.0   \n",
       "\n",
       "         occupation_code  education_code  work_status_code  full_time_code  \\\n",
       "25778                3.0              13                 1               1   \n",
       "26307                1.0              17                 1               1   \n",
       "28826                3.0              14                 1               1   \n",
       "48901                2.0               4                 1               1   \n",
       "144201               2.0               4                 1               1   \n",
       "...                  ...             ...               ...             ...   \n",
       "2141321              2.0              17                 1               1   \n",
       "2143754              2.0              17                 1               1   \n",
       "2145619              2.0              17                 1               1   \n",
       "2145639              2.0              17                 1               1   \n",
       "2147614              3.0               6                 1               1   \n",
       "\n",
       "         supervisor_code  \n",
       "25778                  8  \n",
       "26307                  4  \n",
       "28826                  8  \n",
       "48901                  8  \n",
       "144201                 8  \n",
       "...                  ...  \n",
       "2141321                8  \n",
       "2143754                8  \n",
       "2145619                8  \n",
       "2145639                8  \n",
       "2147614                8  \n",
       "\n",
       "[624 rows x 10 columns]"
      ]
     },
     "execution_count": 26,
     "metadata": {},
     "output_type": "execute_result"
    }
   ],
   "source": [
    "salary_nan"
   ]
  },
  {
   "cell_type": "code",
   "execution_count": 27,
   "id": "b21a904b",
   "metadata": {},
   "outputs": [
    {
     "data": {
      "text/plain": [
       "99131.12044504873"
      ]
     },
     "execution_count": 27,
     "metadata": {},
     "output_type": "execute_result"
    }
   ],
   "source": [
    "sub.salary.mean()"
   ]
  },
  {
   "cell_type": "code",
   "execution_count": 28,
   "id": "74906591",
   "metadata": {},
   "outputs": [
    {
     "data": {
      "text/plain": [
       "0    176300.0\n",
       "Name: salary, dtype: float64"
      ]
     },
     "execution_count": 28,
     "metadata": {},
     "output_type": "execute_result"
    }
   ],
   "source": [
    "sub.salary.mode()"
   ]
  },
  {
   "cell_type": "code",
   "execution_count": 29,
   "id": "b1d6f9e6",
   "metadata": {},
   "outputs": [
    {
     "data": {
      "text/plain": [
       "91254.0"
      ]
     },
     "execution_count": 29,
     "metadata": {},
     "output_type": "execute_result"
    }
   ],
   "source": [
    "sub.salary.median()"
   ]
  },
  {
   "cell_type": "code",
   "execution_count": 30,
   "id": "aafec6d6",
   "metadata": {},
   "outputs": [
    {
     "name": "stderr",
     "output_type": "stream",
     "text": [
      "/var/folders/rt/m2j4lb4d1jn3b18ck1_f2csm0000gn/T/ipykernel_33258/4293097397.py:2: SettingWithCopyWarning: \n",
      "A value is trying to be set on a copy of a slice from a DataFrame.\n",
      "Try using .loc[row_indexer,col_indexer] = value instead\n",
      "\n",
      "See the caveats in the documentation: https://pandas.pydata.org/pandas-docs/stable/user_guide/indexing.html#returning-a-view-versus-a-copy\n",
      "  sub['salary'] = sub['salary'].fillna(sub['salary'].mean())\n"
     ]
    }
   ],
   "source": [
    "#replace pay_grade NaN values with median\n",
    "sub['salary'] = sub['salary'].fillna(sub['salary'].mean())"
   ]
  },
  {
   "cell_type": "code",
   "execution_count": 31,
   "id": "21cb95b5",
   "metadata": {},
   "outputs": [
    {
     "data": {
      "text/plain": [
       "pay_grade           0\n",
       "stem                0\n",
       "salary              0\n",
       "years_of_service    0\n",
       "age_level_code      0\n",
       "occupation_code     0\n",
       "education_code      0\n",
       "work_status_code    0\n",
       "full_time_code      0\n",
       "supervisor_code     0\n",
       "dtype: int64"
      ]
     },
     "execution_count": 31,
     "metadata": {},
     "output_type": "execute_result"
    }
   ],
   "source": [
    "sub.isnull().sum()"
   ]
  },
  {
   "cell_type": "markdown",
   "id": "eb443d67",
   "metadata": {},
   "source": [
    "### Standardize Data"
   ]
  },
  {
   "cell_type": "code",
   "execution_count": 32,
   "id": "76ebf985",
   "metadata": {},
   "outputs": [],
   "source": [
    "scaler = StandardScaler()"
   ]
  },
  {
   "cell_type": "code",
   "execution_count": 33,
   "id": "da78f34f",
   "metadata": {},
   "outputs": [
    {
     "data": {
      "text/html": [
       "<div>\n",
       "<style scoped>\n",
       "    .dataframe tbody tr th:only-of-type {\n",
       "        vertical-align: middle;\n",
       "    }\n",
       "\n",
       "    .dataframe tbody tr th {\n",
       "        vertical-align: top;\n",
       "    }\n",
       "\n",
       "    .dataframe thead th {\n",
       "        text-align: right;\n",
       "    }\n",
       "</style>\n",
       "<table border=\"1\" class=\"dataframe\">\n",
       "  <thead>\n",
       "    <tr style=\"text-align: right;\">\n",
       "      <th></th>\n",
       "      <th>pay_grade</th>\n",
       "      <th>stem</th>\n",
       "      <th>salary</th>\n",
       "      <th>years_of_service</th>\n",
       "      <th>age_level_code</th>\n",
       "      <th>occupation_code</th>\n",
       "      <th>education_code</th>\n",
       "      <th>work_status_code</th>\n",
       "      <th>full_time_code</th>\n",
       "      <th>supervisor_code</th>\n",
       "    </tr>\n",
       "  </thead>\n",
       "  <tbody>\n",
       "    <tr>\n",
       "      <th>0</th>\n",
       "      <td>1.111196</td>\n",
       "      <td>-0.655826</td>\n",
       "      <td>0.445933</td>\n",
       "      <td>0.270089</td>\n",
       "      <td>-0.369450</td>\n",
       "      <td>-0.278069</td>\n",
       "      <td>0.433442</td>\n",
       "      <td>-0.353057</td>\n",
       "      <td>-0.226558</td>\n",
       "      <td>0.382735</td>\n",
       "    </tr>\n",
       "    <tr>\n",
       "      <th>1</th>\n",
       "      <td>1.111196</td>\n",
       "      <td>-0.655826</td>\n",
       "      <td>0.645086</td>\n",
       "      <td>-0.182637</td>\n",
       "      <td>1.308403</td>\n",
       "      <td>-0.278069</td>\n",
       "      <td>1.193953</td>\n",
       "      <td>-0.353057</td>\n",
       "      <td>-0.226558</td>\n",
       "      <td>0.382735</td>\n",
       "    </tr>\n",
       "    <tr>\n",
       "      <th>2</th>\n",
       "      <td>1.111196</td>\n",
       "      <td>-0.655826</td>\n",
       "      <td>0.570020</td>\n",
       "      <td>-0.349948</td>\n",
       "      <td>-0.369450</td>\n",
       "      <td>-0.278069</td>\n",
       "      <td>0.433442</td>\n",
       "      <td>-0.353057</td>\n",
       "      <td>-0.226558</td>\n",
       "      <td>0.382735</td>\n",
       "    </tr>\n",
       "    <tr>\n",
       "      <th>3</th>\n",
       "      <td>-0.525680</td>\n",
       "      <td>-0.655826</td>\n",
       "      <td>-0.359582</td>\n",
       "      <td>2.543560</td>\n",
       "      <td>1.727866</td>\n",
       "      <td>-0.278069</td>\n",
       "      <td>-0.136942</td>\n",
       "      <td>-0.353057</td>\n",
       "      <td>-0.226558</td>\n",
       "      <td>0.382735</td>\n",
       "    </tr>\n",
       "    <tr>\n",
       "      <th>4</th>\n",
       "      <td>1.111196</td>\n",
       "      <td>1.524795</td>\n",
       "      <td>0.494954</td>\n",
       "      <td>1.018071</td>\n",
       "      <td>0.888940</td>\n",
       "      <td>-0.941270</td>\n",
       "      <td>1.193953</td>\n",
       "      <td>-0.353057</td>\n",
       "      <td>-0.226558</td>\n",
       "      <td>0.382735</td>\n",
       "    </tr>\n",
       "  </tbody>\n",
       "</table>\n",
       "</div>"
      ],
      "text/plain": [
       "   pay_grade      stem    salary  years_of_service  age_level_code  \\\n",
       "0   1.111196 -0.655826  0.445933          0.270089       -0.369450   \n",
       "1   1.111196 -0.655826  0.645086         -0.182637        1.308403   \n",
       "2   1.111196 -0.655826  0.570020         -0.349948       -0.369450   \n",
       "3  -0.525680 -0.655826 -0.359582          2.543560        1.727866   \n",
       "4   1.111196  1.524795  0.494954          1.018071        0.888940   \n",
       "\n",
       "   occupation_code  education_code  work_status_code  full_time_code  \\\n",
       "0        -0.278069        0.433442         -0.353057       -0.226558   \n",
       "1        -0.278069        1.193953         -0.353057       -0.226558   \n",
       "2        -0.278069        0.433442         -0.353057       -0.226558   \n",
       "3        -0.278069       -0.136942         -0.353057       -0.226558   \n",
       "4        -0.941270        1.193953         -0.353057       -0.226558   \n",
       "\n",
       "   supervisor_code  \n",
       "0         0.382735  \n",
       "1         0.382735  \n",
       "2         0.382735  \n",
       "3         0.382735  \n",
       "4         0.382735  "
      ]
     },
     "execution_count": 33,
     "metadata": {},
     "output_type": "execute_result"
    }
   ],
   "source": [
    "df2 = pd.DataFrame(scaler.fit_transform(sub), columns = columns)\n",
    "df2.head()"
   ]
  },
  {
   "cell_type": "markdown",
   "id": "b5b691fa",
   "metadata": {},
   "source": [
    "### 4. Elbow Technique"
   ]
  },
  {
   "cell_type": "code",
   "execution_count": 34,
   "id": "8c23baf9",
   "metadata": {},
   "outputs": [],
   "source": [
    "num_cl = range(1, 10) # Defines the range of potential clusters in the data.\n",
    "kmeans = [KMeans(n_clusters=i) for i in num_cl] # Defines k-means clusters in the range assigned above."
   ]
  },
  {
   "cell_type": "code",
   "execution_count": 35,
   "id": "4c7473b8",
   "metadata": {},
   "outputs": [
    {
     "data": {
      "text/plain": [
       "[-1411030.0000000002,\n",
       " -1110759.300224614,\n",
       " -935822.7277536944,\n",
       " -814347.1223766396,\n",
       " -723041.2661168126,\n",
       " -662703.2889289372,\n",
       " -609771.8897373334,\n",
       " -560074.343119035,\n",
       " -520430.28690997383]"
      ]
     },
     "execution_count": 35,
     "metadata": {},
     "output_type": "execute_result"
    }
   ],
   "source": [
    "score = [kmeans[i].fit(df2).score(df2) for i in range(len(kmeans))] # Creates a score that represents \n",
    "# a rate of variation for the given cluster option.\n",
    "\n",
    "score"
   ]
  },
  {
   "cell_type": "code",
   "execution_count": 36,
   "id": "1dd214a9",
   "metadata": {},
   "outputs": [
    {
     "data": {
      "image/png": "[encoded data removed]",
      "text/plain": [
       "<Figure size 432x288 with 1 Axes>"
      ]
     },
     "metadata": {
      "needs_background": "light"
     },
     "output_type": "display_data"
    }
   ],
   "source": [
    "# Plot the elbow curve using PyLab.\n",
    "\n",
    "pl.plot(num_cl,score)\n",
    "pl.xlabel('Number of Clusters')\n",
    "pl.ylabel('Score')\n",
    "pl.title('Elbow Curve')\n",
    "pl.show()"
   ]
  },
  {
   "cell_type": "markdown",
   "id": "34280865",
   "metadata": {},
   "source": [
    "###  After standardizing the data and doing the elbow technique to find the curve, we can conclude that we should create 5 clusters as the slope decreases after 5"
   ]
  },
  {
   "cell_type": "markdown",
   "id": "09afa48a",
   "metadata": {},
   "source": [
    "### 5. K-Means Clustering"
   ]
  },
  {
   "cell_type": "code",
   "execution_count": 37,
   "id": "632c9571",
   "metadata": {},
   "outputs": [],
   "source": [
    "# Create the k-means object.\n",
    "\n",
    "kmeans = KMeans(n_clusters = 5) "
   ]
  },
  {
   "cell_type": "code",
   "execution_count": 38,
   "id": "f793ddae",
   "metadata": {},
   "outputs": [
    {
     "data": {
      "text/plain": [
       "KMeans(n_clusters=5)"
      ]
     },
     "execution_count": 38,
     "metadata": {},
     "output_type": "execute_result"
    }
   ],
   "source": [
    "# Fit the k-means object to the data.\n",
    "\n",
    "kmeans.fit(df2)"
   ]
  },
  {
   "cell_type": "code",
   "execution_count": 39,
   "id": "32e41791",
   "metadata": {},
   "outputs": [],
   "source": [
    "df2['clusters'] = kmeans.fit_predict(df2)"
   ]
  },
  {
   "cell_type": "code",
   "execution_count": 40,
   "id": "2648764a",
   "metadata": {},
   "outputs": [
    {
     "data": {
      "text/html": [
       "<div>\n",
       "<style scoped>\n",
       "    .dataframe tbody tr th:only-of-type {\n",
       "        vertical-align: middle;\n",
       "    }\n",
       "\n",
       "    .dataframe tbody tr th {\n",
       "        vertical-align: top;\n",
       "    }\n",
       "\n",
       "    .dataframe thead th {\n",
       "        text-align: right;\n",
       "    }\n",
       "</style>\n",
       "<table border=\"1\" class=\"dataframe\">\n",
       "  <thead>\n",
       "    <tr style=\"text-align: right;\">\n",
       "      <th></th>\n",
       "      <th>pay_grade</th>\n",
       "      <th>stem</th>\n",
       "      <th>salary</th>\n",
       "      <th>years_of_service</th>\n",
       "      <th>age_level_code</th>\n",
       "      <th>occupation_code</th>\n",
       "      <th>education_code</th>\n",
       "      <th>work_status_code</th>\n",
       "      <th>full_time_code</th>\n",
       "      <th>supervisor_code</th>\n",
       "      <th>clusters</th>\n",
       "    </tr>\n",
       "  </thead>\n",
       "  <tbody>\n",
       "    <tr>\n",
       "      <th>0</th>\n",
       "      <td>1.111196</td>\n",
       "      <td>-0.655826</td>\n",
       "      <td>0.445933</td>\n",
       "      <td>0.270089</td>\n",
       "      <td>-0.369450</td>\n",
       "      <td>-0.278069</td>\n",
       "      <td>0.433442</td>\n",
       "      <td>-0.353057</td>\n",
       "      <td>-0.226558</td>\n",
       "      <td>0.382735</td>\n",
       "      <td>1</td>\n",
       "    </tr>\n",
       "    <tr>\n",
       "      <th>1</th>\n",
       "      <td>1.111196</td>\n",
       "      <td>-0.655826</td>\n",
       "      <td>0.645086</td>\n",
       "      <td>-0.182637</td>\n",
       "      <td>1.308403</td>\n",
       "      <td>-0.278069</td>\n",
       "      <td>1.193953</td>\n",
       "      <td>-0.353057</td>\n",
       "      <td>-0.226558</td>\n",
       "      <td>0.382735</td>\n",
       "      <td>1</td>\n",
       "    </tr>\n",
       "    <tr>\n",
       "      <th>2</th>\n",
       "      <td>1.111196</td>\n",
       "      <td>-0.655826</td>\n",
       "      <td>0.570020</td>\n",
       "      <td>-0.349948</td>\n",
       "      <td>-0.369450</td>\n",
       "      <td>-0.278069</td>\n",
       "      <td>0.433442</td>\n",
       "      <td>-0.353057</td>\n",
       "      <td>-0.226558</td>\n",
       "      <td>0.382735</td>\n",
       "      <td>1</td>\n",
       "    </tr>\n",
       "    <tr>\n",
       "      <th>3</th>\n",
       "      <td>-0.525680</td>\n",
       "      <td>-0.655826</td>\n",
       "      <td>-0.359582</td>\n",
       "      <td>2.543560</td>\n",
       "      <td>1.727866</td>\n",
       "      <td>-0.278069</td>\n",
       "      <td>-0.136942</td>\n",
       "      <td>-0.353057</td>\n",
       "      <td>-0.226558</td>\n",
       "      <td>0.382735</td>\n",
       "      <td>1</td>\n",
       "    </tr>\n",
       "    <tr>\n",
       "      <th>4</th>\n",
       "      <td>1.111196</td>\n",
       "      <td>1.524795</td>\n",
       "      <td>0.494954</td>\n",
       "      <td>1.018071</td>\n",
       "      <td>0.888940</td>\n",
       "      <td>-0.941270</td>\n",
       "      <td>1.193953</td>\n",
       "      <td>-0.353057</td>\n",
       "      <td>-0.226558</td>\n",
       "      <td>0.382735</td>\n",
       "      <td>2</td>\n",
       "    </tr>\n",
       "  </tbody>\n",
       "</table>\n",
       "</div>"
      ],
      "text/plain": [
       "   pay_grade      stem    salary  years_of_service  age_level_code  \\\n",
       "0   1.111196 -0.655826  0.445933          0.270089       -0.369450   \n",
       "1   1.111196 -0.655826  0.645086         -0.182637        1.308403   \n",
       "2   1.111196 -0.655826  0.570020         -0.349948       -0.369450   \n",
       "3  -0.525680 -0.655826 -0.359582          2.543560        1.727866   \n",
       "4   1.111196  1.524795  0.494954          1.018071        0.888940   \n",
       "\n",
       "   occupation_code  education_code  work_status_code  full_time_code  \\\n",
       "0        -0.278069        0.433442         -0.353057       -0.226558   \n",
       "1        -0.278069        1.193953         -0.353057       -0.226558   \n",
       "2        -0.278069        0.433442         -0.353057       -0.226558   \n",
       "3        -0.278069       -0.136942         -0.353057       -0.226558   \n",
       "4        -0.941270        1.193953         -0.353057       -0.226558   \n",
       "\n",
       "   supervisor_code  clusters  \n",
       "0         0.382735         1  \n",
       "1         0.382735         1  \n",
       "2         0.382735         1  \n",
       "3         0.382735         1  \n",
       "4         0.382735         2  "
      ]
     },
     "execution_count": 40,
     "metadata": {},
     "output_type": "execute_result"
    }
   ],
   "source": [
    "df2.head()"
   ]
  },
  {
   "cell_type": "code",
   "execution_count": 41,
   "id": "33397fa1",
   "metadata": {},
   "outputs": [
    {
     "data": {
      "text/plain": [
       "3    44562\n",
       "1    39676\n",
       "2    34305\n",
       "0    15671\n",
       "4     6889\n",
       "Name: clusters, dtype: int64"
      ]
     },
     "execution_count": 41,
     "metadata": {},
     "output_type": "execute_result"
    }
   ],
   "source": [
    "df2['clusters'].value_counts()"
   ]
  },
  {
   "cell_type": "code",
   "execution_count": 42,
   "id": "4ef19554",
   "metadata": {},
   "outputs": [
    {
     "data": {
      "image/png": "[encoded data removed]",
      "text/plain": [
       "<Figure size 864x576 with 1 Axes>"
      ]
     },
     "metadata": {
      "needs_background": "light"
     },
     "output_type": "display_data"
    }
   ],
   "source": [
    "# Plot the clusters for the \"supervisor_code\" and \"Salary\" variables.\n",
    "\n",
    "plt.figure(figsize=(12,8))\n",
    "ax = sns.scatterplot(x=df2['supervisor_code'], y=df2['salary'], hue=kmeans.labels_, s=100) \n",
    "# Here, you're subsetting `X` for the x and y arguments to avoid using their labels. \n",
    "# `hue` takes the value of the attribute `kmeans.labels_`, which is the result of running the k-means algorithm.\n",
    "# `s` represents the size of the points you want to see in the plot.\n",
    "\n",
    "ax.grid(False) # This removes the grid from the background.\n",
    "plt.xlabel('Supervisor Code') # Label x-axis.\n",
    "plt.ylabel('Salary') # Label y-axis.\n",
    "plt.show()"
   ]
  },
  {
   "cell_type": "markdown",
   "id": "c20d513b",
   "metadata": {},
   "source": [
    "## This visual compares Supervisor Status and Salary. These variables did not show a correlation in any other way, but by clustering the data, you can clearly see that  cluster 4 mostly includes A higher supervisor code and a higher salary, and cluster 1 tends to be the lower supervisor but a variety of salary."
   ]
  },
  {
   "cell_type": "code",
   "execution_count": 43,
   "id": "eed1f474",
   "metadata": {},
   "outputs": [
    {
     "data": {
      "image/png": "[encoded data removed]",
      "text/plain": [
       "<Figure size 864x576 with 1 Axes>"
      ]
     },
     "metadata": {
      "needs_background": "light"
     },
     "output_type": "display_data"
    }
   ],
   "source": [
    "# Plot the clusters for the \"occupation_code\" and \"Salary\" variables.\n",
    "\n",
    "plt.figure(figsize=(12,8))\n",
    "ax = sns.scatterplot(x=df2['occupation_code'], y=df2['salary'], hue=kmeans.labels_, s=100) \n",
    "# Here, you're subsetting `X` for the x and y arguments to avoid using their labels. \n",
    "# `hue` takes the value of the attribute `kmeans.labels_`, which is the result of running the k-means algorithm.\n",
    "# `s` represents the size of the points you want to see in the plot.\n",
    "\n",
    "ax.grid(False) # This removes the grid from the background.\n",
    "plt.xlabel('Occupation Code') # Label x-axis.\n",
    "plt.ylabel('Salary') # Label y-axis.\n",
    "plt.show()"
   ]
  },
  {
   "cell_type": "markdown",
   "id": "5842d9d5",
   "metadata": {},
   "source": [
    "## This visual compares Occupation Code and Salary. These variables showed a negative correlation when checking variable relationships, but by clustering the data, you can clearly see that  cluster 4 and 1 are once again mostly separated out."
   ]
  },
  {
   "cell_type": "code",
   "execution_count": 44,
   "id": "537062da",
   "metadata": {},
   "outputs": [
    {
     "data": {
      "image/png": "[encoded data removed]",
      "text/plain": [
       "<Figure size 864x576 with 1 Axes>"
      ]
     },
     "metadata": {
      "needs_background": "light"
     },
     "output_type": "display_data"
    }
   ],
   "source": [
    "# Plot the clusters for the \"education_code\" and \"Salary\" variables.\n",
    "\n",
    "plt.figure(figsize=(12,8))\n",
    "ax = sns.scatterplot(x=df2['education_code'], y=df2['salary'], hue=kmeans.labels_, s=100) \n",
    "# Here, you're subsetting `X` for the x and y arguments to avoid using their labels. \n",
    "# `hue` takes the value of the attribute `kmeans.labels_`, which is the result of running the k-means algorithm.\n",
    "# `s` represents the size of the points you want to see in the plot.\n",
    "\n",
    "ax.grid(False) # This removes the grid from the background.\n",
    "plt.xlabel('Education Code') # Label x-axis.\n",
    "plt.ylabel('Salary') # Label y-axis.\n",
    "plt.show()"
   ]
  },
  {
   "cell_type": "markdown",
   "id": "f38a5cf8",
   "metadata": {},
   "source": [
    "## This visual compares Education Code and Salary. These variables did not show a  correlation when checking variable relationships, and by clustering the data it is still hard to see any clear realtionships.  You can see darker colors are generally placed toward a higher education level and salary, but it's not a guarantee.  Also a lower salary and education level are not necessarily connected either.  You would think that the higher the level of education you have, especially a masters degree would show a guaranteed higher salary."
   ]
  },
  {
   "cell_type": "markdown",
   "id": "7ab8a146",
   "metadata": {},
   "source": [
    "### 6. Check Clustering Stats"
   ]
  },
  {
   "cell_type": "code",
   "execution_count": 45,
   "id": "a9680603",
   "metadata": {},
   "outputs": [],
   "source": [
    "df2.loc[df2['clusters'] == 4, 'cluster'] = 'black'\n",
    "df2.loc[df2['clusters'] == 3, 'cluster'] = 'dark purple'\n",
    "df2.loc[df2['clusters'] == 2, 'cluster'] = 'purple'\n",
    "df2.loc[df2['clusters'] == 1, 'cluster'] = 'pink'\n",
    "df2.loc[df2['clusters'] == 0, 'cluster'] = 'cream'"
   ]
  },
  {
   "cell_type": "code",
   "execution_count": 46,
   "id": "c013c8bb",
   "metadata": {},
   "outputs": [
    {
     "data": {
      "text/html": [
       "<div>\n",
       "<style scoped>\n",
       "    .dataframe tbody tr th:only-of-type {\n",
       "        vertical-align: middle;\n",
       "    }\n",
       "\n",
       "    .dataframe tbody tr th {\n",
       "        vertical-align: top;\n",
       "    }\n",
       "\n",
       "    .dataframe thead tr th {\n",
       "        text-align: left;\n",
       "    }\n",
       "\n",
       "    .dataframe thead tr:last-of-type th {\n",
       "        text-align: right;\n",
       "    }\n",
       "</style>\n",
       "<table border=\"1\" class=\"dataframe\">\n",
       "  <thead>\n",
       "    <tr>\n",
       "      <th></th>\n",
       "      <th colspan=\"2\" halign=\"left\">age_level_code</th>\n",
       "      <th colspan=\"2\" halign=\"left\">education_code</th>\n",
       "      <th colspan=\"2\" halign=\"left\">full_time_code</th>\n",
       "      <th colspan=\"2\" halign=\"left\">occupation_code</th>\n",
       "      <th colspan=\"2\" halign=\"left\">pay_grade</th>\n",
       "      <th colspan=\"2\" halign=\"left\">salary</th>\n",
       "      <th colspan=\"2\" halign=\"left\">stem</th>\n",
       "      <th colspan=\"2\" halign=\"left\">supervisor_code</th>\n",
       "      <th colspan=\"2\" halign=\"left\">work_status_code</th>\n",
       "      <th colspan=\"2\" halign=\"left\">years_of_service</th>\n",
       "    </tr>\n",
       "    <tr>\n",
       "      <th></th>\n",
       "      <th>mean</th>\n",
       "      <th>median</th>\n",
       "      <th>mean</th>\n",
       "      <th>median</th>\n",
       "      <th>mean</th>\n",
       "      <th>median</th>\n",
       "      <th>mean</th>\n",
       "      <th>median</th>\n",
       "      <th>mean</th>\n",
       "      <th>median</th>\n",
       "      <th>mean</th>\n",
       "      <th>median</th>\n",
       "      <th>mean</th>\n",
       "      <th>median</th>\n",
       "      <th>mean</th>\n",
       "      <th>median</th>\n",
       "      <th>mean</th>\n",
       "      <th>median</th>\n",
       "      <th>mean</th>\n",
       "      <th>median</th>\n",
       "    </tr>\n",
       "    <tr>\n",
       "      <th>cluster</th>\n",
       "      <th></th>\n",
       "      <th></th>\n",
       "      <th></th>\n",
       "      <th></th>\n",
       "      <th></th>\n",
       "      <th></th>\n",
       "      <th></th>\n",
       "      <th></th>\n",
       "      <th></th>\n",
       "      <th></th>\n",
       "      <th></th>\n",
       "      <th></th>\n",
       "      <th></th>\n",
       "      <th></th>\n",
       "      <th></th>\n",
       "      <th></th>\n",
       "      <th></th>\n",
       "      <th></th>\n",
       "      <th></th>\n",
       "      <th></th>\n",
       "    </tr>\n",
       "  </thead>\n",
       "  <tbody>\n",
       "    <tr>\n",
       "      <th>black</th>\n",
       "      <td>0.155777</td>\n",
       "      <td>0.050013</td>\n",
       "      <td>-0.042996</td>\n",
       "      <td>0.433442</td>\n",
       "      <td>4.413883</td>\n",
       "      <td>4.413883</td>\n",
       "      <td>0.061185</td>\n",
       "      <td>-0.278069</td>\n",
       "      <td>-0.513800</td>\n",
       "      <td>0.292758</td>\n",
       "      <td>0.299261</td>\n",
       "      <td>-0.477256</td>\n",
       "      <td>0.293151</td>\n",
       "      <td>-0.655826</td>\n",
       "      <td>0.310292</td>\n",
       "      <td>0.382735</td>\n",
       "      <td>2.832403</td>\n",
       "      <td>2.832403</td>\n",
       "      <td>-0.405095</td>\n",
       "      <td>-0.733781</td>\n",
       "    </tr>\n",
       "    <tr>\n",
       "      <th>cream</th>\n",
       "      <td>0.310160</td>\n",
       "      <td>0.469477</td>\n",
       "      <td>0.136997</td>\n",
       "      <td>0.433442</td>\n",
       "      <td>-0.226558</td>\n",
       "      <td>-0.226558</td>\n",
       "      <td>-0.071715</td>\n",
       "      <td>-0.278069</td>\n",
       "      <td>0.649907</td>\n",
       "      <td>0.292758</td>\n",
       "      <td>0.515933</td>\n",
       "      <td>0.488624</td>\n",
       "      <td>-0.172279</td>\n",
       "      <td>-0.655826</td>\n",
       "      <td>-2.725041</td>\n",
       "      <td>-2.843950</td>\n",
       "      <td>-0.269716</td>\n",
       "      <td>-0.353057</td>\n",
       "      <td>0.597254</td>\n",
       "      <td>0.466926</td>\n",
       "    </tr>\n",
       "    <tr>\n",
       "      <th>dark purple</th>\n",
       "      <td>-0.235597</td>\n",
       "      <td>-0.369450</td>\n",
       "      <td>-0.760773</td>\n",
       "      <td>-1.277709</td>\n",
       "      <td>-0.226558</td>\n",
       "      <td>-0.226558</td>\n",
       "      <td>0.967432</td>\n",
       "      <td>0.385133</td>\n",
       "      <td>-0.912887</td>\n",
       "      <td>-1.344118</td>\n",
       "      <td>-0.832708</td>\n",
       "      <td>-0.862923</td>\n",
       "      <td>-0.575084</td>\n",
       "      <td>-0.655826</td>\n",
       "      <td>0.322551</td>\n",
       "      <td>0.382735</td>\n",
       "      <td>-0.055613</td>\n",
       "      <td>-0.353057</td>\n",
       "      <td>-0.314345</td>\n",
       "      <td>-0.645205</td>\n",
       "    </tr>\n",
       "    <tr>\n",
       "      <th>pink</th>\n",
       "      <td>0.205806</td>\n",
       "      <td>0.050013</td>\n",
       "      <td>0.222162</td>\n",
       "      <td>0.433442</td>\n",
       "      <td>-0.226558</td>\n",
       "      <td>-0.226558</td>\n",
       "      <td>-0.340367</td>\n",
       "      <td>-0.278069</td>\n",
       "      <td>0.450253</td>\n",
       "      <td>0.292758</td>\n",
       "      <td>0.156386</td>\n",
       "      <td>0.025940</td>\n",
       "      <td>-0.655111</td>\n",
       "      <td>-0.655826</td>\n",
       "      <td>0.365683</td>\n",
       "      <td>0.382735</td>\n",
       "      <td>-0.168157</td>\n",
       "      <td>-0.353057</td>\n",
       "      <td>0.233853</td>\n",
       "      <td>0.073252</td>\n",
       "    </tr>\n",
       "    <tr>\n",
       "      <th>purple</th>\n",
       "      <td>-0.104957</td>\n",
       "      <td>0.050013</td>\n",
       "      <td>0.677347</td>\n",
       "      <td>0.433442</td>\n",
       "      <td>-0.226558</td>\n",
       "      <td>-0.226558</td>\n",
       "      <td>-0.842558</td>\n",
       "      <td>-0.941270</td>\n",
       "      <td>0.471380</td>\n",
       "      <td>0.292758</td>\n",
       "      <td>0.605030</td>\n",
       "      <td>0.445311</td>\n",
       "      <td>1.524541</td>\n",
       "      <td>1.524795</td>\n",
       "      <td>0.340596</td>\n",
       "      <td>0.382735</td>\n",
       "      <td>-0.178857</td>\n",
       "      <td>-0.353057</td>\n",
       "      <td>-0.053618</td>\n",
       "      <td>-0.349948</td>\n",
       "    </tr>\n",
       "  </tbody>\n",
       "</table>\n",
       "</div>"
      ],
      "text/plain": [
       "            age_level_code           education_code           full_time_code  \\\n",
       "                      mean    median           mean    median           mean   \n",
       "cluster                                                                        \n",
       "black             0.155777  0.050013      -0.042996  0.433442       4.413883   \n",
       "cream             0.310160  0.469477       0.136997  0.433442      -0.226558   \n",
       "dark purple      -0.235597 -0.369450      -0.760773 -1.277709      -0.226558   \n",
       "pink              0.205806  0.050013       0.222162  0.433442      -0.226558   \n",
       "purple           -0.104957  0.050013       0.677347  0.433442      -0.226558   \n",
       "\n",
       "                      occupation_code           pay_grade              salary  \\\n",
       "               median            mean    median      mean    median      mean   \n",
       "cluster                                                                         \n",
       "black        4.413883        0.061185 -0.278069 -0.513800  0.292758  0.299261   \n",
       "cream       -0.226558       -0.071715 -0.278069  0.649907  0.292758  0.515933   \n",
       "dark purple -0.226558        0.967432  0.385133 -0.912887 -1.344118 -0.832708   \n",
       "pink        -0.226558       -0.340367 -0.278069  0.450253  0.292758  0.156386   \n",
       "purple      -0.226558       -0.842558 -0.941270  0.471380  0.292758  0.605030   \n",
       "\n",
       "                           stem           supervisor_code            \\\n",
       "               median      mean    median            mean    median   \n",
       "cluster                                                               \n",
       "black       -0.477256  0.293151 -0.655826        0.310292  0.382735   \n",
       "cream        0.488624 -0.172279 -0.655826       -2.725041 -2.843950   \n",
       "dark purple -0.862923 -0.575084 -0.655826        0.322551  0.382735   \n",
       "pink         0.025940 -0.655111 -0.655826        0.365683  0.382735   \n",
       "purple       0.445311  1.524541  1.524795        0.340596  0.382735   \n",
       "\n",
       "            work_status_code           years_of_service            \n",
       "                        mean    median             mean    median  \n",
       "cluster                                                            \n",
       "black               2.832403  2.832403        -0.405095 -0.733781  \n",
       "cream              -0.269716 -0.353057         0.597254  0.466926  \n",
       "dark purple        -0.055613 -0.353057        -0.314345 -0.645205  \n",
       "pink               -0.168157 -0.353057         0.233853  0.073252  \n",
       "purple             -0.178857 -0.353057        -0.053618 -0.349948  "
      ]
     },
     "execution_count": 46,
     "metadata": {},
     "output_type": "execute_result"
    }
   ],
   "source": [
    "df2.groupby('cluster').agg({'age_level_code':['mean', 'median'],\n",
    "                            'education_code':['mean', 'median'],\n",
    "                            'full_time_code':['mean', 'median'],\n",
    "                            'occupation_code':['mean', 'median'],\n",
    "                            'pay_grade':['mean', 'median'], \n",
    "                            'salary':['mean', 'median'],\n",
    "                            'stem':['mean', 'median'], \n",
    "                            'supervisor_code':['mean', 'median'],\n",
    "                            'work_status_code':['mean', 'median'],\n",
    "                            'years_of_service':['mean', 'median']})"
   ]
  },
  {
   "cell_type": "markdown",
   "id": "39e5d9b1",
   "metadata": {},
   "source": [
    "## 7. Final Observations"
   ]
  },
  {
   "cell_type": "markdown",
   "id": "8dfb15d2",
   "metadata": {},
   "source": [
    "## Seeing the final breakdown of each category does make it hard for me to understand as I had to scale the data.  I can't see the median salary amount in each category as it was scaled.  You can still see the comparison of each category though. The numbers are fairly all over the place.  None of them have a clear \"highest value of each category\" same with none of them have the lowest.  Although the data has been narrowed down to a state, with no clear correlation between variables it is hard to even find clusters for them.  You would hope that things such as salary, eduction level, years of service, supervisor would all help create clusters but this is still showing to not be true."
   ]
  },
  {
   "cell_type": "markdown",
   "id": "ffcdc064",
   "metadata": {},
   "source": [
    "## Export Data for Tableau"
   ]
  },
  {
   "cell_type": "code",
   "execution_count": 48,
   "id": "d192eb61",
   "metadata": {},
   "outputs": [],
   "source": [
    "df2.to_csv(os.path.join(path,'prepared data','March 2022 clean-cali.csv'))"
   ]
  },
  {
   "cell_type": "code",
   "execution_count": null,
   "id": "41059b7a",
   "metadata": {},
   "outputs": [],
   "source": []
  }
 ],
 "metadata": {
  "kernelspec": {
   "display_name": "Python 3 (ipykernel)",
   "language": "python",
   "name": "python3"
  },
  "language_info": {
   "codemirror_mode": {
    "name": "ipython",
    "version": 3
   },
   "file_extension": ".py",
   "mimetype": "text/x-python",
   "name": "python",
   "nbconvert_exporter": "python",
   "pygments_lexer": "ipython3",
   "version": "3.9.12"
  }
 },
 "nbformat": 4,
 "nbformat_minor": 5
}
