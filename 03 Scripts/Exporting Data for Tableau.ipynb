{
 "cells": [
  {
   "cell_type": "markdown",
   "id": "091046d6",
   "metadata": {},
   "source": [
    "# Export Data for Tableau Presentation"
   ]
  },
  {
   "cell_type": "code",
   "execution_count": 1,
   "id": "3760ed64",
   "metadata": {},
   "outputs": [],
   "source": [
    "import pandas as pd\n",
    "import numpy as np\n",
    "import seaborn as sns\n",
    "import matplotlib.pyplot as plt\n",
    "import matplotlib\n",
    "import os"
   ]
  },
  {
   "cell_type": "code",
   "execution_count": 2,
   "id": "39ab4b61",
   "metadata": {},
   "outputs": [],
   "source": [
    "# Define path\n",
    "\n",
    "path = r'/Users/bethanybreed/Documents/A Career Foundry/Gov Employ Data/02 Data'"
   ]
  },
  {
   "cell_type": "code",
   "execution_count": 3,
   "id": "cfed15f7",
   "metadata": {},
   "outputs": [],
   "source": [
    "# Import Data\n",
    "\n",
    "df = pd.read_pickle(os.path.join(path,'prepared data','March 2022 clean-a.pkl'))"
   ]
  },
  {
   "cell_type": "code",
   "execution_count": 1,
   "id": "f1ecf64e",
   "metadata": {},
   "outputs": [],
   "source": [
    "# Export Data as csv and pickle"
   ]
  },
  {
   "cell_type": "code",
   "execution_count": 7,
   "id": "13ec9b7d",
   "metadata": {},
   "outputs": [],
   "source": [
    "df.to_csv(os.path.join(path,'prepared data','March 2022 clean-a.csv'))"
   ]
  },
  {
   "cell_type": "code",
   "execution_count": 8,
   "id": "1e4817a0",
   "metadata": {},
   "outputs": [],
   "source": [
    "df.to_pickle(os.path.join(path,'prepared data','March 2022 clean-a.pkl'))"
   ]
  },
  {
   "cell_type": "code",
   "execution_count": null,
   "id": "768284ac",
   "metadata": {},
   "outputs": [],
   "source": []
  }
 ],
 "metadata": {
  "kernelspec": {
   "display_name": "Python 3 (ipykernel)",
   "language": "python",
   "name": "python3"
  },
  "language_info": {
   "codemirror_mode": {
    "name": "ipython",
    "version": 3
   },
   "file_extension": ".py",
   "mimetype": "text/x-python",
   "name": "python",
   "nbconvert_exporter": "python",
   "pygments_lexer": "ipython3",
   "version": "3.9.12"
  }
 },
 "nbformat": 4,
 "nbformat_minor": 5
}
